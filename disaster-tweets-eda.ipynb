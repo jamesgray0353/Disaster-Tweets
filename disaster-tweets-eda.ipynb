{
 "cells": [
  {
   "cell_type": "markdown",
   "id": "535e43c6",
   "metadata": {
    "papermill": {
     "duration": 0.00557,
     "end_time": "2024-03-12T09:30:44.051175",
     "exception": false,
     "start_time": "2024-03-12T09:30:44.045605",
     "status": "completed"
    },
    "tags": []
   },
   "source": [
    "# Evaluating gemma-7b-it for text classification\n",
    "## Task: Identify if a tweet is about a \"disaster\""
   ]
  },
  {
   "cell_type": "markdown",
   "id": "9707b8aa",
   "metadata": {
    "papermill": {
     "duration": 0.005272,
     "end_time": "2024-03-12T09:30:44.061298",
     "exception": false,
     "start_time": "2024-03-12T09:30:44.056026",
     "status": "completed"
    },
    "tags": []
   },
   "source": [
    "### EDA and Preprocessing"
   ]
  },
  {
   "cell_type": "code",
   "execution_count": 1,
   "id": "dcde3ab4",
   "metadata": {
    "_cell_guid": "b1076dfc-b9ad-4769-8c92-a6c4dae69d19",
    "_uuid": "8f2839f25d086af736a60e9eeb907d3b93b6e0e5",
    "execution": {
     "iopub.execute_input": "2024-03-12T09:30:44.073132Z",
     "iopub.status.busy": "2024-03-12T09:30:44.072201Z",
     "iopub.status.idle": "2024-03-12T09:30:44.848318Z",
     "shell.execute_reply": "2024-03-12T09:30:44.847425Z"
    },
    "papermill": {
     "duration": 0.783694,
     "end_time": "2024-03-12T09:30:44.849991",
     "exception": false,
     "start_time": "2024-03-12T09:30:44.066297",
     "status": "completed"
    },
    "tags": []
   },
   "outputs": [
    {
     "name": "stdout",
     "output_type": "stream",
     "text": [
      "/kaggle/input/nlp-getting-started/sample_submission.csv\n",
      "/kaggle/input/nlp-getting-started/train.csv\n",
      "/kaggle/input/nlp-getting-started/test.csv\n"
     ]
    }
   ],
   "source": [
    "# This Python 3 environment comes with many helpful analytics libraries installed\n",
    "# It is defined by the kaggle/python Docker image: https://github.com/kaggle/docker-python\n",
    "# For example, here's several helpful packages to load\n",
    "\n",
    "import numpy as np # linear algebra\n",
    "import pandas as pd # data processing, CSV file I/O (e.g. pd.read_csv)\n",
    "pd.set_option('display.max_colwidth', None)\n",
    "\n",
    "# Input data files are available in the read-only \"../input/\" directory\n",
    "# For example, running this (by clicking run or pressing Shift+Enter) will list all files under the input directory\n",
    "\n",
    "import os\n",
    "for dirname, _, filenames in os.walk('/kaggle/input'):\n",
    "    for filename in filenames:\n",
    "        print(os.path.join(dirname, filename))\n",
    "\n",
    "# You can write up to 20GB to the current directory (/kaggle/working/) that gets preserved as output when you create a version using \"Save & Run All\" \n",
    "# You can also write temporary files to /kaggle/temp/, but they won't be saved outside of the current session\n",
    "\n",
    "# Additional\n",
    "import re\n",
    "import html"
   ]
  },
  {
   "cell_type": "code",
   "execution_count": 2,
   "id": "bb3a0b00",
   "metadata": {
    "execution": {
     "iopub.execute_input": "2024-03-12T09:30:44.861800Z",
     "iopub.status.busy": "2024-03-12T09:30:44.860905Z",
     "iopub.status.idle": "2024-03-12T09:30:44.921897Z",
     "shell.execute_reply": "2024-03-12T09:30:44.920676Z"
    },
    "papermill": {
     "duration": 0.069121,
     "end_time": "2024-03-12T09:30:44.924276",
     "exception": false,
     "start_time": "2024-03-12T09:30:44.855155",
     "status": "completed"
    },
    "tags": []
   },
   "outputs": [],
   "source": [
    "# Read data\n",
    "submission_path = '/kaggle/input/nlp-getting-started/sample_submission.csv'\n",
    "train_path = '/kaggle/input/nlp-getting-started/train.csv'\n",
    "test_path = '/kaggle/input/nlp-getting-started/test.csv'\n",
    "\n",
    "submission_df = pd.read_csv(submission_path)\n",
    "train_df = pd.read_csv(train_path)\n",
    "test_df = pd.read_csv(test_path)"
   ]
  },
  {
   "cell_type": "code",
   "execution_count": 3,
   "id": "df8cdbe6",
   "metadata": {
    "execution": {
     "iopub.execute_input": "2024-03-12T09:30:44.936065Z",
     "iopub.status.busy": "2024-03-12T09:30:44.935696Z",
     "iopub.status.idle": "2024-03-12T09:30:44.955358Z",
     "shell.execute_reply": "2024-03-12T09:30:44.954051Z"
    },
    "papermill": {
     "duration": 0.027932,
     "end_time": "2024-03-12T09:30:44.957338",
     "exception": false,
     "start_time": "2024-03-12T09:30:44.929406",
     "status": "completed"
    },
    "tags": []
   },
   "outputs": [
    {
     "name": "stdout",
     "output_type": "stream",
     "text": [
      "train\n",
      "(7613, 5)\n",
      "['id', 'keyword', 'location', 'text', 'target']\n",
      "target\n",
      "0    0.57034\n",
      "1    0.42966\n",
      "Name: proportion, dtype: float64\n",
      "\n",
      "test\n",
      "(3263, 4)\n",
      "['id', 'keyword', 'location', 'text']\n",
      "target\n",
      "0    0.57034\n",
      "1    0.42966\n",
      "Name: proportion, dtype: float64\n"
     ]
    }
   ],
   "source": [
    "# Describe\n",
    "print(\"train\")\n",
    "print(train_df.shape)\n",
    "print(train_df.columns.tolist())\n",
    "print(train_df.target.value_counts(normalize = True))\n",
    "\n",
    "print(\"\\ntest\")\n",
    "print(test_df.shape)\n",
    "print(test_df.columns.tolist())\n",
    "print(train_df.target.value_counts(normalize = True))"
   ]
  },
  {
   "cell_type": "code",
   "execution_count": 4,
   "id": "edf4368f",
   "metadata": {
    "execution": {
     "iopub.execute_input": "2024-03-12T09:30:44.969803Z",
     "iopub.status.busy": "2024-03-12T09:30:44.969466Z",
     "iopub.status.idle": "2024-03-12T09:30:44.987899Z",
     "shell.execute_reply": "2024-03-12T09:30:44.986975Z"
    },
    "papermill": {
     "duration": 0.02662,
     "end_time": "2024-03-12T09:30:44.989784",
     "exception": false,
     "start_time": "2024-03-12T09:30:44.963164",
     "status": "completed"
    },
    "tags": []
   },
   "outputs": [
    {
     "data": {
      "text/html": [
       "<div>\n",
       "<style scoped>\n",
       "    .dataframe tbody tr th:only-of-type {\n",
       "        vertical-align: middle;\n",
       "    }\n",
       "\n",
       "    .dataframe tbody tr th {\n",
       "        vertical-align: top;\n",
       "    }\n",
       "\n",
       "    .dataframe thead th {\n",
       "        text-align: right;\n",
       "    }\n",
       "</style>\n",
       "<table border=\"1\" class=\"dataframe\">\n",
       "  <thead>\n",
       "    <tr style=\"text-align: right;\">\n",
       "      <th></th>\n",
       "      <th>id</th>\n",
       "      <th>keyword</th>\n",
       "      <th>location</th>\n",
       "      <th>text</th>\n",
       "      <th>target</th>\n",
       "    </tr>\n",
       "  </thead>\n",
       "  <tbody>\n",
       "    <tr>\n",
       "      <th>2607</th>\n",
       "      <td>3742</td>\n",
       "      <td>destroyed</td>\n",
       "      <td>USA</td>\n",
       "      <td>Black Eye 9: A space battle occurred at Star O784 involving 2 fleets totaling 3934 ships with 7 destroyed</td>\n",
       "      <td>0</td>\n",
       "    </tr>\n",
       "    <tr>\n",
       "      <th>1527</th>\n",
       "      <td>2209</td>\n",
       "      <td>chemical%20emergency</td>\n",
       "      <td>NaN</td>\n",
       "      <td>Emergency Response and Hazardous Chemical Management: Principles and Practices http://t.co/4sSuyhkgRB http://t.co/TDerBtgZ2k</td>\n",
       "      <td>0</td>\n",
       "    </tr>\n",
       "    <tr>\n",
       "      <th>2273</th>\n",
       "      <td>3260</td>\n",
       "      <td>demolish</td>\n",
       "      <td>State of Dreaming</td>\n",
       "      <td>Just us four can demolish this?? @Createdunique23 @Keren_Serpa @ArianaReed11  https://t.co/PCiNc8ytFH</td>\n",
       "      <td>0</td>\n",
       "    </tr>\n",
       "    <tr>\n",
       "      <th>5574</th>\n",
       "      <td>7954</td>\n",
       "      <td>rainstorm</td>\n",
       "      <td>Pioneer Village, KY</td>\n",
       "      <td>'The way you move is like a full on rainstorm and I'm a house of cards'</td>\n",
       "      <td>1</td>\n",
       "    </tr>\n",
       "    <tr>\n",
       "      <th>4307</th>\n",
       "      <td>6115</td>\n",
       "      <td>hellfire</td>\n",
       "      <td>570 Vanderbilt; Brooklyn, NY</td>\n",
       "      <td>New cocktail on the list! El Diablo Mas Verde: mezcal yellow chartreuse honey cucumber hellfire bitters.... http://t.co/REuosJEK4m</td>\n",
       "      <td>0</td>\n",
       "    </tr>\n",
       "  </tbody>\n",
       "</table>\n",
       "</div>"
      ],
      "text/plain": [
       "        id               keyword                      location  \\\n",
       "2607  3742             destroyed                           USA   \n",
       "1527  2209  chemical%20emergency                           NaN   \n",
       "2273  3260              demolish             State of Dreaming   \n",
       "5574  7954             rainstorm           Pioneer Village, KY   \n",
       "4307  6115              hellfire  570 Vanderbilt; Brooklyn, NY   \n",
       "\n",
       "                                                                                                                                    text  \\\n",
       "2607                           Black Eye 9: A space battle occurred at Star O784 involving 2 fleets totaling 3934 ships with 7 destroyed   \n",
       "1527        Emergency Response and Hazardous Chemical Management: Principles and Practices http://t.co/4sSuyhkgRB http://t.co/TDerBtgZ2k   \n",
       "2273                               Just us four can demolish this?? @Createdunique23 @Keren_Serpa @ArianaReed11  https://t.co/PCiNc8ytFH   \n",
       "5574                                                             'The way you move is like a full on rainstorm and I'm a house of cards'   \n",
       "4307  New cocktail on the list! El Diablo Mas Verde: mezcal yellow chartreuse honey cucumber hellfire bitters.... http://t.co/REuosJEK4m   \n",
       "\n",
       "      target  \n",
       "2607       0  \n",
       "1527       0  \n",
       "2273       0  \n",
       "5574       1  \n",
       "4307       0  "
      ]
     },
     "execution_count": 4,
     "metadata": {},
     "output_type": "execute_result"
    }
   ],
   "source": [
    "# What is a \"disater\"?\n",
    "train_df.sample(5)"
   ]
  },
  {
   "cell_type": "markdown",
   "id": "7d3a1755",
   "metadata": {
    "papermill": {
     "duration": 0.005129,
     "end_time": "2024-03-12T09:30:45.000485",
     "exception": false,
     "start_time": "2024-03-12T09:30:44.995356",
     "status": "completed"
    },
    "tags": []
   },
   "source": [
    "* Texts have keywords which appear in them (possibly used for searching tweets that could be referring disaster).\n",
    "* Target: 1 = Actual Disaster, 0 = Not Disaster.\n",
    "* Location provides additional context to tweet."
   ]
  },
  {
   "cell_type": "code",
   "execution_count": 5,
   "id": "80145b96",
   "metadata": {
    "execution": {
     "iopub.execute_input": "2024-03-12T09:30:45.013226Z",
     "iopub.status.busy": "2024-03-12T09:30:45.012442Z",
     "iopub.status.idle": "2024-03-12T09:30:45.017004Z",
     "shell.execute_reply": "2024-03-12T09:30:45.016417Z"
    },
    "papermill": {
     "duration": 0.012746,
     "end_time": "2024-03-12T09:30:45.018694",
     "exception": false,
     "start_time": "2024-03-12T09:30:45.005948",
     "status": "completed"
    },
    "tags": []
   },
   "outputs": [],
   "source": [
    "# describe columns\n",
    "def describe_column(df, column_name, sample_size = 20):\n",
    "    print(\n",
    "        f\"Column: {column_name}\\n\"\n",
    "        f\"Number of rows: {df.shape[0]}\\n\"\n",
    "        f\"Number of unique values: {len(df[column_name].unique())}\\n\"\n",
    "        f\"Empty %: {round(((df[column_name].isna().sum() / df.shape[0]) * 100), 2)}%\\n\"\n",
    "        f\"Sample: {df[column_name].unique()[:sample_size]}\"\n",
    "    )"
   ]
  },
  {
   "cell_type": "code",
   "execution_count": 6,
   "id": "b4ececfc",
   "metadata": {
    "execution": {
     "iopub.execute_input": "2024-03-12T09:30:45.031038Z",
     "iopub.status.busy": "2024-03-12T09:30:45.030557Z",
     "iopub.status.idle": "2024-03-12T09:30:45.037987Z",
     "shell.execute_reply": "2024-03-12T09:30:45.036813Z"
    },
    "papermill": {
     "duration": 0.015951,
     "end_time": "2024-03-12T09:30:45.040042",
     "exception": false,
     "start_time": "2024-03-12T09:30:45.024091",
     "status": "completed"
    },
    "tags": []
   },
   "outputs": [
    {
     "name": "stdout",
     "output_type": "stream",
     "text": [
      "Column: keyword\n",
      "Number of rows: 7613\n",
      "Number of unique values: 222\n",
      "Empty %: 0.8%\n",
      "Sample: [nan 'ablaze' 'accident' 'aftershock' 'airplane%20accident' 'ambulance'\n",
      " 'annihilated' 'annihilation' 'apocalypse' 'armageddon' 'army' 'arson'\n",
      " 'arsonist' 'attack' 'attacked' 'avalanche' 'battle' 'bioterror'\n",
      " 'bioterrorism' 'blaze']\n"
     ]
    }
   ],
   "source": [
    "# keyword\n",
    "describe_column(train_df, 'keyword')"
   ]
  },
  {
   "cell_type": "code",
   "execution_count": 7,
   "id": "de04e32a",
   "metadata": {
    "execution": {
     "iopub.execute_input": "2024-03-12T09:30:45.052569Z",
     "iopub.status.busy": "2024-03-12T09:30:45.052216Z",
     "iopub.status.idle": "2024-03-12T09:30:45.058504Z",
     "shell.execute_reply": "2024-03-12T09:30:45.057596Z"
    },
    "papermill": {
     "duration": 0.014658,
     "end_time": "2024-03-12T09:30:45.060310",
     "exception": false,
     "start_time": "2024-03-12T09:30:45.045652",
     "status": "completed"
    },
    "tags": []
   },
   "outputs": [
    {
     "name": "stdout",
     "output_type": "stream",
     "text": [
      "Column: location\n",
      "Number of rows: 7613\n",
      "Number of unique values: 3342\n",
      "Empty %: 33.27%\n",
      "Sample: [nan 'Birmingham' 'Est. September 2012 - Bristol' 'AFRICA'\n",
      " 'Philadelphia, PA' 'London, UK' 'Pretoria' 'World Wide!!'\n",
      " 'Paranaque City' 'Live On Webcam' 'milky way' 'GREENSBORO,NORTH CAROLINA'\n",
      " 'England.' 'Sheffield Township, Ohio' 'India' 'Barbados' 'Anaheim'\n",
      " 'Abuja' 'USA' 'South Africa']\n"
     ]
    }
   ],
   "source": [
    "# location\n",
    "describe_column(train_df, 'location')"
   ]
  },
  {
   "cell_type": "code",
   "execution_count": 8,
   "id": "d14b1e3e",
   "metadata": {
    "execution": {
     "iopub.execute_input": "2024-03-12T09:30:45.075713Z",
     "iopub.status.busy": "2024-03-12T09:30:45.074023Z",
     "iopub.status.idle": "2024-03-12T09:30:45.081749Z",
     "shell.execute_reply": "2024-03-12T09:30:45.081000Z"
    },
    "papermill": {
     "duration": 0.017224,
     "end_time": "2024-03-12T09:30:45.083444",
     "exception": false,
     "start_time": "2024-03-12T09:30:45.066220",
     "status": "completed"
    },
    "tags": []
   },
   "outputs": [
    {
     "name": "stdout",
     "output_type": "stream",
     "text": [
      "Column: target\n",
      "Number of rows: 7613\n",
      "Number of unique values: 2\n",
      "Empty %: 0.0%\n",
      "Sample: [1 0]\n"
     ]
    }
   ],
   "source": [
    "# location\n",
    "describe_column(train_df, 'target', 2)"
   ]
  },
  {
   "cell_type": "code",
   "execution_count": 9,
   "id": "e348d03a",
   "metadata": {
    "execution": {
     "iopub.execute_input": "2024-03-12T09:30:45.097636Z",
     "iopub.status.busy": "2024-03-12T09:30:45.096106Z",
     "iopub.status.idle": "2024-03-12T09:30:45.108361Z",
     "shell.execute_reply": "2024-03-12T09:30:45.107459Z"
    },
    "papermill": {
     "duration": 0.02118,
     "end_time": "2024-03-12T09:30:45.110149",
     "exception": false,
     "start_time": "2024-03-12T09:30:45.088969",
     "status": "completed"
    },
    "tags": []
   },
   "outputs": [
    {
     "data": {
      "text/html": [
       "<div>\n",
       "<style scoped>\n",
       "    .dataframe tbody tr th:only-of-type {\n",
       "        vertical-align: middle;\n",
       "    }\n",
       "\n",
       "    .dataframe tbody tr th {\n",
       "        vertical-align: top;\n",
       "    }\n",
       "\n",
       "    .dataframe thead th {\n",
       "        text-align: right;\n",
       "    }\n",
       "</style>\n",
       "<table border=\"1\" class=\"dataframe\">\n",
       "  <thead>\n",
       "    <tr style=\"text-align: right;\">\n",
       "      <th></th>\n",
       "      <th>id</th>\n",
       "      <th>keyword</th>\n",
       "      <th>location</th>\n",
       "      <th>text</th>\n",
       "      <th>target</th>\n",
       "    </tr>\n",
       "  </thead>\n",
       "  <tbody>\n",
       "    <tr>\n",
       "      <th>26</th>\n",
       "      <td>38</td>\n",
       "      <td>NaN</td>\n",
       "      <td>NaN</td>\n",
       "      <td>Was in NYC last week!</td>\n",
       "      <td>0</td>\n",
       "    </tr>\n",
       "    <tr>\n",
       "      <th>19</th>\n",
       "      <td>28</td>\n",
       "      <td>NaN</td>\n",
       "      <td>NaN</td>\n",
       "      <td>What a goooooooaaaaaal!!!!!!</td>\n",
       "      <td>0</td>\n",
       "    </tr>\n",
       "    <tr>\n",
       "      <th>7589</th>\n",
       "      <td>10843</td>\n",
       "      <td>NaN</td>\n",
       "      <td>NaN</td>\n",
       "      <td>Omg earthquake</td>\n",
       "      <td>1</td>\n",
       "    </tr>\n",
       "    <tr>\n",
       "      <th>7585</th>\n",
       "      <td>10839</td>\n",
       "      <td>NaN</td>\n",
       "      <td>NaN</td>\n",
       "      <td>Calgary Police Flood Road Closures in Calgary. http://t.co/RLN09WKe9g</td>\n",
       "      <td>1</td>\n",
       "    </tr>\n",
       "    <tr>\n",
       "      <th>18</th>\n",
       "      <td>26</td>\n",
       "      <td>NaN</td>\n",
       "      <td>NaN</td>\n",
       "      <td>My car is so fast</td>\n",
       "      <td>0</td>\n",
       "    </tr>\n",
       "  </tbody>\n",
       "</table>\n",
       "</div>"
      ],
      "text/plain": [
       "         id keyword location  \\\n",
       "26       38     NaN      NaN   \n",
       "19       28     NaN      NaN   \n",
       "7589  10843     NaN      NaN   \n",
       "7585  10839     NaN      NaN   \n",
       "18       26     NaN      NaN   \n",
       "\n",
       "                                                                       text  \\\n",
       "26                                                    Was in NYC last week!   \n",
       "19                                             What a goooooooaaaaaal!!!!!!   \n",
       "7589                                                         Omg earthquake   \n",
       "7585  Calgary Police Flood Road Closures in Calgary. http://t.co/RLN09WKe9g   \n",
       "18                                                        My car is so fast   \n",
       "\n",
       "      target  \n",
       "26         0  \n",
       "19         0  \n",
       "7589       1  \n",
       "7585       1  \n",
       "18         0  "
      ]
     },
     "execution_count": 9,
     "metadata": {},
     "output_type": "execute_result"
    }
   ],
   "source": [
    "# Empty keywords\n",
    "train_df[train_df['keyword'].isna()].sample(5)"
   ]
  },
  {
   "cell_type": "markdown",
   "id": "e2012e85",
   "metadata": {
    "papermill": {
     "duration": 0.006503,
     "end_time": "2024-03-12T09:30:45.122390",
     "exception": false,
     "start_time": "2024-03-12T09:30:45.115887",
     "status": "completed"
    },
    "tags": []
   },
   "source": [
    "* No reason for Text's with missing keywords to be removed.\n",
    "* Duplicate Texts need further investigation."
   ]
  },
  {
   "cell_type": "code",
   "execution_count": 10,
   "id": "afce9a8e",
   "metadata": {
    "execution": {
     "iopub.execute_input": "2024-03-12T09:30:45.134929Z",
     "iopub.status.busy": "2024-03-12T09:30:45.134601Z",
     "iopub.status.idle": "2024-03-12T09:30:45.161400Z",
     "shell.execute_reply": "2024-03-12T09:30:45.160756Z"
    },
    "papermill": {
     "duration": 0.034878,
     "end_time": "2024-03-12T09:30:45.163010",
     "exception": false,
     "start_time": "2024-03-12T09:30:45.128132",
     "status": "completed"
    },
    "tags": []
   },
   "outputs": [
    {
     "name": "stdout",
     "output_type": "stream",
     "text": [
      "Count of text dupes: 179\n"
     ]
    },
    {
     "data": {
      "text/html": [
       "<div>\n",
       "<style scoped>\n",
       "    .dataframe tbody tr th:only-of-type {\n",
       "        vertical-align: middle;\n",
       "    }\n",
       "\n",
       "    .dataframe tbody tr th {\n",
       "        vertical-align: top;\n",
       "    }\n",
       "\n",
       "    .dataframe thead th {\n",
       "        text-align: right;\n",
       "    }\n",
       "</style>\n",
       "<table border=\"1\" class=\"dataframe\">\n",
       "  <thead>\n",
       "    <tr style=\"text-align: right;\">\n",
       "      <th></th>\n",
       "      <th>id</th>\n",
       "      <th>keyword</th>\n",
       "      <th>location</th>\n",
       "      <th>text</th>\n",
       "      <th>target</th>\n",
       "    </tr>\n",
       "  </thead>\n",
       "  <tbody>\n",
       "    <tr>\n",
       "      <th>4290</th>\n",
       "      <td>6094</td>\n",
       "      <td>hellfire</td>\n",
       "      <td>Jubail IC, Saudi Arabia.</td>\n",
       "      <td>#Allah describes piling up #wealth thinking it would last #forever as the description of the people of #Hellfire in Surah Humaza. #Reflect</td>\n",
       "      <td>0</td>\n",
       "    </tr>\n",
       "    <tr>\n",
       "      <th>4299</th>\n",
       "      <td>6105</td>\n",
       "      <td>hellfire</td>\n",
       "      <td>?????? ??? ?????? ????????</td>\n",
       "      <td>#Allah describes piling up #wealth thinking it would last #forever as the description of the people of #Hellfire in Surah Humaza. #Reflect</td>\n",
       "      <td>0</td>\n",
       "    </tr>\n",
       "    <tr>\n",
       "      <th>4312</th>\n",
       "      <td>6123</td>\n",
       "      <td>hellfire</td>\n",
       "      <td>?????? ???? ??????</td>\n",
       "      <td>#Allah describes piling up #wealth thinking it would last #forever as the description of the people of #Hellfire in Surah Humaza. #Reflect</td>\n",
       "      <td>1</td>\n",
       "    </tr>\n",
       "    <tr>\n",
       "      <th>4244</th>\n",
       "      <td>6031</td>\n",
       "      <td>hazardous</td>\n",
       "      <td>New Delhi, Delhi</td>\n",
       "      <td>#foodscare #offers2go #NestleIndia slips into loss after #Magginoodle #ban unsafe and hazardous for #humanconsumption</td>\n",
       "      <td>0</td>\n",
       "    </tr>\n",
       "    <tr>\n",
       "      <th>4221</th>\n",
       "      <td>5996</td>\n",
       "      <td>hazardous</td>\n",
       "      <td>NaN</td>\n",
       "      <td>#foodscare #offers2go #NestleIndia slips into loss after #Magginoodle #ban unsafe and hazardous for #humanconsumption</td>\n",
       "      <td>1</td>\n",
       "    </tr>\n",
       "    <tr>\n",
       "      <th>4239</th>\n",
       "      <td>6023</td>\n",
       "      <td>hazardous</td>\n",
       "      <td>Mysore, Karnataka</td>\n",
       "      <td>#foodscare #offers2go #NestleIndia slips into loss after #Magginoodle #ban unsafe and hazardous for #humanconsumption</td>\n",
       "      <td>1</td>\n",
       "    </tr>\n",
       "    <tr>\n",
       "      <th>2832</th>\n",
       "      <td>4076</td>\n",
       "      <td>displaced</td>\n",
       "      <td>Pedophile hunting ground</td>\n",
       "      <td>.POTUS #StrategicPatience is a strategy for #Genocide; refugees; IDP Internally displaced people; horror; etc. https://t.co/rqWuoy1fm4</td>\n",
       "      <td>0</td>\n",
       "    </tr>\n",
       "    <tr>\n",
       "      <th>2831</th>\n",
       "      <td>4072</td>\n",
       "      <td>displaced</td>\n",
       "      <td>Pedophile hunting ground</td>\n",
       "      <td>.POTUS #StrategicPatience is a strategy for #Genocide; refugees; IDP Internally displaced people; horror; etc. https://t.co/rqWuoy1fm4</td>\n",
       "      <td>1</td>\n",
       "    </tr>\n",
       "    <tr>\n",
       "      <th>2830</th>\n",
       "      <td>4068</td>\n",
       "      <td>displaced</td>\n",
       "      <td>Pedophile hunting ground</td>\n",
       "      <td>.POTUS #StrategicPatience is a strategy for #Genocide; refugees; IDP Internally displaced people; horror; etc. https://t.co/rqWuoy1fm4</td>\n",
       "      <td>1</td>\n",
       "    </tr>\n",
       "    <tr>\n",
       "      <th>2833</th>\n",
       "      <td>4077</td>\n",
       "      <td>displaced</td>\n",
       "      <td>Pedophile hunting ground</td>\n",
       "      <td>.POTUS #StrategicPatience is a strategy for #Genocide; refugees; IDP Internally displaced people; horror; etc. https://t.co/rqWuoy1fm4</td>\n",
       "      <td>1</td>\n",
       "    </tr>\n",
       "  </tbody>\n",
       "</table>\n",
       "</div>"
      ],
      "text/plain": [
       "        id    keyword                    location  \\\n",
       "4290  6094   hellfire    Jubail IC, Saudi Arabia.   \n",
       "4299  6105   hellfire  ?????? ??? ?????? ????????   \n",
       "4312  6123   hellfire          ?????? ???? ??????   \n",
       "4244  6031  hazardous            New Delhi, Delhi   \n",
       "4221  5996  hazardous                         NaN   \n",
       "4239  6023  hazardous           Mysore, Karnataka   \n",
       "2832  4076  displaced    Pedophile hunting ground   \n",
       "2831  4072  displaced    Pedophile hunting ground   \n",
       "2830  4068  displaced    Pedophile hunting ground   \n",
       "2833  4077  displaced    Pedophile hunting ground   \n",
       "\n",
       "                                                                                                                                            text  \\\n",
       "4290  #Allah describes piling up #wealth thinking it would last #forever as the description of the people of #Hellfire in Surah Humaza. #Reflect   \n",
       "4299  #Allah describes piling up #wealth thinking it would last #forever as the description of the people of #Hellfire in Surah Humaza. #Reflect   \n",
       "4312  #Allah describes piling up #wealth thinking it would last #forever as the description of the people of #Hellfire in Surah Humaza. #Reflect   \n",
       "4244                       #foodscare #offers2go #NestleIndia slips into loss after #Magginoodle #ban unsafe and hazardous for #humanconsumption   \n",
       "4221                       #foodscare #offers2go #NestleIndia slips into loss after #Magginoodle #ban unsafe and hazardous for #humanconsumption   \n",
       "4239                       #foodscare #offers2go #NestleIndia slips into loss after #Magginoodle #ban unsafe and hazardous for #humanconsumption   \n",
       "2832      .POTUS #StrategicPatience is a strategy for #Genocide; refugees; IDP Internally displaced people; horror; etc. https://t.co/rqWuoy1fm4   \n",
       "2831      .POTUS #StrategicPatience is a strategy for #Genocide; refugees; IDP Internally displaced people; horror; etc. https://t.co/rqWuoy1fm4   \n",
       "2830      .POTUS #StrategicPatience is a strategy for #Genocide; refugees; IDP Internally displaced people; horror; etc. https://t.co/rqWuoy1fm4   \n",
       "2833      .POTUS #StrategicPatience is a strategy for #Genocide; refugees; IDP Internally displaced people; horror; etc. https://t.co/rqWuoy1fm4   \n",
       "\n",
       "      target  \n",
       "4290       0  \n",
       "4299       0  \n",
       "4312       1  \n",
       "4244       0  \n",
       "4221       1  \n",
       "4239       1  \n",
       "2832       0  \n",
       "2831       1  \n",
       "2830       1  \n",
       "2833       1  "
      ]
     },
     "execution_count": 10,
     "metadata": {},
     "output_type": "execute_result"
    }
   ],
   "source": [
    "# Do texts vary with target, location or keyword.\n",
    "train_text_dupes = train_df[train_df.duplicated(subset='text', keep=False)]\n",
    "print(f\"Count of text dupes: {train_text_dupes.shape[0]}\")\n",
    "train_vary_target = train_text_dupes.groupby('text').filter(\n",
    "    lambda x: x['target'].nunique() == 2).sort_values('text').iloc[:10]\n",
    "train_vary_target"
   ]
  },
  {
   "cell_type": "code",
   "execution_count": 11,
   "id": "575bb818",
   "metadata": {
    "execution": {
     "iopub.execute_input": "2024-03-12T09:30:45.176728Z",
     "iopub.status.busy": "2024-03-12T09:30:45.176095Z",
     "iopub.status.idle": "2024-03-12T09:30:45.189489Z",
     "shell.execute_reply": "2024-03-12T09:30:45.188793Z"
    },
    "papermill": {
     "duration": 0.022706,
     "end_time": "2024-03-12T09:30:45.191660",
     "exception": false,
     "start_time": "2024-03-12T09:30:45.168954",
     "status": "completed"
    },
    "tags": []
   },
   "outputs": [
    {
     "data": {
      "text/html": [
       "<div>\n",
       "<style scoped>\n",
       "    .dataframe tbody tr th:only-of-type {\n",
       "        vertical-align: middle;\n",
       "    }\n",
       "\n",
       "    .dataframe tbody tr th {\n",
       "        vertical-align: top;\n",
       "    }\n",
       "\n",
       "    .dataframe thead th {\n",
       "        text-align: right;\n",
       "    }\n",
       "</style>\n",
       "<table border=\"1\" class=\"dataframe\">\n",
       "  <thead>\n",
       "    <tr style=\"text-align: right;\">\n",
       "      <th></th>\n",
       "      <th>id</th>\n",
       "      <th>keyword</th>\n",
       "      <th>location</th>\n",
       "      <th>text</th>\n",
       "    </tr>\n",
       "  </thead>\n",
       "  <tbody>\n",
       "    <tr>\n",
       "      <th>18</th>\n",
       "      <td>58</td>\n",
       "      <td>ablaze</td>\n",
       "      <td>Live On Webcam</td>\n",
       "      <td>Check these out: http://t.co/rOI2NSmEJJ http://t.co/3Tj8ZjiN21 http://t.co/YDUiXEfIpE http://t.co/LxTjc87KLS #nsfw</td>\n",
       "    </tr>\n",
       "    <tr>\n",
       "      <th>47</th>\n",
       "      <td>152</td>\n",
       "      <td>aftershock</td>\n",
       "      <td>Switzerland</td>\n",
       "      <td>320 [IR] ICEMOON [AFTERSHOCK] | http://t.co/THyzOMVWU0 | @djicemoon | #Dubstep #TrapMusic #DnB #EDM #Dance #IcesÛ_ http://t.co/83jOO0xk29</td>\n",
       "    </tr>\n",
       "    <tr>\n",
       "      <th>53</th>\n",
       "      <td>177</td>\n",
       "      <td>aftershock</td>\n",
       "      <td>Switzerland</td>\n",
       "      <td>320 [IR] ICEMOON [AFTERSHOCK] | http://t.co/THyzOMVWU0 | @djicemoon | #Dubstep #TrapMusic #DnB #EDM #Dance #IcesÛ_ http://t.co/83jOO0xk29</td>\n",
       "    </tr>\n",
       "    <tr>\n",
       "      <th>55</th>\n",
       "      <td>181</td>\n",
       "      <td>aftershock</td>\n",
       "      <td>304</td>\n",
       "      <td>'There is no victory at bargain basement prices.' Dwight David Eisenhower</td>\n",
       "    </tr>\n",
       "    <tr>\n",
       "      <th>150</th>\n",
       "      <td>497</td>\n",
       "      <td>army</td>\n",
       "      <td>Campinas Sp</td>\n",
       "      <td>You da One \\n\\n#MTVSummerStar #VideoVeranoMTV  #MTVHottest Britney Spears Lana Del Rey</td>\n",
       "    </tr>\n",
       "    <tr>\n",
       "      <th>...</th>\n",
       "      <td>...</td>\n",
       "      <td>...</td>\n",
       "      <td>...</td>\n",
       "      <td>...</td>\n",
       "    </tr>\n",
       "    <tr>\n",
       "      <th>3090</th>\n",
       "      <td>10232</td>\n",
       "      <td>volcano</td>\n",
       "      <td>Planet Earth</td>\n",
       "      <td>Learning from the Legacy of a Catastrophic Eruption - The New Yorker http://t.co/y8YqPBE4t9</td>\n",
       "    </tr>\n",
       "    <tr>\n",
       "      <th>3230</th>\n",
       "      <td>10738</td>\n",
       "      <td>wreckage</td>\n",
       "      <td>India</td>\n",
       "      <td>Wreckage 'Conclusively Confirmed' as From MH370: Malaysia PM</td>\n",
       "    </tr>\n",
       "    <tr>\n",
       "      <th>3235</th>\n",
       "      <td>10758</td>\n",
       "      <td>wreckage</td>\n",
       "      <td>India</td>\n",
       "      <td>Wreckage 'Conclusively Confirmed' as From MH370: Malaysia PM</td>\n",
       "    </tr>\n",
       "    <tr>\n",
       "      <th>3259</th>\n",
       "      <td>10865</td>\n",
       "      <td>NaN</td>\n",
       "      <td>NaN</td>\n",
       "      <td>Storm in RI worse than last hurricane. My city&amp;amp;3others hardest hit. My yard looks like it was bombed. Around 20000K still without power</td>\n",
       "    </tr>\n",
       "    <tr>\n",
       "      <th>3261</th>\n",
       "      <td>10874</td>\n",
       "      <td>NaN</td>\n",
       "      <td>NaN</td>\n",
       "      <td>MEG issues Hazardous Weather Outlook (HWO) http://t.co/3X6RBQJHn3</td>\n",
       "    </tr>\n",
       "  </tbody>\n",
       "</table>\n",
       "<p>78 rows × 4 columns</p>\n",
       "</div>"
      ],
      "text/plain": [
       "         id     keyword        location  \\\n",
       "18       58      ablaze  Live On Webcam   \n",
       "47      152  aftershock     Switzerland   \n",
       "53      177  aftershock     Switzerland   \n",
       "55      181  aftershock             304   \n",
       "150     497        army     Campinas Sp   \n",
       "...     ...         ...             ...   \n",
       "3090  10232     volcano    Planet Earth   \n",
       "3230  10738    wreckage           India   \n",
       "3235  10758    wreckage           India   \n",
       "3259  10865         NaN             NaN   \n",
       "3261  10874         NaN             NaN   \n",
       "\n",
       "                                                                                                                                             text  \n",
       "18                             Check these out: http://t.co/rOI2NSmEJJ http://t.co/3Tj8ZjiN21 http://t.co/YDUiXEfIpE http://t.co/LxTjc87KLS #nsfw  \n",
       "47     320 [IR] ICEMOON [AFTERSHOCK] | http://t.co/THyzOMVWU0 | @djicemoon | #Dubstep #TrapMusic #DnB #EDM #Dance #IcesÛ_ http://t.co/83jOO0xk29  \n",
       "53     320 [IR] ICEMOON [AFTERSHOCK] | http://t.co/THyzOMVWU0 | @djicemoon | #Dubstep #TrapMusic #DnB #EDM #Dance #IcesÛ_ http://t.co/83jOO0xk29  \n",
       "55                                                                      'There is no victory at bargain basement prices.' Dwight David Eisenhower  \n",
       "150                                                        You da One \\n\\n#MTVSummerStar #VideoVeranoMTV  #MTVHottest Britney Spears Lana Del Rey  \n",
       "...                                                                                                                                           ...  \n",
       "3090                                                  Learning from the Legacy of a Catastrophic Eruption - The New Yorker http://t.co/y8YqPBE4t9  \n",
       "3230                                                                                 Wreckage 'Conclusively Confirmed' as From MH370: Malaysia PM  \n",
       "3235                                                                                 Wreckage 'Conclusively Confirmed' as From MH370: Malaysia PM  \n",
       "3259  Storm in RI worse than last hurricane. My city&amp;3others hardest hit. My yard looks like it was bombed. Around 20000K still without power  \n",
       "3261                                                                            MEG issues Hazardous Weather Outlook (HWO) http://t.co/3X6RBQJHn3  \n",
       "\n",
       "[78 rows x 4 columns]"
      ]
     },
     "execution_count": 11,
     "metadata": {},
     "output_type": "execute_result"
    }
   ],
   "source": [
    "# Are there duplicate texts in the train and test df\n",
    "test_df[test_df['text'].isin(train_df['text'])]"
   ]
  },
  {
   "cell_type": "markdown",
   "id": "77befb7b",
   "metadata": {
    "papermill": {
     "duration": 0.005982,
     "end_time": "2024-03-12T09:30:45.204925",
     "exception": false,
     "start_time": "2024-03-12T09:30:45.198943",
     "status": "completed"
    },
    "tags": []
   },
   "source": [
    "* Remove all duplicates that are in train and test df from train df.\n",
    "* Remove all duplicates that vary by target in train_df (keeping neither).\n",
    "* Since we have enough records we choose to remove rather than re-label.\n",
    "* Remove all duplicates that vary by location in train_df (keeping first - random)."
   ]
  },
  {
   "cell_type": "code",
   "execution_count": 12,
   "id": "645bfc80",
   "metadata": {
    "execution": {
     "iopub.execute_input": "2024-03-12T09:30:45.223464Z",
     "iopub.status.busy": "2024-03-12T09:30:45.222333Z",
     "iopub.status.idle": "2024-03-12T09:30:45.230642Z",
     "shell.execute_reply": "2024-03-12T09:30:45.229506Z"
    },
    "papermill": {
     "duration": 0.019415,
     "end_time": "2024-03-12T09:30:45.232785",
     "exception": false,
     "start_time": "2024-03-12T09:30:45.213370",
     "status": "completed"
    },
    "tags": []
   },
   "outputs": [
    {
     "name": "stdout",
     "output_type": "stream",
     "text": [
      "Number of rows before: 7613\n",
      "Number of rows after: 7486\n"
     ]
    }
   ],
   "source": [
    "# Remove all duplicates that are in train and test df from train df.\n",
    "\n",
    "# Count of rows in test_df before dropping\n",
    "print(f\"Number of rows before: {train_df.shape[0]}\")\n",
    "\n",
    "# test_df rows with 'text' appearing in train_df\n",
    "rows_to_drop = train_df['text'].isin(test_df['text'])\n",
    "\n",
    "# Dropping these rows from test_df\n",
    "train_df = train_df[~rows_to_drop]\n",
    "\n",
    "# Count of rows in test_df after dropping\n",
    "print(f\"Number of rows after: {train_df.shape[0]}\")"
   ]
  },
  {
   "cell_type": "code",
   "execution_count": 13,
   "id": "e89b9a07",
   "metadata": {
    "execution": {
     "iopub.execute_input": "2024-03-12T09:30:45.247062Z",
     "iopub.status.busy": "2024-03-12T09:30:45.246740Z",
     "iopub.status.idle": "2024-03-12T09:30:45.253805Z",
     "shell.execute_reply": "2024-03-12T09:30:45.252621Z"
    },
    "papermill": {
     "duration": 0.016663,
     "end_time": "2024-03-12T09:30:45.256107",
     "exception": false,
     "start_time": "2024-03-12T09:30:45.239444",
     "status": "completed"
    },
    "tags": []
   },
   "outputs": [
    {
     "name": "stdout",
     "output_type": "stream",
     "text": [
      "Number of rows before: 7486\n",
      "Number of rows after: 7483\n"
     ]
    }
   ],
   "source": [
    "# Remove all duplicates that vary by target in train_df (keeping neither).\n",
    "\n",
    "# Count of rows in train_df before dropping\n",
    "print(f\"Number of rows before: {train_df.shape[0]}\")\n",
    "\n",
    "# Dropping train_vary_target rows from train_df\n",
    "train_df = train_df[~train_df['text'].isin(train_vary_target['text'])]\n",
    "\n",
    "# Count of rows in test_df after dropping\n",
    "print(f\"Number of rows after: {train_df.shape[0]}\")"
   ]
  },
  {
   "cell_type": "code",
   "execution_count": 14,
   "id": "10333af1",
   "metadata": {
    "execution": {
     "iopub.execute_input": "2024-03-12T09:30:45.271023Z",
     "iopub.status.busy": "2024-03-12T09:30:45.270494Z",
     "iopub.status.idle": "2024-03-12T09:30:45.277653Z",
     "shell.execute_reply": "2024-03-12T09:30:45.276530Z"
    },
    "papermill": {
     "duration": 0.016784,
     "end_time": "2024-03-12T09:30:45.279530",
     "exception": false,
     "start_time": "2024-03-12T09:30:45.262746",
     "status": "completed"
    },
    "tags": []
   },
   "outputs": [
    {
     "name": "stdout",
     "output_type": "stream",
     "text": [
      "Number of rows before: 7483\n",
      "Number of rows after: 7434\n"
     ]
    }
   ],
   "source": [
    "# Remove duplicates that vary by location in train_df (keeping first - random).\n",
    "\n",
    "# Count of rows in train_df before dropping\n",
    "print(f\"Number of rows before: {train_df.shape[0]}\")\n",
    "\n",
    "# Remove duplicates in the 'text' column, keeping the first occurrence\n",
    "train_df = train_df.drop_duplicates('text', keep='first')\n",
    "\n",
    "# Count of rows in test_df after dropping\n",
    "print(f\"Number of rows after: {train_df.shape[0]}\")"
   ]
  },
  {
   "cell_type": "code",
   "execution_count": 15,
   "id": "1d1b8ddd",
   "metadata": {
    "execution": {
     "iopub.execute_input": "2024-03-12T09:30:45.294010Z",
     "iopub.status.busy": "2024-03-12T09:30:45.293502Z",
     "iopub.status.idle": "2024-03-12T09:30:45.298589Z",
     "shell.execute_reply": "2024-03-12T09:30:45.297743Z"
    },
    "papermill": {
     "duration": 0.013969,
     "end_time": "2024-03-12T09:30:45.300300",
     "exception": false,
     "start_time": "2024-03-12T09:30:45.286331",
     "status": "completed"
    },
    "tags": []
   },
   "outputs": [],
   "source": [
    "# Clean text\n",
    "def clean_text(text):\n",
    "    # Skip if not string\n",
    "    if not isinstance(text, str):\n",
    "        return text    \n",
    "    text = html.unescape(text)     # Convert HTML character codes\n",
    "    text = re.sub(r'https?://\\S+|www\\.\\S+', '', text)    # Remove URLs\n",
    "    # Remove if not letter, numbers, normal punctuation, spaces, @, #\n",
    "    text = re.sub(r'[^a-zA-Z0-9\\s,.?!#@]', '', text)\n",
    "    text = re.sub(r'\\s+', ' ', text).strip()     # Remove extra spaces\n",
    "    return text"
   ]
  },
  {
   "cell_type": "code",
   "execution_count": 16,
   "id": "10b32490",
   "metadata": {
    "execution": {
     "iopub.execute_input": "2024-03-12T09:30:45.314618Z",
     "iopub.status.busy": "2024-03-12T09:30:45.314280Z",
     "iopub.status.idle": "2024-03-12T09:30:45.681459Z",
     "shell.execute_reply": "2024-03-12T09:30:45.680157Z"
    },
    "papermill": {
     "duration": 0.376817,
     "end_time": "2024-03-12T09:30:45.683694",
     "exception": false,
     "start_time": "2024-03-12T09:30:45.306877",
     "status": "completed"
    },
    "tags": []
   },
   "outputs": [],
   "source": [
    "# Text\n",
    "train_df['text_clean'] = train_df['text'].apply(clean_text)\n",
    "test_df['text_clean'] = test_df['text'].apply(clean_text)\n",
    "\n",
    "# Location\n",
    "train_df['location'] = train_df['location'].fillna('Unknown') # Fill NaNs\n",
    "test_df['location'] = test_df['location'].fillna('Unknown') # Fill NaNs\n",
    "train_df['location_clean'] = train_df['location'].apply(clean_text)\n",
    "test_df['location_clean'] = test_df['location'].apply(clean_text)\n",
    "\n",
    "# Combining (adding location context to text)\n",
    "train_df['text_location'] = train_df.apply(\n",
    "    lambda row: f\"Location: {row['location']}. Tweet: {row['text']}\", axis=1)\n",
    "test_df['text_location'] = test_df.apply(\n",
    "    lambda row: f\"Location: {row['location']}. Tweet: {row['text']}\", axis=1)\n",
    "\n",
    "# Combining clean (adding location context to text)\n",
    "train_df['text_location_clean'] = train_df.apply(\n",
    "    lambda row: f\"Location: {row['location_clean']}. Tweet: {row['text_clean']}\", axis=1)\n",
    "test_df['text_location_clean'] = test_df.apply(\n",
    "    lambda row: f\"Location: {row['location_clean']}. Tweet: {row['text_clean']}\", axis=1)\n",
    "\n",
    "# Class\n",
    "train_df['class'] = train_df['target'].apply(lambda x: 'yes' if x == 1 else 'no')"
   ]
  },
  {
   "cell_type": "code",
   "execution_count": 17,
   "id": "ea740f09",
   "metadata": {
    "execution": {
     "iopub.execute_input": "2024-03-12T09:30:45.699345Z",
     "iopub.status.busy": "2024-03-12T09:30:45.698692Z",
     "iopub.status.idle": "2024-03-12T09:30:45.705621Z",
     "shell.execute_reply": "2024-03-12T09:30:45.704239Z"
    },
    "papermill": {
     "duration": 0.017593,
     "end_time": "2024-03-12T09:30:45.708250",
     "exception": false,
     "start_time": "2024-03-12T09:30:45.690657",
     "status": "completed"
    },
    "tags": []
   },
   "outputs": [],
   "source": [
    "# gemma it chat template\n",
    "# chat = [\n",
    "#     { \"role\": \"user\", \"content\": \"Write a hello world program\" },\n",
    "# ]\n",
    "\n",
    "# <bos><start_of_turn>user\n",
    "# Write a hello world program<end_of_turn>\n",
    "# <start_of_turn>model\n",
    "\n",
    "# Add prompt field\n",
    "def generate_prompt(X, text):\n",
    "    return f\"\"\"<bos><start_of_turn>user\n",
    "Identify if the folowing Tweet is part of a thread discussing a disaster (yes/ no):\n",
    "[ {X[text]} ] <end_of_turn>\n",
    "<start_of_turn>model\n",
    "{X['class']}\"\"\"\n",
    "\n",
    "def generate_test_prompt(X, text):\n",
    "    return f\"\"\"<bos><start_of_turn>user\n",
    "Identify if the folowing Tweet is part of a thread discussing a disaster (yes/ no):\n",
    "[ {X[text]} ] <end_of_turn>\n",
    "<start_of_turn>model\n",
    "\"\"\""
   ]
  },
  {
   "cell_type": "code",
   "execution_count": 18,
   "id": "fe8f0e2b",
   "metadata": {
    "execution": {
     "iopub.execute_input": "2024-03-12T09:30:45.723463Z",
     "iopub.status.busy": "2024-03-12T09:30:45.723092Z",
     "iopub.status.idle": "2024-03-12T09:30:46.495972Z",
     "shell.execute_reply": "2024-03-12T09:30:46.495121Z"
    },
    "papermill": {
     "duration": 0.782939,
     "end_time": "2024-03-12T09:30:46.498065",
     "exception": false,
     "start_time": "2024-03-12T09:30:45.715126",
     "status": "completed"
    },
    "tags": []
   },
   "outputs": [
    {
     "data": {
      "text/html": [
       "<div>\n",
       "<style scoped>\n",
       "    .dataframe tbody tr th:only-of-type {\n",
       "        vertical-align: middle;\n",
       "    }\n",
       "\n",
       "    .dataframe tbody tr th {\n",
       "        vertical-align: top;\n",
       "    }\n",
       "\n",
       "    .dataframe thead th {\n",
       "        text-align: right;\n",
       "    }\n",
       "</style>\n",
       "<table border=\"1\" class=\"dataframe\">\n",
       "  <thead>\n",
       "    <tr style=\"text-align: right;\">\n",
       "      <th></th>\n",
       "      <th>id</th>\n",
       "      <th>keyword</th>\n",
       "      <th>location</th>\n",
       "      <th>text</th>\n",
       "      <th>target</th>\n",
       "      <th>text_clean</th>\n",
       "      <th>location_clean</th>\n",
       "      <th>text_location</th>\n",
       "      <th>text_location_clean</th>\n",
       "      <th>class</th>\n",
       "      <th>prompt_text</th>\n",
       "      <th>prompt_text_test</th>\n",
       "      <th>prompt_text_location</th>\n",
       "      <th>prompt_text_location_test</th>\n",
       "      <th>prompt_text_clean</th>\n",
       "      <th>prompt_text_clean_test</th>\n",
       "      <th>prompt_text_location_clean</th>\n",
       "      <th>prompt_text_location_clean_test</th>\n",
       "    </tr>\n",
       "  </thead>\n",
       "  <tbody>\n",
       "    <tr>\n",
       "      <th>6663</th>\n",
       "      <td>9551</td>\n",
       "      <td>threat</td>\n",
       "      <td>Ohio, USA</td>\n",
       "      <td>The few I warned about .. Were just as I expected.. They are a threat to his soul</td>\n",
       "      <td>0</td>\n",
       "      <td>The few I warned about .. Were just as I expected.. They are a threat to his soul</td>\n",
       "      <td>Ohio, USA</td>\n",
       "      <td>Location: Ohio, USA. Tweet: The few I warned about .. Were just as I expected.. They are a threat to his soul</td>\n",
       "      <td>Location: Ohio, USA. Tweet: The few I warned about .. Were just as I expected.. They are a threat to his soul</td>\n",
       "      <td>no</td>\n",
       "      <td>&lt;bos&gt;&lt;start_of_turn&gt;user\\nIdentify if the folowing Tweet is part of a thread discussing a disaster (yes/ no):\\n[ The few I warned about .. Were just as I expected.. They are a threat to his soul ] &lt;end_of_turn&gt;\\n&lt;start_of_turn&gt;model\\nno</td>\n",
       "      <td>&lt;bos&gt;&lt;start_of_turn&gt;user\\nIdentify if the folowing Tweet is part of a thread discussing a disaster (yes/ no):\\n[ The few I warned about .. Were just as I expected.. They are a threat to his soul ] &lt;end_of_turn&gt;\\n&lt;start_of_turn&gt;model\\n</td>\n",
       "      <td>&lt;bos&gt;&lt;start_of_turn&gt;user\\nIdentify if the folowing Tweet is part of a thread discussing a disaster (yes/ no):\\n[ Location: Ohio, USA. Tweet: The few I warned about .. Were just as I expected.. They are a threat to his soul ] &lt;end_of_turn&gt;\\n&lt;start_of_turn&gt;model\\nno</td>\n",
       "      <td>&lt;bos&gt;&lt;start_of_turn&gt;user\\nIdentify if the folowing Tweet is part of a thread discussing a disaster (yes/ no):\\n[ Location: Ohio, USA. Tweet: The few I warned about .. Were just as I expected.. They are a threat to his soul ] &lt;end_of_turn&gt;\\n&lt;start_of_turn&gt;model\\n</td>\n",
       "      <td>&lt;bos&gt;&lt;start_of_turn&gt;user\\nIdentify if the folowing Tweet is part of a thread discussing a disaster (yes/ no):\\n[ The few I warned about .. Were just as I expected.. They are a threat to his soul ] &lt;end_of_turn&gt;\\n&lt;start_of_turn&gt;model\\nno</td>\n",
       "      <td>&lt;bos&gt;&lt;start_of_turn&gt;user\\nIdentify if the folowing Tweet is part of a thread discussing a disaster (yes/ no):\\n[ The few I warned about .. Were just as I expected.. They are a threat to his soul ] &lt;end_of_turn&gt;\\n&lt;start_of_turn&gt;model\\n</td>\n",
       "      <td>&lt;bos&gt;&lt;start_of_turn&gt;user\\nIdentify if the folowing Tweet is part of a thread discussing a disaster (yes/ no):\\n[ Location: Ohio, USA. Tweet: The few I warned about .. Were just as I expected.. They are a threat to his soul ] &lt;end_of_turn&gt;\\n&lt;start_of_turn&gt;model\\nno</td>\n",
       "      <td>&lt;bos&gt;&lt;start_of_turn&gt;user\\nIdentify if the folowing Tweet is part of a thread discussing a disaster (yes/ no):\\n[ Location: Ohio, USA. Tweet: The few I warned about .. Were just as I expected.. They are a threat to his soul ] &lt;end_of_turn&gt;\\n&lt;start_of_turn&gt;model\\n</td>\n",
       "    </tr>\n",
       "    <tr>\n",
       "      <th>5869</th>\n",
       "      <td>8386</td>\n",
       "      <td>ruin</td>\n",
       "      <td>MNL</td>\n",
       "      <td>@clnv_ Yes Yes! I will. I dont wanna ruin my life. Lol</td>\n",
       "      <td>0</td>\n",
       "      <td>@clnv Yes Yes! I will. I dont wanna ruin my life. Lol</td>\n",
       "      <td>MNL</td>\n",
       "      <td>Location: MNL. Tweet: @clnv_ Yes Yes! I will. I dont wanna ruin my life. Lol</td>\n",
       "      <td>Location: MNL. Tweet: @clnv Yes Yes! I will. I dont wanna ruin my life. Lol</td>\n",
       "      <td>no</td>\n",
       "      <td>&lt;bos&gt;&lt;start_of_turn&gt;user\\nIdentify if the folowing Tweet is part of a thread discussing a disaster (yes/ no):\\n[ @clnv_ Yes Yes! I will. I dont wanna ruin my life. Lol ] &lt;end_of_turn&gt;\\n&lt;start_of_turn&gt;model\\nno</td>\n",
       "      <td>&lt;bos&gt;&lt;start_of_turn&gt;user\\nIdentify if the folowing Tweet is part of a thread discussing a disaster (yes/ no):\\n[ @clnv_ Yes Yes! I will. I dont wanna ruin my life. Lol ] &lt;end_of_turn&gt;\\n&lt;start_of_turn&gt;model\\n</td>\n",
       "      <td>&lt;bos&gt;&lt;start_of_turn&gt;user\\nIdentify if the folowing Tweet is part of a thread discussing a disaster (yes/ no):\\n[ Location: MNL. Tweet: @clnv_ Yes Yes! I will. I dont wanna ruin my life. Lol ] &lt;end_of_turn&gt;\\n&lt;start_of_turn&gt;model\\nno</td>\n",
       "      <td>&lt;bos&gt;&lt;start_of_turn&gt;user\\nIdentify if the folowing Tweet is part of a thread discussing a disaster (yes/ no):\\n[ Location: MNL. Tweet: @clnv_ Yes Yes! I will. I dont wanna ruin my life. Lol ] &lt;end_of_turn&gt;\\n&lt;start_of_turn&gt;model\\n</td>\n",
       "      <td>&lt;bos&gt;&lt;start_of_turn&gt;user\\nIdentify if the folowing Tweet is part of a thread discussing a disaster (yes/ no):\\n[ @clnv Yes Yes! I will. I dont wanna ruin my life. Lol ] &lt;end_of_turn&gt;\\n&lt;start_of_turn&gt;model\\nno</td>\n",
       "      <td>&lt;bos&gt;&lt;start_of_turn&gt;user\\nIdentify if the folowing Tweet is part of a thread discussing a disaster (yes/ no):\\n[ @clnv Yes Yes! I will. I dont wanna ruin my life. Lol ] &lt;end_of_turn&gt;\\n&lt;start_of_turn&gt;model\\n</td>\n",
       "      <td>&lt;bos&gt;&lt;start_of_turn&gt;user\\nIdentify if the folowing Tweet is part of a thread discussing a disaster (yes/ no):\\n[ Location: MNL. Tweet: @clnv Yes Yes! I will. I dont wanna ruin my life. Lol ] &lt;end_of_turn&gt;\\n&lt;start_of_turn&gt;model\\nno</td>\n",
       "      <td>&lt;bos&gt;&lt;start_of_turn&gt;user\\nIdentify if the folowing Tweet is part of a thread discussing a disaster (yes/ no):\\n[ Location: MNL. Tweet: @clnv Yes Yes! I will. I dont wanna ruin my life. Lol ] &lt;end_of_turn&gt;\\n&lt;start_of_turn&gt;model\\n</td>\n",
       "    </tr>\n",
       "  </tbody>\n",
       "</table>\n",
       "</div>"
      ],
      "text/plain": [
       "        id keyword   location  \\\n",
       "6663  9551  threat  Ohio, USA   \n",
       "5869  8386    ruin        MNL   \n",
       "\n",
       "                                                                                   text  \\\n",
       "6663  The few I warned about .. Were just as I expected.. They are a threat to his soul   \n",
       "5869                             @clnv_ Yes Yes! I will. I dont wanna ruin my life. Lol   \n",
       "\n",
       "      target  \\\n",
       "6663       0   \n",
       "5869       0   \n",
       "\n",
       "                                                                             text_clean  \\\n",
       "6663  The few I warned about .. Were just as I expected.. They are a threat to his soul   \n",
       "5869                              @clnv Yes Yes! I will. I dont wanna ruin my life. Lol   \n",
       "\n",
       "     location_clean  \\\n",
       "6663      Ohio, USA   \n",
       "5869            MNL   \n",
       "\n",
       "                                                                                                      text_location  \\\n",
       "6663  Location: Ohio, USA. Tweet: The few I warned about .. Were just as I expected.. They are a threat to his soul   \n",
       "5869                                   Location: MNL. Tweet: @clnv_ Yes Yes! I will. I dont wanna ruin my life. Lol   \n",
       "\n",
       "                                                                                                text_location_clean  \\\n",
       "6663  Location: Ohio, USA. Tweet: The few I warned about .. Were just as I expected.. They are a threat to his soul   \n",
       "5869                                    Location: MNL. Tweet: @clnv Yes Yes! I will. I dont wanna ruin my life. Lol   \n",
       "\n",
       "     class  \\\n",
       "6663    no   \n",
       "5869    no   \n",
       "\n",
       "                                                                                                                                                                                                                                       prompt_text  \\\n",
       "6663  <bos><start_of_turn>user\\nIdentify if the folowing Tweet is part of a thread discussing a disaster (yes/ no):\\n[ The few I warned about .. Were just as I expected.. They are a threat to his soul ] <end_of_turn>\\n<start_of_turn>model\\nno   \n",
       "5869                             <bos><start_of_turn>user\\nIdentify if the folowing Tweet is part of a thread discussing a disaster (yes/ no):\\n[ @clnv_ Yes Yes! I will. I dont wanna ruin my life. Lol ] <end_of_turn>\\n<start_of_turn>model\\nno   \n",
       "\n",
       "                                                                                                                                                                                                                                prompt_text_test  \\\n",
       "6663  <bos><start_of_turn>user\\nIdentify if the folowing Tweet is part of a thread discussing a disaster (yes/ no):\\n[ The few I warned about .. Were just as I expected.. They are a threat to his soul ] <end_of_turn>\\n<start_of_turn>model\\n   \n",
       "5869                             <bos><start_of_turn>user\\nIdentify if the folowing Tweet is part of a thread discussing a disaster (yes/ no):\\n[ @clnv_ Yes Yes! I will. I dont wanna ruin my life. Lol ] <end_of_turn>\\n<start_of_turn>model\\n   \n",
       "\n",
       "                                                                                                                                                                                                                                                          prompt_text_location  \\\n",
       "6663  <bos><start_of_turn>user\\nIdentify if the folowing Tweet is part of a thread discussing a disaster (yes/ no):\\n[ Location: Ohio, USA. Tweet: The few I warned about .. Were just as I expected.. They are a threat to his soul ] <end_of_turn>\\n<start_of_turn>model\\nno   \n",
       "5869                                   <bos><start_of_turn>user\\nIdentify if the folowing Tweet is part of a thread discussing a disaster (yes/ no):\\n[ Location: MNL. Tweet: @clnv_ Yes Yes! I will. I dont wanna ruin my life. Lol ] <end_of_turn>\\n<start_of_turn>model\\nno   \n",
       "\n",
       "                                                                                                                                                                                                                                                   prompt_text_location_test  \\\n",
       "6663  <bos><start_of_turn>user\\nIdentify if the folowing Tweet is part of a thread discussing a disaster (yes/ no):\\n[ Location: Ohio, USA. Tweet: The few I warned about .. Were just as I expected.. They are a threat to his soul ] <end_of_turn>\\n<start_of_turn>model\\n   \n",
       "5869                                   <bos><start_of_turn>user\\nIdentify if the folowing Tweet is part of a thread discussing a disaster (yes/ no):\\n[ Location: MNL. Tweet: @clnv_ Yes Yes! I will. I dont wanna ruin my life. Lol ] <end_of_turn>\\n<start_of_turn>model\\n   \n",
       "\n",
       "                                                                                                                                                                                                                                 prompt_text_clean  \\\n",
       "6663  <bos><start_of_turn>user\\nIdentify if the folowing Tweet is part of a thread discussing a disaster (yes/ no):\\n[ The few I warned about .. Were just as I expected.. They are a threat to his soul ] <end_of_turn>\\n<start_of_turn>model\\nno   \n",
       "5869                              <bos><start_of_turn>user\\nIdentify if the folowing Tweet is part of a thread discussing a disaster (yes/ no):\\n[ @clnv Yes Yes! I will. I dont wanna ruin my life. Lol ] <end_of_turn>\\n<start_of_turn>model\\nno   \n",
       "\n",
       "                                                                                                                                                                                                                          prompt_text_clean_test  \\\n",
       "6663  <bos><start_of_turn>user\\nIdentify if the folowing Tweet is part of a thread discussing a disaster (yes/ no):\\n[ The few I warned about .. Were just as I expected.. They are a threat to his soul ] <end_of_turn>\\n<start_of_turn>model\\n   \n",
       "5869                              <bos><start_of_turn>user\\nIdentify if the folowing Tweet is part of a thread discussing a disaster (yes/ no):\\n[ @clnv Yes Yes! I will. I dont wanna ruin my life. Lol ] <end_of_turn>\\n<start_of_turn>model\\n   \n",
       "\n",
       "                                                                                                                                                                                                                                                    prompt_text_location_clean  \\\n",
       "6663  <bos><start_of_turn>user\\nIdentify if the folowing Tweet is part of a thread discussing a disaster (yes/ no):\\n[ Location: Ohio, USA. Tweet: The few I warned about .. Were just as I expected.. They are a threat to his soul ] <end_of_turn>\\n<start_of_turn>model\\nno   \n",
       "5869                                    <bos><start_of_turn>user\\nIdentify if the folowing Tweet is part of a thread discussing a disaster (yes/ no):\\n[ Location: MNL. Tweet: @clnv Yes Yes! I will. I dont wanna ruin my life. Lol ] <end_of_turn>\\n<start_of_turn>model\\nno   \n",
       "\n",
       "                                                                                                                                                                                                                                             prompt_text_location_clean_test  \n",
       "6663  <bos><start_of_turn>user\\nIdentify if the folowing Tweet is part of a thread discussing a disaster (yes/ no):\\n[ Location: Ohio, USA. Tweet: The few I warned about .. Were just as I expected.. They are a threat to his soul ] <end_of_turn>\\n<start_of_turn>model\\n  \n",
       "5869                                    <bos><start_of_turn>user\\nIdentify if the folowing Tweet is part of a thread discussing a disaster (yes/ no):\\n[ Location: MNL. Tweet: @clnv Yes Yes! I will. I dont wanna ruin my life. Lol ] <end_of_turn>\\n<start_of_turn>model\\n  "
      ]
     },
     "execution_count": 18,
     "metadata": {},
     "output_type": "execute_result"
    }
   ],
   "source": [
    "# Train -----------------------------------------------------------------\n",
    "\n",
    "# Text\n",
    "train_df['prompt_text'] = train_df.apply(lambda row: generate_prompt(row, 'text'), axis=1)\n",
    "# Text test\n",
    "train_df['prompt_text_test'] = train_df.apply(lambda row: generate_test_prompt(row, 'text'), axis=1)\n",
    "# Text and location\n",
    "train_df['prompt_text_location'] = train_df.apply(lambda row: generate_prompt(row, 'text_location'), axis=1)\n",
    "# Text and location test\n",
    "train_df['prompt_text_location_test'] = train_df.apply(lambda row: generate_test_prompt(row, 'text_location'), axis=1)\n",
    "# Text clean\n",
    "train_df['prompt_text_clean'] = train_df.apply(lambda row: generate_prompt(row, 'text_clean'), axis=1)\n",
    "# Text clean test\n",
    "train_df['prompt_text_clean_test'] = train_df.apply(lambda row: generate_test_prompt(row, 'text_clean'), axis=1)\n",
    "# Text location clean\n",
    "train_df['prompt_text_location_clean'] = train_df.apply(lambda row: generate_prompt(row, 'text_location_clean'), axis=1)\n",
    "# Text location clean test\n",
    "train_df['prompt_text_location_clean_test'] = train_df.apply(lambda row: generate_test_prompt(row, 'text_location_clean'), axis=1)\n",
    "\n",
    "# Test ------------------------------------------------------------------\n",
    "\n",
    "# Text test\n",
    "test_df['prompt_text_test'] = train_df.apply(lambda row: generate_test_prompt(row, 'text'), axis=1)\n",
    "# Text and location test\n",
    "test_df['prompt_text_location_test'] = train_df.apply(lambda row: generate_test_prompt(row, 'text_location'), axis=1)\n",
    "# Text clean test\n",
    "test_df['prompt_text_clean_test'] = train_df.apply(lambda row: generate_test_prompt(row, 'text_clean'), axis=1)\n",
    "# Text location clean test\n",
    "train_df['prompt_text_location_clean_test'] = train_df.apply(lambda row: generate_test_prompt(row, 'text_location_clean'), axis=1)\n",
    "\n",
    "\n",
    "train_df.sample(2)"
   ]
  },
  {
   "cell_type": "code",
   "execution_count": 19,
   "id": "f2627a40",
   "metadata": {
    "execution": {
     "iopub.execute_input": "2024-03-12T09:30:46.512571Z",
     "iopub.status.busy": "2024-03-12T09:30:46.512265Z",
     "iopub.status.idle": "2024-03-12T09:30:46.888776Z",
     "shell.execute_reply": "2024-03-12T09:30:46.887817Z"
    },
    "papermill": {
     "duration": 0.386295,
     "end_time": "2024-03-12T09:30:46.891201",
     "exception": false,
     "start_time": "2024-03-12T09:30:46.504906",
     "status": "completed"
    },
    "tags": []
   },
   "outputs": [],
   "source": [
    "# Save files\n",
    "train_df.to_csv('disaster_train.csv', index=False)\n",
    "test_df.to_csv('disaster_test.csv', index=False)\n",
    "submission_df.to_csv('disaster_submission.csv', index=False)"
   ]
  },
  {
   "cell_type": "code",
   "execution_count": null,
   "id": "60d7a45b",
   "metadata": {
    "papermill": {
     "duration": 0.0066,
     "end_time": "2024-03-12T09:30:46.905043",
     "exception": false,
     "start_time": "2024-03-12T09:30:46.898443",
     "status": "completed"
    },
    "tags": []
   },
   "outputs": [],
   "source": []
  }
 ],
 "metadata": {
  "kaggle": {
   "accelerator": "none",
   "dataSources": [
    {
     "databundleVersionId": 869809,
     "sourceId": 17777,
     "sourceType": "competition"
    }
   ],
   "dockerImageVersionId": 30664,
   "isGpuEnabled": false,
   "isInternetEnabled": true,
   "language": "python",
   "sourceType": "notebook"
  },
  "kernelspec": {
   "display_name": "Python 3",
   "language": "python",
   "name": "python3"
  },
  "language_info": {
   "codemirror_mode": {
    "name": "ipython",
    "version": 3
   },
   "file_extension": ".py",
   "mimetype": "text/x-python",
   "name": "python",
   "nbconvert_exporter": "python",
   "pygments_lexer": "ipython3",
   "version": "3.10.13"
  },
  "papermill": {
   "default_parameters": {},
   "duration": 5.572904,
   "end_time": "2024-03-12T09:30:47.332072",
   "environment_variables": {},
   "exception": null,
   "input_path": "__notebook__.ipynb",
   "output_path": "__notebook__.ipynb",
   "parameters": {},
   "start_time": "2024-03-12T09:30:41.759168",
   "version": "2.5.0"
  }
 },
 "nbformat": 4,
 "nbformat_minor": 5
}
