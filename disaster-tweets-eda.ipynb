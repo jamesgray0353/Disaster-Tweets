{
 "cells": [
  {
   "cell_type": "markdown",
   "id": "a4ec7abf",
   "metadata": {
    "papermill": {
     "duration": 0.009163,
     "end_time": "2024-03-12T17:07:21.124063",
     "exception": false,
     "start_time": "2024-03-12T17:07:21.114900",
     "status": "completed"
    },
    "tags": []
   },
   "source": [
    "# Evaluating gemma-7b-it for text classification\n",
    "## Task: Identify if a tweet is about a \"disaster\""
   ]
  },
  {
   "cell_type": "markdown",
   "id": "1454114c",
   "metadata": {
    "papermill": {
     "duration": 0.008173,
     "end_time": "2024-03-12T17:07:21.140894",
     "exception": false,
     "start_time": "2024-03-12T17:07:21.132721",
     "status": "completed"
    },
    "tags": []
   },
   "source": [
    "### EDA and Preprocessing"
   ]
  },
  {
   "cell_type": "code",
   "execution_count": 1,
   "id": "f6cbc0a8",
   "metadata": {
    "_cell_guid": "b1076dfc-b9ad-4769-8c92-a6c4dae69d19",
    "_uuid": "8f2839f25d086af736a60e9eeb907d3b93b6e0e5",
    "execution": {
     "iopub.execute_input": "2024-03-12T17:07:21.169438Z",
     "iopub.status.busy": "2024-03-12T17:07:21.168193Z",
     "iopub.status.idle": "2024-03-12T17:07:22.192146Z",
     "shell.execute_reply": "2024-03-12T17:07:22.190708Z"
    },
    "papermill": {
     "duration": 1.038293,
     "end_time": "2024-03-12T17:07:22.195394",
     "exception": false,
     "start_time": "2024-03-12T17:07:21.157101",
     "status": "completed"
    },
    "tags": []
   },
   "outputs": [
    {
     "name": "stdout",
     "output_type": "stream",
     "text": [
      "/kaggle/input/nlp-getting-started/sample_submission.csv\n",
      "/kaggle/input/nlp-getting-started/train.csv\n",
      "/kaggle/input/nlp-getting-started/test.csv\n"
     ]
    }
   ],
   "source": [
    "# This Python 3 environment comes with many helpful analytics libraries installed\n",
    "# It is defined by the kaggle/python Docker image: https://github.com/kaggle/docker-python\n",
    "# For example, here's several helpful packages to load\n",
    "\n",
    "import numpy as np # linear algebra\n",
    "import pandas as pd # data processing, CSV file I/O (e.g. pd.read_csv)\n",
    "pd.set_option('display.max_colwidth', None)\n",
    "\n",
    "# Input data files are available in the read-only \"../input/\" directory\n",
    "# For example, running this (by clicking run or pressing Shift+Enter) will list all files under the input directory\n",
    "\n",
    "import os\n",
    "for dirname, _, filenames in os.walk('/kaggle/input'):\n",
    "    for filename in filenames:\n",
    "        print(os.path.join(dirname, filename))\n",
    "\n",
    "# You can write up to 20GB to the current directory (/kaggle/working/) that gets preserved as output when you create a version using \"Save & Run All\" \n",
    "# You can also write temporary files to /kaggle/temp/, but they won't be saved outside of the current session\n",
    "\n",
    "# Additional\n",
    "import re\n",
    "import html"
   ]
  },
  {
   "cell_type": "code",
   "execution_count": 2,
   "id": "1b4ab2d5",
   "metadata": {
    "execution": {
     "iopub.execute_input": "2024-03-12T17:07:22.215552Z",
     "iopub.status.busy": "2024-03-12T17:07:22.214798Z",
     "iopub.status.idle": "2024-03-12T17:07:22.300611Z",
     "shell.execute_reply": "2024-03-12T17:07:22.299320Z"
    },
    "papermill": {
     "duration": 0.099391,
     "end_time": "2024-03-12T17:07:22.303854",
     "exception": false,
     "start_time": "2024-03-12T17:07:22.204463",
     "status": "completed"
    },
    "tags": []
   },
   "outputs": [],
   "source": [
    "# Read data\n",
    "submission_path = '/kaggle/input/nlp-getting-started/sample_submission.csv'\n",
    "train_path = '/kaggle/input/nlp-getting-started/train.csv'\n",
    "test_path = '/kaggle/input/nlp-getting-started/test.csv'\n",
    "\n",
    "submission_df = pd.read_csv(submission_path)\n",
    "train_df = pd.read_csv(train_path)\n",
    "test_df = pd.read_csv(test_path)"
   ]
  },
  {
   "cell_type": "code",
   "execution_count": 3,
   "id": "98b84f24",
   "metadata": {
    "execution": {
     "iopub.execute_input": "2024-03-12T17:07:22.323797Z",
     "iopub.status.busy": "2024-03-12T17:07:22.323290Z",
     "iopub.status.idle": "2024-03-12T17:07:22.348030Z",
     "shell.execute_reply": "2024-03-12T17:07:22.346862Z"
    },
    "papermill": {
     "duration": 0.038204,
     "end_time": "2024-03-12T17:07:22.350851",
     "exception": false,
     "start_time": "2024-03-12T17:07:22.312647",
     "status": "completed"
    },
    "tags": []
   },
   "outputs": [
    {
     "name": "stdout",
     "output_type": "stream",
     "text": [
      "train\n",
      "(7613, 5)\n",
      "['id', 'keyword', 'location', 'text', 'target']\n",
      "target\n",
      "0    0.57034\n",
      "1    0.42966\n",
      "Name: proportion, dtype: float64\n",
      "\n",
      "test\n",
      "(3263, 4)\n",
      "['id', 'keyword', 'location', 'text']\n",
      "target\n",
      "0    0.57034\n",
      "1    0.42966\n",
      "Name: proportion, dtype: float64\n"
     ]
    }
   ],
   "source": [
    "# Describe\n",
    "print(\"train\")\n",
    "print(train_df.shape)\n",
    "print(train_df.columns.tolist())\n",
    "print(train_df.target.value_counts(normalize = True))\n",
    "\n",
    "print(\"\\ntest\")\n",
    "print(test_df.shape)\n",
    "print(test_df.columns.tolist())\n",
    "print(train_df.target.value_counts(normalize = True))"
   ]
  },
  {
   "cell_type": "code",
   "execution_count": 4,
   "id": "225d3e78",
   "metadata": {
    "execution": {
     "iopub.execute_input": "2024-03-12T17:07:22.370807Z",
     "iopub.status.busy": "2024-03-12T17:07:22.370295Z",
     "iopub.status.idle": "2024-03-12T17:07:22.394467Z",
     "shell.execute_reply": "2024-03-12T17:07:22.393309Z"
    },
    "papermill": {
     "duration": 0.037475,
     "end_time": "2024-03-12T17:07:22.397219",
     "exception": false,
     "start_time": "2024-03-12T17:07:22.359744",
     "status": "completed"
    },
    "tags": []
   },
   "outputs": [
    {
     "data": {
      "text/html": [
       "<div>\n",
       "<style scoped>\n",
       "    .dataframe tbody tr th:only-of-type {\n",
       "        vertical-align: middle;\n",
       "    }\n",
       "\n",
       "    .dataframe tbody tr th {\n",
       "        vertical-align: top;\n",
       "    }\n",
       "\n",
       "    .dataframe thead th {\n",
       "        text-align: right;\n",
       "    }\n",
       "</style>\n",
       "<table border=\"1\" class=\"dataframe\">\n",
       "  <thead>\n",
       "    <tr style=\"text-align: right;\">\n",
       "      <th></th>\n",
       "      <th>id</th>\n",
       "      <th>keyword</th>\n",
       "      <th>location</th>\n",
       "      <th>text</th>\n",
       "      <th>target</th>\n",
       "    </tr>\n",
       "  </thead>\n",
       "  <tbody>\n",
       "    <tr>\n",
       "      <th>2093</th>\n",
       "      <td>3009</td>\n",
       "      <td>death</td>\n",
       "      <td>PROV</td>\n",
       "      <td>Death threats on a nigga life well then we gon see</td>\n",
       "      <td>0</td>\n",
       "    </tr>\n",
       "    <tr>\n",
       "      <th>7535</th>\n",
       "      <td>10774</td>\n",
       "      <td>wreckage</td>\n",
       "      <td>NaN</td>\n",
       "      <td>Wreckage 'conclusively confirmed' as from MH370: Malaysia PM http://t.co/Rp2DxFKHDQ | https://t.co/akmIHLRIs1</td>\n",
       "      <td>1</td>\n",
       "    </tr>\n",
       "    <tr>\n",
       "      <th>7201</th>\n",
       "      <td>10316</td>\n",
       "      <td>weapon</td>\n",
       "      <td>NaN</td>\n",
       "      <td>only weapon im scared off is karma</td>\n",
       "      <td>0</td>\n",
       "    </tr>\n",
       "    <tr>\n",
       "      <th>510</th>\n",
       "      <td>736</td>\n",
       "      <td>attacked</td>\n",
       "      <td>USA</td>\n",
       "      <td>Christian Attacked by Muslims at the Temple Mount after Waving Israeli Flag via Pamela Geller - ... http://t.co/a6wmbnR51S</td>\n",
       "      <td>1</td>\n",
       "    </tr>\n",
       "    <tr>\n",
       "      <th>1494</th>\n",
       "      <td>2154</td>\n",
       "      <td>catastrophe</td>\n",
       "      <td>NaN</td>\n",
       "      <td>Human history becomes more and more a race between education and catastrophe.</td>\n",
       "      <td>0</td>\n",
       "    </tr>\n",
       "  </tbody>\n",
       "</table>\n",
       "</div>"
      ],
      "text/plain": [
       "         id      keyword location  \\\n",
       "2093   3009        death     PROV   \n",
       "7535  10774     wreckage      NaN   \n",
       "7201  10316       weapon      NaN   \n",
       "510     736     attacked      USA   \n",
       "1494   2154  catastrophe      NaN   \n",
       "\n",
       "                                                                                                                            text  \\\n",
       "2093                                                                          Death threats on a nigga life well then we gon see   \n",
       "7535               Wreckage 'conclusively confirmed' as from MH370: Malaysia PM http://t.co/Rp2DxFKHDQ | https://t.co/akmIHLRIs1   \n",
       "7201                                                                                          only weapon im scared off is karma   \n",
       "510   Christian Attacked by Muslims at the Temple Mount after Waving Israeli Flag via Pamela Geller - ... http://t.co/a6wmbnR51S   \n",
       "1494                                               Human history becomes more and more a race between education and catastrophe.   \n",
       "\n",
       "      target  \n",
       "2093       0  \n",
       "7535       1  \n",
       "7201       0  \n",
       "510        1  \n",
       "1494       0  "
      ]
     },
     "execution_count": 4,
     "metadata": {},
     "output_type": "execute_result"
    }
   ],
   "source": [
    "# What is a \"disater\"?\n",
    "train_df.sample(5)"
   ]
  },
  {
   "cell_type": "markdown",
   "id": "cb61bfe5",
   "metadata": {
    "papermill": {
     "duration": 0.008529,
     "end_time": "2024-03-12T17:07:22.415003",
     "exception": false,
     "start_time": "2024-03-12T17:07:22.406474",
     "status": "completed"
    },
    "tags": []
   },
   "source": [
    "* Texts have keywords which appear in them (possibly used for searching tweets that could be referring disaster).\n",
    "* Target: 1 = Actual Disaster, 0 = Not Disaster.\n",
    "* Location provides additional context to tweet."
   ]
  },
  {
   "cell_type": "code",
   "execution_count": 5,
   "id": "33c83918",
   "metadata": {
    "execution": {
     "iopub.execute_input": "2024-03-12T17:07:22.436170Z",
     "iopub.status.busy": "2024-03-12T17:07:22.434953Z",
     "iopub.status.idle": "2024-03-12T17:07:22.442202Z",
     "shell.execute_reply": "2024-03-12T17:07:22.440978Z"
    },
    "papermill": {
     "duration": 0.020247,
     "end_time": "2024-03-12T17:07:22.444683",
     "exception": false,
     "start_time": "2024-03-12T17:07:22.424436",
     "status": "completed"
    },
    "tags": []
   },
   "outputs": [],
   "source": [
    "# describe columns\n",
    "def describe_column(df, column_name, sample_size = 20):\n",
    "    print(\n",
    "        f\"Column: {column_name}\\n\"\n",
    "        f\"Number of rows: {df.shape[0]}\\n\"\n",
    "        f\"Number of unique values: {len(df[column_name].unique())}\\n\"\n",
    "        f\"Empty %: {round(((df[column_name].isna().sum() / df.shape[0]) * 100), 2)}%\\n\"\n",
    "        f\"Sample: {df[column_name].unique()[:sample_size]}\"\n",
    "    )"
   ]
  },
  {
   "cell_type": "code",
   "execution_count": 6,
   "id": "88f39123",
   "metadata": {
    "execution": {
     "iopub.execute_input": "2024-03-12T17:07:22.465679Z",
     "iopub.status.busy": "2024-03-12T17:07:22.464754Z",
     "iopub.status.idle": "2024-03-12T17:07:22.476087Z",
     "shell.execute_reply": "2024-03-12T17:07:22.474786Z"
    },
    "papermill": {
     "duration": 0.025148,
     "end_time": "2024-03-12T17:07:22.479017",
     "exception": false,
     "start_time": "2024-03-12T17:07:22.453869",
     "status": "completed"
    },
    "tags": []
   },
   "outputs": [
    {
     "name": "stdout",
     "output_type": "stream",
     "text": [
      "Column: keyword\n",
      "Number of rows: 7613\n",
      "Number of unique values: 222\n",
      "Empty %: 0.8%\n",
      "Sample: [nan 'ablaze' 'accident' 'aftershock' 'airplane%20accident' 'ambulance'\n",
      " 'annihilated' 'annihilation' 'apocalypse' 'armageddon' 'army' 'arson'\n",
      " 'arsonist' 'attack' 'attacked' 'avalanche' 'battle' 'bioterror'\n",
      " 'bioterrorism' 'blaze']\n"
     ]
    }
   ],
   "source": [
    "# keyword\n",
    "describe_column(train_df, 'keyword')"
   ]
  },
  {
   "cell_type": "code",
   "execution_count": 7,
   "id": "29057488",
   "metadata": {
    "execution": {
     "iopub.execute_input": "2024-03-12T17:07:22.499915Z",
     "iopub.status.busy": "2024-03-12T17:07:22.499443Z",
     "iopub.status.idle": "2024-03-12T17:07:22.509610Z",
     "shell.execute_reply": "2024-03-12T17:07:22.508194Z"
    },
    "papermill": {
     "duration": 0.024,
     "end_time": "2024-03-12T17:07:22.512335",
     "exception": false,
     "start_time": "2024-03-12T17:07:22.488335",
     "status": "completed"
    },
    "tags": []
   },
   "outputs": [
    {
     "name": "stdout",
     "output_type": "stream",
     "text": [
      "Column: location\n",
      "Number of rows: 7613\n",
      "Number of unique values: 3342\n",
      "Empty %: 33.27%\n",
      "Sample: [nan 'Birmingham' 'Est. September 2012 - Bristol' 'AFRICA'\n",
      " 'Philadelphia, PA' 'London, UK' 'Pretoria' 'World Wide!!'\n",
      " 'Paranaque City' 'Live On Webcam' 'milky way' 'GREENSBORO,NORTH CAROLINA'\n",
      " 'England.' 'Sheffield Township, Ohio' 'India' 'Barbados' 'Anaheim'\n",
      " 'Abuja' 'USA' 'South Africa']\n"
     ]
    }
   ],
   "source": [
    "# location\n",
    "describe_column(train_df, 'location')"
   ]
  },
  {
   "cell_type": "code",
   "execution_count": 8,
   "id": "863af033",
   "metadata": {
    "execution": {
     "iopub.execute_input": "2024-03-12T17:07:22.533529Z",
     "iopub.status.busy": "2024-03-12T17:07:22.532582Z",
     "iopub.status.idle": "2024-03-12T17:07:22.542412Z",
     "shell.execute_reply": "2024-03-12T17:07:22.540905Z"
    },
    "papermill": {
     "duration": 0.02293,
     "end_time": "2024-03-12T17:07:22.544677",
     "exception": false,
     "start_time": "2024-03-12T17:07:22.521747",
     "status": "completed"
    },
    "tags": []
   },
   "outputs": [
    {
     "name": "stdout",
     "output_type": "stream",
     "text": [
      "Column: target\n",
      "Number of rows: 7613\n",
      "Number of unique values: 2\n",
      "Empty %: 0.0%\n",
      "Sample: [1 0]\n"
     ]
    }
   ],
   "source": [
    "# location\n",
    "describe_column(train_df, 'target', 2)"
   ]
  },
  {
   "cell_type": "code",
   "execution_count": 9,
   "id": "a49276d0",
   "metadata": {
    "execution": {
     "iopub.execute_input": "2024-03-12T17:07:22.567219Z",
     "iopub.status.busy": "2024-03-12T17:07:22.566384Z",
     "iopub.status.idle": "2024-03-12T17:07:22.582416Z",
     "shell.execute_reply": "2024-03-12T17:07:22.581210Z"
    },
    "papermill": {
     "duration": 0.030204,
     "end_time": "2024-03-12T17:07:22.585577",
     "exception": false,
     "start_time": "2024-03-12T17:07:22.555373",
     "status": "completed"
    },
    "tags": []
   },
   "outputs": [
    {
     "data": {
      "text/html": [
       "<div>\n",
       "<style scoped>\n",
       "    .dataframe tbody tr th:only-of-type {\n",
       "        vertical-align: middle;\n",
       "    }\n",
       "\n",
       "    .dataframe tbody tr th {\n",
       "        vertical-align: top;\n",
       "    }\n",
       "\n",
       "    .dataframe thead th {\n",
       "        text-align: right;\n",
       "    }\n",
       "</style>\n",
       "<table border=\"1\" class=\"dataframe\">\n",
       "  <thead>\n",
       "    <tr style=\"text-align: right;\">\n",
       "      <th></th>\n",
       "      <th>id</th>\n",
       "      <th>keyword</th>\n",
       "      <th>location</th>\n",
       "      <th>text</th>\n",
       "      <th>target</th>\n",
       "    </tr>\n",
       "  </thead>\n",
       "  <tbody>\n",
       "    <tr>\n",
       "      <th>7583</th>\n",
       "      <td>10835</td>\n",
       "      <td>NaN</td>\n",
       "      <td>NaN</td>\n",
       "      <td>Pic of 16yr old PKK suicide bomber who detonated bomb in Turkey Army trench released http://t.co/aaWZXykLES http://t.co/RsMvgDxRiv</td>\n",
       "      <td>1</td>\n",
       "    </tr>\n",
       "    <tr>\n",
       "      <th>15</th>\n",
       "      <td>23</td>\n",
       "      <td>NaN</td>\n",
       "      <td>NaN</td>\n",
       "      <td>What's up man?</td>\n",
       "      <td>0</td>\n",
       "    </tr>\n",
       "    <tr>\n",
       "      <th>7607</th>\n",
       "      <td>10867</td>\n",
       "      <td>NaN</td>\n",
       "      <td>NaN</td>\n",
       "      <td>#stormchase Violent Record Breaking EF-5 El Reno Oklahoma Tornado Nearly Runs Over ... - http://t.co/3SICroAaNz http://t.co/I27Oa0HISp</td>\n",
       "      <td>1</td>\n",
       "    </tr>\n",
       "    <tr>\n",
       "      <th>19</th>\n",
       "      <td>28</td>\n",
       "      <td>NaN</td>\n",
       "      <td>NaN</td>\n",
       "      <td>What a goooooooaaaaaal!!!!!!</td>\n",
       "      <td>0</td>\n",
       "    </tr>\n",
       "    <tr>\n",
       "      <th>22</th>\n",
       "      <td>33</td>\n",
       "      <td>NaN</td>\n",
       "      <td>NaN</td>\n",
       "      <td>Love skiing</td>\n",
       "      <td>0</td>\n",
       "    </tr>\n",
       "  </tbody>\n",
       "</table>\n",
       "</div>"
      ],
      "text/plain": [
       "         id keyword location  \\\n",
       "7583  10835     NaN      NaN   \n",
       "15       23     NaN      NaN   \n",
       "7607  10867     NaN      NaN   \n",
       "19       28     NaN      NaN   \n",
       "22       33     NaN      NaN   \n",
       "\n",
       "                                                                                                                                        text  \\\n",
       "7583      Pic of 16yr old PKK suicide bomber who detonated bomb in Turkey Army trench released http://t.co/aaWZXykLES http://t.co/RsMvgDxRiv   \n",
       "15                                                                                                                            What's up man?   \n",
       "7607  #stormchase Violent Record Breaking EF-5 El Reno Oklahoma Tornado Nearly Runs Over ... - http://t.co/3SICroAaNz http://t.co/I27Oa0HISp   \n",
       "19                                                                                                              What a goooooooaaaaaal!!!!!!   \n",
       "22                                                                                                                               Love skiing   \n",
       "\n",
       "      target  \n",
       "7583       1  \n",
       "15         0  \n",
       "7607       1  \n",
       "19         0  \n",
       "22         0  "
      ]
     },
     "execution_count": 9,
     "metadata": {},
     "output_type": "execute_result"
    }
   ],
   "source": [
    "# Empty keywords\n",
    "train_df[train_df['keyword'].isna()].sample(5)"
   ]
  },
  {
   "cell_type": "markdown",
   "id": "2c73d72c",
   "metadata": {
    "papermill": {
     "duration": 0.009533,
     "end_time": "2024-03-12T17:07:22.604653",
     "exception": false,
     "start_time": "2024-03-12T17:07:22.595120",
     "status": "completed"
    },
    "tags": []
   },
   "source": [
    "* No reason for Text's with missing keywords to be removed.\n",
    "* Duplicate Texts need further investigation."
   ]
  },
  {
   "cell_type": "code",
   "execution_count": 10,
   "id": "8b198d63",
   "metadata": {
    "execution": {
     "iopub.execute_input": "2024-03-12T17:07:22.626459Z",
     "iopub.status.busy": "2024-03-12T17:07:22.625552Z",
     "iopub.status.idle": "2024-03-12T17:07:22.663158Z",
     "shell.execute_reply": "2024-03-12T17:07:22.661959Z"
    },
    "papermill": {
     "duration": 0.052142,
     "end_time": "2024-03-12T17:07:22.666462",
     "exception": false,
     "start_time": "2024-03-12T17:07:22.614320",
     "status": "completed"
    },
    "tags": []
   },
   "outputs": [
    {
     "name": "stdout",
     "output_type": "stream",
     "text": [
      "Count of text dupes: 179\n"
     ]
    },
    {
     "data": {
      "text/html": [
       "<div>\n",
       "<style scoped>\n",
       "    .dataframe tbody tr th:only-of-type {\n",
       "        vertical-align: middle;\n",
       "    }\n",
       "\n",
       "    .dataframe tbody tr th {\n",
       "        vertical-align: top;\n",
       "    }\n",
       "\n",
       "    .dataframe thead th {\n",
       "        text-align: right;\n",
       "    }\n",
       "</style>\n",
       "<table border=\"1\" class=\"dataframe\">\n",
       "  <thead>\n",
       "    <tr style=\"text-align: right;\">\n",
       "      <th></th>\n",
       "      <th>id</th>\n",
       "      <th>keyword</th>\n",
       "      <th>location</th>\n",
       "      <th>text</th>\n",
       "      <th>target</th>\n",
       "    </tr>\n",
       "  </thead>\n",
       "  <tbody>\n",
       "    <tr>\n",
       "      <th>4290</th>\n",
       "      <td>6094</td>\n",
       "      <td>hellfire</td>\n",
       "      <td>Jubail IC, Saudi Arabia.</td>\n",
       "      <td>#Allah describes piling up #wealth thinking it would last #forever as the description of the people of #Hellfire in Surah Humaza. #Reflect</td>\n",
       "      <td>0</td>\n",
       "    </tr>\n",
       "    <tr>\n",
       "      <th>4299</th>\n",
       "      <td>6105</td>\n",
       "      <td>hellfire</td>\n",
       "      <td>?????? ??? ?????? ????????</td>\n",
       "      <td>#Allah describes piling up #wealth thinking it would last #forever as the description of the people of #Hellfire in Surah Humaza. #Reflect</td>\n",
       "      <td>0</td>\n",
       "    </tr>\n",
       "    <tr>\n",
       "      <th>4312</th>\n",
       "      <td>6123</td>\n",
       "      <td>hellfire</td>\n",
       "      <td>?????? ???? ??????</td>\n",
       "      <td>#Allah describes piling up #wealth thinking it would last #forever as the description of the people of #Hellfire in Surah Humaza. #Reflect</td>\n",
       "      <td>1</td>\n",
       "    </tr>\n",
       "    <tr>\n",
       "      <th>4244</th>\n",
       "      <td>6031</td>\n",
       "      <td>hazardous</td>\n",
       "      <td>New Delhi, Delhi</td>\n",
       "      <td>#foodscare #offers2go #NestleIndia slips into loss after #Magginoodle #ban unsafe and hazardous for #humanconsumption</td>\n",
       "      <td>0</td>\n",
       "    </tr>\n",
       "    <tr>\n",
       "      <th>4221</th>\n",
       "      <td>5996</td>\n",
       "      <td>hazardous</td>\n",
       "      <td>NaN</td>\n",
       "      <td>#foodscare #offers2go #NestleIndia slips into loss after #Magginoodle #ban unsafe and hazardous for #humanconsumption</td>\n",
       "      <td>1</td>\n",
       "    </tr>\n",
       "    <tr>\n",
       "      <th>4239</th>\n",
       "      <td>6023</td>\n",
       "      <td>hazardous</td>\n",
       "      <td>Mysore, Karnataka</td>\n",
       "      <td>#foodscare #offers2go #NestleIndia slips into loss after #Magginoodle #ban unsafe and hazardous for #humanconsumption</td>\n",
       "      <td>1</td>\n",
       "    </tr>\n",
       "    <tr>\n",
       "      <th>2832</th>\n",
       "      <td>4076</td>\n",
       "      <td>displaced</td>\n",
       "      <td>Pedophile hunting ground</td>\n",
       "      <td>.POTUS #StrategicPatience is a strategy for #Genocide; refugees; IDP Internally displaced people; horror; etc. https://t.co/rqWuoy1fm4</td>\n",
       "      <td>0</td>\n",
       "    </tr>\n",
       "    <tr>\n",
       "      <th>2831</th>\n",
       "      <td>4072</td>\n",
       "      <td>displaced</td>\n",
       "      <td>Pedophile hunting ground</td>\n",
       "      <td>.POTUS #StrategicPatience is a strategy for #Genocide; refugees; IDP Internally displaced people; horror; etc. https://t.co/rqWuoy1fm4</td>\n",
       "      <td>1</td>\n",
       "    </tr>\n",
       "    <tr>\n",
       "      <th>2830</th>\n",
       "      <td>4068</td>\n",
       "      <td>displaced</td>\n",
       "      <td>Pedophile hunting ground</td>\n",
       "      <td>.POTUS #StrategicPatience is a strategy for #Genocide; refugees; IDP Internally displaced people; horror; etc. https://t.co/rqWuoy1fm4</td>\n",
       "      <td>1</td>\n",
       "    </tr>\n",
       "    <tr>\n",
       "      <th>2833</th>\n",
       "      <td>4077</td>\n",
       "      <td>displaced</td>\n",
       "      <td>Pedophile hunting ground</td>\n",
       "      <td>.POTUS #StrategicPatience is a strategy for #Genocide; refugees; IDP Internally displaced people; horror; etc. https://t.co/rqWuoy1fm4</td>\n",
       "      <td>1</td>\n",
       "    </tr>\n",
       "  </tbody>\n",
       "</table>\n",
       "</div>"
      ],
      "text/plain": [
       "        id    keyword                    location  \\\n",
       "4290  6094   hellfire    Jubail IC, Saudi Arabia.   \n",
       "4299  6105   hellfire  ?????? ??? ?????? ????????   \n",
       "4312  6123   hellfire          ?????? ???? ??????   \n",
       "4244  6031  hazardous            New Delhi, Delhi   \n",
       "4221  5996  hazardous                         NaN   \n",
       "4239  6023  hazardous           Mysore, Karnataka   \n",
       "2832  4076  displaced    Pedophile hunting ground   \n",
       "2831  4072  displaced    Pedophile hunting ground   \n",
       "2830  4068  displaced    Pedophile hunting ground   \n",
       "2833  4077  displaced    Pedophile hunting ground   \n",
       "\n",
       "                                                                                                                                            text  \\\n",
       "4290  #Allah describes piling up #wealth thinking it would last #forever as the description of the people of #Hellfire in Surah Humaza. #Reflect   \n",
       "4299  #Allah describes piling up #wealth thinking it would last #forever as the description of the people of #Hellfire in Surah Humaza. #Reflect   \n",
       "4312  #Allah describes piling up #wealth thinking it would last #forever as the description of the people of #Hellfire in Surah Humaza. #Reflect   \n",
       "4244                       #foodscare #offers2go #NestleIndia slips into loss after #Magginoodle #ban unsafe and hazardous for #humanconsumption   \n",
       "4221                       #foodscare #offers2go #NestleIndia slips into loss after #Magginoodle #ban unsafe and hazardous for #humanconsumption   \n",
       "4239                       #foodscare #offers2go #NestleIndia slips into loss after #Magginoodle #ban unsafe and hazardous for #humanconsumption   \n",
       "2832      .POTUS #StrategicPatience is a strategy for #Genocide; refugees; IDP Internally displaced people; horror; etc. https://t.co/rqWuoy1fm4   \n",
       "2831      .POTUS #StrategicPatience is a strategy for #Genocide; refugees; IDP Internally displaced people; horror; etc. https://t.co/rqWuoy1fm4   \n",
       "2830      .POTUS #StrategicPatience is a strategy for #Genocide; refugees; IDP Internally displaced people; horror; etc. https://t.co/rqWuoy1fm4   \n",
       "2833      .POTUS #StrategicPatience is a strategy for #Genocide; refugees; IDP Internally displaced people; horror; etc. https://t.co/rqWuoy1fm4   \n",
       "\n",
       "      target  \n",
       "4290       0  \n",
       "4299       0  \n",
       "4312       1  \n",
       "4244       0  \n",
       "4221       1  \n",
       "4239       1  \n",
       "2832       0  \n",
       "2831       1  \n",
       "2830       1  \n",
       "2833       1  "
      ]
     },
     "execution_count": 10,
     "metadata": {},
     "output_type": "execute_result"
    }
   ],
   "source": [
    "# Do texts vary with target, location or keyword.\n",
    "train_text_dupes = train_df[train_df.duplicated(subset='text', keep=False)]\n",
    "print(f\"Count of text dupes: {train_text_dupes.shape[0]}\")\n",
    "train_vary_target = train_text_dupes.groupby('text').filter(\n",
    "    lambda x: x['target'].nunique() == 2).sort_values('text').iloc[:10]\n",
    "train_vary_target"
   ]
  },
  {
   "cell_type": "code",
   "execution_count": 11,
   "id": "c1b3ba87",
   "metadata": {
    "execution": {
     "iopub.execute_input": "2024-03-12T17:07:22.689907Z",
     "iopub.status.busy": "2024-03-12T17:07:22.688499Z",
     "iopub.status.idle": "2024-03-12T17:07:22.708748Z",
     "shell.execute_reply": "2024-03-12T17:07:22.707319Z"
    },
    "papermill": {
     "duration": 0.035049,
     "end_time": "2024-03-12T17:07:22.711673",
     "exception": false,
     "start_time": "2024-03-12T17:07:22.676624",
     "status": "completed"
    },
    "tags": []
   },
   "outputs": [
    {
     "data": {
      "text/html": [
       "<div>\n",
       "<style scoped>\n",
       "    .dataframe tbody tr th:only-of-type {\n",
       "        vertical-align: middle;\n",
       "    }\n",
       "\n",
       "    .dataframe tbody tr th {\n",
       "        vertical-align: top;\n",
       "    }\n",
       "\n",
       "    .dataframe thead th {\n",
       "        text-align: right;\n",
       "    }\n",
       "</style>\n",
       "<table border=\"1\" class=\"dataframe\">\n",
       "  <thead>\n",
       "    <tr style=\"text-align: right;\">\n",
       "      <th></th>\n",
       "      <th>id</th>\n",
       "      <th>keyword</th>\n",
       "      <th>location</th>\n",
       "      <th>text</th>\n",
       "    </tr>\n",
       "  </thead>\n",
       "  <tbody>\n",
       "    <tr>\n",
       "      <th>18</th>\n",
       "      <td>58</td>\n",
       "      <td>ablaze</td>\n",
       "      <td>Live On Webcam</td>\n",
       "      <td>Check these out: http://t.co/rOI2NSmEJJ http://t.co/3Tj8ZjiN21 http://t.co/YDUiXEfIpE http://t.co/LxTjc87KLS #nsfw</td>\n",
       "    </tr>\n",
       "    <tr>\n",
       "      <th>47</th>\n",
       "      <td>152</td>\n",
       "      <td>aftershock</td>\n",
       "      <td>Switzerland</td>\n",
       "      <td>320 [IR] ICEMOON [AFTERSHOCK] | http://t.co/THyzOMVWU0 | @djicemoon | #Dubstep #TrapMusic #DnB #EDM #Dance #IcesÛ_ http://t.co/83jOO0xk29</td>\n",
       "    </tr>\n",
       "    <tr>\n",
       "      <th>53</th>\n",
       "      <td>177</td>\n",
       "      <td>aftershock</td>\n",
       "      <td>Switzerland</td>\n",
       "      <td>320 [IR] ICEMOON [AFTERSHOCK] | http://t.co/THyzOMVWU0 | @djicemoon | #Dubstep #TrapMusic #DnB #EDM #Dance #IcesÛ_ http://t.co/83jOO0xk29</td>\n",
       "    </tr>\n",
       "    <tr>\n",
       "      <th>55</th>\n",
       "      <td>181</td>\n",
       "      <td>aftershock</td>\n",
       "      <td>304</td>\n",
       "      <td>'There is no victory at bargain basement prices.' Dwight David Eisenhower</td>\n",
       "    </tr>\n",
       "    <tr>\n",
       "      <th>150</th>\n",
       "      <td>497</td>\n",
       "      <td>army</td>\n",
       "      <td>Campinas Sp</td>\n",
       "      <td>You da One \\n\\n#MTVSummerStar #VideoVeranoMTV  #MTVHottest Britney Spears Lana Del Rey</td>\n",
       "    </tr>\n",
       "    <tr>\n",
       "      <th>...</th>\n",
       "      <td>...</td>\n",
       "      <td>...</td>\n",
       "      <td>...</td>\n",
       "      <td>...</td>\n",
       "    </tr>\n",
       "    <tr>\n",
       "      <th>3090</th>\n",
       "      <td>10232</td>\n",
       "      <td>volcano</td>\n",
       "      <td>Planet Earth</td>\n",
       "      <td>Learning from the Legacy of a Catastrophic Eruption - The New Yorker http://t.co/y8YqPBE4t9</td>\n",
       "    </tr>\n",
       "    <tr>\n",
       "      <th>3230</th>\n",
       "      <td>10738</td>\n",
       "      <td>wreckage</td>\n",
       "      <td>India</td>\n",
       "      <td>Wreckage 'Conclusively Confirmed' as From MH370: Malaysia PM</td>\n",
       "    </tr>\n",
       "    <tr>\n",
       "      <th>3235</th>\n",
       "      <td>10758</td>\n",
       "      <td>wreckage</td>\n",
       "      <td>India</td>\n",
       "      <td>Wreckage 'Conclusively Confirmed' as From MH370: Malaysia PM</td>\n",
       "    </tr>\n",
       "    <tr>\n",
       "      <th>3259</th>\n",
       "      <td>10865</td>\n",
       "      <td>NaN</td>\n",
       "      <td>NaN</td>\n",
       "      <td>Storm in RI worse than last hurricane. My city&amp;amp;3others hardest hit. My yard looks like it was bombed. Around 20000K still without power</td>\n",
       "    </tr>\n",
       "    <tr>\n",
       "      <th>3261</th>\n",
       "      <td>10874</td>\n",
       "      <td>NaN</td>\n",
       "      <td>NaN</td>\n",
       "      <td>MEG issues Hazardous Weather Outlook (HWO) http://t.co/3X6RBQJHn3</td>\n",
       "    </tr>\n",
       "  </tbody>\n",
       "</table>\n",
       "<p>78 rows × 4 columns</p>\n",
       "</div>"
      ],
      "text/plain": [
       "         id     keyword        location  \\\n",
       "18       58      ablaze  Live On Webcam   \n",
       "47      152  aftershock     Switzerland   \n",
       "53      177  aftershock     Switzerland   \n",
       "55      181  aftershock             304   \n",
       "150     497        army     Campinas Sp   \n",
       "...     ...         ...             ...   \n",
       "3090  10232     volcano    Planet Earth   \n",
       "3230  10738    wreckage           India   \n",
       "3235  10758    wreckage           India   \n",
       "3259  10865         NaN             NaN   \n",
       "3261  10874         NaN             NaN   \n",
       "\n",
       "                                                                                                                                             text  \n",
       "18                             Check these out: http://t.co/rOI2NSmEJJ http://t.co/3Tj8ZjiN21 http://t.co/YDUiXEfIpE http://t.co/LxTjc87KLS #nsfw  \n",
       "47     320 [IR] ICEMOON [AFTERSHOCK] | http://t.co/THyzOMVWU0 | @djicemoon | #Dubstep #TrapMusic #DnB #EDM #Dance #IcesÛ_ http://t.co/83jOO0xk29  \n",
       "53     320 [IR] ICEMOON [AFTERSHOCK] | http://t.co/THyzOMVWU0 | @djicemoon | #Dubstep #TrapMusic #DnB #EDM #Dance #IcesÛ_ http://t.co/83jOO0xk29  \n",
       "55                                                                      'There is no victory at bargain basement prices.' Dwight David Eisenhower  \n",
       "150                                                        You da One \\n\\n#MTVSummerStar #VideoVeranoMTV  #MTVHottest Britney Spears Lana Del Rey  \n",
       "...                                                                                                                                           ...  \n",
       "3090                                                  Learning from the Legacy of a Catastrophic Eruption - The New Yorker http://t.co/y8YqPBE4t9  \n",
       "3230                                                                                 Wreckage 'Conclusively Confirmed' as From MH370: Malaysia PM  \n",
       "3235                                                                                 Wreckage 'Conclusively Confirmed' as From MH370: Malaysia PM  \n",
       "3259  Storm in RI worse than last hurricane. My city&amp;3others hardest hit. My yard looks like it was bombed. Around 20000K still without power  \n",
       "3261                                                                            MEG issues Hazardous Weather Outlook (HWO) http://t.co/3X6RBQJHn3  \n",
       "\n",
       "[78 rows x 4 columns]"
      ]
     },
     "execution_count": 11,
     "metadata": {},
     "output_type": "execute_result"
    }
   ],
   "source": [
    "# Are there duplicate texts in the train and test df\n",
    "test_df[test_df['text'].isin(train_df['text'])]"
   ]
  },
  {
   "cell_type": "markdown",
   "id": "40d54f83",
   "metadata": {
    "papermill": {
     "duration": 0.010673,
     "end_time": "2024-03-12T17:07:22.733874",
     "exception": false,
     "start_time": "2024-03-12T17:07:22.723201",
     "status": "completed"
    },
    "tags": []
   },
   "source": [
    "* Remove all duplicates that are in train and test df from train df.\n",
    "* Remove all duplicates that vary by target in train_df (keeping neither).\n",
    "* Since we have enough records we choose to remove rather than re-label.\n",
    "* Remove all duplicates that vary by location in train_df (keeping first - random)."
   ]
  },
  {
   "cell_type": "code",
   "execution_count": 12,
   "id": "4b433017",
   "metadata": {
    "execution": {
     "iopub.execute_input": "2024-03-12T17:07:22.758673Z",
     "iopub.status.busy": "2024-03-12T17:07:22.758154Z",
     "iopub.status.idle": "2024-03-12T17:07:22.770062Z",
     "shell.execute_reply": "2024-03-12T17:07:22.768284Z"
    },
    "papermill": {
     "duration": 0.027484,
     "end_time": "2024-03-12T17:07:22.772891",
     "exception": false,
     "start_time": "2024-03-12T17:07:22.745407",
     "status": "completed"
    },
    "tags": []
   },
   "outputs": [
    {
     "name": "stdout",
     "output_type": "stream",
     "text": [
      "Number of rows before: 7613\n",
      "Number of rows after: 7486\n"
     ]
    }
   ],
   "source": [
    "# Remove all duplicates that are in train and test df from train df.\n",
    "\n",
    "# Count of rows in test_df before dropping\n",
    "print(f\"Number of rows before: {train_df.shape[0]}\")\n",
    "\n",
    "# test_df rows with 'text' appearing in train_df\n",
    "rows_to_drop = train_df['text'].isin(test_df['text'])\n",
    "\n",
    "# Dropping these rows from test_df\n",
    "train_df = train_df[~rows_to_drop]\n",
    "\n",
    "# Count of rows in test_df after dropping\n",
    "print(f\"Number of rows after: {train_df.shape[0]}\")"
   ]
  },
  {
   "cell_type": "code",
   "execution_count": 13,
   "id": "5ada0734",
   "metadata": {
    "execution": {
     "iopub.execute_input": "2024-03-12T17:07:22.797585Z",
     "iopub.status.busy": "2024-03-12T17:07:22.796591Z",
     "iopub.status.idle": "2024-03-12T17:07:22.808440Z",
     "shell.execute_reply": "2024-03-12T17:07:22.806710Z"
    },
    "papermill": {
     "duration": 0.027037,
     "end_time": "2024-03-12T17:07:22.811179",
     "exception": false,
     "start_time": "2024-03-12T17:07:22.784142",
     "status": "completed"
    },
    "tags": []
   },
   "outputs": [
    {
     "name": "stdout",
     "output_type": "stream",
     "text": [
      "Number of rows before: 7486\n",
      "Number of rows after: 7483\n"
     ]
    }
   ],
   "source": [
    "# Remove all duplicates that vary by target in train_df (keeping neither).\n",
    "\n",
    "# Count of rows in train_df before dropping\n",
    "print(f\"Number of rows before: {train_df.shape[0]}\")\n",
    "\n",
    "# Dropping train_vary_target rows from train_df\n",
    "train_df = train_df[~train_df['text'].isin(train_vary_target['text'])]\n",
    "\n",
    "# Count of rows in test_df after dropping\n",
    "print(f\"Number of rows after: {train_df.shape[0]}\")"
   ]
  },
  {
   "cell_type": "code",
   "execution_count": 14,
   "id": "db253874",
   "metadata": {
    "execution": {
     "iopub.execute_input": "2024-03-12T17:07:22.835691Z",
     "iopub.status.busy": "2024-03-12T17:07:22.835156Z",
     "iopub.status.idle": "2024-03-12T17:07:22.847163Z",
     "shell.execute_reply": "2024-03-12T17:07:22.845931Z"
    },
    "papermill": {
     "duration": 0.028141,
     "end_time": "2024-03-12T17:07:22.850756",
     "exception": false,
     "start_time": "2024-03-12T17:07:22.822615",
     "status": "completed"
    },
    "tags": []
   },
   "outputs": [
    {
     "name": "stdout",
     "output_type": "stream",
     "text": [
      "Number of rows before: 7483\n",
      "Number of rows after: 7434\n"
     ]
    }
   ],
   "source": [
    "# Remove duplicates that vary by location in train_df (keeping first - random).\n",
    "\n",
    "# Count of rows in train_df before dropping\n",
    "print(f\"Number of rows before: {train_df.shape[0]}\")\n",
    "\n",
    "# Remove duplicates in the 'text' column, keeping the first occurrence\n",
    "train_df = train_df.drop_duplicates('text', keep='first')\n",
    "\n",
    "# Count of rows in test_df after dropping\n",
    "print(f\"Number of rows after: {train_df.shape[0]}\")"
   ]
  },
  {
   "cell_type": "code",
   "execution_count": 15,
   "id": "cc450daa",
   "metadata": {
    "execution": {
     "iopub.execute_input": "2024-03-12T17:07:22.876330Z",
     "iopub.status.busy": "2024-03-12T17:07:22.875057Z",
     "iopub.status.idle": "2024-03-12T17:07:22.881938Z",
     "shell.execute_reply": "2024-03-12T17:07:22.881119Z"
    },
    "papermill": {
     "duration": 0.02242,
     "end_time": "2024-03-12T17:07:22.884518",
     "exception": false,
     "start_time": "2024-03-12T17:07:22.862098",
     "status": "completed"
    },
    "tags": []
   },
   "outputs": [],
   "source": [
    "# Clean text\n",
    "def clean_text(text):\n",
    "    # Skip if not string\n",
    "    if not isinstance(text, str):\n",
    "        return text    \n",
    "    text = html.unescape(text)     # Convert HTML character codes\n",
    "    text = re.sub(r'https?://\\S+|www\\.\\S+', '', text)    # Remove URLs\n",
    "    # Remove if not letter, numbers, normal punctuation, spaces, @, #\n",
    "    text = re.sub(r'[^a-zA-Z0-9\\s,.?!#@]', '', text)\n",
    "    text = re.sub(r'\\s+', ' ', text).strip()     # Remove extra spaces\n",
    "    return text"
   ]
  },
  {
   "cell_type": "code",
   "execution_count": 16,
   "id": "9cd8ee24",
   "metadata": {
    "execution": {
     "iopub.execute_input": "2024-03-12T17:07:22.909687Z",
     "iopub.status.busy": "2024-03-12T17:07:22.908826Z",
     "iopub.status.idle": "2024-03-12T17:07:23.611836Z",
     "shell.execute_reply": "2024-03-12T17:07:23.610666Z"
    },
    "papermill": {
     "duration": 0.719079,
     "end_time": "2024-03-12T17:07:23.614944",
     "exception": false,
     "start_time": "2024-03-12T17:07:22.895865",
     "status": "completed"
    },
    "tags": []
   },
   "outputs": [],
   "source": [
    "# Text\n",
    "train_df['text_clean'] = train_df['text'].apply(clean_text)\n",
    "test_df['text_clean'] = test_df['text'].apply(clean_text)\n",
    "\n",
    "# Location\n",
    "train_df['location'] = train_df['location'].fillna('Unknown') # Fill NaNs\n",
    "test_df['location'] = test_df['location'].fillna('Unknown') # Fill NaNs\n",
    "train_df['location_clean'] = train_df['location'].apply(clean_text)\n",
    "test_df['location_clean'] = test_df['location'].apply(clean_text)\n",
    "\n",
    "# Combining (adding location context to text)\n",
    "train_df['text_location'] = train_df.apply(\n",
    "    lambda row: f\"Location: {row['location']}. Tweet: {row['text']}\", axis=1)\n",
    "test_df['text_location'] = test_df.apply(\n",
    "    lambda row: f\"Location: {row['location']}. Tweet: {row['text']}\", axis=1)\n",
    "\n",
    "# Combining clean (adding location context to text)\n",
    "train_df['text_location_clean'] = train_df.apply(\n",
    "    lambda row: f\"Location: {row['location_clean']}. Tweet: {row['text_clean']}\", axis=1)\n",
    "test_df['text_location_clean'] = test_df.apply(\n",
    "    lambda row: f\"Location: {row['location_clean']}. Tweet: {row['text_clean']}\", axis=1)\n",
    "\n",
    "# Class\n",
    "train_df['class'] = train_df['target'].apply(lambda x: 'yes' if x == 1 else 'no')"
   ]
  },
  {
   "cell_type": "code",
   "execution_count": 17,
   "id": "0e569805",
   "metadata": {
    "execution": {
     "iopub.execute_input": "2024-03-12T17:07:23.639788Z",
     "iopub.status.busy": "2024-03-12T17:07:23.638965Z",
     "iopub.status.idle": "2024-03-12T17:07:23.645254Z",
     "shell.execute_reply": "2024-03-12T17:07:23.644402Z"
    },
    "papermill": {
     "duration": 0.021264,
     "end_time": "2024-03-12T17:07:23.647597",
     "exception": false,
     "start_time": "2024-03-12T17:07:23.626333",
     "status": "completed"
    },
    "tags": []
   },
   "outputs": [],
   "source": [
    "# gemma it chat template\n",
    "# chat = [\n",
    "#     { \"role\": \"user\", \"content\": \"Write a hello world program\" },\n",
    "# ]\n",
    "\n",
    "# <bos><start_of_turn>user\n",
    "# Write a hello world program<end_of_turn>\n",
    "# <start_of_turn>model\n",
    "\n",
    "# Add prompt field\n",
    "def generate_prompt(X, text):\n",
    "    return f\"\"\"<bos><start_of_turn>user\n",
    "Identify if the folowing Tweet is part of a thread discussing a disaster (yes/ no):\n",
    "[ {X[text]} ] <end_of_turn>\n",
    "<start_of_turn>model\n",
    "{X['class']}\"\"\"\n",
    "\n",
    "def generate_test_prompt(X, text):\n",
    "    return f\"\"\"<bos><start_of_turn>user\n",
    "Identify if the folowing Tweet is part of a thread discussing a disaster (yes/ no):\n",
    "[ {X[text]} ] <end_of_turn>\n",
    "<start_of_turn>model\n",
    "\"\"\""
   ]
  },
  {
   "cell_type": "code",
   "execution_count": 18,
   "id": "19457faf",
   "metadata": {
    "execution": {
     "iopub.execute_input": "2024-03-12T17:07:23.672549Z",
     "iopub.status.busy": "2024-03-12T17:07:23.671695Z",
     "iopub.status.idle": "2024-03-12T17:07:24.875560Z",
     "shell.execute_reply": "2024-03-12T17:07:24.874316Z"
    },
    "papermill": {
     "duration": 1.22064,
     "end_time": "2024-03-12T17:07:24.879368",
     "exception": false,
     "start_time": "2024-03-12T17:07:23.658728",
     "status": "completed"
    },
    "tags": []
   },
   "outputs": [
    {
     "data": {
      "text/html": [
       "<div>\n",
       "<style scoped>\n",
       "    .dataframe tbody tr th:only-of-type {\n",
       "        vertical-align: middle;\n",
       "    }\n",
       "\n",
       "    .dataframe tbody tr th {\n",
       "        vertical-align: top;\n",
       "    }\n",
       "\n",
       "    .dataframe thead th {\n",
       "        text-align: right;\n",
       "    }\n",
       "</style>\n",
       "<table border=\"1\" class=\"dataframe\">\n",
       "  <thead>\n",
       "    <tr style=\"text-align: right;\">\n",
       "      <th></th>\n",
       "      <th>id</th>\n",
       "      <th>keyword</th>\n",
       "      <th>location</th>\n",
       "      <th>text</th>\n",
       "      <th>target</th>\n",
       "      <th>text_clean</th>\n",
       "      <th>location_clean</th>\n",
       "      <th>text_location</th>\n",
       "      <th>text_location_clean</th>\n",
       "      <th>class</th>\n",
       "      <th>prompt_text</th>\n",
       "      <th>prompt_text_test</th>\n",
       "      <th>prompt_text_location</th>\n",
       "      <th>prompt_text_location_test</th>\n",
       "      <th>prompt_text_clean</th>\n",
       "      <th>prompt_text_clean_test</th>\n",
       "      <th>prompt_text_location_clean</th>\n",
       "      <th>prompt_text_location_clean_test</th>\n",
       "    </tr>\n",
       "  </thead>\n",
       "  <tbody>\n",
       "    <tr>\n",
       "      <th>5794</th>\n",
       "      <td>8267</td>\n",
       "      <td>rioting</td>\n",
       "      <td>Unknown</td>\n",
       "      <td>Still rioting in to Gmail...</td>\n",
       "      <td>0</td>\n",
       "      <td>Still rioting in to Gmail...</td>\n",
       "      <td>Unknown</td>\n",
       "      <td>Location: Unknown. Tweet: Still rioting in to Gmail...</td>\n",
       "      <td>Location: Unknown. Tweet: Still rioting in to Gmail...</td>\n",
       "      <td>no</td>\n",
       "      <td>&lt;bos&gt;&lt;start_of_turn&gt;user\\nIdentify if the folowing Tweet is part of a thread discussing a disaster (yes/ no):\\n[ Still rioting in to Gmail... ] &lt;end_of_turn&gt;\\n&lt;start_of_turn&gt;model\\nno</td>\n",
       "      <td>&lt;bos&gt;&lt;start_of_turn&gt;user\\nIdentify if the folowing Tweet is part of a thread discussing a disaster (yes/ no):\\n[ Still rioting in to Gmail... ] &lt;end_of_turn&gt;\\n&lt;start_of_turn&gt;model\\n</td>\n",
       "      <td>&lt;bos&gt;&lt;start_of_turn&gt;user\\nIdentify if the folowing Tweet is part of a thread discussing a disaster (yes/ no):\\n[ Location: Unknown. Tweet: Still rioting in to Gmail... ] &lt;end_of_turn&gt;\\n&lt;start_of_turn&gt;model\\nno</td>\n",
       "      <td>&lt;bos&gt;&lt;start_of_turn&gt;user\\nIdentify if the folowing Tweet is part of a thread discussing a disaster (yes/ no):\\n[ Location: Unknown. Tweet: Still rioting in to Gmail... ] &lt;end_of_turn&gt;\\n&lt;start_of_turn&gt;model\\n</td>\n",
       "      <td>&lt;bos&gt;&lt;start_of_turn&gt;user\\nIdentify if the folowing Tweet is part of a thread discussing a disaster (yes/ no):\\n[ Still rioting in to Gmail... ] &lt;end_of_turn&gt;\\n&lt;start_of_turn&gt;model\\nno</td>\n",
       "      <td>&lt;bos&gt;&lt;start_of_turn&gt;user\\nIdentify if the folowing Tweet is part of a thread discussing a disaster (yes/ no):\\n[ Still rioting in to Gmail... ] &lt;end_of_turn&gt;\\n&lt;start_of_turn&gt;model\\n</td>\n",
       "      <td>&lt;bos&gt;&lt;start_of_turn&gt;user\\nIdentify if the folowing Tweet is part of a thread discussing a disaster (yes/ no):\\n[ Location: Unknown. Tweet: Still rioting in to Gmail... ] &lt;end_of_turn&gt;\\n&lt;start_of_turn&gt;model\\nno</td>\n",
       "      <td>&lt;bos&gt;&lt;start_of_turn&gt;user\\nIdentify if the folowing Tweet is part of a thread discussing a disaster (yes/ no):\\n[ Location: Unknown. Tweet: Still rioting in to Gmail... ] &lt;end_of_turn&gt;\\n&lt;start_of_turn&gt;model\\n</td>\n",
       "    </tr>\n",
       "    <tr>\n",
       "      <th>1118</th>\n",
       "      <td>1613</td>\n",
       "      <td>bombed</td>\n",
       "      <td>Unknown</td>\n",
       "      <td>@r_lauren83199 @xojademarie124 i hope you get Batista Bombed lauren</td>\n",
       "      <td>0</td>\n",
       "      <td>@rlauren83199 @xojademarie124 i hope you get Batista Bombed lauren</td>\n",
       "      <td>Unknown</td>\n",
       "      <td>Location: Unknown. Tweet: @r_lauren83199 @xojademarie124 i hope you get Batista Bombed lauren</td>\n",
       "      <td>Location: Unknown. Tweet: @rlauren83199 @xojademarie124 i hope you get Batista Bombed lauren</td>\n",
       "      <td>no</td>\n",
       "      <td>&lt;bos&gt;&lt;start_of_turn&gt;user\\nIdentify if the folowing Tweet is part of a thread discussing a disaster (yes/ no):\\n[ @r_lauren83199 @xojademarie124 i hope you get Batista Bombed lauren ] &lt;end_of_turn&gt;\\n&lt;start_of_turn&gt;model\\nno</td>\n",
       "      <td>&lt;bos&gt;&lt;start_of_turn&gt;user\\nIdentify if the folowing Tweet is part of a thread discussing a disaster (yes/ no):\\n[ @r_lauren83199 @xojademarie124 i hope you get Batista Bombed lauren ] &lt;end_of_turn&gt;\\n&lt;start_of_turn&gt;model\\n</td>\n",
       "      <td>&lt;bos&gt;&lt;start_of_turn&gt;user\\nIdentify if the folowing Tweet is part of a thread discussing a disaster (yes/ no):\\n[ Location: Unknown. Tweet: @r_lauren83199 @xojademarie124 i hope you get Batista Bombed lauren ] &lt;end_of_turn&gt;\\n&lt;start_of_turn&gt;model\\nno</td>\n",
       "      <td>&lt;bos&gt;&lt;start_of_turn&gt;user\\nIdentify if the folowing Tweet is part of a thread discussing a disaster (yes/ no):\\n[ Location: Unknown. Tweet: @r_lauren83199 @xojademarie124 i hope you get Batista Bombed lauren ] &lt;end_of_turn&gt;\\n&lt;start_of_turn&gt;model\\n</td>\n",
       "      <td>&lt;bos&gt;&lt;start_of_turn&gt;user\\nIdentify if the folowing Tweet is part of a thread discussing a disaster (yes/ no):\\n[ @rlauren83199 @xojademarie124 i hope you get Batista Bombed lauren ] &lt;end_of_turn&gt;\\n&lt;start_of_turn&gt;model\\nno</td>\n",
       "      <td>&lt;bos&gt;&lt;start_of_turn&gt;user\\nIdentify if the folowing Tweet is part of a thread discussing a disaster (yes/ no):\\n[ @rlauren83199 @xojademarie124 i hope you get Batista Bombed lauren ] &lt;end_of_turn&gt;\\n&lt;start_of_turn&gt;model\\n</td>\n",
       "      <td>&lt;bos&gt;&lt;start_of_turn&gt;user\\nIdentify if the folowing Tweet is part of a thread discussing a disaster (yes/ no):\\n[ Location: Unknown. Tweet: @rlauren83199 @xojademarie124 i hope you get Batista Bombed lauren ] &lt;end_of_turn&gt;\\n&lt;start_of_turn&gt;model\\nno</td>\n",
       "      <td>&lt;bos&gt;&lt;start_of_turn&gt;user\\nIdentify if the folowing Tweet is part of a thread discussing a disaster (yes/ no):\\n[ Location: Unknown. Tweet: @rlauren83199 @xojademarie124 i hope you get Batista Bombed lauren ] &lt;end_of_turn&gt;\\n&lt;start_of_turn&gt;model\\n</td>\n",
       "    </tr>\n",
       "    <tr>\n",
       "      <th>248</th>\n",
       "      <td>353</td>\n",
       "      <td>annihilation</td>\n",
       "      <td>Subconscious LA</td>\n",
       "      <td>World Annihilation vs Self Transformation http://t.co/pyehwodWun Aliens Attack to Exterminate Humans http://t.co/pB2N77nSKz</td>\n",
       "      <td>0</td>\n",
       "      <td>World Annihilation vs Self Transformation Aliens Attack to Exterminate Humans</td>\n",
       "      <td>Subconscious LA</td>\n",
       "      <td>Location: Subconscious LA. Tweet: World Annihilation vs Self Transformation http://t.co/pyehwodWun Aliens Attack to Exterminate Humans http://t.co/pB2N77nSKz</td>\n",
       "      <td>Location: Subconscious LA. Tweet: World Annihilation vs Self Transformation Aliens Attack to Exterminate Humans</td>\n",
       "      <td>no</td>\n",
       "      <td>&lt;bos&gt;&lt;start_of_turn&gt;user\\nIdentify if the folowing Tweet is part of a thread discussing a disaster (yes/ no):\\n[ World Annihilation vs Self Transformation http://t.co/pyehwodWun Aliens Attack to Exterminate Humans http://t.co/pB2N77nSKz ] &lt;end_of_turn&gt;\\n&lt;start_of_turn&gt;model\\nno</td>\n",
       "      <td>&lt;bos&gt;&lt;start_of_turn&gt;user\\nIdentify if the folowing Tweet is part of a thread discussing a disaster (yes/ no):\\n[ World Annihilation vs Self Transformation http://t.co/pyehwodWun Aliens Attack to Exterminate Humans http://t.co/pB2N77nSKz ] &lt;end_of_turn&gt;\\n&lt;start_of_turn&gt;model\\n</td>\n",
       "      <td>&lt;bos&gt;&lt;start_of_turn&gt;user\\nIdentify if the folowing Tweet is part of a thread discussing a disaster (yes/ no):\\n[ Location: Subconscious LA. Tweet: World Annihilation vs Self Transformation http://t.co/pyehwodWun Aliens Attack to Exterminate Humans http://t.co/pB2N77nSKz ] &lt;end_of_turn&gt;\\n&lt;start_of_turn&gt;model\\nno</td>\n",
       "      <td>&lt;bos&gt;&lt;start_of_turn&gt;user\\nIdentify if the folowing Tweet is part of a thread discussing a disaster (yes/ no):\\n[ Location: Subconscious LA. Tweet: World Annihilation vs Self Transformation http://t.co/pyehwodWun Aliens Attack to Exterminate Humans http://t.co/pB2N77nSKz ] &lt;end_of_turn&gt;\\n&lt;start_of_turn&gt;model\\n</td>\n",
       "      <td>&lt;bos&gt;&lt;start_of_turn&gt;user\\nIdentify if the folowing Tweet is part of a thread discussing a disaster (yes/ no):\\n[ World Annihilation vs Self Transformation Aliens Attack to Exterminate Humans ] &lt;end_of_turn&gt;\\n&lt;start_of_turn&gt;model\\nno</td>\n",
       "      <td>&lt;bos&gt;&lt;start_of_turn&gt;user\\nIdentify if the folowing Tweet is part of a thread discussing a disaster (yes/ no):\\n[ World Annihilation vs Self Transformation Aliens Attack to Exterminate Humans ] &lt;end_of_turn&gt;\\n&lt;start_of_turn&gt;model\\n</td>\n",
       "      <td>&lt;bos&gt;&lt;start_of_turn&gt;user\\nIdentify if the folowing Tweet is part of a thread discussing a disaster (yes/ no):\\n[ Location: Subconscious LA. Tweet: World Annihilation vs Self Transformation Aliens Attack to Exterminate Humans ] &lt;end_of_turn&gt;\\n&lt;start_of_turn&gt;model\\nno</td>\n",
       "      <td>&lt;bos&gt;&lt;start_of_turn&gt;user\\nIdentify if the folowing Tweet is part of a thread discussing a disaster (yes/ no):\\n[ Location: Subconscious LA. Tweet: World Annihilation vs Self Transformation Aliens Attack to Exterminate Humans ] &lt;end_of_turn&gt;\\n&lt;start_of_turn&gt;model\\n</td>\n",
       "    </tr>\n",
       "  </tbody>\n",
       "</table>\n",
       "</div>"
      ],
      "text/plain": [
       "        id       keyword         location  \\\n",
       "5794  8267       rioting          Unknown   \n",
       "1118  1613        bombed          Unknown   \n",
       "248    353  annihilation  Subconscious LA   \n",
       "\n",
       "                                                                                                                             text  \\\n",
       "5794                                                                                                 Still rioting in to Gmail...   \n",
       "1118                                                          @r_lauren83199 @xojademarie124 i hope you get Batista Bombed lauren   \n",
       "248   World Annihilation vs Self Transformation http://t.co/pyehwodWun Aliens Attack to Exterminate Humans http://t.co/pB2N77nSKz   \n",
       "\n",
       "      target  \\\n",
       "5794       0   \n",
       "1118       0   \n",
       "248        0   \n",
       "\n",
       "                                                                         text_clean  \\\n",
       "5794                                                   Still rioting in to Gmail...   \n",
       "1118             @rlauren83199 @xojademarie124 i hope you get Batista Bombed lauren   \n",
       "248   World Annihilation vs Self Transformation Aliens Attack to Exterminate Humans   \n",
       "\n",
       "       location_clean  \\\n",
       "5794          Unknown   \n",
       "1118          Unknown   \n",
       "248   Subconscious LA   \n",
       "\n",
       "                                                                                                                                                      text_location  \\\n",
       "5794                                                                                                         Location: Unknown. Tweet: Still rioting in to Gmail...   \n",
       "1118                                                                  Location: Unknown. Tweet: @r_lauren83199 @xojademarie124 i hope you get Batista Bombed lauren   \n",
       "248   Location: Subconscious LA. Tweet: World Annihilation vs Self Transformation http://t.co/pyehwodWun Aliens Attack to Exterminate Humans http://t.co/pB2N77nSKz   \n",
       "\n",
       "                                                                                                  text_location_clean  \\\n",
       "5794                                                           Location: Unknown. Tweet: Still rioting in to Gmail...   \n",
       "1118                     Location: Unknown. Tweet: @rlauren83199 @xojademarie124 i hope you get Batista Bombed lauren   \n",
       "248   Location: Subconscious LA. Tweet: World Annihilation vs Self Transformation Aliens Attack to Exterminate Humans   \n",
       "\n",
       "     class  \\\n",
       "5794    no   \n",
       "1118    no   \n",
       "248     no   \n",
       "\n",
       "                                                                                                                                                                                                                                                                                 prompt_text  \\\n",
       "5794                                                                                                 <bos><start_of_turn>user\\nIdentify if the folowing Tweet is part of a thread discussing a disaster (yes/ no):\\n[ Still rioting in to Gmail... ] <end_of_turn>\\n<start_of_turn>model\\nno   \n",
       "1118                                                          <bos><start_of_turn>user\\nIdentify if the folowing Tweet is part of a thread discussing a disaster (yes/ no):\\n[ @r_lauren83199 @xojademarie124 i hope you get Batista Bombed lauren ] <end_of_turn>\\n<start_of_turn>model\\nno   \n",
       "248   <bos><start_of_turn>user\\nIdentify if the folowing Tweet is part of a thread discussing a disaster (yes/ no):\\n[ World Annihilation vs Self Transformation http://t.co/pyehwodWun Aliens Attack to Exterminate Humans http://t.co/pB2N77nSKz ] <end_of_turn>\\n<start_of_turn>model\\nno   \n",
       "\n",
       "                                                                                                                                                                                                                                                                          prompt_text_test  \\\n",
       "5794                                                                                                 <bos><start_of_turn>user\\nIdentify if the folowing Tweet is part of a thread discussing a disaster (yes/ no):\\n[ Still rioting in to Gmail... ] <end_of_turn>\\n<start_of_turn>model\\n   \n",
       "1118                                                          <bos><start_of_turn>user\\nIdentify if the folowing Tweet is part of a thread discussing a disaster (yes/ no):\\n[ @r_lauren83199 @xojademarie124 i hope you get Batista Bombed lauren ] <end_of_turn>\\n<start_of_turn>model\\n   \n",
       "248   <bos><start_of_turn>user\\nIdentify if the folowing Tweet is part of a thread discussing a disaster (yes/ no):\\n[ World Annihilation vs Self Transformation http://t.co/pyehwodWun Aliens Attack to Exterminate Humans http://t.co/pB2N77nSKz ] <end_of_turn>\\n<start_of_turn>model\\n   \n",
       "\n",
       "                                                                                                                                                                                                                                                                                                          prompt_text_location  \\\n",
       "5794                                                                                                         <bos><start_of_turn>user\\nIdentify if the folowing Tweet is part of a thread discussing a disaster (yes/ no):\\n[ Location: Unknown. Tweet: Still rioting in to Gmail... ] <end_of_turn>\\n<start_of_turn>model\\nno   \n",
       "1118                                                                  <bos><start_of_turn>user\\nIdentify if the folowing Tweet is part of a thread discussing a disaster (yes/ no):\\n[ Location: Unknown. Tweet: @r_lauren83199 @xojademarie124 i hope you get Batista Bombed lauren ] <end_of_turn>\\n<start_of_turn>model\\nno   \n",
       "248   <bos><start_of_turn>user\\nIdentify if the folowing Tweet is part of a thread discussing a disaster (yes/ no):\\n[ Location: Subconscious LA. Tweet: World Annihilation vs Self Transformation http://t.co/pyehwodWun Aliens Attack to Exterminate Humans http://t.co/pB2N77nSKz ] <end_of_turn>\\n<start_of_turn>model\\nno   \n",
       "\n",
       "                                                                                                                                                                                                                                                                                                   prompt_text_location_test  \\\n",
       "5794                                                                                                         <bos><start_of_turn>user\\nIdentify if the folowing Tweet is part of a thread discussing a disaster (yes/ no):\\n[ Location: Unknown. Tweet: Still rioting in to Gmail... ] <end_of_turn>\\n<start_of_turn>model\\n   \n",
       "1118                                                                  <bos><start_of_turn>user\\nIdentify if the folowing Tweet is part of a thread discussing a disaster (yes/ no):\\n[ Location: Unknown. Tweet: @r_lauren83199 @xojademarie124 i hope you get Batista Bombed lauren ] <end_of_turn>\\n<start_of_turn>model\\n   \n",
       "248   <bos><start_of_turn>user\\nIdentify if the folowing Tweet is part of a thread discussing a disaster (yes/ no):\\n[ Location: Subconscious LA. Tweet: World Annihilation vs Self Transformation http://t.co/pyehwodWun Aliens Attack to Exterminate Humans http://t.co/pB2N77nSKz ] <end_of_turn>\\n<start_of_turn>model\\n   \n",
       "\n",
       "                                                                                                                                                                                                                             prompt_text_clean  \\\n",
       "5794                                                   <bos><start_of_turn>user\\nIdentify if the folowing Tweet is part of a thread discussing a disaster (yes/ no):\\n[ Still rioting in to Gmail... ] <end_of_turn>\\n<start_of_turn>model\\nno   \n",
       "1118             <bos><start_of_turn>user\\nIdentify if the folowing Tweet is part of a thread discussing a disaster (yes/ no):\\n[ @rlauren83199 @xojademarie124 i hope you get Batista Bombed lauren ] <end_of_turn>\\n<start_of_turn>model\\nno   \n",
       "248   <bos><start_of_turn>user\\nIdentify if the folowing Tweet is part of a thread discussing a disaster (yes/ no):\\n[ World Annihilation vs Self Transformation Aliens Attack to Exterminate Humans ] <end_of_turn>\\n<start_of_turn>model\\nno   \n",
       "\n",
       "                                                                                                                                                                                                                      prompt_text_clean_test  \\\n",
       "5794                                                   <bos><start_of_turn>user\\nIdentify if the folowing Tweet is part of a thread discussing a disaster (yes/ no):\\n[ Still rioting in to Gmail... ] <end_of_turn>\\n<start_of_turn>model\\n   \n",
       "1118             <bos><start_of_turn>user\\nIdentify if the folowing Tweet is part of a thread discussing a disaster (yes/ no):\\n[ @rlauren83199 @xojademarie124 i hope you get Batista Bombed lauren ] <end_of_turn>\\n<start_of_turn>model\\n   \n",
       "248   <bos><start_of_turn>user\\nIdentify if the folowing Tweet is part of a thread discussing a disaster (yes/ no):\\n[ World Annihilation vs Self Transformation Aliens Attack to Exterminate Humans ] <end_of_turn>\\n<start_of_turn>model\\n   \n",
       "\n",
       "                                                                                                                                                                                                                                                      prompt_text_location_clean  \\\n",
       "5794                                                           <bos><start_of_turn>user\\nIdentify if the folowing Tweet is part of a thread discussing a disaster (yes/ no):\\n[ Location: Unknown. Tweet: Still rioting in to Gmail... ] <end_of_turn>\\n<start_of_turn>model\\nno   \n",
       "1118                     <bos><start_of_turn>user\\nIdentify if the folowing Tweet is part of a thread discussing a disaster (yes/ no):\\n[ Location: Unknown. Tweet: @rlauren83199 @xojademarie124 i hope you get Batista Bombed lauren ] <end_of_turn>\\n<start_of_turn>model\\nno   \n",
       "248   <bos><start_of_turn>user\\nIdentify if the folowing Tweet is part of a thread discussing a disaster (yes/ no):\\n[ Location: Subconscious LA. Tweet: World Annihilation vs Self Transformation Aliens Attack to Exterminate Humans ] <end_of_turn>\\n<start_of_turn>model\\nno   \n",
       "\n",
       "                                                                                                                                                                                                                                               prompt_text_location_clean_test  \n",
       "5794                                                           <bos><start_of_turn>user\\nIdentify if the folowing Tweet is part of a thread discussing a disaster (yes/ no):\\n[ Location: Unknown. Tweet: Still rioting in to Gmail... ] <end_of_turn>\\n<start_of_turn>model\\n  \n",
       "1118                     <bos><start_of_turn>user\\nIdentify if the folowing Tweet is part of a thread discussing a disaster (yes/ no):\\n[ Location: Unknown. Tweet: @rlauren83199 @xojademarie124 i hope you get Batista Bombed lauren ] <end_of_turn>\\n<start_of_turn>model\\n  \n",
       "248   <bos><start_of_turn>user\\nIdentify if the folowing Tweet is part of a thread discussing a disaster (yes/ no):\\n[ Location: Subconscious LA. Tweet: World Annihilation vs Self Transformation Aliens Attack to Exterminate Humans ] <end_of_turn>\\n<start_of_turn>model\\n  "
      ]
     },
     "execution_count": 18,
     "metadata": {},
     "output_type": "execute_result"
    }
   ],
   "source": [
    "# Train -----------------------------------------------------------------\n",
    "\n",
    "# Text\n",
    "train_df['prompt_text'] = train_df.apply(lambda row: generate_prompt(row, 'text'), axis=1)\n",
    "# Text test\n",
    "train_df['prompt_text_test'] = train_df.apply(lambda row: generate_test_prompt(row, 'text'), axis=1)\n",
    "# Text and location\n",
    "train_df['prompt_text_location'] = train_df.apply(lambda row: generate_prompt(row, 'text_location'), axis=1)\n",
    "# Text and location test\n",
    "train_df['prompt_text_location_test'] = train_df.apply(lambda row: generate_test_prompt(row, 'text_location'), axis=1)\n",
    "# Text clean\n",
    "train_df['prompt_text_clean'] = train_df.apply(lambda row: generate_prompt(row, 'text_clean'), axis=1)\n",
    "# Text clean test\n",
    "train_df['prompt_text_clean_test'] = train_df.apply(lambda row: generate_test_prompt(row, 'text_clean'), axis=1)\n",
    "# Text location clean\n",
    "train_df['prompt_text_location_clean'] = train_df.apply(lambda row: generate_prompt(row, 'text_location_clean'), axis=1)\n",
    "# Text location clean test\n",
    "train_df['prompt_text_location_clean_test'] = train_df.apply(lambda row: generate_test_prompt(row, 'text_location_clean'), axis=1)\n",
    "\n",
    "# Test ------------------------------------------------------------------\n",
    "\n",
    "# Text test\n",
    "test_df['prompt_text_test'] = test_df.apply(lambda row: generate_test_prompt(row, 'text'), axis=1)\n",
    "# Text and location test\n",
    "test_df['prompt_text_location_test'] = test_df.apply(lambda row: generate_test_prompt(row, 'text_location'), axis=1)\n",
    "# Text clean test\n",
    "test_df['prompt_text_clean_test'] = test_df.apply(lambda row: generate_test_prompt(row, 'text_clean'), axis=1)\n",
    "# Text location clean test\n",
    "test_df['prompt_text_location_clean_test'] = test_df.apply(lambda row: generate_test_prompt(row, 'text_location_clean'), axis=1)\n",
    "\n",
    "train_df.sample(3)"
   ]
  },
  {
   "cell_type": "code",
   "execution_count": 19,
   "id": "77963271",
   "metadata": {
    "execution": {
     "iopub.execute_input": "2024-03-12T17:07:24.905342Z",
     "iopub.status.busy": "2024-03-12T17:07:24.904499Z",
     "iopub.status.idle": "2024-03-12T17:07:26.165162Z",
     "shell.execute_reply": "2024-03-12T17:07:26.163890Z"
    },
    "papermill": {
     "duration": 1.27737,
     "end_time": "2024-03-12T17:07:26.168402",
     "exception": false,
     "start_time": "2024-03-12T17:07:24.891032",
     "status": "completed"
    },
    "tags": []
   },
   "outputs": [],
   "source": [
    "# Save files\n",
    "train_df.to_csv('disaster_train.csv', index=False)\n",
    "test_df.to_csv('disaster_test.csv', index=False)\n",
    "submission_df.to_csv('disaster_submission.csv', index=False)"
   ]
  },
  {
   "cell_type": "code",
   "execution_count": null,
   "id": "585a36f5",
   "metadata": {
    "papermill": {
     "duration": 0.011387,
     "end_time": "2024-03-12T17:07:26.191763",
     "exception": false,
     "start_time": "2024-03-12T17:07:26.180376",
     "status": "completed"
    },
    "tags": []
   },
   "outputs": [],
   "source": []
  }
 ],
 "metadata": {
  "kaggle": {
   "accelerator": "none",
   "dataSources": [
    {
     "databundleVersionId": 869809,
     "sourceId": 17777,
     "sourceType": "competition"
    }
   ],
   "dockerImageVersionId": 30664,
   "isGpuEnabled": false,
   "isInternetEnabled": true,
   "language": "python",
   "sourceType": "notebook"
  },
  "kernelspec": {
   "display_name": "Python 3",
   "language": "python",
   "name": "python3"
  },
  "language_info": {
   "codemirror_mode": {
    "name": "ipython",
    "version": 3
   },
   "file_extension": ".py",
   "mimetype": "text/x-python",
   "name": "python",
   "nbconvert_exporter": "python",
   "pygments_lexer": "ipython3",
   "version": "3.10.13"
  },
  "papermill": {
   "default_parameters": {},
   "duration": 9.095753,
   "end_time": "2024-03-12T17:07:26.928437",
   "environment_variables": {},
   "exception": null,
   "input_path": "__notebook__.ipynb",
   "output_path": "__notebook__.ipynb",
   "parameters": {},
   "start_time": "2024-03-12T17:07:17.832684",
   "version": "2.5.0"
  }
 },
 "nbformat": 4,
 "nbformat_minor": 5
}
