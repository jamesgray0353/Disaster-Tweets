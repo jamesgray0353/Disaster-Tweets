{
 "cells": [
  {
   "cell_type": "markdown",
   "id": "3c62d061",
   "metadata": {
    "papermill": {
     "duration": 0.009313,
     "end_time": "2024-03-12T13:42:19.495048",
     "exception": false,
     "start_time": "2024-03-12T13:42:19.485735",
     "status": "completed"
    },
    "tags": []
   },
   "source": [
    "# Evaluating gemma-7b-it for text classification\n",
    "## Task: Identify if a tweet is about a \"disaster\""
   ]
  },
  {
   "cell_type": "markdown",
   "id": "b3d4b228",
   "metadata": {
    "papermill": {
     "duration": 0.008017,
     "end_time": "2024-03-12T13:42:19.511651",
     "exception": false,
     "start_time": "2024-03-12T13:42:19.503634",
     "status": "completed"
    },
    "tags": []
   },
   "source": [
    "### EDA and Preprocessing"
   ]
  },
  {
   "cell_type": "code",
   "execution_count": 1,
   "id": "b6d94375",
   "metadata": {
    "_cell_guid": "b1076dfc-b9ad-4769-8c92-a6c4dae69d19",
    "_uuid": "8f2839f25d086af736a60e9eeb907d3b93b6e0e5",
    "execution": {
     "iopub.execute_input": "2024-03-12T13:42:19.533474Z",
     "iopub.status.busy": "2024-03-12T13:42:19.531594Z",
     "iopub.status.idle": "2024-03-12T13:42:20.616681Z",
     "shell.execute_reply": "2024-03-12T13:42:20.613448Z"
    },
    "papermill": {
     "duration": 1.098948,
     "end_time": "2024-03-12T13:42:20.620007",
     "exception": false,
     "start_time": "2024-03-12T13:42:19.521059",
     "status": "completed"
    },
    "tags": []
   },
   "outputs": [
    {
     "name": "stdout",
     "output_type": "stream",
     "text": [
      "/kaggle/input/nlp-getting-started/sample_submission.csv\n",
      "/kaggle/input/nlp-getting-started/train.csv\n",
      "/kaggle/input/nlp-getting-started/test.csv\n"
     ]
    }
   ],
   "source": [
    "# This Python 3 environment comes with many helpful analytics libraries installed\n",
    "# It is defined by the kaggle/python Docker image: https://github.com/kaggle/docker-python\n",
    "# For example, here's several helpful packages to load\n",
    "\n",
    "import numpy as np # linear algebra\n",
    "import pandas as pd # data processing, CSV file I/O (e.g. pd.read_csv)\n",
    "pd.set_option('display.max_colwidth', None)\n",
    "\n",
    "# Input data files are available in the read-only \"../input/\" directory\n",
    "# For example, running this (by clicking run or pressing Shift+Enter) will list all files under the input directory\n",
    "\n",
    "import os\n",
    "for dirname, _, filenames in os.walk('/kaggle/input'):\n",
    "    for filename in filenames:\n",
    "        print(os.path.join(dirname, filename))\n",
    "\n",
    "# You can write up to 20GB to the current directory (/kaggle/working/) that gets preserved as output when you create a version using \"Save & Run All\" \n",
    "# You can also write temporary files to /kaggle/temp/, but they won't be saved outside of the current session\n",
    "\n",
    "# Additional\n",
    "import re\n",
    "import html"
   ]
  },
  {
   "cell_type": "code",
   "execution_count": 2,
   "id": "75335c9a",
   "metadata": {
    "execution": {
     "iopub.execute_input": "2024-03-12T13:42:20.639841Z",
     "iopub.status.busy": "2024-03-12T13:42:20.639140Z",
     "iopub.status.idle": "2024-03-12T13:42:20.736531Z",
     "shell.execute_reply": "2024-03-12T13:42:20.735222Z"
    },
    "papermill": {
     "duration": 0.111299,
     "end_time": "2024-03-12T13:42:20.740137",
     "exception": false,
     "start_time": "2024-03-12T13:42:20.628838",
     "status": "completed"
    },
    "tags": []
   },
   "outputs": [],
   "source": [
    "# Read data\n",
    "submission_path = '/kaggle/input/nlp-getting-started/sample_submission.csv'\n",
    "train_path = '/kaggle/input/nlp-getting-started/train.csv'\n",
    "test_path = '/kaggle/input/nlp-getting-started/test.csv'\n",
    "\n",
    "submission_df = pd.read_csv(submission_path)\n",
    "train_df = pd.read_csv(train_path)\n",
    "test_df = pd.read_csv(test_path)"
   ]
  },
  {
   "cell_type": "code",
   "execution_count": 3,
   "id": "986e934e",
   "metadata": {
    "execution": {
     "iopub.execute_input": "2024-03-12T13:42:20.760419Z",
     "iopub.status.busy": "2024-03-12T13:42:20.759249Z",
     "iopub.status.idle": "2024-03-12T13:42:20.786460Z",
     "shell.execute_reply": "2024-03-12T13:42:20.785126Z"
    },
    "papermill": {
     "duration": 0.040578,
     "end_time": "2024-03-12T13:42:20.789462",
     "exception": false,
     "start_time": "2024-03-12T13:42:20.748884",
     "status": "completed"
    },
    "tags": []
   },
   "outputs": [
    {
     "name": "stdout",
     "output_type": "stream",
     "text": [
      "train\n",
      "(7613, 5)\n",
      "['id', 'keyword', 'location', 'text', 'target']\n",
      "target\n",
      "0    0.57034\n",
      "1    0.42966\n",
      "Name: proportion, dtype: float64\n",
      "\n",
      "test\n",
      "(3263, 4)\n",
      "['id', 'keyword', 'location', 'text']\n",
      "target\n",
      "0    0.57034\n",
      "1    0.42966\n",
      "Name: proportion, dtype: float64\n"
     ]
    }
   ],
   "source": [
    "# Describe\n",
    "print(\"train\")\n",
    "print(train_df.shape)\n",
    "print(train_df.columns.tolist())\n",
    "print(train_df.target.value_counts(normalize = True))\n",
    "\n",
    "print(\"\\ntest\")\n",
    "print(test_df.shape)\n",
    "print(test_df.columns.tolist())\n",
    "print(train_df.target.value_counts(normalize = True))"
   ]
  },
  {
   "cell_type": "code",
   "execution_count": 4,
   "id": "fbf303e7",
   "metadata": {
    "execution": {
     "iopub.execute_input": "2024-03-12T13:42:20.810325Z",
     "iopub.status.busy": "2024-03-12T13:42:20.808803Z",
     "iopub.status.idle": "2024-03-12T13:42:20.836374Z",
     "shell.execute_reply": "2024-03-12T13:42:20.835128Z"
    },
    "papermill": {
     "duration": 0.040772,
     "end_time": "2024-03-12T13:42:20.839174",
     "exception": false,
     "start_time": "2024-03-12T13:42:20.798402",
     "status": "completed"
    },
    "tags": []
   },
   "outputs": [
    {
     "data": {
      "text/html": [
       "<div>\n",
       "<style scoped>\n",
       "    .dataframe tbody tr th:only-of-type {\n",
       "        vertical-align: middle;\n",
       "    }\n",
       "\n",
       "    .dataframe tbody tr th {\n",
       "        vertical-align: top;\n",
       "    }\n",
       "\n",
       "    .dataframe thead th {\n",
       "        text-align: right;\n",
       "    }\n",
       "</style>\n",
       "<table border=\"1\" class=\"dataframe\">\n",
       "  <thead>\n",
       "    <tr style=\"text-align: right;\">\n",
       "      <th></th>\n",
       "      <th>id</th>\n",
       "      <th>keyword</th>\n",
       "      <th>location</th>\n",
       "      <th>text</th>\n",
       "      <th>target</th>\n",
       "    </tr>\n",
       "  </thead>\n",
       "  <tbody>\n",
       "    <tr>\n",
       "      <th>5358</th>\n",
       "      <td>7647</td>\n",
       "      <td>panic</td>\n",
       "      <td>Leeds, United Kingdom</td>\n",
       "      <td>Obligatory middle of the night panic attack</td>\n",
       "      <td>0</td>\n",
       "    </tr>\n",
       "    <tr>\n",
       "      <th>7220</th>\n",
       "      <td>10339</td>\n",
       "      <td>weapons</td>\n",
       "      <td>Houston, TX</td>\n",
       "      <td>I'm sorry but if you have to resort to weapons to settle something you're a pussy win or lose take your shit like a man &amp;amp; leave it at that</td>\n",
       "      <td>1</td>\n",
       "    </tr>\n",
       "    <tr>\n",
       "      <th>4063</th>\n",
       "      <td>5775</td>\n",
       "      <td>forest%20fires</td>\n",
       "      <td>NaN</td>\n",
       "      <td>U.S. Forest Service says spending more than half of budget on fires http://t.co/1hLVrKwgIP</td>\n",
       "      <td>1</td>\n",
       "    </tr>\n",
       "    <tr>\n",
       "      <th>5524</th>\n",
       "      <td>7880</td>\n",
       "      <td>quarantined</td>\n",
       "      <td>NaN</td>\n",
       "      <td>0nPzp mhtw4fnet\\n\\nOfficials: Alabama Home Quarantined Over Possible Ebola Case - ABC News</td>\n",
       "      <td>1</td>\n",
       "    </tr>\n",
       "    <tr>\n",
       "      <th>2923</th>\n",
       "      <td>4202</td>\n",
       "      <td>drowned</td>\n",
       "      <td>R'lyeh, South Pacific</td>\n",
       "      <td>Sadly before she could save humanity Ursula drowned in the drool of a protoshoggoth but at least she sort of died doing what she loved.</td>\n",
       "      <td>1</td>\n",
       "    </tr>\n",
       "  </tbody>\n",
       "</table>\n",
       "</div>"
      ],
      "text/plain": [
       "         id         keyword               location  \\\n",
       "5358   7647           panic  Leeds, United Kingdom   \n",
       "7220  10339         weapons            Houston, TX   \n",
       "4063   5775  forest%20fires                    NaN   \n",
       "5524   7880     quarantined                    NaN   \n",
       "2923   4202         drowned  R'lyeh, South Pacific   \n",
       "\n",
       "                                                                                                                                                text  \\\n",
       "5358                                                                                                     Obligatory middle of the night panic attack   \n",
       "7220  I'm sorry but if you have to resort to weapons to settle something you're a pussy win or lose take your shit like a man &amp; leave it at that   \n",
       "4063                                                      U.S. Forest Service says spending more than half of budget on fires http://t.co/1hLVrKwgIP   \n",
       "5524                                                      0nPzp mhtw4fnet\\n\\nOfficials: Alabama Home Quarantined Over Possible Ebola Case - ABC News   \n",
       "2923         Sadly before she could save humanity Ursula drowned in the drool of a protoshoggoth but at least she sort of died doing what she loved.   \n",
       "\n",
       "      target  \n",
       "5358       0  \n",
       "7220       1  \n",
       "4063       1  \n",
       "5524       1  \n",
       "2923       1  "
      ]
     },
     "execution_count": 4,
     "metadata": {},
     "output_type": "execute_result"
    }
   ],
   "source": [
    "# What is a \"disater\"?\n",
    "train_df.sample(5)"
   ]
  },
  {
   "cell_type": "markdown",
   "id": "26ed9735",
   "metadata": {
    "papermill": {
     "duration": 0.008396,
     "end_time": "2024-03-12T13:42:20.856573",
     "exception": false,
     "start_time": "2024-03-12T13:42:20.848177",
     "status": "completed"
    },
    "tags": []
   },
   "source": [
    "* Texts have keywords which appear in them (possibly used for searching tweets that could be referring disaster).\n",
    "* Target: 1 = Actual Disaster, 0 = Not Disaster.\n",
    "* Location provides additional context to tweet."
   ]
  },
  {
   "cell_type": "code",
   "execution_count": 5,
   "id": "95d43344",
   "metadata": {
    "execution": {
     "iopub.execute_input": "2024-03-12T13:42:20.876827Z",
     "iopub.status.busy": "2024-03-12T13:42:20.876313Z",
     "iopub.status.idle": "2024-03-12T13:42:20.883311Z",
     "shell.execute_reply": "2024-03-12T13:42:20.882211Z"
    },
    "papermill": {
     "duration": 0.020212,
     "end_time": "2024-03-12T13:42:20.885645",
     "exception": false,
     "start_time": "2024-03-12T13:42:20.865433",
     "status": "completed"
    },
    "tags": []
   },
   "outputs": [],
   "source": [
    "# describe columns\n",
    "def describe_column(df, column_name, sample_size = 20):\n",
    "    print(\n",
    "        f\"Column: {column_name}\\n\"\n",
    "        f\"Number of rows: {df.shape[0]}\\n\"\n",
    "        f\"Number of unique values: {len(df[column_name].unique())}\\n\"\n",
    "        f\"Empty %: {round(((df[column_name].isna().sum() / df.shape[0]) * 100), 2)}%\\n\"\n",
    "        f\"Sample: {df[column_name].unique()[:sample_size]}\"\n",
    "    )"
   ]
  },
  {
   "cell_type": "code",
   "execution_count": 6,
   "id": "f2cf6f25",
   "metadata": {
    "execution": {
     "iopub.execute_input": "2024-03-12T13:42:20.905953Z",
     "iopub.status.busy": "2024-03-12T13:42:20.905096Z",
     "iopub.status.idle": "2024-03-12T13:42:20.916280Z",
     "shell.execute_reply": "2024-03-12T13:42:20.914491Z"
    },
    "papermill": {
     "duration": 0.024585,
     "end_time": "2024-03-12T13:42:20.919075",
     "exception": false,
     "start_time": "2024-03-12T13:42:20.894490",
     "status": "completed"
    },
    "tags": []
   },
   "outputs": [
    {
     "name": "stdout",
     "output_type": "stream",
     "text": [
      "Column: keyword\n",
      "Number of rows: 7613\n",
      "Number of unique values: 222\n",
      "Empty %: 0.8%\n",
      "Sample: [nan 'ablaze' 'accident' 'aftershock' 'airplane%20accident' 'ambulance'\n",
      " 'annihilated' 'annihilation' 'apocalypse' 'armageddon' 'army' 'arson'\n",
      " 'arsonist' 'attack' 'attacked' 'avalanche' 'battle' 'bioterror'\n",
      " 'bioterrorism' 'blaze']\n"
     ]
    }
   ],
   "source": [
    "# keyword\n",
    "describe_column(train_df, 'keyword')"
   ]
  },
  {
   "cell_type": "code",
   "execution_count": 7,
   "id": "202dd2fe",
   "metadata": {
    "execution": {
     "iopub.execute_input": "2024-03-12T13:42:20.940397Z",
     "iopub.status.busy": "2024-03-12T13:42:20.939180Z",
     "iopub.status.idle": "2024-03-12T13:42:20.949593Z",
     "shell.execute_reply": "2024-03-12T13:42:20.948152Z"
    },
    "papermill": {
     "duration": 0.023828,
     "end_time": "2024-03-12T13:42:20.952153",
     "exception": false,
     "start_time": "2024-03-12T13:42:20.928325",
     "status": "completed"
    },
    "tags": []
   },
   "outputs": [
    {
     "name": "stdout",
     "output_type": "stream",
     "text": [
      "Column: location\n",
      "Number of rows: 7613\n",
      "Number of unique values: 3342\n",
      "Empty %: 33.27%\n",
      "Sample: [nan 'Birmingham' 'Est. September 2012 - Bristol' 'AFRICA'\n",
      " 'Philadelphia, PA' 'London, UK' 'Pretoria' 'World Wide!!'\n",
      " 'Paranaque City' 'Live On Webcam' 'milky way' 'GREENSBORO,NORTH CAROLINA'\n",
      " 'England.' 'Sheffield Township, Ohio' 'India' 'Barbados' 'Anaheim'\n",
      " 'Abuja' 'USA' 'South Africa']\n"
     ]
    }
   ],
   "source": [
    "# location\n",
    "describe_column(train_df, 'location')"
   ]
  },
  {
   "cell_type": "code",
   "execution_count": 8,
   "id": "0d362908",
   "metadata": {
    "execution": {
     "iopub.execute_input": "2024-03-12T13:42:20.974949Z",
     "iopub.status.busy": "2024-03-12T13:42:20.973697Z",
     "iopub.status.idle": "2024-03-12T13:42:20.983484Z",
     "shell.execute_reply": "2024-03-12T13:42:20.982173Z"
    },
    "papermill": {
     "duration": 0.024794,
     "end_time": "2024-03-12T13:42:20.986403",
     "exception": false,
     "start_time": "2024-03-12T13:42:20.961609",
     "status": "completed"
    },
    "tags": []
   },
   "outputs": [
    {
     "name": "stdout",
     "output_type": "stream",
     "text": [
      "Column: target\n",
      "Number of rows: 7613\n",
      "Number of unique values: 2\n",
      "Empty %: 0.0%\n",
      "Sample: [1 0]\n"
     ]
    }
   ],
   "source": [
    "# location\n",
    "describe_column(train_df, 'target', 2)"
   ]
  },
  {
   "cell_type": "code",
   "execution_count": 9,
   "id": "3edbd4f8",
   "metadata": {
    "execution": {
     "iopub.execute_input": "2024-03-12T13:42:21.008215Z",
     "iopub.status.busy": "2024-03-12T13:42:21.006609Z",
     "iopub.status.idle": "2024-03-12T13:42:21.026474Z",
     "shell.execute_reply": "2024-03-12T13:42:21.025013Z"
    },
    "papermill": {
     "duration": 0.033647,
     "end_time": "2024-03-12T13:42:21.029336",
     "exception": false,
     "start_time": "2024-03-12T13:42:20.995689",
     "status": "completed"
    },
    "tags": []
   },
   "outputs": [
    {
     "data": {
      "text/html": [
       "<div>\n",
       "<style scoped>\n",
       "    .dataframe tbody tr th:only-of-type {\n",
       "        vertical-align: middle;\n",
       "    }\n",
       "\n",
       "    .dataframe tbody tr th {\n",
       "        vertical-align: top;\n",
       "    }\n",
       "\n",
       "    .dataframe thead th {\n",
       "        text-align: right;\n",
       "    }\n",
       "</style>\n",
       "<table border=\"1\" class=\"dataframe\">\n",
       "  <thead>\n",
       "    <tr style=\"text-align: right;\">\n",
       "      <th></th>\n",
       "      <th>id</th>\n",
       "      <th>keyword</th>\n",
       "      <th>location</th>\n",
       "      <th>text</th>\n",
       "      <th>target</th>\n",
       "    </tr>\n",
       "  </thead>\n",
       "  <tbody>\n",
       "    <tr>\n",
       "      <th>7606</th>\n",
       "      <td>10866</td>\n",
       "      <td>NaN</td>\n",
       "      <td>NaN</td>\n",
       "      <td>Suicide bomber kills 15 in Saudi security site mosque - Reuters via World - Google News - Wall ... http://t.co/nF4IculOje</td>\n",
       "      <td>1</td>\n",
       "    </tr>\n",
       "    <tr>\n",
       "      <th>16</th>\n",
       "      <td>24</td>\n",
       "      <td>NaN</td>\n",
       "      <td>NaN</td>\n",
       "      <td>I love fruits</td>\n",
       "      <td>0</td>\n",
       "    </tr>\n",
       "    <tr>\n",
       "      <th>18</th>\n",
       "      <td>26</td>\n",
       "      <td>NaN</td>\n",
       "      <td>NaN</td>\n",
       "      <td>My car is so fast</td>\n",
       "      <td>0</td>\n",
       "    </tr>\n",
       "    <tr>\n",
       "      <th>15</th>\n",
       "      <td>23</td>\n",
       "      <td>NaN</td>\n",
       "      <td>NaN</td>\n",
       "      <td>What's up man?</td>\n",
       "      <td>0</td>\n",
       "    </tr>\n",
       "    <tr>\n",
       "      <th>7602</th>\n",
       "      <td>10860</td>\n",
       "      <td>NaN</td>\n",
       "      <td>NaN</td>\n",
       "      <td>a siren just went off and it wasn't the Forney tornado warning ??</td>\n",
       "      <td>1</td>\n",
       "    </tr>\n",
       "  </tbody>\n",
       "</table>\n",
       "</div>"
      ],
      "text/plain": [
       "         id keyword location  \\\n",
       "7606  10866     NaN      NaN   \n",
       "16       24     NaN      NaN   \n",
       "18       26     NaN      NaN   \n",
       "15       23     NaN      NaN   \n",
       "7602  10860     NaN      NaN   \n",
       "\n",
       "                                                                                                                           text  \\\n",
       "7606  Suicide bomber kills 15 in Saudi security site mosque - Reuters via World - Google News - Wall ... http://t.co/nF4IculOje   \n",
       "16                                                                                                                I love fruits   \n",
       "18                                                                                                            My car is so fast   \n",
       "15                                                                                                               What's up man?   \n",
       "7602                                                          a siren just went off and it wasn't the Forney tornado warning ??   \n",
       "\n",
       "      target  \n",
       "7606       1  \n",
       "16         0  \n",
       "18         0  \n",
       "15         0  \n",
       "7602       1  "
      ]
     },
     "execution_count": 9,
     "metadata": {},
     "output_type": "execute_result"
    }
   ],
   "source": [
    "# Empty keywords\n",
    "train_df[train_df['keyword'].isna()].sample(5)"
   ]
  },
  {
   "cell_type": "markdown",
   "id": "e1f82242",
   "metadata": {
    "papermill": {
     "duration": 0.010301,
     "end_time": "2024-03-12T13:42:21.049180",
     "exception": false,
     "start_time": "2024-03-12T13:42:21.038879",
     "status": "completed"
    },
    "tags": []
   },
   "source": [
    "* No reason for Text's with missing keywords to be removed.\n",
    "* Duplicate Texts need further investigation."
   ]
  },
  {
   "cell_type": "code",
   "execution_count": 10,
   "id": "e7586023",
   "metadata": {
    "execution": {
     "iopub.execute_input": "2024-03-12T13:42:21.071681Z",
     "iopub.status.busy": "2024-03-12T13:42:21.070803Z",
     "iopub.status.idle": "2024-03-12T13:42:21.109302Z",
     "shell.execute_reply": "2024-03-12T13:42:21.107953Z"
    },
    "papermill": {
     "duration": 0.052993,
     "end_time": "2024-03-12T13:42:21.112413",
     "exception": false,
     "start_time": "2024-03-12T13:42:21.059420",
     "status": "completed"
    },
    "tags": []
   },
   "outputs": [
    {
     "name": "stdout",
     "output_type": "stream",
     "text": [
      "Count of text dupes: 179\n"
     ]
    },
    {
     "data": {
      "text/html": [
       "<div>\n",
       "<style scoped>\n",
       "    .dataframe tbody tr th:only-of-type {\n",
       "        vertical-align: middle;\n",
       "    }\n",
       "\n",
       "    .dataframe tbody tr th {\n",
       "        vertical-align: top;\n",
       "    }\n",
       "\n",
       "    .dataframe thead th {\n",
       "        text-align: right;\n",
       "    }\n",
       "</style>\n",
       "<table border=\"1\" class=\"dataframe\">\n",
       "  <thead>\n",
       "    <tr style=\"text-align: right;\">\n",
       "      <th></th>\n",
       "      <th>id</th>\n",
       "      <th>keyword</th>\n",
       "      <th>location</th>\n",
       "      <th>text</th>\n",
       "      <th>target</th>\n",
       "    </tr>\n",
       "  </thead>\n",
       "  <tbody>\n",
       "    <tr>\n",
       "      <th>4290</th>\n",
       "      <td>6094</td>\n",
       "      <td>hellfire</td>\n",
       "      <td>Jubail IC, Saudi Arabia.</td>\n",
       "      <td>#Allah describes piling up #wealth thinking it would last #forever as the description of the people of #Hellfire in Surah Humaza. #Reflect</td>\n",
       "      <td>0</td>\n",
       "    </tr>\n",
       "    <tr>\n",
       "      <th>4299</th>\n",
       "      <td>6105</td>\n",
       "      <td>hellfire</td>\n",
       "      <td>?????? ??? ?????? ????????</td>\n",
       "      <td>#Allah describes piling up #wealth thinking it would last #forever as the description of the people of #Hellfire in Surah Humaza. #Reflect</td>\n",
       "      <td>0</td>\n",
       "    </tr>\n",
       "    <tr>\n",
       "      <th>4312</th>\n",
       "      <td>6123</td>\n",
       "      <td>hellfire</td>\n",
       "      <td>?????? ???? ??????</td>\n",
       "      <td>#Allah describes piling up #wealth thinking it would last #forever as the description of the people of #Hellfire in Surah Humaza. #Reflect</td>\n",
       "      <td>1</td>\n",
       "    </tr>\n",
       "    <tr>\n",
       "      <th>4244</th>\n",
       "      <td>6031</td>\n",
       "      <td>hazardous</td>\n",
       "      <td>New Delhi, Delhi</td>\n",
       "      <td>#foodscare #offers2go #NestleIndia slips into loss after #Magginoodle #ban unsafe and hazardous for #humanconsumption</td>\n",
       "      <td>0</td>\n",
       "    </tr>\n",
       "    <tr>\n",
       "      <th>4221</th>\n",
       "      <td>5996</td>\n",
       "      <td>hazardous</td>\n",
       "      <td>NaN</td>\n",
       "      <td>#foodscare #offers2go #NestleIndia slips into loss after #Magginoodle #ban unsafe and hazardous for #humanconsumption</td>\n",
       "      <td>1</td>\n",
       "    </tr>\n",
       "    <tr>\n",
       "      <th>4239</th>\n",
       "      <td>6023</td>\n",
       "      <td>hazardous</td>\n",
       "      <td>Mysore, Karnataka</td>\n",
       "      <td>#foodscare #offers2go #NestleIndia slips into loss after #Magginoodle #ban unsafe and hazardous for #humanconsumption</td>\n",
       "      <td>1</td>\n",
       "    </tr>\n",
       "    <tr>\n",
       "      <th>2832</th>\n",
       "      <td>4076</td>\n",
       "      <td>displaced</td>\n",
       "      <td>Pedophile hunting ground</td>\n",
       "      <td>.POTUS #StrategicPatience is a strategy for #Genocide; refugees; IDP Internally displaced people; horror; etc. https://t.co/rqWuoy1fm4</td>\n",
       "      <td>0</td>\n",
       "    </tr>\n",
       "    <tr>\n",
       "      <th>2831</th>\n",
       "      <td>4072</td>\n",
       "      <td>displaced</td>\n",
       "      <td>Pedophile hunting ground</td>\n",
       "      <td>.POTUS #StrategicPatience is a strategy for #Genocide; refugees; IDP Internally displaced people; horror; etc. https://t.co/rqWuoy1fm4</td>\n",
       "      <td>1</td>\n",
       "    </tr>\n",
       "    <tr>\n",
       "      <th>2830</th>\n",
       "      <td>4068</td>\n",
       "      <td>displaced</td>\n",
       "      <td>Pedophile hunting ground</td>\n",
       "      <td>.POTUS #StrategicPatience is a strategy for #Genocide; refugees; IDP Internally displaced people; horror; etc. https://t.co/rqWuoy1fm4</td>\n",
       "      <td>1</td>\n",
       "    </tr>\n",
       "    <tr>\n",
       "      <th>2833</th>\n",
       "      <td>4077</td>\n",
       "      <td>displaced</td>\n",
       "      <td>Pedophile hunting ground</td>\n",
       "      <td>.POTUS #StrategicPatience is a strategy for #Genocide; refugees; IDP Internally displaced people; horror; etc. https://t.co/rqWuoy1fm4</td>\n",
       "      <td>1</td>\n",
       "    </tr>\n",
       "  </tbody>\n",
       "</table>\n",
       "</div>"
      ],
      "text/plain": [
       "        id    keyword                    location  \\\n",
       "4290  6094   hellfire    Jubail IC, Saudi Arabia.   \n",
       "4299  6105   hellfire  ?????? ??? ?????? ????????   \n",
       "4312  6123   hellfire          ?????? ???? ??????   \n",
       "4244  6031  hazardous            New Delhi, Delhi   \n",
       "4221  5996  hazardous                         NaN   \n",
       "4239  6023  hazardous           Mysore, Karnataka   \n",
       "2832  4076  displaced    Pedophile hunting ground   \n",
       "2831  4072  displaced    Pedophile hunting ground   \n",
       "2830  4068  displaced    Pedophile hunting ground   \n",
       "2833  4077  displaced    Pedophile hunting ground   \n",
       "\n",
       "                                                                                                                                            text  \\\n",
       "4290  #Allah describes piling up #wealth thinking it would last #forever as the description of the people of #Hellfire in Surah Humaza. #Reflect   \n",
       "4299  #Allah describes piling up #wealth thinking it would last #forever as the description of the people of #Hellfire in Surah Humaza. #Reflect   \n",
       "4312  #Allah describes piling up #wealth thinking it would last #forever as the description of the people of #Hellfire in Surah Humaza. #Reflect   \n",
       "4244                       #foodscare #offers2go #NestleIndia slips into loss after #Magginoodle #ban unsafe and hazardous for #humanconsumption   \n",
       "4221                       #foodscare #offers2go #NestleIndia slips into loss after #Magginoodle #ban unsafe and hazardous for #humanconsumption   \n",
       "4239                       #foodscare #offers2go #NestleIndia slips into loss after #Magginoodle #ban unsafe and hazardous for #humanconsumption   \n",
       "2832      .POTUS #StrategicPatience is a strategy for #Genocide; refugees; IDP Internally displaced people; horror; etc. https://t.co/rqWuoy1fm4   \n",
       "2831      .POTUS #StrategicPatience is a strategy for #Genocide; refugees; IDP Internally displaced people; horror; etc. https://t.co/rqWuoy1fm4   \n",
       "2830      .POTUS #StrategicPatience is a strategy for #Genocide; refugees; IDP Internally displaced people; horror; etc. https://t.co/rqWuoy1fm4   \n",
       "2833      .POTUS #StrategicPatience is a strategy for #Genocide; refugees; IDP Internally displaced people; horror; etc. https://t.co/rqWuoy1fm4   \n",
       "\n",
       "      target  \n",
       "4290       0  \n",
       "4299       0  \n",
       "4312       1  \n",
       "4244       0  \n",
       "4221       1  \n",
       "4239       1  \n",
       "2832       0  \n",
       "2831       1  \n",
       "2830       1  \n",
       "2833       1  "
      ]
     },
     "execution_count": 10,
     "metadata": {},
     "output_type": "execute_result"
    }
   ],
   "source": [
    "# Do texts vary with target, location or keyword.\n",
    "train_text_dupes = train_df[train_df.duplicated(subset='text', keep=False)]\n",
    "print(f\"Count of text dupes: {train_text_dupes.shape[0]}\")\n",
    "train_vary_target = train_text_dupes.groupby('text').filter(\n",
    "    lambda x: x['target'].nunique() == 2).sort_values('text').iloc[:10]\n",
    "train_vary_target"
   ]
  },
  {
   "cell_type": "code",
   "execution_count": 11,
   "id": "404cc520",
   "metadata": {
    "execution": {
     "iopub.execute_input": "2024-03-12T13:42:21.135266Z",
     "iopub.status.busy": "2024-03-12T13:42:21.134738Z",
     "iopub.status.idle": "2024-03-12T13:42:21.158863Z",
     "shell.execute_reply": "2024-03-12T13:42:21.157738Z"
    },
    "papermill": {
     "duration": 0.038508,
     "end_time": "2024-03-12T13:42:21.161366",
     "exception": false,
     "start_time": "2024-03-12T13:42:21.122858",
     "status": "completed"
    },
    "tags": []
   },
   "outputs": [
    {
     "data": {
      "text/html": [
       "<div>\n",
       "<style scoped>\n",
       "    .dataframe tbody tr th:only-of-type {\n",
       "        vertical-align: middle;\n",
       "    }\n",
       "\n",
       "    .dataframe tbody tr th {\n",
       "        vertical-align: top;\n",
       "    }\n",
       "\n",
       "    .dataframe thead th {\n",
       "        text-align: right;\n",
       "    }\n",
       "</style>\n",
       "<table border=\"1\" class=\"dataframe\">\n",
       "  <thead>\n",
       "    <tr style=\"text-align: right;\">\n",
       "      <th></th>\n",
       "      <th>id</th>\n",
       "      <th>keyword</th>\n",
       "      <th>location</th>\n",
       "      <th>text</th>\n",
       "    </tr>\n",
       "  </thead>\n",
       "  <tbody>\n",
       "    <tr>\n",
       "      <th>18</th>\n",
       "      <td>58</td>\n",
       "      <td>ablaze</td>\n",
       "      <td>Live On Webcam</td>\n",
       "      <td>Check these out: http://t.co/rOI2NSmEJJ http://t.co/3Tj8ZjiN21 http://t.co/YDUiXEfIpE http://t.co/LxTjc87KLS #nsfw</td>\n",
       "    </tr>\n",
       "    <tr>\n",
       "      <th>47</th>\n",
       "      <td>152</td>\n",
       "      <td>aftershock</td>\n",
       "      <td>Switzerland</td>\n",
       "      <td>320 [IR] ICEMOON [AFTERSHOCK] | http://t.co/THyzOMVWU0 | @djicemoon | #Dubstep #TrapMusic #DnB #EDM #Dance #IcesÛ_ http://t.co/83jOO0xk29</td>\n",
       "    </tr>\n",
       "    <tr>\n",
       "      <th>53</th>\n",
       "      <td>177</td>\n",
       "      <td>aftershock</td>\n",
       "      <td>Switzerland</td>\n",
       "      <td>320 [IR] ICEMOON [AFTERSHOCK] | http://t.co/THyzOMVWU0 | @djicemoon | #Dubstep #TrapMusic #DnB #EDM #Dance #IcesÛ_ http://t.co/83jOO0xk29</td>\n",
       "    </tr>\n",
       "    <tr>\n",
       "      <th>55</th>\n",
       "      <td>181</td>\n",
       "      <td>aftershock</td>\n",
       "      <td>304</td>\n",
       "      <td>'There is no victory at bargain basement prices.' Dwight David Eisenhower</td>\n",
       "    </tr>\n",
       "    <tr>\n",
       "      <th>150</th>\n",
       "      <td>497</td>\n",
       "      <td>army</td>\n",
       "      <td>Campinas Sp</td>\n",
       "      <td>You da One \\n\\n#MTVSummerStar #VideoVeranoMTV  #MTVHottest Britney Spears Lana Del Rey</td>\n",
       "    </tr>\n",
       "    <tr>\n",
       "      <th>...</th>\n",
       "      <td>...</td>\n",
       "      <td>...</td>\n",
       "      <td>...</td>\n",
       "      <td>...</td>\n",
       "    </tr>\n",
       "    <tr>\n",
       "      <th>3090</th>\n",
       "      <td>10232</td>\n",
       "      <td>volcano</td>\n",
       "      <td>Planet Earth</td>\n",
       "      <td>Learning from the Legacy of a Catastrophic Eruption - The New Yorker http://t.co/y8YqPBE4t9</td>\n",
       "    </tr>\n",
       "    <tr>\n",
       "      <th>3230</th>\n",
       "      <td>10738</td>\n",
       "      <td>wreckage</td>\n",
       "      <td>India</td>\n",
       "      <td>Wreckage 'Conclusively Confirmed' as From MH370: Malaysia PM</td>\n",
       "    </tr>\n",
       "    <tr>\n",
       "      <th>3235</th>\n",
       "      <td>10758</td>\n",
       "      <td>wreckage</td>\n",
       "      <td>India</td>\n",
       "      <td>Wreckage 'Conclusively Confirmed' as From MH370: Malaysia PM</td>\n",
       "    </tr>\n",
       "    <tr>\n",
       "      <th>3259</th>\n",
       "      <td>10865</td>\n",
       "      <td>NaN</td>\n",
       "      <td>NaN</td>\n",
       "      <td>Storm in RI worse than last hurricane. My city&amp;amp;3others hardest hit. My yard looks like it was bombed. Around 20000K still without power</td>\n",
       "    </tr>\n",
       "    <tr>\n",
       "      <th>3261</th>\n",
       "      <td>10874</td>\n",
       "      <td>NaN</td>\n",
       "      <td>NaN</td>\n",
       "      <td>MEG issues Hazardous Weather Outlook (HWO) http://t.co/3X6RBQJHn3</td>\n",
       "    </tr>\n",
       "  </tbody>\n",
       "</table>\n",
       "<p>78 rows × 4 columns</p>\n",
       "</div>"
      ],
      "text/plain": [
       "         id     keyword        location  \\\n",
       "18       58      ablaze  Live On Webcam   \n",
       "47      152  aftershock     Switzerland   \n",
       "53      177  aftershock     Switzerland   \n",
       "55      181  aftershock             304   \n",
       "150     497        army     Campinas Sp   \n",
       "...     ...         ...             ...   \n",
       "3090  10232     volcano    Planet Earth   \n",
       "3230  10738    wreckage           India   \n",
       "3235  10758    wreckage           India   \n",
       "3259  10865         NaN             NaN   \n",
       "3261  10874         NaN             NaN   \n",
       "\n",
       "                                                                                                                                             text  \n",
       "18                             Check these out: http://t.co/rOI2NSmEJJ http://t.co/3Tj8ZjiN21 http://t.co/YDUiXEfIpE http://t.co/LxTjc87KLS #nsfw  \n",
       "47     320 [IR] ICEMOON [AFTERSHOCK] | http://t.co/THyzOMVWU0 | @djicemoon | #Dubstep #TrapMusic #DnB #EDM #Dance #IcesÛ_ http://t.co/83jOO0xk29  \n",
       "53     320 [IR] ICEMOON [AFTERSHOCK] | http://t.co/THyzOMVWU0 | @djicemoon | #Dubstep #TrapMusic #DnB #EDM #Dance #IcesÛ_ http://t.co/83jOO0xk29  \n",
       "55                                                                      'There is no victory at bargain basement prices.' Dwight David Eisenhower  \n",
       "150                                                        You da One \\n\\n#MTVSummerStar #VideoVeranoMTV  #MTVHottest Britney Spears Lana Del Rey  \n",
       "...                                                                                                                                           ...  \n",
       "3090                                                  Learning from the Legacy of a Catastrophic Eruption - The New Yorker http://t.co/y8YqPBE4t9  \n",
       "3230                                                                                 Wreckage 'Conclusively Confirmed' as From MH370: Malaysia PM  \n",
       "3235                                                                                 Wreckage 'Conclusively Confirmed' as From MH370: Malaysia PM  \n",
       "3259  Storm in RI worse than last hurricane. My city&amp;3others hardest hit. My yard looks like it was bombed. Around 20000K still without power  \n",
       "3261                                                                            MEG issues Hazardous Weather Outlook (HWO) http://t.co/3X6RBQJHn3  \n",
       "\n",
       "[78 rows x 4 columns]"
      ]
     },
     "execution_count": 11,
     "metadata": {},
     "output_type": "execute_result"
    }
   ],
   "source": [
    "# Are there duplicate texts in the train and test df\n",
    "test_df[test_df['text'].isin(train_df['text'])]"
   ]
  },
  {
   "cell_type": "markdown",
   "id": "5a9e88f7",
   "metadata": {
    "papermill": {
     "duration": 0.010176,
     "end_time": "2024-03-12T13:42:21.182173",
     "exception": false,
     "start_time": "2024-03-12T13:42:21.171997",
     "status": "completed"
    },
    "tags": []
   },
   "source": [
    "* Remove all duplicates that are in train and test df from train df.\n",
    "* Remove all duplicates that vary by target in train_df (keeping neither).\n",
    "* Since we have enough records we choose to remove rather than re-label.\n",
    "* Remove all duplicates that vary by location in train_df (keeping first - random)."
   ]
  },
  {
   "cell_type": "code",
   "execution_count": 12,
   "id": "0ceaa6b9",
   "metadata": {
    "execution": {
     "iopub.execute_input": "2024-03-12T13:42:21.205940Z",
     "iopub.status.busy": "2024-03-12T13:42:21.204712Z",
     "iopub.status.idle": "2024-03-12T13:42:21.216844Z",
     "shell.execute_reply": "2024-03-12T13:42:21.215366Z"
    },
    "papermill": {
     "duration": 0.027131,
     "end_time": "2024-03-12T13:42:21.219750",
     "exception": false,
     "start_time": "2024-03-12T13:42:21.192619",
     "status": "completed"
    },
    "tags": []
   },
   "outputs": [
    {
     "name": "stdout",
     "output_type": "stream",
     "text": [
      "Number of rows before: 7613\n",
      "Number of rows after: 7486\n"
     ]
    }
   ],
   "source": [
    "# Remove all duplicates that are in train and test df from train df.\n",
    "\n",
    "# Count of rows in test_df before dropping\n",
    "print(f\"Number of rows before: {train_df.shape[0]}\")\n",
    "\n",
    "# test_df rows with 'text' appearing in train_df\n",
    "rows_to_drop = train_df['text'].isin(test_df['text'])\n",
    "\n",
    "# Dropping these rows from test_df\n",
    "train_df = train_df[~rows_to_drop]\n",
    "\n",
    "# Count of rows in test_df after dropping\n",
    "print(f\"Number of rows after: {train_df.shape[0]}\")"
   ]
  },
  {
   "cell_type": "code",
   "execution_count": 13,
   "id": "051cf810",
   "metadata": {
    "execution": {
     "iopub.execute_input": "2024-03-12T13:42:21.243622Z",
     "iopub.status.busy": "2024-03-12T13:42:21.243166Z",
     "iopub.status.idle": "2024-03-12T13:42:21.253376Z",
     "shell.execute_reply": "2024-03-12T13:42:21.252006Z"
    },
    "papermill": {
     "duration": 0.025455,
     "end_time": "2024-03-12T13:42:21.256000",
     "exception": false,
     "start_time": "2024-03-12T13:42:21.230545",
     "status": "completed"
    },
    "tags": []
   },
   "outputs": [
    {
     "name": "stdout",
     "output_type": "stream",
     "text": [
      "Number of rows before: 7486\n",
      "Number of rows after: 7483\n"
     ]
    }
   ],
   "source": [
    "# Remove all duplicates that vary by target in train_df (keeping neither).\n",
    "\n",
    "# Count of rows in train_df before dropping\n",
    "print(f\"Number of rows before: {train_df.shape[0]}\")\n",
    "\n",
    "# Dropping train_vary_target rows from train_df\n",
    "train_df = train_df[~train_df['text'].isin(train_vary_target['text'])]\n",
    "\n",
    "# Count of rows in test_df after dropping\n",
    "print(f\"Number of rows after: {train_df.shape[0]}\")"
   ]
  },
  {
   "cell_type": "code",
   "execution_count": 14,
   "id": "ebc32cbb",
   "metadata": {
    "execution": {
     "iopub.execute_input": "2024-03-12T13:42:21.279668Z",
     "iopub.status.busy": "2024-03-12T13:42:21.279138Z",
     "iopub.status.idle": "2024-03-12T13:42:21.289950Z",
     "shell.execute_reply": "2024-03-12T13:42:21.288968Z"
    },
    "papermill": {
     "duration": 0.02568,
     "end_time": "2024-03-12T13:42:21.292469",
     "exception": false,
     "start_time": "2024-03-12T13:42:21.266789",
     "status": "completed"
    },
    "tags": []
   },
   "outputs": [
    {
     "name": "stdout",
     "output_type": "stream",
     "text": [
      "Number of rows before: 7483\n",
      "Number of rows after: 7434\n"
     ]
    }
   ],
   "source": [
    "# Remove duplicates that vary by location in train_df (keeping first - random).\n",
    "\n",
    "# Count of rows in train_df before dropping\n",
    "print(f\"Number of rows before: {train_df.shape[0]}\")\n",
    "\n",
    "# Remove duplicates in the 'text' column, keeping the first occurrence\n",
    "train_df = train_df.drop_duplicates('text', keep='first')\n",
    "\n",
    "# Count of rows in test_df after dropping\n",
    "print(f\"Number of rows after: {train_df.shape[0]}\")"
   ]
  },
  {
   "cell_type": "code",
   "execution_count": 15,
   "id": "d2251c6e",
   "metadata": {
    "execution": {
     "iopub.execute_input": "2024-03-12T13:42:21.317595Z",
     "iopub.status.busy": "2024-03-12T13:42:21.317151Z",
     "iopub.status.idle": "2024-03-12T13:42:21.324334Z",
     "shell.execute_reply": "2024-03-12T13:42:21.322941Z"
    },
    "papermill": {
     "duration": 0.022781,
     "end_time": "2024-03-12T13:42:21.326803",
     "exception": false,
     "start_time": "2024-03-12T13:42:21.304022",
     "status": "completed"
    },
    "tags": []
   },
   "outputs": [],
   "source": [
    "# Clean text\n",
    "def clean_text(text):\n",
    "    # Skip if not string\n",
    "    if not isinstance(text, str):\n",
    "        return text    \n",
    "    text = html.unescape(text)     # Convert HTML character codes\n",
    "    text = re.sub(r'https?://\\S+|www\\.\\S+', '', text)    # Remove URLs\n",
    "    # Remove if not letter, numbers, normal punctuation, spaces, @, #\n",
    "    text = re.sub(r'[^a-zA-Z0-9\\s,.?!#@]', '', text)\n",
    "    text = re.sub(r'\\s+', ' ', text).strip()     # Remove extra spaces\n",
    "    return text"
   ]
  },
  {
   "cell_type": "code",
   "execution_count": 16,
   "id": "f8dde370",
   "metadata": {
    "execution": {
     "iopub.execute_input": "2024-03-12T13:42:21.350427Z",
     "iopub.status.busy": "2024-03-12T13:42:21.349960Z",
     "iopub.status.idle": "2024-03-12T13:42:22.058595Z",
     "shell.execute_reply": "2024-03-12T13:42:22.057315Z"
    },
    "papermill": {
     "duration": 0.724316,
     "end_time": "2024-03-12T13:42:22.061898",
     "exception": false,
     "start_time": "2024-03-12T13:42:21.337582",
     "status": "completed"
    },
    "tags": []
   },
   "outputs": [],
   "source": [
    "# Text\n",
    "train_df['text_clean'] = train_df['text'].apply(clean_text)\n",
    "test_df['text_clean'] = test_df['text'].apply(clean_text)\n",
    "\n",
    "# Location\n",
    "train_df['location'] = train_df['location'].fillna('Unknown') # Fill NaNs\n",
    "test_df['location'] = test_df['location'].fillna('Unknown') # Fill NaNs\n",
    "train_df['location_clean'] = train_df['location'].apply(clean_text)\n",
    "test_df['location_clean'] = test_df['location'].apply(clean_text)\n",
    "\n",
    "# Combining (adding location context to text)\n",
    "train_df['text_location'] = train_df.apply(\n",
    "    lambda row: f\"Location: {row['location']}. Tweet: {row['text']}\", axis=1)\n",
    "test_df['text_location'] = test_df.apply(\n",
    "    lambda row: f\"Location: {row['location']}. Tweet: {row['text']}\", axis=1)\n",
    "\n",
    "# Combining clean (adding location context to text)\n",
    "train_df['text_location_clean'] = train_df.apply(\n",
    "    lambda row: f\"Location: {row['location_clean']}. Tweet: {row['text_clean']}\", axis=1)\n",
    "test_df['text_location_clean'] = test_df.apply(\n",
    "    lambda row: f\"Location: {row['location_clean']}. Tweet: {row['text_clean']}\", axis=1)\n",
    "\n",
    "# Class\n",
    "train_df['class'] = train_df['target'].apply(lambda x: 'yes' if x == 1 else 'no')"
   ]
  },
  {
   "cell_type": "code",
   "execution_count": 17,
   "id": "0aee6a80",
   "metadata": {
    "execution": {
     "iopub.execute_input": "2024-03-12T13:42:22.085971Z",
     "iopub.status.busy": "2024-03-12T13:42:22.085470Z",
     "iopub.status.idle": "2024-03-12T13:42:22.093386Z",
     "shell.execute_reply": "2024-03-12T13:42:22.091951Z"
    },
    "papermill": {
     "duration": 0.023081,
     "end_time": "2024-03-12T13:42:22.096055",
     "exception": false,
     "start_time": "2024-03-12T13:42:22.072974",
     "status": "completed"
    },
    "tags": []
   },
   "outputs": [],
   "source": [
    "# gemma it chat template\n",
    "# chat = [\n",
    "#     { \"role\": \"user\", \"content\": \"Write a hello world program\" },\n",
    "# ]\n",
    "\n",
    "# <bos><start_of_turn>user\n",
    "# Write a hello world program<end_of_turn>\n",
    "# <start_of_turn>model\n",
    "\n",
    "# Add prompt field\n",
    "def generate_prompt(X, text):\n",
    "    return f\"\"\"<bos><start_of_turn>user\n",
    "Identify if the folowing Tweet is part of a thread discussing a disaster (yes/ no):\n",
    "[ {X[text]} ] <end_of_turn>\n",
    "<start_of_turn>model\n",
    "{X['class']}\"\"\"\n",
    "\n",
    "def generate_test_prompt(X, text):\n",
    "    return f\"\"\"<bos><start_of_turn>user\n",
    "Identify if the folowing Tweet is part of a thread discussing a disaster (yes/ no):\n",
    "[ {X[text]} ] <end_of_turn>\n",
    "<start_of_turn>model\n",
    "\"\"\""
   ]
  },
  {
   "cell_type": "code",
   "execution_count": 18,
   "id": "f3adbd22",
   "metadata": {
    "execution": {
     "iopub.execute_input": "2024-03-12T13:42:22.122403Z",
     "iopub.status.busy": "2024-03-12T13:42:22.121004Z",
     "iopub.status.idle": "2024-03-12T13:42:23.337323Z",
     "shell.execute_reply": "2024-03-12T13:42:23.336018Z"
    },
    "papermill": {
     "duration": 1.232208,
     "end_time": "2024-03-12T13:42:23.340180",
     "exception": false,
     "start_time": "2024-03-12T13:42:22.107972",
     "status": "completed"
    },
    "tags": []
   },
   "outputs": [
    {
     "data": {
      "text/html": [
       "<div>\n",
       "<style scoped>\n",
       "    .dataframe tbody tr th:only-of-type {\n",
       "        vertical-align: middle;\n",
       "    }\n",
       "\n",
       "    .dataframe tbody tr th {\n",
       "        vertical-align: top;\n",
       "    }\n",
       "\n",
       "    .dataframe thead th {\n",
       "        text-align: right;\n",
       "    }\n",
       "</style>\n",
       "<table border=\"1\" class=\"dataframe\">\n",
       "  <thead>\n",
       "    <tr style=\"text-align: right;\">\n",
       "      <th></th>\n",
       "      <th>id</th>\n",
       "      <th>keyword</th>\n",
       "      <th>location</th>\n",
       "      <th>text</th>\n",
       "      <th>target</th>\n",
       "      <th>text_clean</th>\n",
       "      <th>location_clean</th>\n",
       "      <th>text_location</th>\n",
       "      <th>text_location_clean</th>\n",
       "      <th>class</th>\n",
       "      <th>prompt_text</th>\n",
       "      <th>prompt_text_test</th>\n",
       "      <th>prompt_text_location</th>\n",
       "      <th>prompt_text_location_test</th>\n",
       "      <th>prompt_text_clean</th>\n",
       "      <th>prompt_text_clean_test</th>\n",
       "      <th>prompt_text_location_clean</th>\n",
       "      <th>prompt_text_location_clean_test</th>\n",
       "    </tr>\n",
       "  </thead>\n",
       "  <tbody>\n",
       "    <tr>\n",
       "      <th>1351</th>\n",
       "      <td>1952</td>\n",
       "      <td>burning%20buildings</td>\n",
       "      <td>Oklahoma City, OK</td>\n",
       "      <td>Large fire burning several buildings causing evacuations in downtown Hinton: http://t.co/mtMkiMwiyy</td>\n",
       "      <td>1</td>\n",
       "      <td>Large fire burning several buildings causing evacuations in downtown Hinton</td>\n",
       "      <td>Oklahoma City, OK</td>\n",
       "      <td>Location: Oklahoma City, OK. Tweet: Large fire burning several buildings causing evacuations in downtown Hinton: http://t.co/mtMkiMwiyy</td>\n",
       "      <td>Location: Oklahoma City, OK. Tweet: Large fire burning several buildings causing evacuations in downtown Hinton</td>\n",
       "      <td>yes</td>\n",
       "      <td>&lt;bos&gt;&lt;start_of_turn&gt;user\\nIdentify if the folowing Tweet is part of a thread discussing a disaster (yes/ no):\\n[ Large fire burning several buildings causing evacuations in downtown Hinton: http://t.co/mtMkiMwiyy ] &lt;end_of_turn&gt;\\n&lt;start_of_turn&gt;model\\nyes</td>\n",
       "      <td>&lt;bos&gt;&lt;start_of_turn&gt;user\\nIdentify if the folowing Tweet is part of a thread discussing a disaster (yes/ no):\\n[ Large fire burning several buildings causing evacuations in downtown Hinton: http://t.co/mtMkiMwiyy ] &lt;end_of_turn&gt;\\n&lt;start_of_turn&gt;model\\n</td>\n",
       "      <td>&lt;bos&gt;&lt;start_of_turn&gt;user\\nIdentify if the folowing Tweet is part of a thread discussing a disaster (yes/ no):\\n[ Location: Oklahoma City, OK. Tweet: Large fire burning several buildings causing evacuations in downtown Hinton: http://t.co/mtMkiMwiyy ] &lt;end_of_turn&gt;\\n&lt;start_of_turn&gt;model\\nyes</td>\n",
       "      <td>&lt;bos&gt;&lt;start_of_turn&gt;user\\nIdentify if the folowing Tweet is part of a thread discussing a disaster (yes/ no):\\n[ Location: Oklahoma City, OK. Tweet: Large fire burning several buildings causing evacuations in downtown Hinton: http://t.co/mtMkiMwiyy ] &lt;end_of_turn&gt;\\n&lt;start_of_turn&gt;model\\n</td>\n",
       "      <td>&lt;bos&gt;&lt;start_of_turn&gt;user\\nIdentify if the folowing Tweet is part of a thread discussing a disaster (yes/ no):\\n[ Large fire burning several buildings causing evacuations in downtown Hinton ] &lt;end_of_turn&gt;\\n&lt;start_of_turn&gt;model\\nyes</td>\n",
       "      <td>&lt;bos&gt;&lt;start_of_turn&gt;user\\nIdentify if the folowing Tweet is part of a thread discussing a disaster (yes/ no):\\n[ Large fire burning several buildings causing evacuations in downtown Hinton ] &lt;end_of_turn&gt;\\n&lt;start_of_turn&gt;model\\n</td>\n",
       "      <td>&lt;bos&gt;&lt;start_of_turn&gt;user\\nIdentify if the folowing Tweet is part of a thread discussing a disaster (yes/ no):\\n[ Location: Oklahoma City, OK. Tweet: Large fire burning several buildings causing evacuations in downtown Hinton ] &lt;end_of_turn&gt;\\n&lt;start_of_turn&gt;model\\nyes</td>\n",
       "      <td>&lt;bos&gt;&lt;start_of_turn&gt;user\\nIdentify if the folowing Tweet is part of a thread discussing a disaster (yes/ no):\\n[ Location: Unknown. Tweet: Almost electrocuted myself ?? ] &lt;end_of_turn&gt;\\n&lt;start_of_turn&gt;model\\n</td>\n",
       "    </tr>\n",
       "    <tr>\n",
       "      <th>2549</th>\n",
       "      <td>3657</td>\n",
       "      <td>destroy</td>\n",
       "      <td>Washington, DC</td>\n",
       "      <td>If GOP want to destroy America then Obama is dilutional I should be institutionalize or sued for slander.  https://t.co/Z9Zj3KxwYU</td>\n",
       "      <td>0</td>\n",
       "      <td>If GOP want to destroy America then Obama is dilutional I should be institutionalize or sued for slander.</td>\n",
       "      <td>Washington, DC</td>\n",
       "      <td>Location: Washington, DC. Tweet: If GOP want to destroy America then Obama is dilutional I should be institutionalize or sued for slander.  https://t.co/Z9Zj3KxwYU</td>\n",
       "      <td>Location: Washington, DC. Tweet: If GOP want to destroy America then Obama is dilutional I should be institutionalize or sued for slander.</td>\n",
       "      <td>no</td>\n",
       "      <td>&lt;bos&gt;&lt;start_of_turn&gt;user\\nIdentify if the folowing Tweet is part of a thread discussing a disaster (yes/ no):\\n[ If GOP want to destroy America then Obama is dilutional I should be institutionalize or sued for slander.  https://t.co/Z9Zj3KxwYU ] &lt;end_of_turn&gt;\\n&lt;start_of_turn&gt;model\\nno</td>\n",
       "      <td>&lt;bos&gt;&lt;start_of_turn&gt;user\\nIdentify if the folowing Tweet is part of a thread discussing a disaster (yes/ no):\\n[ If GOP want to destroy America then Obama is dilutional I should be institutionalize or sued for slander.  https://t.co/Z9Zj3KxwYU ] &lt;end_of_turn&gt;\\n&lt;start_of_turn&gt;model\\n</td>\n",
       "      <td>&lt;bos&gt;&lt;start_of_turn&gt;user\\nIdentify if the folowing Tweet is part of a thread discussing a disaster (yes/ no):\\n[ Location: Washington, DC. Tweet: If GOP want to destroy America then Obama is dilutional I should be institutionalize or sued for slander.  https://t.co/Z9Zj3KxwYU ] &lt;end_of_turn&gt;\\n&lt;start_of_turn&gt;model\\nno</td>\n",
       "      <td>&lt;bos&gt;&lt;start_of_turn&gt;user\\nIdentify if the folowing Tweet is part of a thread discussing a disaster (yes/ no):\\n[ Location: Washington, DC. Tweet: If GOP want to destroy America then Obama is dilutional I should be institutionalize or sued for slander.  https://t.co/Z9Zj3KxwYU ] &lt;end_of_turn&gt;\\n&lt;start_of_turn&gt;model\\n</td>\n",
       "      <td>&lt;bos&gt;&lt;start_of_turn&gt;user\\nIdentify if the folowing Tweet is part of a thread discussing a disaster (yes/ no):\\n[ If GOP want to destroy America then Obama is dilutional I should be institutionalize or sued for slander. ] &lt;end_of_turn&gt;\\n&lt;start_of_turn&gt;model\\nno</td>\n",
       "      <td>&lt;bos&gt;&lt;start_of_turn&gt;user\\nIdentify if the folowing Tweet is part of a thread discussing a disaster (yes/ no):\\n[ If GOP want to destroy America then Obama is dilutional I should be institutionalize or sued for slander. ] &lt;end_of_turn&gt;\\n&lt;start_of_turn&gt;model\\n</td>\n",
       "      <td>&lt;bos&gt;&lt;start_of_turn&gt;user\\nIdentify if the folowing Tweet is part of a thread discussing a disaster (yes/ no):\\n[ Location: Washington, DC. Tweet: If GOP want to destroy America then Obama is dilutional I should be institutionalize or sued for slander. ] &lt;end_of_turn&gt;\\n&lt;start_of_turn&gt;model\\nno</td>\n",
       "      <td>&lt;bos&gt;&lt;start_of_turn&gt;user\\nIdentify if the folowing Tweet is part of a thread discussing a disaster (yes/ no):\\n[ Location: Unknown. Tweet: I WAS WATCHING SHAWN ON YOUTUBE AND MY MUM WAS JUST LIKE HES QUITE HOT ISNT HE I AM SCREAMING AKFNEJF ] &lt;end_of_turn&gt;\\n&lt;start_of_turn&gt;model\\n</td>\n",
       "    </tr>\n",
       "  </tbody>\n",
       "</table>\n",
       "</div>"
      ],
      "text/plain": [
       "        id              keyword           location  \\\n",
       "1351  1952  burning%20buildings  Oklahoma City, OK   \n",
       "2549  3657              destroy     Washington, DC   \n",
       "\n",
       "                                                                                                                                    text  \\\n",
       "1351                                 Large fire burning several buildings causing evacuations in downtown Hinton: http://t.co/mtMkiMwiyy   \n",
       "2549  If GOP want to destroy America then Obama is dilutional I should be institutionalize or sued for slander.  https://t.co/Z9Zj3KxwYU   \n",
       "\n",
       "      target  \\\n",
       "1351       1   \n",
       "2549       0   \n",
       "\n",
       "                                                                                                     text_clean  \\\n",
       "1351                                Large fire burning several buildings causing evacuations in downtown Hinton   \n",
       "2549  If GOP want to destroy America then Obama is dilutional I should be institutionalize or sued for slander.   \n",
       "\n",
       "         location_clean  \\\n",
       "1351  Oklahoma City, OK   \n",
       "2549     Washington, DC   \n",
       "\n",
       "                                                                                                                                                            text_location  \\\n",
       "1351                              Location: Oklahoma City, OK. Tweet: Large fire burning several buildings causing evacuations in downtown Hinton: http://t.co/mtMkiMwiyy   \n",
       "2549  Location: Washington, DC. Tweet: If GOP want to destroy America then Obama is dilutional I should be institutionalize or sued for slander.  https://t.co/Z9Zj3KxwYU   \n",
       "\n",
       "                                                                                                                             text_location_clean  \\\n",
       "1351                             Location: Oklahoma City, OK. Tweet: Large fire burning several buildings causing evacuations in downtown Hinton   \n",
       "2549  Location: Washington, DC. Tweet: If GOP want to destroy America then Obama is dilutional I should be institutionalize or sued for slander.   \n",
       "\n",
       "     class  \\\n",
       "1351   yes   \n",
       "2549    no   \n",
       "\n",
       "                                                                                                                                                                                                                                                                                        prompt_text  \\\n",
       "1351                                <bos><start_of_turn>user\\nIdentify if the folowing Tweet is part of a thread discussing a disaster (yes/ no):\\n[ Large fire burning several buildings causing evacuations in downtown Hinton: http://t.co/mtMkiMwiyy ] <end_of_turn>\\n<start_of_turn>model\\nyes   \n",
       "2549  <bos><start_of_turn>user\\nIdentify if the folowing Tweet is part of a thread discussing a disaster (yes/ no):\\n[ If GOP want to destroy America then Obama is dilutional I should be institutionalize or sued for slander.  https://t.co/Z9Zj3KxwYU ] <end_of_turn>\\n<start_of_turn>model\\nno   \n",
       "\n",
       "                                                                                                                                                                                                                                                                                 prompt_text_test  \\\n",
       "1351                                 <bos><start_of_turn>user\\nIdentify if the folowing Tweet is part of a thread discussing a disaster (yes/ no):\\n[ Large fire burning several buildings causing evacuations in downtown Hinton: http://t.co/mtMkiMwiyy ] <end_of_turn>\\n<start_of_turn>model\\n   \n",
       "2549  <bos><start_of_turn>user\\nIdentify if the folowing Tweet is part of a thread discussing a disaster (yes/ no):\\n[ If GOP want to destroy America then Obama is dilutional I should be institutionalize or sued for slander.  https://t.co/Z9Zj3KxwYU ] <end_of_turn>\\n<start_of_turn>model\\n   \n",
       "\n",
       "                                                                                                                                                                                                                                                                                                                prompt_text_location  \\\n",
       "1351                             <bos><start_of_turn>user\\nIdentify if the folowing Tweet is part of a thread discussing a disaster (yes/ no):\\n[ Location: Oklahoma City, OK. Tweet: Large fire burning several buildings causing evacuations in downtown Hinton: http://t.co/mtMkiMwiyy ] <end_of_turn>\\n<start_of_turn>model\\nyes   \n",
       "2549  <bos><start_of_turn>user\\nIdentify if the folowing Tweet is part of a thread discussing a disaster (yes/ no):\\n[ Location: Washington, DC. Tweet: If GOP want to destroy America then Obama is dilutional I should be institutionalize or sued for slander.  https://t.co/Z9Zj3KxwYU ] <end_of_turn>\\n<start_of_turn>model\\nno   \n",
       "\n",
       "                                                                                                                                                                                                                                                                                                         prompt_text_location_test  \\\n",
       "1351                              <bos><start_of_turn>user\\nIdentify if the folowing Tweet is part of a thread discussing a disaster (yes/ no):\\n[ Location: Oklahoma City, OK. Tweet: Large fire burning several buildings causing evacuations in downtown Hinton: http://t.co/mtMkiMwiyy ] <end_of_turn>\\n<start_of_turn>model\\n   \n",
       "2549  <bos><start_of_turn>user\\nIdentify if the folowing Tweet is part of a thread discussing a disaster (yes/ no):\\n[ Location: Washington, DC. Tweet: If GOP want to destroy America then Obama is dilutional I should be institutionalize or sued for slander.  https://t.co/Z9Zj3KxwYU ] <end_of_turn>\\n<start_of_turn>model\\n   \n",
       "\n",
       "                                                                                                                                                                                                                                                         prompt_text_clean  \\\n",
       "1351                               <bos><start_of_turn>user\\nIdentify if the folowing Tweet is part of a thread discussing a disaster (yes/ no):\\n[ Large fire burning several buildings causing evacuations in downtown Hinton ] <end_of_turn>\\n<start_of_turn>model\\nyes   \n",
       "2549  <bos><start_of_turn>user\\nIdentify if the folowing Tweet is part of a thread discussing a disaster (yes/ no):\\n[ If GOP want to destroy America then Obama is dilutional I should be institutionalize or sued for slander. ] <end_of_turn>\\n<start_of_turn>model\\nno   \n",
       "\n",
       "                                                                                                                                                                                                                                                  prompt_text_clean_test  \\\n",
       "1351                                <bos><start_of_turn>user\\nIdentify if the folowing Tweet is part of a thread discussing a disaster (yes/ no):\\n[ Large fire burning several buildings causing evacuations in downtown Hinton ] <end_of_turn>\\n<start_of_turn>model\\n   \n",
       "2549  <bos><start_of_turn>user\\nIdentify if the folowing Tweet is part of a thread discussing a disaster (yes/ no):\\n[ If GOP want to destroy America then Obama is dilutional I should be institutionalize or sued for slander. ] <end_of_turn>\\n<start_of_turn>model\\n   \n",
       "\n",
       "                                                                                                                                                                                                                                                                                 prompt_text_location_clean  \\\n",
       "1351                            <bos><start_of_turn>user\\nIdentify if the folowing Tweet is part of a thread discussing a disaster (yes/ no):\\n[ Location: Oklahoma City, OK. Tweet: Large fire burning several buildings causing evacuations in downtown Hinton ] <end_of_turn>\\n<start_of_turn>model\\nyes   \n",
       "2549  <bos><start_of_turn>user\\nIdentify if the folowing Tweet is part of a thread discussing a disaster (yes/ no):\\n[ Location: Washington, DC. Tweet: If GOP want to destroy America then Obama is dilutional I should be institutionalize or sued for slander. ] <end_of_turn>\\n<start_of_turn>model\\nno   \n",
       "\n",
       "                                                                                                                                                                                                                                                               prompt_text_location_clean_test  \n",
       "1351                                                                          <bos><start_of_turn>user\\nIdentify if the folowing Tweet is part of a thread discussing a disaster (yes/ no):\\n[ Location: Unknown. Tweet: Almost electrocuted myself ?? ] <end_of_turn>\\n<start_of_turn>model\\n  \n",
       "2549  <bos><start_of_turn>user\\nIdentify if the folowing Tweet is part of a thread discussing a disaster (yes/ no):\\n[ Location: Unknown. Tweet: I WAS WATCHING SHAWN ON YOUTUBE AND MY MUM WAS JUST LIKE HES QUITE HOT ISNT HE I AM SCREAMING AKFNEJF ] <end_of_turn>\\n<start_of_turn>model\\n  "
      ]
     },
     "execution_count": 18,
     "metadata": {},
     "output_type": "execute_result"
    }
   ],
   "source": [
    "# Train -----------------------------------------------------------------\n",
    "\n",
    "# Text\n",
    "train_df['prompt_text'] = train_df.apply(lambda row: generate_prompt(row, 'text'), axis=1)\n",
    "# Text test\n",
    "train_df['prompt_text_test'] = train_df.apply(lambda row: generate_test_prompt(row, 'text'), axis=1)\n",
    "# Text and location\n",
    "train_df['prompt_text_location'] = train_df.apply(lambda row: generate_prompt(row, 'text_location'), axis=1)\n",
    "# Text and location test\n",
    "train_df['prompt_text_location_test'] = train_df.apply(lambda row: generate_test_prompt(row, 'text_location'), axis=1)\n",
    "# Text clean\n",
    "train_df['prompt_text_clean'] = train_df.apply(lambda row: generate_prompt(row, 'text_clean'), axis=1)\n",
    "# Text clean test\n",
    "train_df['prompt_text_clean_test'] = train_df.apply(lambda row: generate_test_prompt(row, 'text_clean'), axis=1)\n",
    "# Text location clean\n",
    "train_df['prompt_text_location_clean'] = train_df.apply(lambda row: generate_prompt(row, 'text_location_clean'), axis=1)\n",
    "# Text location clean test\n",
    "train_df['prompt_text_location_clean_test'] = train_df.apply(lambda row: generate_test_prompt(row, 'text_location_clean'), axis=1)\n",
    "\n",
    "# Test ------------------------------------------------------------------\n",
    "\n",
    "# Text test\n",
    "test_df['prompt_text_test'] = test_df.apply(lambda row: generate_test_prompt(row, 'text'), axis=1)\n",
    "# Text and location test\n",
    "test_df['prompt_text_location_test'] = test_df.apply(lambda row: generate_test_prompt(row, 'text_location'), axis=1)\n",
    "# Text clean test\n",
    "test_df['prompt_text_clean_test'] = test_df.apply(lambda row: generate_test_prompt(row, 'text_clean'), axis=1)\n",
    "# Text location clean test\n",
    "train_df['prompt_text_location_clean_test'] = test_df.apply(lambda row: generate_test_prompt(row, 'text_location_clean'), axis=1)\n",
    "\n",
    "\n",
    "train_df.sample(2)"
   ]
  },
  {
   "cell_type": "code",
   "execution_count": 19,
   "id": "5fe82e6a",
   "metadata": {
    "execution": {
     "iopub.execute_input": "2024-03-12T13:42:23.365964Z",
     "iopub.status.busy": "2024-03-12T13:42:23.365432Z",
     "iopub.status.idle": "2024-03-12T13:42:24.538958Z",
     "shell.execute_reply": "2024-03-12T13:42:24.537318Z"
    },
    "papermill": {
     "duration": 1.190501,
     "end_time": "2024-03-12T13:42:24.542415",
     "exception": false,
     "start_time": "2024-03-12T13:42:23.351914",
     "status": "completed"
    },
    "tags": []
   },
   "outputs": [],
   "source": [
    "# Save files\n",
    "train_df.to_csv('disaster_train.csv', index=False)\n",
    "test_df.to_csv('disaster_test.csv', index=False)\n",
    "submission_df.to_csv('disaster_submission.csv', index=False)"
   ]
  },
  {
   "cell_type": "code",
   "execution_count": null,
   "id": "8b3caa07",
   "metadata": {
    "papermill": {
     "duration": 0.011379,
     "end_time": "2024-03-12T13:42:24.569073",
     "exception": false,
     "start_time": "2024-03-12T13:42:24.557694",
     "status": "completed"
    },
    "tags": []
   },
   "outputs": [],
   "source": []
  }
 ],
 "metadata": {
  "kaggle": {
   "accelerator": "none",
   "dataSources": [
    {
     "databundleVersionId": 869809,
     "sourceId": 17777,
     "sourceType": "competition"
    }
   ],
   "dockerImageVersionId": 30664,
   "isGpuEnabled": false,
   "isInternetEnabled": true,
   "language": "python",
   "sourceType": "notebook"
  },
  "kernelspec": {
   "display_name": "Python 3",
   "language": "python",
   "name": "python3"
  },
  "language_info": {
   "codemirror_mode": {
    "name": "ipython",
    "version": 3
   },
   "file_extension": ".py",
   "mimetype": "text/x-python",
   "name": "python",
   "nbconvert_exporter": "python",
   "pygments_lexer": "ipython3",
   "version": "3.10.13"
  },
  "papermill": {
   "default_parameters": {},
   "duration": 9.362708,
   "end_time": "2024-03-12T13:42:25.306758",
   "environment_variables": {},
   "exception": null,
   "input_path": "__notebook__.ipynb",
   "output_path": "__notebook__.ipynb",
   "parameters": {},
   "start_time": "2024-03-12T13:42:15.944050",
   "version": "2.5.0"
  }
 },
 "nbformat": 4,
 "nbformat_minor": 5
}
