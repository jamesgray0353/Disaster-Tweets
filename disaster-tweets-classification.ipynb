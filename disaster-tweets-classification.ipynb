{
 "cells": [
  {
   "cell_type": "markdown",
   "id": "124848f4",
   "metadata": {
    "papermill": {
     "duration": 0.008,
     "end_time": "2024-03-19T20:32:19.282654",
     "exception": false,
     "start_time": "2024-03-19T20:32:19.274654",
     "status": "completed"
    },
    "tags": []
   },
   "source": [
    "# Evaluating gemma-7b-it for text classification\n",
    "## Task: Identify if a tweet is about a \"disaster\""
   ]
  },
  {
   "cell_type": "markdown",
   "id": "777a2fa9",
   "metadata": {
    "papermill": {
     "duration": 0.007176,
     "end_time": "2024-03-19T20:32:19.297239",
     "exception": false,
     "start_time": "2024-03-19T20:32:19.290063",
     "status": "completed"
    },
    "tags": []
   },
   "source": [
    "### Setup - Using kaggle GPU P100"
   ]
  },
  {
   "cell_type": "code",
   "execution_count": 1,
   "id": "0e7f4e24",
   "metadata": {
    "execution": {
     "iopub.execute_input": "2024-03-19T20:32:19.313245Z",
     "iopub.status.busy": "2024-03-19T20:32:19.312924Z",
     "iopub.status.idle": "2024-03-19T20:32:32.911437Z",
     "shell.execute_reply": "2024-03-19T20:32:32.910394Z"
    },
    "papermill": {
     "duration": 13.609385,
     "end_time": "2024-03-19T20:32:32.913955",
     "exception": false,
     "start_time": "2024-03-19T20:32:19.304570",
     "status": "completed"
    },
    "tags": []
   },
   "outputs": [],
   "source": [
    "!pip install -q -U torch --index-url https://download.pytorch.org/whl/cu117"
   ]
  },
  {
   "cell_type": "code",
   "execution_count": 2,
   "id": "c4fccb26",
   "metadata": {
    "execution": {
     "iopub.execute_input": "2024-03-19T20:32:32.930516Z",
     "iopub.status.busy": "2024-03-19T20:32:32.930200Z",
     "iopub.status.idle": "2024-03-19T20:33:49.639588Z",
     "shell.execute_reply": "2024-03-19T20:33:49.638333Z"
    },
    "papermill": {
     "duration": 76.720824,
     "end_time": "2024-03-19T20:33:49.642436",
     "exception": false,
     "start_time": "2024-03-19T20:32:32.921612",
     "status": "completed"
    },
    "tags": []
   },
   "outputs": [
    {
     "name": "stdout",
     "output_type": "stream",
     "text": [
      "\u001b[31mERROR: pip's dependency resolver does not currently take into account all the packages that are installed. This behaviour is the source of the following dependency conflicts.\r\n",
      "cudf 23.8.0 requires cubinlinker, which is not installed.\r\n",
      "cudf 23.8.0 requires cupy-cuda11x>=12.0.0, which is not installed.\r\n",
      "cudf 23.8.0 requires ptxcompiler, which is not installed.\r\n",
      "cuml 23.8.0 requires cupy-cuda11x>=12.0.0, which is not installed.\r\n",
      "dask-cudf 23.8.0 requires cupy-cuda11x>=12.0.0, which is not installed.\r\n",
      "apache-beam 2.46.0 requires dill<0.3.2,>=0.3.1.1, but you have dill 0.3.8 which is incompatible.\r\n",
      "apache-beam 2.46.0 requires numpy<1.25.0,>=1.14.3, but you have numpy 1.26.4 which is incompatible.\r\n",
      "apache-beam 2.46.0 requires pyarrow<10.0.0,>=3.0.0, but you have pyarrow 15.0.2 which is incompatible.\r\n",
      "beatrix-jupyterlab 2023.128.151533 requires jupyterlab~=3.6.0, but you have jupyterlab 4.1.2 which is incompatible.\r\n",
      "cudf 23.8.0 requires cuda-python<12.0a0,>=11.7.1, but you have cuda-python 12.3.0 which is incompatible.\r\n",
      "cudf 23.8.0 requires pandas<1.6.0dev0,>=1.3, but you have pandas 2.1.4 which is incompatible.\r\n",
      "cudf 23.8.0 requires protobuf<5,>=4.21, but you have protobuf 3.20.3 which is incompatible.\r\n",
      "cudf 23.8.0 requires pyarrow==11.*, but you have pyarrow 15.0.2 which is incompatible.\r\n",
      "cuml 23.8.0 requires dask==2023.7.1, but you have dask 2024.2.0 which is incompatible.\r\n",
      "dask-cudf 23.8.0 requires dask==2023.7.1, but you have dask 2024.2.0 which is incompatible.\r\n",
      "dask-cudf 23.8.0 requires pandas<1.6.0dev0,>=1.3, but you have pandas 2.1.4 which is incompatible.\u001b[0m\u001b[31m\r\n",
      "\u001b[0m"
     ]
    }
   ],
   "source": [
    "!pip install -q -U transformers==\"4.38.2\"\n",
    "!pip install -q accelerate\n",
    "!pip install -q -i https://pypi.org/simple/ bitsandbytes\n",
    "!pip install -q -U datasets"
   ]
  },
  {
   "cell_type": "code",
   "execution_count": 3,
   "id": "624a49da",
   "metadata": {
    "execution": {
     "iopub.execute_input": "2024-03-19T20:33:49.662658Z",
     "iopub.status.busy": "2024-03-19T20:33:49.662257Z",
     "iopub.status.idle": "2024-03-19T20:34:43.805022Z",
     "shell.execute_reply": "2024-03-19T20:34:43.803797Z"
    },
    "papermill": {
     "duration": 54.155564,
     "end_time": "2024-03-19T20:34:43.807330",
     "exception": false,
     "start_time": "2024-03-19T20:33:49.651766",
     "status": "completed"
    },
    "tags": []
   },
   "outputs": [],
   "source": [
    "!pip install -q -U git+https://github.com/huggingface/trl\n",
    "!pip install -q -U git+https://github.com/huggingface/peft"
   ]
  },
  {
   "cell_type": "code",
   "execution_count": 4,
   "id": "7c80b9f1",
   "metadata": {
    "execution": {
     "iopub.execute_input": "2024-03-19T20:34:43.825681Z",
     "iopub.status.busy": "2024-03-19T20:34:43.825058Z",
     "iopub.status.idle": "2024-03-19T20:34:43.829692Z",
     "shell.execute_reply": "2024-03-19T20:34:43.828929Z"
    },
    "papermill": {
     "duration": 0.015164,
     "end_time": "2024-03-19T20:34:43.831442",
     "exception": false,
     "start_time": "2024-03-19T20:34:43.816278",
     "status": "completed"
    },
    "tags": []
   },
   "outputs": [],
   "source": [
    "import os\n",
    "os.environ[\"CUDA_VISIBLE_DEVICES\"] = \"0\"\n",
    "os.environ[\"TOKENIZERS_PARALLELISM\"] = \"false\""
   ]
  },
  {
   "cell_type": "code",
   "execution_count": 5,
   "id": "ad0c7ee7",
   "metadata": {
    "execution": {
     "iopub.execute_input": "2024-03-19T20:34:43.847235Z",
     "iopub.status.busy": "2024-03-19T20:34:43.846980Z",
     "iopub.status.idle": "2024-03-19T20:34:43.850646Z",
     "shell.execute_reply": "2024-03-19T20:34:43.849878Z"
    },
    "papermill": {
     "duration": 0.013678,
     "end_time": "2024-03-19T20:34:43.852542",
     "exception": false,
     "start_time": "2024-03-19T20:34:43.838864",
     "status": "completed"
    },
    "tags": []
   },
   "outputs": [],
   "source": [
    "import warnings\n",
    "warnings.filterwarnings(\"ignore\")"
   ]
  },
  {
   "cell_type": "code",
   "execution_count": 6,
   "id": "aa1e1fe7",
   "metadata": {
    "execution": {
     "iopub.execute_input": "2024-03-19T20:34:43.868848Z",
     "iopub.status.busy": "2024-03-19T20:34:43.868171Z",
     "iopub.status.idle": "2024-03-19T20:35:03.319709Z",
     "shell.execute_reply": "2024-03-19T20:35:03.318672Z"
    },
    "papermill": {
     "duration": 19.462381,
     "end_time": "2024-03-19T20:35:03.322358",
     "exception": false,
     "start_time": "2024-03-19T20:34:43.859977",
     "status": "completed"
    },
    "tags": []
   },
   "outputs": [
    {
     "name": "stderr",
     "output_type": "stream",
     "text": [
      "2024-03-19 20:34:52.731163: E external/local_xla/xla/stream_executor/cuda/cuda_dnn.cc:9261] Unable to register cuDNN factory: Attempting to register factory for plugin cuDNN when one has already been registered\n",
      "2024-03-19 20:34:52.731257: E external/local_xla/xla/stream_executor/cuda/cuda_fft.cc:607] Unable to register cuFFT factory: Attempting to register factory for plugin cuFFT when one has already been registered\n",
      "2024-03-19 20:34:52.865043: E external/local_xla/xla/stream_executor/cuda/cuda_blas.cc:1515] Unable to register cuBLAS factory: Attempting to register factory for plugin cuBLAS when one has already been registered\n"
     ]
    }
   ],
   "source": [
    "import numpy as np\n",
    "import pandas as pd\n",
    "pd.set_option('display.max_colwidth', None)\n",
    "\n",
    "import os\n",
    "from tqdm import tqdm\n",
    "\n",
    "import torch\n",
    "import torch.nn as nn\n",
    "\n",
    "import transformers\n",
    "from transformers import (AutoModelForCausalLM, \n",
    "                          AutoTokenizer, \n",
    "                          BitsAndBytesConfig, \n",
    "                          TrainingArguments, \n",
    "                          pipeline, \n",
    "                          logging)\n",
    "from datasets import Dataset\n",
    "from peft import LoraConfig, PeftConfig\n",
    "import bitsandbytes as bnb\n",
    "from trl import SFTTrainer\n",
    "\n",
    "from sklearn.metrics import (accuracy_score, \n",
    "                             classification_report, \n",
    "                             confusion_matrix)\n",
    "from sklearn.model_selection import train_test_split"
   ]
  },
  {
   "cell_type": "code",
   "execution_count": 7,
   "id": "bfc215fb",
   "metadata": {
    "execution": {
     "iopub.execute_input": "2024-03-19T20:35:03.340248Z",
     "iopub.status.busy": "2024-03-19T20:35:03.339564Z",
     "iopub.status.idle": "2024-03-19T20:35:04.041815Z",
     "shell.execute_reply": "2024-03-19T20:35:04.040739Z"
    },
    "papermill": {
     "duration": 0.713784,
     "end_time": "2024-03-19T20:35:04.044597",
     "exception": false,
     "start_time": "2024-03-19T20:35:03.330813",
     "status": "completed"
    },
    "tags": []
   },
   "outputs": [],
   "source": [
    "# Read data\n",
    "submission_path = '/kaggle/input/dtweets/disaster_submission.csv'\n",
    "train_path = '/kaggle/input/dtweets/disaster_train.csv'\n",
    "test_path = '/kaggle/input/dtweets/disaster_test.csv'\n",
    "\n",
    "submission_df = pd.read_csv(submission_path)\n",
    "train_df = pd.read_csv(train_path)\n",
    "test_df = pd.read_csv(test_path)"
   ]
  },
  {
   "cell_type": "code",
   "execution_count": 8,
   "id": "4b83a941",
   "metadata": {
    "execution": {
     "iopub.execute_input": "2024-03-19T20:35:04.062650Z",
     "iopub.status.busy": "2024-03-19T20:35:04.062237Z",
     "iopub.status.idle": "2024-03-19T20:35:04.070529Z",
     "shell.execute_reply": "2024-03-19T20:35:04.069507Z"
    },
    "papermill": {
     "duration": 0.019602,
     "end_time": "2024-03-19T20:35:04.072417",
     "exception": false,
     "start_time": "2024-03-19T20:35:04.052815",
     "status": "completed"
    },
    "tags": []
   },
   "outputs": [
    {
     "data": {
      "text/plain": [
       "['id',\n",
       " 'keyword',\n",
       " 'location',\n",
       " 'text',\n",
       " 'target',\n",
       " 'text_clean',\n",
       " 'location_clean',\n",
       " 'text_location',\n",
       " 'text_location_clean',\n",
       " 'class',\n",
       " 'prompt_text',\n",
       " 'prompt_text_test',\n",
       " 'prompt_text_location',\n",
       " 'prompt_text_location_test',\n",
       " 'prompt_text_clean',\n",
       " 'prompt_text_clean_test',\n",
       " 'prompt_text_location_clean',\n",
       " 'prompt_text_location_clean_test']"
      ]
     },
     "execution_count": 8,
     "metadata": {},
     "output_type": "execute_result"
    }
   ],
   "source": [
    "# Display column names\n",
    "train_df.columns.tolist()"
   ]
  },
  {
   "cell_type": "markdown",
   "id": "197256ab",
   "metadata": {
    "papermill": {
     "duration": 0.00762,
     "end_time": "2024-03-19T20:35:04.087820",
     "exception": false,
     "start_time": "2024-03-19T20:35:04.080200",
     "status": "completed"
    },
    "tags": []
   },
   "source": [
    "* If ***_text*** in name of prompt column - text is included.\n",
    "* If ***_test*** in name of prompt column - there is no answer included.\n",
    "* If ***_location*** in name of prompt column - location is included.\n",
    "* If ***_clean*** in name of prompt column - prompt has been cleaned (see EDA)."
   ]
  },
  {
   "cell_type": "code",
   "execution_count": 9,
   "id": "67c6e22d",
   "metadata": {
    "execution": {
     "iopub.execute_input": "2024-03-19T20:35:04.105224Z",
     "iopub.status.busy": "2024-03-19T20:35:04.104826Z",
     "iopub.status.idle": "2024-03-19T20:35:04.249809Z",
     "shell.execute_reply": "2024-03-19T20:35:04.248966Z"
    },
    "papermill": {
     "duration": 0.156418,
     "end_time": "2024-03-19T20:35:04.252134",
     "exception": false,
     "start_time": "2024-03-19T20:35:04.095716",
     "status": "completed"
    },
    "tags": []
   },
   "outputs": [],
   "source": [
    "# Split train_df into train, eval, test\n",
    "# Keep test_df as held out for submission\n",
    "\n",
    "# Sample equally from yes and no for train test\n",
    "X_train = list()\n",
    "X_test = list()\n",
    "for target in ['yes', 'no']:\n",
    "    train, test  = train_test_split(train_df[train_df['class']==target], \n",
    "                                    train_size=1000,\n",
    "                                    test_size=1000, \n",
    "                                    random_state=1)\n",
    "    X_train.append(train)\n",
    "    X_test.append(test)\n",
    "\n",
    "X_train = pd.concat(X_train).sample(frac=1, random_state=10) # Shuffle\n",
    "X_test = pd.concat(X_test)\n",
    "\n",
    "# Balanced eval set\n",
    "eval_mask = ~train_df.index.isin(X_train.index) & ~train_df.index.isin(X_test.index)\n",
    "X_eval = train_df[eval_mask].groupby('class').apply(\n",
    "    lambda x: x.sample(n=200, random_state=1, replace=True)).reset_index(drop=True)\n",
    "\n",
    "# Reset index for training data\n",
    "X_train = X_train.reset_index(drop=True)\n",
    "\n",
    "y_true = X_test['class']\n",
    "\n",
    "train_data = Dataset.from_pandas(X_train)\n",
    "eval_data = Dataset.from_pandas(X_eval)"
   ]
  },
  {
   "cell_type": "code",
   "execution_count": 10,
   "id": "04149b09",
   "metadata": {
    "execution": {
     "iopub.execute_input": "2024-03-19T20:35:04.269320Z",
     "iopub.status.busy": "2024-03-19T20:35:04.268982Z",
     "iopub.status.idle": "2024-03-19T20:35:04.274014Z",
     "shell.execute_reply": "2024-03-19T20:35:04.273095Z"
    },
    "papermill": {
     "duration": 0.016129,
     "end_time": "2024-03-19T20:35:04.276218",
     "exception": false,
     "start_time": "2024-03-19T20:35:04.260089",
     "status": "completed"
    },
    "tags": []
   },
   "outputs": [
    {
     "name": "stdout",
     "output_type": "stream",
     "text": [
      "(2000, 18) (400, 18) (2000, 18) (3263, 12)\n"
     ]
    }
   ],
   "source": [
    "# Check sizes\n",
    "print(X_train.shape, X_eval.shape, X_test.shape, test_df.shape)"
   ]
  },
  {
   "cell_type": "markdown",
   "id": "7314e63a",
   "metadata": {
    "papermill": {
     "duration": 0.007703,
     "end_time": "2024-03-19T20:35:04.292033",
     "exception": false,
     "start_time": "2024-03-19T20:35:04.284330",
     "status": "completed"
    },
    "tags": []
   },
   "source": [
    "Train\n",
    "* prompt_text - prompt with just text\n",
    "* prompt_text_location - prompt with text and location\n",
    "* prompt_text_clean - prompt with cleaned text\n",
    "* prompt_text_location_clean - prompt with cleaned text and location\n",
    "\n",
    "\n",
    "Test - Same but without model answers\n",
    "* prompt_text_test\n",
    "* prompt_text_location_test\n",
    "* prompt_text_clean_test\n",
    "* prompt_text_location_clean_test"
   ]
  },
  {
   "cell_type": "code",
   "execution_count": 11,
   "id": "0f6d87ec",
   "metadata": {
    "execution": {
     "iopub.execute_input": "2024-03-19T20:35:04.309620Z",
     "iopub.status.busy": "2024-03-19T20:35:04.308956Z",
     "iopub.status.idle": "2024-03-19T20:37:26.065072Z",
     "shell.execute_reply": "2024-03-19T20:37:26.064266Z"
    },
    "papermill": {
     "duration": 141.767562,
     "end_time": "2024-03-19T20:37:26.067374",
     "exception": false,
     "start_time": "2024-03-19T20:35:04.299812",
     "status": "completed"
    },
    "tags": []
   },
   "outputs": [
    {
     "data": {
      "application/vnd.jupyter.widget-view+json": {
       "model_id": "8416732b99314234a8019b82954da4d1",
       "version_major": 2,
       "version_minor": 0
      },
      "text/plain": [
       "Loading checkpoint shards:   0%|          | 0/4 [00:00<?, ?it/s]"
      ]
     },
     "metadata": {},
     "output_type": "display_data"
    }
   ],
   "source": [
    "# Load model + quantization\n",
    "model_name = \"/kaggle/input/gemma/transformers/7b-it/1\"\n",
    "\n",
    "compute_dtype = getattr(torch, \"float16\")\n",
    "\n",
    "bnb_config = BitsAndBytesConfig(\n",
    "    load_in_4bit=True,\n",
    "    bnb_4bit_use_double_quant=False,\n",
    "    bnb_4bit_quant_type=\"nf4\",\n",
    "    bnb_4bit_compute_dtype=compute_dtype,\n",
    ")\n",
    "\n",
    "model = AutoModelForCausalLM.from_pretrained(\n",
    "    model_name,\n",
    "    device_map=\"auto\",\n",
    "    quantization_config=bnb_config, \n",
    ")\n",
    "\n",
    "model.config.use_cache = False\n",
    "model.config.pretraining_tp = 1\n",
    "\n",
    "tokenizer = AutoTokenizer.from_pretrained(model_name)"
   ]
  },
  {
   "cell_type": "code",
   "execution_count": 12,
   "id": "99c283c4",
   "metadata": {
    "execution": {
     "iopub.execute_input": "2024-03-19T20:37:26.085409Z",
     "iopub.status.busy": "2024-03-19T20:37:26.084838Z",
     "iopub.status.idle": "2024-03-19T20:37:28.413779Z",
     "shell.execute_reply": "2024-03-19T20:37:28.412639Z"
    },
    "papermill": {
     "duration": 2.340252,
     "end_time": "2024-03-19T20:37:28.415868",
     "exception": false,
     "start_time": "2024-03-19T20:37:26.075616",
     "status": "completed"
    },
    "tags": []
   },
   "outputs": [
    {
     "name": "stdout",
     "output_type": "stream",
     "text": [
      "text     @Chibi877 --head. It hit the wall behind him with a loud bang. 'Language!' Drake shouted at him before getting up. 'I'm going out stay--\n",
      "class                                                                                                                                         yes\n",
      "Name: 4658, dtype: object\n",
      "\n",
      "Prediction: yes\n"
     ]
    }
   ],
   "source": [
    "# Test of 1\n",
    "print(X_test.iloc[2][['text', 'class']])\n",
    "prompt = X_test.iloc[2]['prompt_text_test']\n",
    "input_ids = tokenizer(prompt, return_tensors=\"pt\").to(\"cuda\")\n",
    "outputs = model.generate(**input_ids, max_new_tokens=1, temperature=0.0)\n",
    "result = tokenizer.decode(outputs[0])\n",
    "answer = result.split(\"model\\n\")[-1].lower()\n",
    "print('\\nPrediction: '+answer)"
   ]
  },
  {
   "cell_type": "code",
   "execution_count": 13,
   "id": "91edeeac",
   "metadata": {
    "execution": {
     "iopub.execute_input": "2024-03-19T20:37:28.433920Z",
     "iopub.status.busy": "2024-03-19T20:37:28.433181Z",
     "iopub.status.idle": "2024-03-19T20:37:28.440032Z",
     "shell.execute_reply": "2024-03-19T20:37:28.439201Z"
    },
    "papermill": {
     "duration": 0.017598,
     "end_time": "2024-03-19T20:37:28.441840",
     "exception": false,
     "start_time": "2024-03-19T20:37:28.424242",
     "status": "completed"
    },
    "tags": []
   },
   "outputs": [],
   "source": [
    "def predict(X_test, prompt_col, model, tokenizer):\n",
    "    y_pred = []\n",
    "    for i in tqdm(range(len(X_test))):\n",
    "        prompt = X_test.iloc[i][prompt_col]\n",
    "        input_ids = tokenizer(prompt, return_tensors=\"pt\").to(\"cuda\")\n",
    "        outputs = model.generate(**input_ids, max_new_tokens=1, temperature=0.0)\n",
    "        result = tokenizer.decode(outputs[0])\n",
    "        answer = result.split(\"model\\n\")[-1].lower()\n",
    "        if answer == 'no':\n",
    "            y_pred.append('no')\n",
    "        elif answer == 'yes':\n",
    "            y_pred.append('yes')\n",
    "        else:\n",
    "            y_pred.append('none')\n",
    "    return y_pred"
   ]
  },
  {
   "cell_type": "code",
   "execution_count": 14,
   "id": "402f9412",
   "metadata": {
    "execution": {
     "iopub.execute_input": "2024-03-19T20:37:28.458885Z",
     "iopub.status.busy": "2024-03-19T20:37:28.458617Z",
     "iopub.status.idle": "2024-03-19T20:37:28.467206Z",
     "shell.execute_reply": "2024-03-19T20:37:28.466524Z"
    },
    "papermill": {
     "duration": 0.0193,
     "end_time": "2024-03-19T20:37:28.469079",
     "exception": false,
     "start_time": "2024-03-19T20:37:28.449779",
     "status": "completed"
    },
    "tags": []
   },
   "outputs": [],
   "source": [
    "def evaluate(y_true, y_pred):\n",
    "    labels = ['yes', 'no']\n",
    "    mapping = {'yes': 1, 'no': 0, 'none':-1}\n",
    "    def map_func(x):\n",
    "        return mapping.get(x, 1)\n",
    "    \n",
    "    y_true = np.vectorize(map_func)(y_true)\n",
    "    y_pred = np.vectorize(map_func)(y_pred)\n",
    "    \n",
    "    # Calculate accuracy\n",
    "    accuracy = accuracy_score(y_true=y_true, y_pred=y_pred)\n",
    "    print(f'Accuracy: {accuracy:.3f}')\n",
    "    \n",
    "    # Generate accuracy report\n",
    "    unique_labels = set(y_true)  # Get unique labels\n",
    "    \n",
    "    for label in unique_labels:\n",
    "        label_indices = [i for i in range(len(y_true)) \n",
    "                         if y_true[i] == label]\n",
    "        label_y_true = [y_true[i] for i in label_indices]\n",
    "        label_y_pred = [y_pred[i] for i in label_indices]\n",
    "        accuracy = accuracy_score(label_y_true, label_y_pred)\n",
    "        print(f'Accuracy for label {label}: {accuracy:.3f}')\n",
    "        \n",
    "    # Generate classification report\n",
    "    class_report = classification_report(y_true=y_true, y_pred=y_pred)\n",
    "    print('\\nClassification Report:')\n",
    "    print(class_report)\n",
    "    \n",
    "    # Generate confusion matrix\n",
    "    conf_matrix = confusion_matrix(y_true=y_true, y_pred=y_pred, labels=[0, 1, 2])\n",
    "    print('\\nConfusion Matrix:')\n",
    "    print(conf_matrix)"
   ]
  },
  {
   "cell_type": "code",
   "execution_count": 15,
   "id": "c624c6e3",
   "metadata": {
    "execution": {
     "iopub.execute_input": "2024-03-19T20:37:28.486459Z",
     "iopub.status.busy": "2024-03-19T20:37:28.485911Z",
     "iopub.status.idle": "2024-03-19T20:51:02.355418Z",
     "shell.execute_reply": "2024-03-19T20:51:02.354199Z"
    },
    "papermill": {
     "duration": 813.880359,
     "end_time": "2024-03-19T20:51:02.357509",
     "exception": false,
     "start_time": "2024-03-19T20:37:28.477150",
     "status": "completed"
    },
    "tags": []
   },
   "outputs": [
    {
     "name": "stderr",
     "output_type": "stream",
     "text": [
      "100%|██████████| 2000/2000 [13:33<00:00,  2.46it/s]"
     ]
    },
    {
     "name": "stdout",
     "output_type": "stream",
     "text": [
      "Accuracy: 0.713\n",
      "Accuracy for label 0: 0.741\n",
      "Accuracy for label 1: 0.684\n",
      "\n",
      "Classification Report:\n",
      "              precision    recall  f1-score   support\n",
      "\n",
      "           0       0.70      0.74      0.72      1000\n",
      "           1       0.73      0.68      0.70      1000\n",
      "\n",
      "    accuracy                           0.71      2000\n",
      "   macro avg       0.71      0.71      0.71      2000\n",
      "weighted avg       0.71      0.71      0.71      2000\n",
      "\n",
      "\n",
      "Confusion Matrix:\n",
      "[[741 259   0]\n",
      " [316 684   0]\n",
      " [  0   0   0]]\n"
     ]
    },
    {
     "name": "stderr",
     "output_type": "stream",
     "text": [
      "\n"
     ]
    }
   ],
   "source": [
    "# Zero shot learning on prompt_text\n",
    "y_pred = predict(X_test, 'prompt_text_test', model, tokenizer)\n",
    "evaluate(y_true, y_pred)"
   ]
  },
  {
   "cell_type": "code",
   "execution_count": 16,
   "id": "01f9a9be",
   "metadata": {
    "execution": {
     "iopub.execute_input": "2024-03-19T20:51:02.681295Z",
     "iopub.status.busy": "2024-03-19T20:51:02.680961Z",
     "iopub.status.idle": "2024-03-19T21:05:08.241474Z",
     "shell.execute_reply": "2024-03-19T21:05:08.240381Z"
    },
    "papermill": {
     "duration": 845.724841,
     "end_time": "2024-03-19T21:05:08.243705",
     "exception": false,
     "start_time": "2024-03-19T20:51:02.518864",
     "status": "completed"
    },
    "tags": []
   },
   "outputs": [
    {
     "name": "stderr",
     "output_type": "stream",
     "text": [
      "100%|██████████| 2000/2000 [14:05<00:00,  2.37it/s]"
     ]
    },
    {
     "name": "stdout",
     "output_type": "stream",
     "text": [
      "Accuracy: 0.698\n",
      "Accuracy for label 0: 0.819\n",
      "Accuracy for label 1: 0.576\n",
      "\n",
      "Classification Report:\n",
      "              precision    recall  f1-score   support\n",
      "\n",
      "           0       0.66      0.82      0.73      1000\n",
      "           1       0.76      0.58      0.66      1000\n",
      "\n",
      "    accuracy                           0.70      2000\n",
      "   macro avg       0.71      0.70      0.69      2000\n",
      "weighted avg       0.71      0.70      0.69      2000\n",
      "\n",
      "\n",
      "Confusion Matrix:\n",
      "[[819 181   0]\n",
      " [424 576   0]\n",
      " [  0   0   0]]\n"
     ]
    },
    {
     "name": "stderr",
     "output_type": "stream",
     "text": [
      "\n"
     ]
    }
   ],
   "source": [
    "# Zero shot learning on prompt_text_location\n",
    "y_pred = predict(X_test, 'prompt_text_location_test', model, tokenizer)\n",
    "evaluate(y_true, y_pred)"
   ]
  },
  {
   "cell_type": "code",
   "execution_count": 17,
   "id": "f6a8a232",
   "metadata": {
    "execution": {
     "iopub.execute_input": "2024-03-19T21:05:08.876952Z",
     "iopub.status.busy": "2024-03-19T21:05:08.876214Z",
     "iopub.status.idle": "2024-03-19T21:18:02.403052Z",
     "shell.execute_reply": "2024-03-19T21:18:02.401840Z"
    },
    "papermill": {
     "duration": 773.844518,
     "end_time": "2024-03-19T21:18:02.405208",
     "exception": false,
     "start_time": "2024-03-19T21:05:08.560690",
     "status": "completed"
    },
    "tags": []
   },
   "outputs": [
    {
     "name": "stderr",
     "output_type": "stream",
     "text": [
      "100%|██████████| 2000/2000 [12:53<00:00,  2.59it/s]"
     ]
    },
    {
     "name": "stdout",
     "output_type": "stream",
     "text": [
      "Accuracy: 0.713\n",
      "Accuracy for label 0: 0.749\n",
      "Accuracy for label 1: 0.677\n",
      "\n",
      "Classification Report:\n",
      "              precision    recall  f1-score   support\n",
      "\n",
      "           0       0.70      0.75      0.72      1000\n",
      "           1       0.73      0.68      0.70      1000\n",
      "\n",
      "    accuracy                           0.71      2000\n",
      "   macro avg       0.71      0.71      0.71      2000\n",
      "weighted avg       0.71      0.71      0.71      2000\n",
      "\n",
      "\n",
      "Confusion Matrix:\n",
      "[[749 251   0]\n",
      " [323 677   0]\n",
      " [  0   0   0]]\n"
     ]
    },
    {
     "name": "stderr",
     "output_type": "stream",
     "text": [
      "\n"
     ]
    }
   ],
   "source": [
    "# Zero shot learning on prompt_text_clean\n",
    "y_pred = predict(X_test, 'prompt_text_clean_test', model, tokenizer)\n",
    "evaluate(y_true, y_pred)"
   ]
  },
  {
   "cell_type": "code",
   "execution_count": 18,
   "id": "039a34f0",
   "metadata": {
    "execution": {
     "iopub.execute_input": "2024-03-19T21:18:03.417634Z",
     "iopub.status.busy": "2024-03-19T21:18:03.416679Z",
     "iopub.status.idle": "2024-03-19T21:31:35.556906Z",
     "shell.execute_reply": "2024-03-19T21:31:35.555868Z"
    },
    "papermill": {
     "duration": 812.617775,
     "end_time": "2024-03-19T21:31:35.559189",
     "exception": false,
     "start_time": "2024-03-19T21:18:02.941414",
     "status": "completed"
    },
    "tags": []
   },
   "outputs": [
    {
     "name": "stderr",
     "output_type": "stream",
     "text": [
      "100%|██████████| 2000/2000 [13:32<00:00,  2.46it/s]"
     ]
    },
    {
     "name": "stdout",
     "output_type": "stream",
     "text": [
      "Accuracy: 0.697\n",
      "Accuracy for label 0: 0.826\n",
      "Accuracy for label 1: 0.567\n",
      "\n",
      "Classification Report:\n",
      "              precision    recall  f1-score   support\n",
      "\n",
      "           0       0.66      0.83      0.73      1000\n",
      "           1       0.77      0.57      0.65      1000\n",
      "\n",
      "    accuracy                           0.70      2000\n",
      "   macro avg       0.71      0.70      0.69      2000\n",
      "weighted avg       0.71      0.70      0.69      2000\n",
      "\n",
      "\n",
      "Confusion Matrix:\n",
      "[[826 174   0]\n",
      " [433 567   0]\n",
      " [  0   0   0]]\n"
     ]
    },
    {
     "name": "stderr",
     "output_type": "stream",
     "text": [
      "\n"
     ]
    }
   ],
   "source": [
    "# Zero shot learning on prompt_text_location_clean\n",
    "y_pred = predict(X_test, 'prompt_text_location_clean_test', model, tokenizer)\n",
    "evaluate(y_true, y_pred)"
   ]
  },
  {
   "cell_type": "markdown",
   "id": "0acfd9d7",
   "metadata": {
    "papermill": {
     "duration": 0.62337,
     "end_time": "2024-03-19T21:31:36.818113",
     "exception": false,
     "start_time": "2024-03-19T21:31:36.194743",
     "status": "completed"
    },
    "tags": []
   },
   "source": [
    "* The best prompt for zero-shot learning is not necessarily the best prompt for fine-tuning;\n",
    "* However, for simplicity, we will continue with prompt_text."
   ]
  },
  {
   "cell_type": "markdown",
   "id": "abe18e71",
   "metadata": {
    "papermill": {
     "duration": 0.673316,
     "end_time": "2024-03-19T21:31:38.111585",
     "exception": false,
     "start_time": "2024-03-19T21:31:37.438269",
     "status": "completed"
    },
    "tags": []
   },
   "source": [
    "# Fine tuning"
   ]
  },
  {
   "cell_type": "code",
   "execution_count": 19,
   "id": "f2a0932d",
   "metadata": {
    "execution": {
     "iopub.execute_input": "2024-03-19T21:31:39.355316Z",
     "iopub.status.busy": "2024-03-19T21:31:39.354946Z",
     "iopub.status.idle": "2024-03-19T21:31:43.359939Z",
     "shell.execute_reply": "2024-03-19T21:31:43.359029Z"
    },
    "papermill": {
     "duration": 4.629266,
     "end_time": "2024-03-19T21:31:43.362033",
     "exception": false,
     "start_time": "2024-03-19T21:31:38.732767",
     "status": "completed"
    },
    "tags": []
   },
   "outputs": [
    {
     "data": {
      "application/vnd.jupyter.widget-view+json": {
       "model_id": "de1b4e2bf7c946c98f4c392deb30a2c7",
       "version_major": 2,
       "version_minor": 0
      },
      "text/plain": [
       "Map:   0%|          | 0/2000 [00:00<?, ? examples/s]"
      ]
     },
     "metadata": {},
     "output_type": "display_data"
    },
    {
     "data": {
      "application/vnd.jupyter.widget-view+json": {
       "model_id": "c1b2bafd22ef4481941a6281126b6932",
       "version_major": 2,
       "version_minor": 0
      },
      "text/plain": [
       "Map:   0%|          | 0/400 [00:00<?, ? examples/s]"
      ]
     },
     "metadata": {},
     "output_type": "display_data"
    }
   ],
   "source": [
    "# Fine tuning\n",
    "peft_config = LoraConfig(\n",
    "    lora_alpha=16,\n",
    "    lora_dropout=0.1,\n",
    "    r=64,\n",
    "    bias=\"none\",\n",
    "    task_type=\"CAUSAL_LM\",\n",
    "    target_modules=\"all-linear\",\n",
    ")\n",
    "\n",
    "training_arguments = TrainingArguments(\n",
    "    output_dir=\"logs\",\n",
    "    num_train_epochs= 10,\n",
    "    gradient_checkpointing=True,\n",
    "    per_device_train_batch_size=1,\n",
    "    gradient_accumulation_steps=8,\n",
    "    optim=\"paged_adamw_32bit\",\n",
    "    save_steps=0,\n",
    "    logging_steps=25,\n",
    "    learning_rate=1e-5, # 2e-4,\n",
    "    weight_decay=0.001,\n",
    "    fp16=True,\n",
    "    bf16=False,\n",
    "    max_grad_norm=0.3,\n",
    "    max_steps=-1,\n",
    "    warmup_ratio=0.03,\n",
    "    group_by_length=False,\n",
    "    evaluation_strategy='steps',\n",
    "    eval_steps = 112,\n",
    "    eval_accumulation_steps=1,\n",
    "    lr_scheduler_type=\"cosine\",\n",
    "    report_to=\"tensorboard\",\n",
    "    load_best_model_at_end=True\n",
    ")\n",
    "\n",
    "trainer = SFTTrainer(\n",
    "    model=model,\n",
    "    train_dataset=train_data,\n",
    "    eval_dataset=eval_data,\n",
    "    peft_config=peft_config,\n",
    "    dataset_text_field=\"prompt_text\",\n",
    "    tokenizer=tokenizer,\n",
    "    args=training_arguments,\n",
    "    packing=False,\n",
    "    max_seq_length=1024,\n",
    ")"
   ]
  },
  {
   "cell_type": "code",
   "execution_count": 20,
   "id": "92fa35a5",
   "metadata": {
    "execution": {
     "iopub.execute_input": "2024-03-19T21:31:44.688339Z",
     "iopub.status.busy": "2024-03-19T21:31:44.687972Z",
     "iopub.status.idle": "2024-03-20T06:50:06.860973Z",
     "shell.execute_reply": "2024-03-20T06:50:06.860133Z"
    },
    "papermill": {
     "duration": 33502.802805,
     "end_time": "2024-03-20T06:50:06.863366",
     "exception": false,
     "start_time": "2024-03-19T21:31:44.060561",
     "status": "completed"
    },
    "tags": []
   },
   "outputs": [
    {
     "data": {
      "text/html": [
       "\n",
       "    <div>\n",
       "      \n",
       "      <progress value='2500' max='2500' style='width:300px; height:20px; vertical-align: middle;'></progress>\n",
       "      [2500/2500 9:18:07, Epoch 10/10]\n",
       "    </div>\n",
       "    <table border=\"1\" class=\"dataframe\">\n",
       "  <thead>\n",
       " <tr style=\"text-align: left;\">\n",
       "      <th>Step</th>\n",
       "      <th>Training Loss</th>\n",
       "      <th>Validation Loss</th>\n",
       "    </tr>\n",
       "  </thead>\n",
       "  <tbody>\n",
       "    <tr>\n",
       "      <td>112</td>\n",
       "      <td>8.091100</td>\n",
       "      <td>6.570001</td>\n",
       "    </tr>\n",
       "    <tr>\n",
       "      <td>224</td>\n",
       "      <td>1.932300</td>\n",
       "      <td>2.486853</td>\n",
       "    </tr>\n",
       "    <tr>\n",
       "      <td>336</td>\n",
       "      <td>1.707300</td>\n",
       "      <td>2.380934</td>\n",
       "    </tr>\n",
       "    <tr>\n",
       "      <td>448</td>\n",
       "      <td>1.628000</td>\n",
       "      <td>2.215848</td>\n",
       "    </tr>\n",
       "    <tr>\n",
       "      <td>560</td>\n",
       "      <td>1.539000</td>\n",
       "      <td>2.159886</td>\n",
       "    </tr>\n",
       "    <tr>\n",
       "      <td>672</td>\n",
       "      <td>1.539100</td>\n",
       "      <td>2.049676</td>\n",
       "    </tr>\n",
       "    <tr>\n",
       "      <td>784</td>\n",
       "      <td>1.459800</td>\n",
       "      <td>1.990851</td>\n",
       "    </tr>\n",
       "    <tr>\n",
       "      <td>896</td>\n",
       "      <td>1.434900</td>\n",
       "      <td>2.002928</td>\n",
       "    </tr>\n",
       "    <tr>\n",
       "      <td>1008</td>\n",
       "      <td>1.446200</td>\n",
       "      <td>1.966661</td>\n",
       "    </tr>\n",
       "    <tr>\n",
       "      <td>1120</td>\n",
       "      <td>1.397800</td>\n",
       "      <td>2.022536</td>\n",
       "    </tr>\n",
       "    <tr>\n",
       "      <td>1232</td>\n",
       "      <td>1.283400</td>\n",
       "      <td>1.986388</td>\n",
       "    </tr>\n",
       "    <tr>\n",
       "      <td>1344</td>\n",
       "      <td>1.208800</td>\n",
       "      <td>2.106549</td>\n",
       "    </tr>\n",
       "    <tr>\n",
       "      <td>1456</td>\n",
       "      <td>1.220500</td>\n",
       "      <td>2.116651</td>\n",
       "    </tr>\n",
       "    <tr>\n",
       "      <td>1568</td>\n",
       "      <td>1.103600</td>\n",
       "      <td>2.188771</td>\n",
       "    </tr>\n",
       "    <tr>\n",
       "      <td>1680</td>\n",
       "      <td>1.105300</td>\n",
       "      <td>2.197748</td>\n",
       "    </tr>\n",
       "    <tr>\n",
       "      <td>1792</td>\n",
       "      <td>1.008900</td>\n",
       "      <td>2.272953</td>\n",
       "    </tr>\n",
       "    <tr>\n",
       "      <td>1904</td>\n",
       "      <td>1.042000</td>\n",
       "      <td>2.299040</td>\n",
       "    </tr>\n",
       "    <tr>\n",
       "      <td>2016</td>\n",
       "      <td>1.064600</td>\n",
       "      <td>2.334436</td>\n",
       "    </tr>\n",
       "    <tr>\n",
       "      <td>2128</td>\n",
       "      <td>1.039500</td>\n",
       "      <td>2.350386</td>\n",
       "    </tr>\n",
       "    <tr>\n",
       "      <td>2240</td>\n",
       "      <td>0.963300</td>\n",
       "      <td>2.362638</td>\n",
       "    </tr>\n",
       "    <tr>\n",
       "      <td>2352</td>\n",
       "      <td>0.942500</td>\n",
       "      <td>2.392007</td>\n",
       "    </tr>\n",
       "    <tr>\n",
       "      <td>2464</td>\n",
       "      <td>0.971700</td>\n",
       "      <td>2.385561</td>\n",
       "    </tr>\n",
       "  </tbody>\n",
       "</table><p>"
      ],
      "text/plain": [
       "<IPython.core.display.HTML object>"
      ]
     },
     "metadata": {},
     "output_type": "display_data"
    }
   ],
   "source": [
    "# Train model\n",
    "trainer.train()\n",
    "\n",
    "# Save trained model\n",
    "trainer.model.save_pretrained(\"trained-model\")"
   ]
  },
  {
   "cell_type": "code",
   "execution_count": 21,
   "id": "3e5c1fdd",
   "metadata": {
    "execution": {
     "iopub.execute_input": "2024-03-20T06:50:08.114965Z",
     "iopub.status.busy": "2024-03-20T06:50:08.113956Z",
     "iopub.status.idle": "2024-03-20T07:05:04.640266Z",
     "shell.execute_reply": "2024-03-20T07:05:04.639150Z"
    },
    "papermill": {
     "duration": 897.153648,
     "end_time": "2024-03-20T07:05:04.642721",
     "exception": false,
     "start_time": "2024-03-20T06:50:07.489073",
     "status": "completed"
    },
    "tags": []
   },
   "outputs": [
    {
     "name": "stderr",
     "output_type": "stream",
     "text": [
      "  0%|          | 0/2000 [00:00<?, ?it/s]`use_cache=True` is incompatible with gradient checkpointing. Setting `use_cache=False`.\n",
      "100%|██████████| 2000/2000 [14:56<00:00,  2.23it/s]"
     ]
    },
    {
     "name": "stdout",
     "output_type": "stream",
     "text": [
      "Accuracy: 0.809\n",
      "Accuracy for label 0: 0.867\n",
      "Accuracy for label 1: 0.751\n",
      "\n",
      "Classification Report:\n",
      "              precision    recall  f1-score   support\n",
      "\n",
      "           0       0.78      0.87      0.82      1000\n",
      "           1       0.85      0.75      0.80      1000\n",
      "\n",
      "    accuracy                           0.81      2000\n",
      "   macro avg       0.81      0.81      0.81      2000\n",
      "weighted avg       0.81      0.81      0.81      2000\n",
      "\n",
      "\n",
      "Confusion Matrix:\n",
      "[[867 133   0]\n",
      " [249 751   0]\n",
      " [  0   0   0]]\n"
     ]
    },
    {
     "name": "stderr",
     "output_type": "stream",
     "text": [
      "\n"
     ]
    }
   ],
   "source": [
    "# predict and evaluate\n",
    "y_pred = predict(X_test, 'prompt_text_test', model, tokenizer)\n",
    "evaluate(y_true, y_pred)"
   ]
  },
  {
   "cell_type": "code",
   "execution_count": 22,
   "id": "7207f2f6",
   "metadata": {
    "execution": {
     "iopub.execute_input": "2024-03-20T07:05:06.240018Z",
     "iopub.status.busy": "2024-03-20T07:05:06.239562Z",
     "iopub.status.idle": "2024-03-20T07:05:06.259385Z",
     "shell.execute_reply": "2024-03-20T07:05:06.258503Z"
    },
    "papermill": {
     "duration": 0.805258,
     "end_time": "2024-03-20T07:05:06.261300",
     "exception": false,
     "start_time": "2024-03-20T07:05:05.456042",
     "status": "completed"
    },
    "tags": []
   },
   "outputs": [
    {
     "data": {
      "text/html": [
       "<div>\n",
       "<style scoped>\n",
       "    .dataframe tbody tr th:only-of-type {\n",
       "        vertical-align: middle;\n",
       "    }\n",
       "\n",
       "    .dataframe tbody tr th {\n",
       "        vertical-align: top;\n",
       "    }\n",
       "\n",
       "    .dataframe thead th {\n",
       "        text-align: right;\n",
       "    }\n",
       "</style>\n",
       "<table border=\"1\" class=\"dataframe\">\n",
       "  <thead>\n",
       "    <tr style=\"text-align: right;\">\n",
       "      <th></th>\n",
       "      <th>id</th>\n",
       "      <th>keyword</th>\n",
       "      <th>location</th>\n",
       "      <th>text</th>\n",
       "      <th>text_clean</th>\n",
       "      <th>location_clean</th>\n",
       "      <th>text_location</th>\n",
       "      <th>text_location_clean</th>\n",
       "      <th>prompt_text_test</th>\n",
       "      <th>prompt_text_location_test</th>\n",
       "      <th>prompt_text_clean_test</th>\n",
       "      <th>prompt_text_location_clean_test</th>\n",
       "    </tr>\n",
       "  </thead>\n",
       "  <tbody>\n",
       "    <tr>\n",
       "      <th>40</th>\n",
       "      <td>125</td>\n",
       "      <td>accident</td>\n",
       "      <td>Frankfurt, Germany</td>\n",
       "      <td>@DaveOshry @Soembie So if I say that I met her by accident this week- would you be super jelly Dave? :p</td>\n",
       "      <td>@DaveOshry @Soembie So if I say that I met her by accident this week would you be super jelly Dave? p</td>\n",
       "      <td>Frankfurt, Germany</td>\n",
       "      <td>Location: Frankfurt, Germany. Tweet: @DaveOshry @Soembie So if I say that I met her by accident this week- would you be super jelly Dave? :p</td>\n",
       "      <td>Location: Frankfurt, Germany. Tweet: @DaveOshry @Soembie So if I say that I met her by accident this week would you be super jelly Dave? p</td>\n",
       "      <td>&lt;bos&gt;&lt;start_of_turn&gt;user\\nIdentify if the folowing Tweet is part of a thread discussing a disaster (yes/ no):\\n[ @DaveOshry @Soembie So if I say that I met her by accident this week- would you be super jelly Dave? :p ] &lt;end_of_turn&gt;\\n&lt;start_of_turn&gt;model\\n</td>\n",
       "      <td>&lt;bos&gt;&lt;start_of_turn&gt;user\\nIdentify if the folowing Tweet is part of a thread discussing a disaster (yes/ no):\\n[ Location: Frankfurt, Germany. Tweet: @DaveOshry @Soembie So if I say that I met her by accident this week- would you be super jelly Dave? :p ] &lt;end_of_turn&gt;\\n&lt;start_of_turn&gt;model\\n</td>\n",
       "      <td>&lt;bos&gt;&lt;start_of_turn&gt;user\\nIdentify if the folowing Tweet is part of a thread discussing a disaster (yes/ no):\\n[ @DaveOshry @Soembie So if I say that I met her by accident this week would you be super jelly Dave? p ] &lt;end_of_turn&gt;\\n&lt;start_of_turn&gt;model\\n</td>\n",
       "      <td>&lt;bos&gt;&lt;start_of_turn&gt;user\\nIdentify if the folowing Tweet is part of a thread discussing a disaster (yes/ no):\\n[ Location: Frankfurt, Germany. Tweet: @DaveOshry @Soembie So if I say that I met her by accident this week would you be super jelly Dave? p ] &lt;end_of_turn&gt;\\n&lt;start_of_turn&gt;model\\n</td>\n",
       "    </tr>\n",
       "  </tbody>\n",
       "</table>\n",
       "</div>"
      ],
      "text/plain": [
       "     id   keyword            location  \\\n",
       "40  125  accident  Frankfurt, Germany   \n",
       "\n",
       "                                                                                                       text  \\\n",
       "40  @DaveOshry @Soembie So if I say that I met her by accident this week- would you be super jelly Dave? :p   \n",
       "\n",
       "                                                                                               text_clean  \\\n",
       "40  @DaveOshry @Soembie So if I say that I met her by accident this week would you be super jelly Dave? p   \n",
       "\n",
       "        location_clean  \\\n",
       "40  Frankfurt, Germany   \n",
       "\n",
       "                                                                                                                                   text_location  \\\n",
       "40  Location: Frankfurt, Germany. Tweet: @DaveOshry @Soembie So if I say that I met her by accident this week- would you be super jelly Dave? :p   \n",
       "\n",
       "                                                                                                                           text_location_clean  \\\n",
       "40  Location: Frankfurt, Germany. Tweet: @DaveOshry @Soembie So if I say that I met her by accident this week would you be super jelly Dave? p   \n",
       "\n",
       "                                                                                                                                                                                                                                                    prompt_text_test  \\\n",
       "40  <bos><start_of_turn>user\\nIdentify if the folowing Tweet is part of a thread discussing a disaster (yes/ no):\\n[ @DaveOshry @Soembie So if I say that I met her by accident this week- would you be super jelly Dave? :p ] <end_of_turn>\\n<start_of_turn>model\\n   \n",
       "\n",
       "                                                                                                                                                                                                                                                                                prompt_text_location_test  \\\n",
       "40  <bos><start_of_turn>user\\nIdentify if the folowing Tweet is part of a thread discussing a disaster (yes/ no):\\n[ Location: Frankfurt, Germany. Tweet: @DaveOshry @Soembie So if I say that I met her by accident this week- would you be super jelly Dave? :p ] <end_of_turn>\\n<start_of_turn>model\\n   \n",
       "\n",
       "                                                                                                                                                                                                                                            prompt_text_clean_test  \\\n",
       "40  <bos><start_of_turn>user\\nIdentify if the folowing Tweet is part of a thread discussing a disaster (yes/ no):\\n[ @DaveOshry @Soembie So if I say that I met her by accident this week would you be super jelly Dave? p ] <end_of_turn>\\n<start_of_turn>model\\n   \n",
       "\n",
       "                                                                                                                                                                                                                                                                        prompt_text_location_clean_test  \n",
       "40  <bos><start_of_turn>user\\nIdentify if the folowing Tweet is part of a thread discussing a disaster (yes/ no):\\n[ Location: Frankfurt, Germany. Tweet: @DaveOshry @Soembie So if I say that I met her by accident this week would you be super jelly Dave? p ] <end_of_turn>\\n<start_of_turn>model\\n  "
      ]
     },
     "execution_count": 22,
     "metadata": {},
     "output_type": "execute_result"
    }
   ],
   "source": [
    "test_df.iloc[[40]]"
   ]
  },
  {
   "cell_type": "code",
   "execution_count": 23,
   "id": "11995c69",
   "metadata": {
    "execution": {
     "iopub.execute_input": "2024-03-20T07:05:07.965759Z",
     "iopub.status.busy": "2024-03-20T07:05:07.965019Z",
     "iopub.status.idle": "2024-03-20T07:29:27.253209Z",
     "shell.execute_reply": "2024-03-20T07:29:27.252043Z"
    },
    "papermill": {
     "duration": 1460.19681,
     "end_time": "2024-03-20T07:29:27.255264",
     "exception": false,
     "start_time": "2024-03-20T07:05:07.058454",
     "status": "completed"
    },
    "tags": []
   },
   "outputs": [
    {
     "name": "stderr",
     "output_type": "stream",
     "text": [
      "100%|██████████| 3263/3263 [24:19<00:00,  2.24it/s]\n"
     ]
    }
   ],
   "source": [
    "# Save submission\n",
    "y_pred = predict(test_df, 'prompt_text_test', model, tokenizer)\n",
    "submission_df['target'] = y_pred\n",
    "# If fail, default to yes (to maximise sub score)\n",
    "submission_df['target'] = submission_df['target'].apply(lambda x: 0 if x == 'no' else 1)\n",
    "submission_df.to_csv('submission1.csv', index=False)"
   ]
  },
  {
   "cell_type": "code",
   "execution_count": 24,
   "id": "01550105",
   "metadata": {
    "execution": {
     "iopub.execute_input": "2024-03-20T07:29:29.460753Z",
     "iopub.status.busy": "2024-03-20T07:29:29.459876Z",
     "iopub.status.idle": "2024-03-20T07:29:54.993248Z",
     "shell.execute_reply": "2024-03-20T07:29:54.991902Z"
    },
    "papermill": {
     "duration": 26.704802,
     "end_time": "2024-03-20T07:29:54.995913",
     "exception": false,
     "start_time": "2024-03-20T07:29:28.291111",
     "status": "completed"
    },
    "tags": []
   },
   "outputs": [],
   "source": [
    "# Save model\n",
    "torch.save(model.state_dict(), '/kaggle/working/gemma_7b_it_disaster_tweets.pth')"
   ]
  }
 ],
 "metadata": {
  "kaggle": {
   "accelerator": "gpu",
   "dataSources": [
    {
     "datasetId": 4586600,
     "sourceId": 7826937,
     "sourceType": "datasetVersion"
    },
    {
     "modelInstanceId": 8332,
     "sourceId": 11261,
     "sourceType": "modelInstanceVersion"
    }
   ],
   "dockerImageVersionId": 30665,
   "isGpuEnabled": true,
   "isInternetEnabled": true,
   "language": "python",
   "sourceType": "notebook"
  },
  "kernelspec": {
   "display_name": "Python 3",
   "language": "python",
   "name": "python3"
  },
  "language_info": {
   "codemirror_mode": {
    "name": "ipython",
    "version": 3
   },
   "file_extension": ".py",
   "mimetype": "text/x-python",
   "name": "python",
   "nbconvert_exporter": "python",
   "pygments_lexer": "ipython3",
   "version": "3.10.13"
  },
  "papermill": {
   "default_parameters": {},
   "duration": 39463.4894,
   "end_time": "2024-03-20T07:30:00.090210",
   "environment_variables": {},
   "exception": null,
   "input_path": "__notebook__.ipynb",
   "output_path": "__notebook__.ipynb",
   "parameters": {},
   "start_time": "2024-03-19T20:32:16.600810",
   "version": "2.5.0"
  },
  "widgets": {
   "application/vnd.jupyter.widget-state+json": {
    "state": {
     "158ebe96d6f24f19a5ebd315648ca03b": {
      "model_module": "@jupyter-widgets/base",
      "model_module_version": "1.2.0",
      "model_name": "LayoutModel",
      "state": {
       "_model_module": "@jupyter-widgets/base",
       "_model_module_version": "1.2.0",
       "_model_name": "LayoutModel",
       "_view_count": null,
       "_view_module": "@jupyter-widgets/base",
       "_view_module_version": "1.2.0",
       "_view_name": "LayoutView",
       "align_content": null,
       "align_items": null,
       "align_self": null,
       "border": null,
       "bottom": null,
       "display": null,
       "flex": null,
       "flex_flow": null,
       "grid_area": null,
       "grid_auto_columns": null,
       "grid_auto_flow": null,
       "grid_auto_rows": null,
       "grid_column": null,
       "grid_gap": null,
       "grid_row": null,
       "grid_template_areas": null,
       "grid_template_columns": null,
       "grid_template_rows": null,
       "height": null,
       "justify_content": null,
       "justify_items": null,
       "left": null,
       "margin": null,
       "max_height": null,
       "max_width": null,
       "min_height": null,
       "min_width": null,
       "object_fit": null,
       "object_position": null,
       "order": null,
       "overflow": null,
       "overflow_x": null,
       "overflow_y": null,
       "padding": null,
       "right": null,
       "top": null,
       "visibility": null,
       "width": null
      }
     },
     "1a0a67d92d874524ab97bfbae22cf4d1": {
      "model_module": "@jupyter-widgets/controls",
      "model_module_version": "1.5.0",
      "model_name": "FloatProgressModel",
      "state": {
       "_dom_classes": [],
       "_model_module": "@jupyter-widgets/controls",
       "_model_module_version": "1.5.0",
       "_model_name": "FloatProgressModel",
       "_view_count": null,
       "_view_module": "@jupyter-widgets/controls",
       "_view_module_version": "1.5.0",
       "_view_name": "ProgressView",
       "bar_style": "success",
       "description": "",
       "description_tooltip": null,
       "layout": "IPY_MODEL_b0705199a8e841088b6db6afb7201be4",
       "max": 400.0,
       "min": 0.0,
       "orientation": "horizontal",
       "style": "IPY_MODEL_7f9d06956a0f475ba6afeecb3e563add",
       "value": 400.0
      }
     },
     "2343da8f28bc4f41ac76e2b10e0203c0": {
      "model_module": "@jupyter-widgets/controls",
      "model_module_version": "1.5.0",
      "model_name": "HTMLModel",
      "state": {
       "_dom_classes": [],
       "_model_module": "@jupyter-widgets/controls",
       "_model_module_version": "1.5.0",
       "_model_name": "HTMLModel",
       "_view_count": null,
       "_view_module": "@jupyter-widgets/controls",
       "_view_module_version": "1.5.0",
       "_view_name": "HTMLView",
       "description": "",
       "description_tooltip": null,
       "layout": "IPY_MODEL_61be2e4c0a5f4c00bf735a63f44345e2",
       "placeholder": "​",
       "style": "IPY_MODEL_4c82870f23f644e6af7f964cf0a90c2d",
       "value": "Map: 100%"
      }
     },
     "243a5ccacdd5434fa4fc32560554bade": {
      "model_module": "@jupyter-widgets/controls",
      "model_module_version": "1.5.0",
      "model_name": "HTMLModel",
      "state": {
       "_dom_classes": [],
       "_model_module": "@jupyter-widgets/controls",
       "_model_module_version": "1.5.0",
       "_model_name": "HTMLModel",
       "_view_count": null,
       "_view_module": "@jupyter-widgets/controls",
       "_view_module_version": "1.5.0",
       "_view_name": "HTMLView",
       "description": "",
       "description_tooltip": null,
       "layout": "IPY_MODEL_e43f5d9a176f4e44a7ea82dc99699d07",
       "placeholder": "​",
       "style": "IPY_MODEL_d961ae1955e74f8596f9ea09e03b3fb2",
       "value": " 4/4 [02:19&lt;00:00, 31.54s/it]"
      }
     },
     "2552ea61b0ea49c988a0cc14e87c1e99": {
      "model_module": "@jupyter-widgets/base",
      "model_module_version": "1.2.0",
      "model_name": "LayoutModel",
      "state": {
       "_model_module": "@jupyter-widgets/base",
       "_model_module_version": "1.2.0",
       "_model_name": "LayoutModel",
       "_view_count": null,
       "_view_module": "@jupyter-widgets/base",
       "_view_module_version": "1.2.0",
       "_view_name": "LayoutView",
       "align_content": null,
       "align_items": null,
       "align_self": null,
       "border": null,
       "bottom": null,
       "display": null,
       "flex": null,
       "flex_flow": null,
       "grid_area": null,
       "grid_auto_columns": null,
       "grid_auto_flow": null,
       "grid_auto_rows": null,
       "grid_column": null,
       "grid_gap": null,
       "grid_row": null,
       "grid_template_areas": null,
       "grid_template_columns": null,
       "grid_template_rows": null,
       "height": null,
       "justify_content": null,
       "justify_items": null,
       "left": null,
       "margin": null,
       "max_height": null,
       "max_width": null,
       "min_height": null,
       "min_width": null,
       "object_fit": null,
       "object_position": null,
       "order": null,
       "overflow": null,
       "overflow_x": null,
       "overflow_y": null,
       "padding": null,
       "right": null,
       "top": null,
       "visibility": null,
       "width": null
      }
     },
     "4c501f7bad3e41da9884ddf86fb7990d": {
      "model_module": "@jupyter-widgets/controls",
      "model_module_version": "1.5.0",
      "model_name": "HTMLModel",
      "state": {
       "_dom_classes": [],
       "_model_module": "@jupyter-widgets/controls",
       "_model_module_version": "1.5.0",
       "_model_name": "HTMLModel",
       "_view_count": null,
       "_view_module": "@jupyter-widgets/controls",
       "_view_module_version": "1.5.0",
       "_view_name": "HTMLView",
       "description": "",
       "description_tooltip": null,
       "layout": "IPY_MODEL_158ebe96d6f24f19a5ebd315648ca03b",
       "placeholder": "​",
       "style": "IPY_MODEL_b411777819ed4a2c9b3efcb7b13c9035",
       "value": "Loading checkpoint shards: 100%"
      }
     },
     "4c82870f23f644e6af7f964cf0a90c2d": {
      "model_module": "@jupyter-widgets/controls",
      "model_module_version": "1.5.0",
      "model_name": "DescriptionStyleModel",
      "state": {
       "_model_module": "@jupyter-widgets/controls",
       "_model_module_version": "1.5.0",
       "_model_name": "DescriptionStyleModel",
       "_view_count": null,
       "_view_module": "@jupyter-widgets/base",
       "_view_module_version": "1.2.0",
       "_view_name": "StyleView",
       "description_width": ""
      }
     },
     "58a99f58cafd4f7e82da5479eb6237c0": {
      "model_module": "@jupyter-widgets/base",
      "model_module_version": "1.2.0",
      "model_name": "LayoutModel",
      "state": {
       "_model_module": "@jupyter-widgets/base",
       "_model_module_version": "1.2.0",
       "_model_name": "LayoutModel",
       "_view_count": null,
       "_view_module": "@jupyter-widgets/base",
       "_view_module_version": "1.2.0",
       "_view_name": "LayoutView",
       "align_content": null,
       "align_items": null,
       "align_self": null,
       "border": null,
       "bottom": null,
       "display": null,
       "flex": null,
       "flex_flow": null,
       "grid_area": null,
       "grid_auto_columns": null,
       "grid_auto_flow": null,
       "grid_auto_rows": null,
       "grid_column": null,
       "grid_gap": null,
       "grid_row": null,
       "grid_template_areas": null,
       "grid_template_columns": null,
       "grid_template_rows": null,
       "height": null,
       "justify_content": null,
       "justify_items": null,
       "left": null,
       "margin": null,
       "max_height": null,
       "max_width": null,
       "min_height": null,
       "min_width": null,
       "object_fit": null,
       "object_position": null,
       "order": null,
       "overflow": null,
       "overflow_x": null,
       "overflow_y": null,
       "padding": null,
       "right": null,
       "top": null,
       "visibility": null,
       "width": null
      }
     },
     "58af617255f24ad9afcfe15ab23da706": {
      "model_module": "@jupyter-widgets/controls",
      "model_module_version": "1.5.0",
      "model_name": "HTMLModel",
      "state": {
       "_dom_classes": [],
       "_model_module": "@jupyter-widgets/controls",
       "_model_module_version": "1.5.0",
       "_model_name": "HTMLModel",
       "_view_count": null,
       "_view_module": "@jupyter-widgets/controls",
       "_view_module_version": "1.5.0",
       "_view_name": "HTMLView",
       "description": "",
       "description_tooltip": null,
       "layout": "IPY_MODEL_649e89e56ecd42b389bf83b91cbbb78c",
       "placeholder": "​",
       "style": "IPY_MODEL_86fbfa23642b4b839158891be2fc2125",
       "value": " 2000/2000 [00:00&lt;00:00, 4990.52 examples/s]"
      }
     },
     "5d7721301ffb42b2858e6a910f1f4c0a": {
      "model_module": "@jupyter-widgets/base",
      "model_module_version": "1.2.0",
      "model_name": "LayoutModel",
      "state": {
       "_model_module": "@jupyter-widgets/base",
       "_model_module_version": "1.2.0",
       "_model_name": "LayoutModel",
       "_view_count": null,
       "_view_module": "@jupyter-widgets/base",
       "_view_module_version": "1.2.0",
       "_view_name": "LayoutView",
       "align_content": null,
       "align_items": null,
       "align_self": null,
       "border": null,
       "bottom": null,
       "display": null,
       "flex": null,
       "flex_flow": null,
       "grid_area": null,
       "grid_auto_columns": null,
       "grid_auto_flow": null,
       "grid_auto_rows": null,
       "grid_column": null,
       "grid_gap": null,
       "grid_row": null,
       "grid_template_areas": null,
       "grid_template_columns": null,
       "grid_template_rows": null,
       "height": null,
       "justify_content": null,
       "justify_items": null,
       "left": null,
       "margin": null,
       "max_height": null,
       "max_width": null,
       "min_height": null,
       "min_width": null,
       "object_fit": null,
       "object_position": null,
       "order": null,
       "overflow": null,
       "overflow_x": null,
       "overflow_y": null,
       "padding": null,
       "right": null,
       "top": null,
       "visibility": null,
       "width": null
      }
     },
     "61be2e4c0a5f4c00bf735a63f44345e2": {
      "model_module": "@jupyter-widgets/base",
      "model_module_version": "1.2.0",
      "model_name": "LayoutModel",
      "state": {
       "_model_module": "@jupyter-widgets/base",
       "_model_module_version": "1.2.0",
       "_model_name": "LayoutModel",
       "_view_count": null,
       "_view_module": "@jupyter-widgets/base",
       "_view_module_version": "1.2.0",
       "_view_name": "LayoutView",
       "align_content": null,
       "align_items": null,
       "align_self": null,
       "border": null,
       "bottom": null,
       "display": null,
       "flex": null,
       "flex_flow": null,
       "grid_area": null,
       "grid_auto_columns": null,
       "grid_auto_flow": null,
       "grid_auto_rows": null,
       "grid_column": null,
       "grid_gap": null,
       "grid_row": null,
       "grid_template_areas": null,
       "grid_template_columns": null,
       "grid_template_rows": null,
       "height": null,
       "justify_content": null,
       "justify_items": null,
       "left": null,
       "margin": null,
       "max_height": null,
       "max_width": null,
       "min_height": null,
       "min_width": null,
       "object_fit": null,
       "object_position": null,
       "order": null,
       "overflow": null,
       "overflow_x": null,
       "overflow_y": null,
       "padding": null,
       "right": null,
       "top": null,
       "visibility": null,
       "width": null
      }
     },
     "649e89e56ecd42b389bf83b91cbbb78c": {
      "model_module": "@jupyter-widgets/base",
      "model_module_version": "1.2.0",
      "model_name": "LayoutModel",
      "state": {
       "_model_module": "@jupyter-widgets/base",
       "_model_module_version": "1.2.0",
       "_model_name": "LayoutModel",
       "_view_count": null,
       "_view_module": "@jupyter-widgets/base",
       "_view_module_version": "1.2.0",
       "_view_name": "LayoutView",
       "align_content": null,
       "align_items": null,
       "align_self": null,
       "border": null,
       "bottom": null,
       "display": null,
       "flex": null,
       "flex_flow": null,
       "grid_area": null,
       "grid_auto_columns": null,
       "grid_auto_flow": null,
       "grid_auto_rows": null,
       "grid_column": null,
       "grid_gap": null,
       "grid_row": null,
       "grid_template_areas": null,
       "grid_template_columns": null,
       "grid_template_rows": null,
       "height": null,
       "justify_content": null,
       "justify_items": null,
       "left": null,
       "margin": null,
       "max_height": null,
       "max_width": null,
       "min_height": null,
       "min_width": null,
       "object_fit": null,
       "object_position": null,
       "order": null,
       "overflow": null,
       "overflow_x": null,
       "overflow_y": null,
       "padding": null,
       "right": null,
       "top": null,
       "visibility": null,
       "width": null
      }
     },
     "7483c2848af34480b9056fa13889f312": {
      "model_module": "@jupyter-widgets/controls",
      "model_module_version": "1.5.0",
      "model_name": "ProgressStyleModel",
      "state": {
       "_model_module": "@jupyter-widgets/controls",
       "_model_module_version": "1.5.0",
       "_model_name": "ProgressStyleModel",
       "_view_count": null,
       "_view_module": "@jupyter-widgets/base",
       "_view_module_version": "1.2.0",
       "_view_name": "StyleView",
       "bar_color": null,
       "description_width": ""
      }
     },
     "7f9d06956a0f475ba6afeecb3e563add": {
      "model_module": "@jupyter-widgets/controls",
      "model_module_version": "1.5.0",
      "model_name": "ProgressStyleModel",
      "state": {
       "_model_module": "@jupyter-widgets/controls",
       "_model_module_version": "1.5.0",
       "_model_name": "ProgressStyleModel",
       "_view_count": null,
       "_view_module": "@jupyter-widgets/base",
       "_view_module_version": "1.2.0",
       "_view_name": "StyleView",
       "bar_color": null,
       "description_width": ""
      }
     },
     "816e630e7a86454c865f0cae4e70c13e": {
      "model_module": "@jupyter-widgets/controls",
      "model_module_version": "1.5.0",
      "model_name": "FloatProgressModel",
      "state": {
       "_dom_classes": [],
       "_model_module": "@jupyter-widgets/controls",
       "_model_module_version": "1.5.0",
       "_model_name": "FloatProgressModel",
       "_view_count": null,
       "_view_module": "@jupyter-widgets/controls",
       "_view_module_version": "1.5.0",
       "_view_name": "ProgressView",
       "bar_style": "success",
       "description": "",
       "description_tooltip": null,
       "layout": "IPY_MODEL_b9b7cb22c5ec4ed1ad7029a7e957df66",
       "max": 2000.0,
       "min": 0.0,
       "orientation": "horizontal",
       "style": "IPY_MODEL_d66c021ecf484b719626e8b106b89ae1",
       "value": 2000.0
      }
     },
     "82a83598809a482e9da5bd77de8c2756": {
      "model_module": "@jupyter-widgets/base",
      "model_module_version": "1.2.0",
      "model_name": "LayoutModel",
      "state": {
       "_model_module": "@jupyter-widgets/base",
       "_model_module_version": "1.2.0",
       "_model_name": "LayoutModel",
       "_view_count": null,
       "_view_module": "@jupyter-widgets/base",
       "_view_module_version": "1.2.0",
       "_view_name": "LayoutView",
       "align_content": null,
       "align_items": null,
       "align_self": null,
       "border": null,
       "bottom": null,
       "display": null,
       "flex": null,
       "flex_flow": null,
       "grid_area": null,
       "grid_auto_columns": null,
       "grid_auto_flow": null,
       "grid_auto_rows": null,
       "grid_column": null,
       "grid_gap": null,
       "grid_row": null,
       "grid_template_areas": null,
       "grid_template_columns": null,
       "grid_template_rows": null,
       "height": null,
       "justify_content": null,
       "justify_items": null,
       "left": null,
       "margin": null,
       "max_height": null,
       "max_width": null,
       "min_height": null,
       "min_width": null,
       "object_fit": null,
       "object_position": null,
       "order": null,
       "overflow": null,
       "overflow_x": null,
       "overflow_y": null,
       "padding": null,
       "right": null,
       "top": null,
       "visibility": null,
       "width": null
      }
     },
     "8416732b99314234a8019b82954da4d1": {
      "model_module": "@jupyter-widgets/controls",
      "model_module_version": "1.5.0",
      "model_name": "HBoxModel",
      "state": {
       "_dom_classes": [],
       "_model_module": "@jupyter-widgets/controls",
       "_model_module_version": "1.5.0",
       "_model_name": "HBoxModel",
       "_view_count": null,
       "_view_module": "@jupyter-widgets/controls",
       "_view_module_version": "1.5.0",
       "_view_name": "HBoxView",
       "box_style": "",
       "children": [
        "IPY_MODEL_4c501f7bad3e41da9884ddf86fb7990d",
        "IPY_MODEL_e8bb05c26c614b45accd878d4f11cb57",
        "IPY_MODEL_243a5ccacdd5434fa4fc32560554bade"
       ],
       "layout": "IPY_MODEL_868e7469d41741dabb35329a2a4eb231"
      }
     },
     "868e7469d41741dabb35329a2a4eb231": {
      "model_module": "@jupyter-widgets/base",
      "model_module_version": "1.2.0",
      "model_name": "LayoutModel",
      "state": {
       "_model_module": "@jupyter-widgets/base",
       "_model_module_version": "1.2.0",
       "_model_name": "LayoutModel",
       "_view_count": null,
       "_view_module": "@jupyter-widgets/base",
       "_view_module_version": "1.2.0",
       "_view_name": "LayoutView",
       "align_content": null,
       "align_items": null,
       "align_self": null,
       "border": null,
       "bottom": null,
       "display": null,
       "flex": null,
       "flex_flow": null,
       "grid_area": null,
       "grid_auto_columns": null,
       "grid_auto_flow": null,
       "grid_auto_rows": null,
       "grid_column": null,
       "grid_gap": null,
       "grid_row": null,
       "grid_template_areas": null,
       "grid_template_columns": null,
       "grid_template_rows": null,
       "height": null,
       "justify_content": null,
       "justify_items": null,
       "left": null,
       "margin": null,
       "max_height": null,
       "max_width": null,
       "min_height": null,
       "min_width": null,
       "object_fit": null,
       "object_position": null,
       "order": null,
       "overflow": null,
       "overflow_x": null,
       "overflow_y": null,
       "padding": null,
       "right": null,
       "top": null,
       "visibility": null,
       "width": null
      }
     },
     "86fbfa23642b4b839158891be2fc2125": {
      "model_module": "@jupyter-widgets/controls",
      "model_module_version": "1.5.0",
      "model_name": "DescriptionStyleModel",
      "state": {
       "_model_module": "@jupyter-widgets/controls",
       "_model_module_version": "1.5.0",
       "_model_name": "DescriptionStyleModel",
       "_view_count": null,
       "_view_module": "@jupyter-widgets/base",
       "_view_module_version": "1.2.0",
       "_view_name": "StyleView",
       "description_width": ""
      }
     },
     "958c6420ca0046d4b31a59f015ef55b3": {
      "model_module": "@jupyter-widgets/controls",
      "model_module_version": "1.5.0",
      "model_name": "HTMLModel",
      "state": {
       "_dom_classes": [],
       "_model_module": "@jupyter-widgets/controls",
       "_model_module_version": "1.5.0",
       "_model_name": "HTMLModel",
       "_view_count": null,
       "_view_module": "@jupyter-widgets/controls",
       "_view_module_version": "1.5.0",
       "_view_name": "HTMLView",
       "description": "",
       "description_tooltip": null,
       "layout": "IPY_MODEL_5d7721301ffb42b2858e6a910f1f4c0a",
       "placeholder": "​",
       "style": "IPY_MODEL_f18bbb669183475d8c3e97de786298b7",
       "value": "Map: 100%"
      }
     },
     "a59439b263f34be8b072ea5b00015557": {
      "model_module": "@jupyter-widgets/controls",
      "model_module_version": "1.5.0",
      "model_name": "HTMLModel",
      "state": {
       "_dom_classes": [],
       "_model_module": "@jupyter-widgets/controls",
       "_model_module_version": "1.5.0",
       "_model_name": "HTMLModel",
       "_view_count": null,
       "_view_module": "@jupyter-widgets/controls",
       "_view_module_version": "1.5.0",
       "_view_name": "HTMLView",
       "description": "",
       "description_tooltip": null,
       "layout": "IPY_MODEL_58a99f58cafd4f7e82da5479eb6237c0",
       "placeholder": "​",
       "style": "IPY_MODEL_ea9600a2004d4f9591f9f82c491c1a72",
       "value": " 400/400 [00:00&lt;00:00, 4231.93 examples/s]"
      }
     },
     "b0705199a8e841088b6db6afb7201be4": {
      "model_module": "@jupyter-widgets/base",
      "model_module_version": "1.2.0",
      "model_name": "LayoutModel",
      "state": {
       "_model_module": "@jupyter-widgets/base",
       "_model_module_version": "1.2.0",
       "_model_name": "LayoutModel",
       "_view_count": null,
       "_view_module": "@jupyter-widgets/base",
       "_view_module_version": "1.2.0",
       "_view_name": "LayoutView",
       "align_content": null,
       "align_items": null,
       "align_self": null,
       "border": null,
       "bottom": null,
       "display": null,
       "flex": null,
       "flex_flow": null,
       "grid_area": null,
       "grid_auto_columns": null,
       "grid_auto_flow": null,
       "grid_auto_rows": null,
       "grid_column": null,
       "grid_gap": null,
       "grid_row": null,
       "grid_template_areas": null,
       "grid_template_columns": null,
       "grid_template_rows": null,
       "height": null,
       "justify_content": null,
       "justify_items": null,
       "left": null,
       "margin": null,
       "max_height": null,
       "max_width": null,
       "min_height": null,
       "min_width": null,
       "object_fit": null,
       "object_position": null,
       "order": null,
       "overflow": null,
       "overflow_x": null,
       "overflow_y": null,
       "padding": null,
       "right": null,
       "top": null,
       "visibility": null,
       "width": null
      }
     },
     "b411777819ed4a2c9b3efcb7b13c9035": {
      "model_module": "@jupyter-widgets/controls",
      "model_module_version": "1.5.0",
      "model_name": "DescriptionStyleModel",
      "state": {
       "_model_module": "@jupyter-widgets/controls",
       "_model_module_version": "1.5.0",
       "_model_name": "DescriptionStyleModel",
       "_view_count": null,
       "_view_module": "@jupyter-widgets/base",
       "_view_module_version": "1.2.0",
       "_view_name": "StyleView",
       "description_width": ""
      }
     },
     "b9b7cb22c5ec4ed1ad7029a7e957df66": {
      "model_module": "@jupyter-widgets/base",
      "model_module_version": "1.2.0",
      "model_name": "LayoutModel",
      "state": {
       "_model_module": "@jupyter-widgets/base",
       "_model_module_version": "1.2.0",
       "_model_name": "LayoutModel",
       "_view_count": null,
       "_view_module": "@jupyter-widgets/base",
       "_view_module_version": "1.2.0",
       "_view_name": "LayoutView",
       "align_content": null,
       "align_items": null,
       "align_self": null,
       "border": null,
       "bottom": null,
       "display": null,
       "flex": null,
       "flex_flow": null,
       "grid_area": null,
       "grid_auto_columns": null,
       "grid_auto_flow": null,
       "grid_auto_rows": null,
       "grid_column": null,
       "grid_gap": null,
       "grid_row": null,
       "grid_template_areas": null,
       "grid_template_columns": null,
       "grid_template_rows": null,
       "height": null,
       "justify_content": null,
       "justify_items": null,
       "left": null,
       "margin": null,
       "max_height": null,
       "max_width": null,
       "min_height": null,
       "min_width": null,
       "object_fit": null,
       "object_position": null,
       "order": null,
       "overflow": null,
       "overflow_x": null,
       "overflow_y": null,
       "padding": null,
       "right": null,
       "top": null,
       "visibility": null,
       "width": null
      }
     },
     "c1b2bafd22ef4481941a6281126b6932": {
      "model_module": "@jupyter-widgets/controls",
      "model_module_version": "1.5.0",
      "model_name": "HBoxModel",
      "state": {
       "_dom_classes": [],
       "_model_module": "@jupyter-widgets/controls",
       "_model_module_version": "1.5.0",
       "_model_name": "HBoxModel",
       "_view_count": null,
       "_view_module": "@jupyter-widgets/controls",
       "_view_module_version": "1.5.0",
       "_view_name": "HBoxView",
       "box_style": "",
       "children": [
        "IPY_MODEL_2343da8f28bc4f41ac76e2b10e0203c0",
        "IPY_MODEL_1a0a67d92d874524ab97bfbae22cf4d1",
        "IPY_MODEL_a59439b263f34be8b072ea5b00015557"
       ],
       "layout": "IPY_MODEL_fcc30b457db14347b03f1d3a9f3d0246"
      }
     },
     "d66c021ecf484b719626e8b106b89ae1": {
      "model_module": "@jupyter-widgets/controls",
      "model_module_version": "1.5.0",
      "model_name": "ProgressStyleModel",
      "state": {
       "_model_module": "@jupyter-widgets/controls",
       "_model_module_version": "1.5.0",
       "_model_name": "ProgressStyleModel",
       "_view_count": null,
       "_view_module": "@jupyter-widgets/base",
       "_view_module_version": "1.2.0",
       "_view_name": "StyleView",
       "bar_color": null,
       "description_width": ""
      }
     },
     "d961ae1955e74f8596f9ea09e03b3fb2": {
      "model_module": "@jupyter-widgets/controls",
      "model_module_version": "1.5.0",
      "model_name": "DescriptionStyleModel",
      "state": {
       "_model_module": "@jupyter-widgets/controls",
       "_model_module_version": "1.5.0",
       "_model_name": "DescriptionStyleModel",
       "_view_count": null,
       "_view_module": "@jupyter-widgets/base",
       "_view_module_version": "1.2.0",
       "_view_name": "StyleView",
       "description_width": ""
      }
     },
     "de1b4e2bf7c946c98f4c392deb30a2c7": {
      "model_module": "@jupyter-widgets/controls",
      "model_module_version": "1.5.0",
      "model_name": "HBoxModel",
      "state": {
       "_dom_classes": [],
       "_model_module": "@jupyter-widgets/controls",
       "_model_module_version": "1.5.0",
       "_model_name": "HBoxModel",
       "_view_count": null,
       "_view_module": "@jupyter-widgets/controls",
       "_view_module_version": "1.5.0",
       "_view_name": "HBoxView",
       "box_style": "",
       "children": [
        "IPY_MODEL_958c6420ca0046d4b31a59f015ef55b3",
        "IPY_MODEL_816e630e7a86454c865f0cae4e70c13e",
        "IPY_MODEL_58af617255f24ad9afcfe15ab23da706"
       ],
       "layout": "IPY_MODEL_2552ea61b0ea49c988a0cc14e87c1e99"
      }
     },
     "e43f5d9a176f4e44a7ea82dc99699d07": {
      "model_module": "@jupyter-widgets/base",
      "model_module_version": "1.2.0",
      "model_name": "LayoutModel",
      "state": {
       "_model_module": "@jupyter-widgets/base",
       "_model_module_version": "1.2.0",
       "_model_name": "LayoutModel",
       "_view_count": null,
       "_view_module": "@jupyter-widgets/base",
       "_view_module_version": "1.2.0",
       "_view_name": "LayoutView",
       "align_content": null,
       "align_items": null,
       "align_self": null,
       "border": null,
       "bottom": null,
       "display": null,
       "flex": null,
       "flex_flow": null,
       "grid_area": null,
       "grid_auto_columns": null,
       "grid_auto_flow": null,
       "grid_auto_rows": null,
       "grid_column": null,
       "grid_gap": null,
       "grid_row": null,
       "grid_template_areas": null,
       "grid_template_columns": null,
       "grid_template_rows": null,
       "height": null,
       "justify_content": null,
       "justify_items": null,
       "left": null,
       "margin": null,
       "max_height": null,
       "max_width": null,
       "min_height": null,
       "min_width": null,
       "object_fit": null,
       "object_position": null,
       "order": null,
       "overflow": null,
       "overflow_x": null,
       "overflow_y": null,
       "padding": null,
       "right": null,
       "top": null,
       "visibility": null,
       "width": null
      }
     },
     "e8bb05c26c614b45accd878d4f11cb57": {
      "model_module": "@jupyter-widgets/controls",
      "model_module_version": "1.5.0",
      "model_name": "FloatProgressModel",
      "state": {
       "_dom_classes": [],
       "_model_module": "@jupyter-widgets/controls",
       "_model_module_version": "1.5.0",
       "_model_name": "FloatProgressModel",
       "_view_count": null,
       "_view_module": "@jupyter-widgets/controls",
       "_view_module_version": "1.5.0",
       "_view_name": "ProgressView",
       "bar_style": "success",
       "description": "",
       "description_tooltip": null,
       "layout": "IPY_MODEL_82a83598809a482e9da5bd77de8c2756",
       "max": 4.0,
       "min": 0.0,
       "orientation": "horizontal",
       "style": "IPY_MODEL_7483c2848af34480b9056fa13889f312",
       "value": 4.0
      }
     },
     "ea9600a2004d4f9591f9f82c491c1a72": {
      "model_module": "@jupyter-widgets/controls",
      "model_module_version": "1.5.0",
      "model_name": "DescriptionStyleModel",
      "state": {
       "_model_module": "@jupyter-widgets/controls",
       "_model_module_version": "1.5.0",
       "_model_name": "DescriptionStyleModel",
       "_view_count": null,
       "_view_module": "@jupyter-widgets/base",
       "_view_module_version": "1.2.0",
       "_view_name": "StyleView",
       "description_width": ""
      }
     },
     "f18bbb669183475d8c3e97de786298b7": {
      "model_module": "@jupyter-widgets/controls",
      "model_module_version": "1.5.0",
      "model_name": "DescriptionStyleModel",
      "state": {
       "_model_module": "@jupyter-widgets/controls",
       "_model_module_version": "1.5.0",
       "_model_name": "DescriptionStyleModel",
       "_view_count": null,
       "_view_module": "@jupyter-widgets/base",
       "_view_module_version": "1.2.0",
       "_view_name": "StyleView",
       "description_width": ""
      }
     },
     "fcc30b457db14347b03f1d3a9f3d0246": {
      "model_module": "@jupyter-widgets/base",
      "model_module_version": "1.2.0",
      "model_name": "LayoutModel",
      "state": {
       "_model_module": "@jupyter-widgets/base",
       "_model_module_version": "1.2.0",
       "_model_name": "LayoutModel",
       "_view_count": null,
       "_view_module": "@jupyter-widgets/base",
       "_view_module_version": "1.2.0",
       "_view_name": "LayoutView",
       "align_content": null,
       "align_items": null,
       "align_self": null,
       "border": null,
       "bottom": null,
       "display": null,
       "flex": null,
       "flex_flow": null,
       "grid_area": null,
       "grid_auto_columns": null,
       "grid_auto_flow": null,
       "grid_auto_rows": null,
       "grid_column": null,
       "grid_gap": null,
       "grid_row": null,
       "grid_template_areas": null,
       "grid_template_columns": null,
       "grid_template_rows": null,
       "height": null,
       "justify_content": null,
       "justify_items": null,
       "left": null,
       "margin": null,
       "max_height": null,
       "max_width": null,
       "min_height": null,
       "min_width": null,
       "object_fit": null,
       "object_position": null,
       "order": null,
       "overflow": null,
       "overflow_x": null,
       "overflow_y": null,
       "padding": null,
       "right": null,
       "top": null,
       "visibility": null,
       "width": null
      }
     }
    },
    "version_major": 2,
    "version_minor": 0
   }
  }
 },
 "nbformat": 4,
 "nbformat_minor": 5
}
