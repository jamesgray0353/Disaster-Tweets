{
 "cells": [
  {
   "cell_type": "markdown",
   "id": "00071468",
   "metadata": {
    "papermill": {
     "duration": 0.008427,
     "end_time": "2024-03-12T17:11:32.645054",
     "exception": false,
     "start_time": "2024-03-12T17:11:32.636627",
     "status": "completed"
    },
    "tags": []
   },
   "source": [
    "# Evaluating gemma-7b-it for text classification\n",
    "## Task: Identify if a tweet is about a \"disaster\""
   ]
  },
  {
   "cell_type": "markdown",
   "id": "0944a96d",
   "metadata": {
    "papermill": {
     "duration": 0.007443,
     "end_time": "2024-03-12T17:11:32.660428",
     "exception": false,
     "start_time": "2024-03-12T17:11:32.652985",
     "status": "completed"
    },
    "tags": []
   },
   "source": [
    "### Setup - Using kaggle GPU P100"
   ]
  },
  {
   "cell_type": "code",
   "execution_count": 1,
   "id": "b50dd36c",
   "metadata": {
    "execution": {
     "iopub.execute_input": "2024-03-12T17:11:32.678272Z",
     "iopub.status.busy": "2024-03-12T17:11:32.677325Z",
     "iopub.status.idle": "2024-03-12T17:11:47.580075Z",
     "shell.execute_reply": "2024-03-12T17:11:47.579045Z"
    },
    "papermill": {
     "duration": 14.914344,
     "end_time": "2024-03-12T17:11:47.582458",
     "exception": false,
     "start_time": "2024-03-12T17:11:32.668114",
     "status": "completed"
    },
    "tags": []
   },
   "outputs": [],
   "source": [
    "!pip install -q -U torch --index-url https://download.pytorch.org/whl/cu117"
   ]
  },
  {
   "cell_type": "code",
   "execution_count": 2,
   "id": "8f23961f",
   "metadata": {
    "execution": {
     "iopub.execute_input": "2024-03-12T17:11:47.599153Z",
     "iopub.status.busy": "2024-03-12T17:11:47.598859Z",
     "iopub.status.idle": "2024-03-12T17:13:05.511107Z",
     "shell.execute_reply": "2024-03-12T17:13:05.509980Z"
    },
    "papermill": {
     "duration": 77.923471,
     "end_time": "2024-03-12T17:13:05.513666",
     "exception": false,
     "start_time": "2024-03-12T17:11:47.590195",
     "status": "completed"
    },
    "tags": []
   },
   "outputs": [
    {
     "name": "stdout",
     "output_type": "stream",
     "text": [
      "\u001b[31mERROR: pip's dependency resolver does not currently take into account all the packages that are installed. This behaviour is the source of the following dependency conflicts.\r\n",
      "cudf 23.8.0 requires cubinlinker, which is not installed.\r\n",
      "cudf 23.8.0 requires cupy-cuda11x>=12.0.0, which is not installed.\r\n",
      "cudf 23.8.0 requires ptxcompiler, which is not installed.\r\n",
      "cuml 23.8.0 requires cupy-cuda11x>=12.0.0, which is not installed.\r\n",
      "dask-cudf 23.8.0 requires cupy-cuda11x>=12.0.0, which is not installed.\r\n",
      "apache-beam 2.46.0 requires dill<0.3.2,>=0.3.1.1, but you have dill 0.3.8 which is incompatible.\r\n",
      "apache-beam 2.46.0 requires numpy<1.25.0,>=1.14.3, but you have numpy 1.26.4 which is incompatible.\r\n",
      "apache-beam 2.46.0 requires pyarrow<10.0.0,>=3.0.0, but you have pyarrow 15.0.1 which is incompatible.\r\n",
      "beatrix-jupyterlab 2023.128.151533 requires jupyterlab~=3.6.0, but you have jupyterlab 4.1.2 which is incompatible.\r\n",
      "cudf 23.8.0 requires cuda-python<12.0a0,>=11.7.1, but you have cuda-python 12.3.0 which is incompatible.\r\n",
      "cudf 23.8.0 requires pandas<1.6.0dev0,>=1.3, but you have pandas 2.1.4 which is incompatible.\r\n",
      "cudf 23.8.0 requires protobuf<5,>=4.21, but you have protobuf 3.20.3 which is incompatible.\r\n",
      "cudf 23.8.0 requires pyarrow==11.*, but you have pyarrow 15.0.1 which is incompatible.\r\n",
      "cuml 23.8.0 requires dask==2023.7.1, but you have dask 2024.2.0 which is incompatible.\r\n",
      "dask-cudf 23.8.0 requires dask==2023.7.1, but you have dask 2024.2.0 which is incompatible.\r\n",
      "dask-cudf 23.8.0 requires pandas<1.6.0dev0,>=1.3, but you have pandas 2.1.4 which is incompatible.\u001b[0m\u001b[31m\r\n",
      "\u001b[0m"
     ]
    }
   ],
   "source": [
    "!pip install -q -U transformers==\"4.38.2\"\n",
    "!pip install -q accelerate\n",
    "!pip install -q -i https://pypi.org/simple/ bitsandbytes\n",
    "!pip install -q -U datasets"
   ]
  },
  {
   "cell_type": "code",
   "execution_count": 3,
   "id": "fc5893db",
   "metadata": {
    "execution": {
     "iopub.execute_input": "2024-03-12T17:13:05.530463Z",
     "iopub.status.busy": "2024-03-12T17:13:05.530153Z",
     "iopub.status.idle": "2024-03-12T17:14:02.522893Z",
     "shell.execute_reply": "2024-03-12T17:14:02.521597Z"
    },
    "papermill": {
     "duration": 57.004177,
     "end_time": "2024-03-12T17:14:02.525593",
     "exception": false,
     "start_time": "2024-03-12T17:13:05.521416",
     "status": "completed"
    },
    "tags": []
   },
   "outputs": [],
   "source": [
    "!pip install -q -U git+https://github.com/huggingface/trl\n",
    "!pip install -q -U git+https://github.com/huggingface/peft"
   ]
  },
  {
   "cell_type": "code",
   "execution_count": 4,
   "id": "a27e17eb",
   "metadata": {
    "execution": {
     "iopub.execute_input": "2024-03-12T17:14:02.544018Z",
     "iopub.status.busy": "2024-03-12T17:14:02.543656Z",
     "iopub.status.idle": "2024-03-12T17:14:02.548484Z",
     "shell.execute_reply": "2024-03-12T17:14:02.547646Z"
    },
    "papermill": {
     "duration": 0.01584,
     "end_time": "2024-03-12T17:14:02.550477",
     "exception": false,
     "start_time": "2024-03-12T17:14:02.534637",
     "status": "completed"
    },
    "tags": []
   },
   "outputs": [],
   "source": [
    "import os\n",
    "os.environ[\"CUDA_VISIBLE_DEVICES\"] = \"0\"\n",
    "os.environ[\"TOKENIZERS_PARALLELISM\"] = \"false\""
   ]
  },
  {
   "cell_type": "code",
   "execution_count": 5,
   "id": "c373e510",
   "metadata": {
    "execution": {
     "iopub.execute_input": "2024-03-12T17:14:02.567854Z",
     "iopub.status.busy": "2024-03-12T17:14:02.567157Z",
     "iopub.status.idle": "2024-03-12T17:14:02.571378Z",
     "shell.execute_reply": "2024-03-12T17:14:02.570482Z"
    },
    "papermill": {
     "duration": 0.014891,
     "end_time": "2024-03-12T17:14:02.573346",
     "exception": false,
     "start_time": "2024-03-12T17:14:02.558455",
     "status": "completed"
    },
    "tags": []
   },
   "outputs": [],
   "source": [
    "import warnings\n",
    "warnings.filterwarnings(\"ignore\")"
   ]
  },
  {
   "cell_type": "code",
   "execution_count": 6,
   "id": "62b0b63f",
   "metadata": {
    "execution": {
     "iopub.execute_input": "2024-03-12T17:14:02.590992Z",
     "iopub.status.busy": "2024-03-12T17:14:02.590197Z",
     "iopub.status.idle": "2024-03-12T17:14:23.768346Z",
     "shell.execute_reply": "2024-03-12T17:14:23.767504Z"
    },
    "papermill": {
     "duration": 21.189375,
     "end_time": "2024-03-12T17:14:23.770706",
     "exception": false,
     "start_time": "2024-03-12T17:14:02.581331",
     "status": "completed"
    },
    "tags": []
   },
   "outputs": [
    {
     "name": "stderr",
     "output_type": "stream",
     "text": [
      "2024-03-12 17:14:11.922985: E external/local_xla/xla/stream_executor/cuda/cuda_dnn.cc:9261] Unable to register cuDNN factory: Attempting to register factory for plugin cuDNN when one has already been registered\n",
      "2024-03-12 17:14:11.923100: E external/local_xla/xla/stream_executor/cuda/cuda_fft.cc:607] Unable to register cuFFT factory: Attempting to register factory for plugin cuFFT when one has already been registered\n",
      "2024-03-12 17:14:12.058446: E external/local_xla/xla/stream_executor/cuda/cuda_blas.cc:1515] Unable to register cuBLAS factory: Attempting to register factory for plugin cuBLAS when one has already been registered\n"
     ]
    }
   ],
   "source": [
    "import numpy as np\n",
    "import pandas as pd\n",
    "pd.set_option('display.max_colwidth', None)\n",
    "\n",
    "import os\n",
    "from tqdm import tqdm\n",
    "\n",
    "import torch\n",
    "import torch.nn as nn\n",
    "\n",
    "import transformers\n",
    "from transformers import (AutoModelForCausalLM, \n",
    "                          AutoTokenizer, \n",
    "                          BitsAndBytesConfig, \n",
    "                          TrainingArguments, \n",
    "                          pipeline, \n",
    "                          logging)\n",
    "from datasets import Dataset\n",
    "from peft import LoraConfig, PeftConfig\n",
    "import bitsandbytes as bnb\n",
    "from trl import SFTTrainer\n",
    "\n",
    "from sklearn.metrics import (accuracy_score, \n",
    "                             classification_report, \n",
    "                             confusion_matrix)\n",
    "from sklearn.model_selection import train_test_split"
   ]
  },
  {
   "cell_type": "code",
   "execution_count": 7,
   "id": "14bea6d2",
   "metadata": {
    "execution": {
     "iopub.execute_input": "2024-03-12T17:14:23.788542Z",
     "iopub.status.busy": "2024-03-12T17:14:23.788266Z",
     "iopub.status.idle": "2024-03-12T17:14:24.379649Z",
     "shell.execute_reply": "2024-03-12T17:14:24.378801Z"
    },
    "papermill": {
     "duration": 0.602773,
     "end_time": "2024-03-12T17:14:24.382081",
     "exception": false,
     "start_time": "2024-03-12T17:14:23.779308",
     "status": "completed"
    },
    "tags": []
   },
   "outputs": [],
   "source": [
    "# Read data\n",
    "submission_path = '/kaggle/input/dtweets/disaster_submission.csv'\n",
    "train_path = '/kaggle/input/dtweets/disaster_train.csv'\n",
    "test_path = '/kaggle/input/dtweets/disaster_test.csv'\n",
    "\n",
    "submission_df = pd.read_csv(submission_path)\n",
    "train_df = pd.read_csv(train_path)\n",
    "test_df = pd.read_csv(test_path)"
   ]
  },
  {
   "cell_type": "code",
   "execution_count": 8,
   "id": "0c28210c",
   "metadata": {
    "execution": {
     "iopub.execute_input": "2024-03-12T17:14:24.398984Z",
     "iopub.status.busy": "2024-03-12T17:14:24.398444Z",
     "iopub.status.idle": "2024-03-12T17:14:24.405328Z",
     "shell.execute_reply": "2024-03-12T17:14:24.404483Z"
    },
    "papermill": {
     "duration": 0.017286,
     "end_time": "2024-03-12T17:14:24.407235",
     "exception": false,
     "start_time": "2024-03-12T17:14:24.389949",
     "status": "completed"
    },
    "tags": []
   },
   "outputs": [
    {
     "data": {
      "text/plain": [
       "['id',\n",
       " 'keyword',\n",
       " 'location',\n",
       " 'text',\n",
       " 'target',\n",
       " 'text_clean',\n",
       " 'location_clean',\n",
       " 'text_location',\n",
       " 'text_location_clean',\n",
       " 'class',\n",
       " 'prompt_text',\n",
       " 'prompt_text_test',\n",
       " 'prompt_text_location',\n",
       " 'prompt_text_location_test',\n",
       " 'prompt_text_clean',\n",
       " 'prompt_text_clean_test',\n",
       " 'prompt_text_location_clean',\n",
       " 'prompt_text_location_clean_test']"
      ]
     },
     "execution_count": 8,
     "metadata": {},
     "output_type": "execute_result"
    }
   ],
   "source": [
    "# Display column names\n",
    "train_df.columns.tolist()"
   ]
  },
  {
   "cell_type": "markdown",
   "id": "c53cdba5",
   "metadata": {
    "papermill": {
     "duration": 0.007566,
     "end_time": "2024-03-12T17:14:24.422518",
     "exception": false,
     "start_time": "2024-03-12T17:14:24.414952",
     "status": "completed"
    },
    "tags": []
   },
   "source": [
    "* If ***_text*** in name of prompt column - text is included.\n",
    "* If ***_test*** in name of prompt column - there is no answer included.\n",
    "* If ***_location*** in name of prompt column - location is included.\n",
    "* If ***_clean*** in name of prompt column - prompt has been cleaned (see EDA)."
   ]
  },
  {
   "cell_type": "code",
   "execution_count": 9,
   "id": "619bf9ef",
   "metadata": {
    "execution": {
     "iopub.execute_input": "2024-03-12T17:14:24.439276Z",
     "iopub.status.busy": "2024-03-12T17:14:24.438998Z",
     "iopub.status.idle": "2024-03-12T17:14:24.550645Z",
     "shell.execute_reply": "2024-03-12T17:14:24.549643Z"
    },
    "papermill": {
     "duration": 0.122594,
     "end_time": "2024-03-12T17:14:24.552932",
     "exception": false,
     "start_time": "2024-03-12T17:14:24.430338",
     "status": "completed"
    },
    "tags": []
   },
   "outputs": [],
   "source": [
    "# Split train_df into train, eval, test\n",
    "# Keep test_df as held out for submission\n",
    "\n",
    "# Sample equally from yes and no for train test\n",
    "X_train = list()\n",
    "X_test = list()\n",
    "for target in ['yes', 'no']:\n",
    "    train, test  = train_test_split(train_df[train_df['class']==target], \n",
    "                                    train_size=500,\n",
    "                                    test_size=500, \n",
    "                                    random_state=1)\n",
    "    X_train.append(train)\n",
    "    X_test.append(test)\n",
    "\n",
    "X_train = pd.concat(X_train).sample(frac=1, random_state=10) # Shuffle\n",
    "X_test = pd.concat(X_test)\n",
    "\n",
    "# Balanced eval set\n",
    "eval_mask = ~train_df.index.isin(X_train.index) & ~train_df.index.isin(X_test.index)\n",
    "X_eval = train_df[eval_mask].groupby('class').apply(\n",
    "    lambda x: x.sample(n=100, random_state=1, replace=True)).reset_index(drop=True)\n",
    "\n",
    "# Reset index for training data\n",
    "X_train = X_train.reset_index(drop=True)\n",
    "\n",
    "y_true = X_test['class']\n",
    "\n",
    "train_data = Dataset.from_pandas(X_train)\n",
    "eval_data = Dataset.from_pandas(X_eval)"
   ]
  },
  {
   "cell_type": "code",
   "execution_count": 10,
   "id": "229d8323",
   "metadata": {
    "execution": {
     "iopub.execute_input": "2024-03-12T17:14:24.570155Z",
     "iopub.status.busy": "2024-03-12T17:14:24.569850Z",
     "iopub.status.idle": "2024-03-12T17:14:24.574723Z",
     "shell.execute_reply": "2024-03-12T17:14:24.573694Z"
    },
    "papermill": {
     "duration": 0.015403,
     "end_time": "2024-03-12T17:14:24.576530",
     "exception": false,
     "start_time": "2024-03-12T17:14:24.561127",
     "status": "completed"
    },
    "tags": []
   },
   "outputs": [
    {
     "name": "stdout",
     "output_type": "stream",
     "text": [
      "(1000, 18) (200, 18) (1000, 18) (3263, 12)\n"
     ]
    }
   ],
   "source": [
    "# Check sizes\n",
    "print(X_train.shape, X_eval.shape, X_test.shape, test_df.shape)"
   ]
  },
  {
   "cell_type": "markdown",
   "id": "d4b02987",
   "metadata": {
    "papermill": {
     "duration": 0.007618,
     "end_time": "2024-03-12T17:14:24.592057",
     "exception": false,
     "start_time": "2024-03-12T17:14:24.584439",
     "status": "completed"
    },
    "tags": []
   },
   "source": [
    "Train\n",
    "* prompt_text - prompt with just text\n",
    "* prompt_text_location - prompt with text and location\n",
    "* prompt_text_clean - prompt with cleaned text\n",
    "* prompt_text_location_clean - prompt with cleaned text and location\n",
    "\n",
    "\n",
    "Test - Same but without model answers\n",
    "* prompt_text_test\n",
    "* prompt_text_location_test\n",
    "* prompt_text_clean_test\n",
    "* prompt_text_location_clean_test"
   ]
  },
  {
   "cell_type": "code",
   "execution_count": 11,
   "id": "51c2c14e",
   "metadata": {
    "execution": {
     "iopub.execute_input": "2024-03-12T17:14:24.608858Z",
     "iopub.status.busy": "2024-03-12T17:14:24.608569Z",
     "iopub.status.idle": "2024-03-12T17:16:31.508511Z",
     "shell.execute_reply": "2024-03-12T17:16:31.507717Z"
    },
    "papermill": {
     "duration": 126.910996,
     "end_time": "2024-03-12T17:16:31.510893",
     "exception": false,
     "start_time": "2024-03-12T17:14:24.599897",
     "status": "completed"
    },
    "tags": []
   },
   "outputs": [
    {
     "data": {
      "application/vnd.jupyter.widget-view+json": {
       "model_id": "179eefa7accc48caadcf7c4533ef3034",
       "version_major": 2,
       "version_minor": 0
      },
      "text/plain": [
       "Loading checkpoint shards:   0%|          | 0/4 [00:00<?, ?it/s]"
      ]
     },
     "metadata": {},
     "output_type": "display_data"
    }
   ],
   "source": [
    "# Load model + quantization\n",
    "model_name = \"/kaggle/input/gemma/transformers/7b-it/1\"\n",
    "\n",
    "compute_dtype = getattr(torch, \"float16\")\n",
    "\n",
    "bnb_config = BitsAndBytesConfig(\n",
    "    load_in_4bit=True,\n",
    "    bnb_4bit_use_double_quant=False,\n",
    "    bnb_4bit_quant_type=\"nf4\",\n",
    "    bnb_4bit_compute_dtype=compute_dtype,\n",
    ")\n",
    "\n",
    "model = AutoModelForCausalLM.from_pretrained(\n",
    "    model_name,\n",
    "    device_map=\"auto\",\n",
    "    quantization_config=bnb_config, \n",
    ")\n",
    "\n",
    "model.config.use_cache = False\n",
    "model.config.pretraining_tp = 1\n",
    "\n",
    "tokenizer = AutoTokenizer.from_pretrained(model_name)"
   ]
  },
  {
   "cell_type": "code",
   "execution_count": 12,
   "id": "4a861037",
   "metadata": {
    "execution": {
     "iopub.execute_input": "2024-03-12T17:16:31.528607Z",
     "iopub.status.busy": "2024-03-12T17:16:31.528300Z",
     "iopub.status.idle": "2024-03-12T17:16:33.785347Z",
     "shell.execute_reply": "2024-03-12T17:16:33.784157Z"
    },
    "papermill": {
     "duration": 2.268004,
     "end_time": "2024-03-12T17:16:33.787361",
     "exception": false,
     "start_time": "2024-03-12T17:16:31.519357",
     "status": "completed"
    },
    "tags": []
   },
   "outputs": [
    {
     "name": "stdout",
     "output_type": "stream",
     "text": [
      "text     @Chibi877 --head. It hit the wall behind him with a loud bang. 'Language!' Drake shouted at him before getting up. 'I'm going out stay--\n",
      "class                                                                                                                                         yes\n",
      "Name: 4658, dtype: object\n",
      "\n",
      "Prediction: yes\n"
     ]
    }
   ],
   "source": [
    "# Test of 1\n",
    "print(X_test.iloc[2][['text', 'class']])\n",
    "prompt = X_test.iloc[2]['prompt_text_test']\n",
    "input_ids = tokenizer(prompt, return_tensors=\"pt\").to(\"cuda\")\n",
    "outputs = model.generate(**input_ids, max_new_tokens=1, temperature=0.0)\n",
    "result = tokenizer.decode(outputs[0])\n",
    "answer = result.split(\"model\\n\")[-1].lower()\n",
    "print('\\nPrediction: '+answer)"
   ]
  },
  {
   "cell_type": "code",
   "execution_count": 13,
   "id": "0defc57d",
   "metadata": {
    "execution": {
     "iopub.execute_input": "2024-03-12T17:16:33.805483Z",
     "iopub.status.busy": "2024-03-12T17:16:33.805190Z",
     "iopub.status.idle": "2024-03-12T17:16:33.812147Z",
     "shell.execute_reply": "2024-03-12T17:16:33.811308Z"
    },
    "papermill": {
     "duration": 0.018054,
     "end_time": "2024-03-12T17:16:33.813949",
     "exception": false,
     "start_time": "2024-03-12T17:16:33.795895",
     "status": "completed"
    },
    "tags": []
   },
   "outputs": [],
   "source": [
    "def predict(X_test, prompt_col, model, tokenizer):\n",
    "    y_pred = []\n",
    "    for i in tqdm(range(len(X_test))):\n",
    "        prompt = X_test.iloc[i][prompt_col]\n",
    "        input_ids = tokenizer(prompt, return_tensors=\"pt\").to(\"cuda\")\n",
    "        outputs = model.generate(**input_ids, max_new_tokens=1, temperature=0.0)\n",
    "        result = tokenizer.decode(outputs[0])\n",
    "        answer = result.split(\"model\\n\")[-1].lower()\n",
    "        if answer == 'no':\n",
    "            y_pred.append('no')\n",
    "        elif answer == 'yes':\n",
    "            y_pred.append('yes')\n",
    "        else:\n",
    "            y_pred.append('none')\n",
    "    return y_pred"
   ]
  },
  {
   "cell_type": "code",
   "execution_count": 14,
   "id": "8c3c4851",
   "metadata": {
    "execution": {
     "iopub.execute_input": "2024-03-12T17:16:33.831965Z",
     "iopub.status.busy": "2024-03-12T17:16:33.831458Z",
     "iopub.status.idle": "2024-03-12T17:16:33.840238Z",
     "shell.execute_reply": "2024-03-12T17:16:33.839393Z"
    },
    "papermill": {
     "duration": 0.019739,
     "end_time": "2024-03-12T17:16:33.842171",
     "exception": false,
     "start_time": "2024-03-12T17:16:33.822432",
     "status": "completed"
    },
    "tags": []
   },
   "outputs": [],
   "source": [
    "def evaluate(y_true, y_pred):\n",
    "    labels = ['yes', 'no']\n",
    "    mapping = {'yes': 1, 'no': 0, 'none':-1}\n",
    "    def map_func(x):\n",
    "        return mapping.get(x, 1)\n",
    "    \n",
    "    y_true = np.vectorize(map_func)(y_true)\n",
    "    y_pred = np.vectorize(map_func)(y_pred)\n",
    "    \n",
    "    # Calculate accuracy\n",
    "    accuracy = accuracy_score(y_true=y_true, y_pred=y_pred)\n",
    "    print(f'Accuracy: {accuracy:.3f}')\n",
    "    \n",
    "    # Generate accuracy report\n",
    "    unique_labels = set(y_true)  # Get unique labels\n",
    "    \n",
    "    for label in unique_labels:\n",
    "        label_indices = [i for i in range(len(y_true)) \n",
    "                         if y_true[i] == label]\n",
    "        label_y_true = [y_true[i] for i in label_indices]\n",
    "        label_y_pred = [y_pred[i] for i in label_indices]\n",
    "        accuracy = accuracy_score(label_y_true, label_y_pred)\n",
    "        print(f'Accuracy for label {label}: {accuracy:.3f}')\n",
    "        \n",
    "    # Generate classification report\n",
    "    class_report = classification_report(y_true=y_true, y_pred=y_pred)\n",
    "    print('\\nClassification Report:')\n",
    "    print(class_report)\n",
    "    \n",
    "    # Generate confusion matrix\n",
    "    conf_matrix = confusion_matrix(y_true=y_true, y_pred=y_pred, labels=[0, 1, 2])\n",
    "    print('\\nConfusion Matrix:')\n",
    "    print(conf_matrix)"
   ]
  },
  {
   "cell_type": "code",
   "execution_count": 15,
   "id": "523514dc",
   "metadata": {
    "execution": {
     "iopub.execute_input": "2024-03-12T17:16:33.859793Z",
     "iopub.status.busy": "2024-03-12T17:16:33.859116Z",
     "iopub.status.idle": "2024-03-12T17:23:21.342090Z",
     "shell.execute_reply": "2024-03-12T17:23:21.340842Z"
    },
    "papermill": {
     "duration": 407.49447,
     "end_time": "2024-03-12T17:23:21.344623",
     "exception": false,
     "start_time": "2024-03-12T17:16:33.850153",
     "status": "completed"
    },
    "tags": []
   },
   "outputs": [
    {
     "name": "stderr",
     "output_type": "stream",
     "text": [
      "100%|██████████| 1000/1000 [06:47<00:00,  2.45it/s]"
     ]
    },
    {
     "name": "stdout",
     "output_type": "stream",
     "text": [
      "Accuracy: 0.702\n",
      "Accuracy for label 0: 0.716\n",
      "Accuracy for label 1: 0.688\n",
      "\n",
      "Classification Report:\n",
      "              precision    recall  f1-score   support\n",
      "\n",
      "           0       0.70      0.72      0.71       500\n",
      "           1       0.71      0.69      0.70       500\n",
      "\n",
      "    accuracy                           0.70      1000\n",
      "   macro avg       0.70      0.70      0.70      1000\n",
      "weighted avg       0.70      0.70      0.70      1000\n",
      "\n",
      "\n",
      "Confusion Matrix:\n",
      "[[358 142   0]\n",
      " [156 344   0]\n",
      " [  0   0   0]]\n"
     ]
    },
    {
     "name": "stderr",
     "output_type": "stream",
     "text": [
      "\n"
     ]
    }
   ],
   "source": [
    "# Zero shot learning on prompt_text\n",
    "y_pred = predict(X_test, 'prompt_text_test', model, tokenizer)\n",
    "evaluate(y_true, y_pred)"
   ]
  },
  {
   "cell_type": "code",
   "execution_count": 16,
   "id": "14aa420b",
   "metadata": {
    "execution": {
     "iopub.execute_input": "2024-03-12T17:23:21.525657Z",
     "iopub.status.busy": "2024-03-12T17:23:21.525309Z",
     "iopub.status.idle": "2024-03-12T17:30:24.922262Z",
     "shell.execute_reply": "2024-03-12T17:30:24.921133Z"
    },
    "papermill": {
     "duration": 423.486642,
     "end_time": "2024-03-12T17:30:24.924741",
     "exception": false,
     "start_time": "2024-03-12T17:23:21.438099",
     "status": "completed"
    },
    "tags": []
   },
   "outputs": [
    {
     "name": "stderr",
     "output_type": "stream",
     "text": [
      "100%|██████████| 1000/1000 [07:03<00:00,  2.36it/s]"
     ]
    },
    {
     "name": "stdout",
     "output_type": "stream",
     "text": [
      "Accuracy: 0.693\n",
      "Accuracy for label 0: 0.806\n",
      "Accuracy for label 1: 0.580\n",
      "\n",
      "Classification Report:\n",
      "              precision    recall  f1-score   support\n",
      "\n",
      "           0       0.66      0.81      0.72       500\n",
      "           1       0.75      0.58      0.65       500\n",
      "\n",
      "    accuracy                           0.69      1000\n",
      "   macro avg       0.70      0.69      0.69      1000\n",
      "weighted avg       0.70      0.69      0.69      1000\n",
      "\n",
      "\n",
      "Confusion Matrix:\n",
      "[[403  97   0]\n",
      " [210 290   0]\n",
      " [  0   0   0]]\n"
     ]
    },
    {
     "name": "stderr",
     "output_type": "stream",
     "text": [
      "\n"
     ]
    }
   ],
   "source": [
    "# Zero shot learning on prompt_text_location\n",
    "y_pred = predict(X_test, 'prompt_text_location_test', model, tokenizer)\n",
    "evaluate(y_true, y_pred)"
   ]
  },
  {
   "cell_type": "code",
   "execution_count": 17,
   "id": "8e9d429a",
   "metadata": {
    "execution": {
     "iopub.execute_input": "2024-03-12T17:30:25.256624Z",
     "iopub.status.busy": "2024-03-12T17:30:25.256235Z",
     "iopub.status.idle": "2024-03-12T17:36:52.427419Z",
     "shell.execute_reply": "2024-03-12T17:36:52.426405Z"
    },
    "papermill": {
     "duration": 387.337021,
     "end_time": "2024-03-12T17:36:52.429571",
     "exception": false,
     "start_time": "2024-03-12T17:30:25.092550",
     "status": "completed"
    },
    "tags": []
   },
   "outputs": [
    {
     "name": "stderr",
     "output_type": "stream",
     "text": [
      "100%|██████████| 1000/1000 [06:27<00:00,  2.58it/s]"
     ]
    },
    {
     "name": "stdout",
     "output_type": "stream",
     "text": [
      "Accuracy: 0.702\n",
      "Accuracy for label 0: 0.732\n",
      "Accuracy for label 1: 0.672\n",
      "\n",
      "Classification Report:\n",
      "              precision    recall  f1-score   support\n",
      "\n",
      "           0       0.69      0.73      0.71       500\n",
      "           1       0.71      0.67      0.69       500\n",
      "\n",
      "    accuracy                           0.70      1000\n",
      "   macro avg       0.70      0.70      0.70      1000\n",
      "weighted avg       0.70      0.70      0.70      1000\n",
      "\n",
      "\n",
      "Confusion Matrix:\n",
      "[[366 134   0]\n",
      " [164 336   0]\n",
      " [  0   0   0]]\n"
     ]
    },
    {
     "name": "stderr",
     "output_type": "stream",
     "text": [
      "\n"
     ]
    }
   ],
   "source": [
    "# Zero shot learning on prompt_text_clean\n",
    "y_pred = predict(X_test, 'prompt_text_clean_test', model, tokenizer)\n",
    "evaluate(y_true, y_pred)"
   ]
  },
  {
   "cell_type": "code",
   "execution_count": 18,
   "id": "fc734d64",
   "metadata": {
    "execution": {
     "iopub.execute_input": "2024-03-12T17:36:52.916162Z",
     "iopub.status.busy": "2024-03-12T17:36:52.915802Z",
     "iopub.status.idle": "2024-03-12T17:43:39.720058Z",
     "shell.execute_reply": "2024-03-12T17:43:39.718791Z"
    },
    "papermill": {
     "duration": 407.049267,
     "end_time": "2024-03-12T17:43:39.722646",
     "exception": false,
     "start_time": "2024-03-12T17:36:52.673379",
     "status": "completed"
    },
    "tags": []
   },
   "outputs": [
    {
     "name": "stderr",
     "output_type": "stream",
     "text": [
      "100%|██████████| 1000/1000 [06:46<00:00,  2.46it/s]"
     ]
    },
    {
     "name": "stdout",
     "output_type": "stream",
     "text": [
      "Accuracy: 0.695\n",
      "Accuracy for label 0: 0.824\n",
      "Accuracy for label 1: 0.566\n",
      "\n",
      "Classification Report:\n",
      "              precision    recall  f1-score   support\n",
      "\n",
      "           0       0.66      0.82      0.73       500\n",
      "           1       0.76      0.57      0.65       500\n",
      "\n",
      "    accuracy                           0.69      1000\n",
      "   macro avg       0.71      0.69      0.69      1000\n",
      "weighted avg       0.71      0.69      0.69      1000\n",
      "\n",
      "\n",
      "Confusion Matrix:\n",
      "[[412  88   0]\n",
      " [217 283   0]\n",
      " [  0   0   0]]\n"
     ]
    },
    {
     "name": "stderr",
     "output_type": "stream",
     "text": [
      "\n"
     ]
    }
   ],
   "source": [
    "# Zero shot learning on prompt_text_location_clean\n",
    "y_pred = predict(X_test, 'prompt_text_location_clean_test', model, tokenizer)\n",
    "evaluate(y_true, y_pred)"
   ]
  },
  {
   "cell_type": "markdown",
   "id": "70df5de4",
   "metadata": {
    "papermill": {
     "duration": 0.319829,
     "end_time": "2024-03-12T17:43:40.381361",
     "exception": false,
     "start_time": "2024-03-12T17:43:40.061532",
     "status": "completed"
    },
    "tags": []
   },
   "source": [
    "* The best prompt for zero-shot learning is not necessarily the best prompt for fine-tuning;\n",
    "* However, for simplicity, we will continue with prompt_text."
   ]
  },
  {
   "cell_type": "markdown",
   "id": "df30dda2",
   "metadata": {
    "papermill": {
     "duration": 0.317827,
     "end_time": "2024-03-12T17:43:41.017086",
     "exception": false,
     "start_time": "2024-03-12T17:43:40.699259",
     "status": "completed"
    },
    "tags": []
   },
   "source": [
    "# Fine tuning"
   ]
  },
  {
   "cell_type": "code",
   "execution_count": 19,
   "id": "7819e466",
   "metadata": {
    "execution": {
     "iopub.execute_input": "2024-03-12T17:43:41.704568Z",
     "iopub.status.busy": "2024-03-12T17:43:41.704202Z",
     "iopub.status.idle": "2024-03-12T17:43:45.518964Z",
     "shell.execute_reply": "2024-03-12T17:43:45.518049Z"
    },
    "papermill": {
     "duration": 4.136419,
     "end_time": "2024-03-12T17:43:45.521442",
     "exception": false,
     "start_time": "2024-03-12T17:43:41.385023",
     "status": "completed"
    },
    "tags": []
   },
   "outputs": [
    {
     "data": {
      "application/vnd.jupyter.widget-view+json": {
       "model_id": "7d5c4bfae8b94255b1b2a794646c6333",
       "version_major": 2,
       "version_minor": 0
      },
      "text/plain": [
       "Map:   0%|          | 0/1000 [00:00<?, ? examples/s]"
      ]
     },
     "metadata": {},
     "output_type": "display_data"
    },
    {
     "data": {
      "application/vnd.jupyter.widget-view+json": {
       "model_id": "d072650e21b24059a339ecb5c64143b6",
       "version_major": 2,
       "version_minor": 0
      },
      "text/plain": [
       "Map:   0%|          | 0/200 [00:00<?, ? examples/s]"
      ]
     },
     "metadata": {},
     "output_type": "display_data"
    }
   ],
   "source": [
    "# Fine tuning\n",
    "peft_config = LoraConfig(\n",
    "    lora_alpha=16,\n",
    "    lora_dropout=0.1,\n",
    "    r=64,\n",
    "    bias=\"none\",\n",
    "    task_type=\"CAUSAL_LM\",\n",
    "    target_modules=\"all-linear\",\n",
    ")\n",
    "\n",
    "training_arguments = TrainingArguments(\n",
    "    output_dir=\"logs\",\n",
    "    num_train_epochs= 4,\n",
    "    gradient_checkpointing=True,\n",
    "    per_device_train_batch_size=1,\n",
    "    gradient_accumulation_steps=8,\n",
    "    optim=\"paged_adamw_32bit\",\n",
    "    save_steps=0,\n",
    "    logging_steps=25,\n",
    "    learning_rate=1e-5, # 2e-4,\n",
    "    weight_decay=0.001,\n",
    "    fp16=True,\n",
    "    bf16=False,\n",
    "    max_grad_norm=0.3,\n",
    "    max_steps=-1,\n",
    "    warmup_ratio=0.03,\n",
    "    group_by_length=False,\n",
    "    evaluation_strategy='steps',\n",
    "    eval_steps = 112,\n",
    "    eval_accumulation_steps=1,\n",
    "    lr_scheduler_type=\"cosine\",\n",
    "    report_to=\"tensorboard\",\n",
    "    load_best_model_at_end=True\n",
    ")\n",
    "\n",
    "trainer = SFTTrainer(\n",
    "    model=model,\n",
    "    train_dataset=train_data,\n",
    "    eval_dataset=eval_data,\n",
    "    peft_config=peft_config,\n",
    "    dataset_text_field=\"prompt_text\",\n",
    "    tokenizer=tokenizer,\n",
    "    args=training_arguments,\n",
    "    packing=False,\n",
    "    max_seq_length=1024,\n",
    ")"
   ]
  },
  {
   "cell_type": "code",
   "execution_count": 20,
   "id": "6129a76b",
   "metadata": {
    "execution": {
     "iopub.execute_input": "2024-03-12T17:43:46.166566Z",
     "iopub.status.busy": "2024-03-12T17:43:46.165798Z",
     "iopub.status.idle": "2024-03-12T19:30:19.222829Z",
     "shell.execute_reply": "2024-03-12T19:30:19.221790Z"
    },
    "papermill": {
     "duration": 6393.384222,
     "end_time": "2024-03-12T19:30:19.225356",
     "exception": false,
     "start_time": "2024-03-12T17:43:45.841134",
     "status": "completed"
    },
    "tags": []
   },
   "outputs": [
    {
     "data": {
      "text/html": [
       "\n",
       "    <div>\n",
       "      \n",
       "      <progress value='500' max='500' style='width:300px; height:20px; vertical-align: middle;'></progress>\n",
       "      [500/500 1:46:18, Epoch 4/4]\n",
       "    </div>\n",
       "    <table border=\"1\" class=\"dataframe\">\n",
       "  <thead>\n",
       " <tr style=\"text-align: left;\">\n",
       "      <th>Step</th>\n",
       "      <th>Training Loss</th>\n",
       "      <th>Validation Loss</th>\n",
       "    </tr>\n",
       "  </thead>\n",
       "  <tbody>\n",
       "    <tr>\n",
       "      <td>112</td>\n",
       "      <td>5.908100</td>\n",
       "      <td>4.711516</td>\n",
       "    </tr>\n",
       "    <tr>\n",
       "      <td>224</td>\n",
       "      <td>1.952300</td>\n",
       "      <td>2.551918</td>\n",
       "    </tr>\n",
       "    <tr>\n",
       "      <td>336</td>\n",
       "      <td>1.723800</td>\n",
       "      <td>2.485381</td>\n",
       "    </tr>\n",
       "    <tr>\n",
       "      <td>448</td>\n",
       "      <td>1.671400</td>\n",
       "      <td>2.431450</td>\n",
       "    </tr>\n",
       "  </tbody>\n",
       "</table><p>"
      ],
      "text/plain": [
       "<IPython.core.display.HTML object>"
      ]
     },
     "metadata": {},
     "output_type": "display_data"
    }
   ],
   "source": [
    "# Train model\n",
    "trainer.train()\n",
    "\n",
    "# Save trained model\n",
    "trainer.model.save_pretrained(\"trained-model\")"
   ]
  },
  {
   "cell_type": "code",
   "execution_count": 21,
   "id": "dd68baa6",
   "metadata": {
    "execution": {
     "iopub.execute_input": "2024-03-12T19:30:19.888097Z",
     "iopub.status.busy": "2024-03-12T19:30:19.887367Z",
     "iopub.status.idle": "2024-03-12T19:37:48.765966Z",
     "shell.execute_reply": "2024-03-12T19:37:48.764811Z"
    },
    "papermill": {
     "duration": 449.21936,
     "end_time": "2024-03-12T19:37:48.768882",
     "exception": false,
     "start_time": "2024-03-12T19:30:19.549522",
     "status": "completed"
    },
    "tags": []
   },
   "outputs": [
    {
     "name": "stderr",
     "output_type": "stream",
     "text": [
      "  0%|          | 0/1000 [00:00<?, ?it/s]`use_cache=True` is incompatible with gradient checkpointing. Setting `use_cache=False`.\n",
      "100%|██████████| 1000/1000 [07:28<00:00,  2.23it/s]"
     ]
    },
    {
     "name": "stdout",
     "output_type": "stream",
     "text": [
      "Accuracy: 0.781\n",
      "Accuracy for label 0: 0.790\n",
      "Accuracy for label 1: 0.772\n",
      "\n",
      "Classification Report:\n",
      "              precision    recall  f1-score   support\n",
      "\n",
      "           0       0.78      0.79      0.78       500\n",
      "           1       0.79      0.77      0.78       500\n",
      "\n",
      "    accuracy                           0.78      1000\n",
      "   macro avg       0.78      0.78      0.78      1000\n",
      "weighted avg       0.78      0.78      0.78      1000\n",
      "\n",
      "\n",
      "Confusion Matrix:\n",
      "[[395 105   0]\n",
      " [114 386   0]\n",
      " [  0   0   0]]\n"
     ]
    },
    {
     "name": "stderr",
     "output_type": "stream",
     "text": [
      "\n"
     ]
    }
   ],
   "source": [
    "# predict and evaluate\n",
    "y_pred = predict(X_test, 'prompt_text_test', model, tokenizer)\n",
    "evaluate(y_true, y_pred)"
   ]
  },
  {
   "cell_type": "code",
   "execution_count": 22,
   "id": "bbec7cc6",
   "metadata": {
    "execution": {
     "iopub.execute_input": "2024-03-12T19:37:49.668543Z",
     "iopub.status.busy": "2024-03-12T19:37:49.667802Z",
     "iopub.status.idle": "2024-03-12T19:37:49.684892Z",
     "shell.execute_reply": "2024-03-12T19:37:49.684061Z"
    },
    "papermill": {
     "duration": 0.427466,
     "end_time": "2024-03-12T19:37:49.686823",
     "exception": false,
     "start_time": "2024-03-12T19:37:49.259357",
     "status": "completed"
    },
    "tags": []
   },
   "outputs": [
    {
     "data": {
      "text/html": [
       "<div>\n",
       "<style scoped>\n",
       "    .dataframe tbody tr th:only-of-type {\n",
       "        vertical-align: middle;\n",
       "    }\n",
       "\n",
       "    .dataframe tbody tr th {\n",
       "        vertical-align: top;\n",
       "    }\n",
       "\n",
       "    .dataframe thead th {\n",
       "        text-align: right;\n",
       "    }\n",
       "</style>\n",
       "<table border=\"1\" class=\"dataframe\">\n",
       "  <thead>\n",
       "    <tr style=\"text-align: right;\">\n",
       "      <th></th>\n",
       "      <th>id</th>\n",
       "      <th>keyword</th>\n",
       "      <th>location</th>\n",
       "      <th>text</th>\n",
       "      <th>text_clean</th>\n",
       "      <th>location_clean</th>\n",
       "      <th>text_location</th>\n",
       "      <th>text_location_clean</th>\n",
       "      <th>prompt_text_test</th>\n",
       "      <th>prompt_text_location_test</th>\n",
       "      <th>prompt_text_clean_test</th>\n",
       "      <th>prompt_text_location_clean_test</th>\n",
       "    </tr>\n",
       "  </thead>\n",
       "  <tbody>\n",
       "    <tr>\n",
       "      <th>40</th>\n",
       "      <td>125</td>\n",
       "      <td>accident</td>\n",
       "      <td>Frankfurt, Germany</td>\n",
       "      <td>@DaveOshry @Soembie So if I say that I met her by accident this week- would you be super jelly Dave? :p</td>\n",
       "      <td>@DaveOshry @Soembie So if I say that I met her by accident this week would you be super jelly Dave? p</td>\n",
       "      <td>Frankfurt, Germany</td>\n",
       "      <td>Location: Frankfurt, Germany. Tweet: @DaveOshry @Soembie So if I say that I met her by accident this week- would you be super jelly Dave? :p</td>\n",
       "      <td>Location: Frankfurt, Germany. Tweet: @DaveOshry @Soembie So if I say that I met her by accident this week would you be super jelly Dave? p</td>\n",
       "      <td>&lt;bos&gt;&lt;start_of_turn&gt;user\\nIdentify if the folowing Tweet is part of a thread discussing a disaster (yes/ no):\\n[ @DaveOshry @Soembie So if I say that I met her by accident this week- would you be super jelly Dave? :p ] &lt;end_of_turn&gt;\\n&lt;start_of_turn&gt;model\\n</td>\n",
       "      <td>&lt;bos&gt;&lt;start_of_turn&gt;user\\nIdentify if the folowing Tweet is part of a thread discussing a disaster (yes/ no):\\n[ Location: Frankfurt, Germany. Tweet: @DaveOshry @Soembie So if I say that I met her by accident this week- would you be super jelly Dave? :p ] &lt;end_of_turn&gt;\\n&lt;start_of_turn&gt;model\\n</td>\n",
       "      <td>&lt;bos&gt;&lt;start_of_turn&gt;user\\nIdentify if the folowing Tweet is part of a thread discussing a disaster (yes/ no):\\n[ @DaveOshry @Soembie So if I say that I met her by accident this week would you be super jelly Dave? p ] &lt;end_of_turn&gt;\\n&lt;start_of_turn&gt;model\\n</td>\n",
       "      <td>&lt;bos&gt;&lt;start_of_turn&gt;user\\nIdentify if the folowing Tweet is part of a thread discussing a disaster (yes/ no):\\n[ Location: Frankfurt, Germany. Tweet: @DaveOshry @Soembie So if I say that I met her by accident this week would you be super jelly Dave? p ] &lt;end_of_turn&gt;\\n&lt;start_of_turn&gt;model\\n</td>\n",
       "    </tr>\n",
       "  </tbody>\n",
       "</table>\n",
       "</div>"
      ],
      "text/plain": [
       "     id   keyword            location  \\\n",
       "40  125  accident  Frankfurt, Germany   \n",
       "\n",
       "                                                                                                       text  \\\n",
       "40  @DaveOshry @Soembie So if I say that I met her by accident this week- would you be super jelly Dave? :p   \n",
       "\n",
       "                                                                                               text_clean  \\\n",
       "40  @DaveOshry @Soembie So if I say that I met her by accident this week would you be super jelly Dave? p   \n",
       "\n",
       "        location_clean  \\\n",
       "40  Frankfurt, Germany   \n",
       "\n",
       "                                                                                                                                   text_location  \\\n",
       "40  Location: Frankfurt, Germany. Tweet: @DaveOshry @Soembie So if I say that I met her by accident this week- would you be super jelly Dave? :p   \n",
       "\n",
       "                                                                                                                           text_location_clean  \\\n",
       "40  Location: Frankfurt, Germany. Tweet: @DaveOshry @Soembie So if I say that I met her by accident this week would you be super jelly Dave? p   \n",
       "\n",
       "                                                                                                                                                                                                                                                    prompt_text_test  \\\n",
       "40  <bos><start_of_turn>user\\nIdentify if the folowing Tweet is part of a thread discussing a disaster (yes/ no):\\n[ @DaveOshry @Soembie So if I say that I met her by accident this week- would you be super jelly Dave? :p ] <end_of_turn>\\n<start_of_turn>model\\n   \n",
       "\n",
       "                                                                                                                                                                                                                                                                                prompt_text_location_test  \\\n",
       "40  <bos><start_of_turn>user\\nIdentify if the folowing Tweet is part of a thread discussing a disaster (yes/ no):\\n[ Location: Frankfurt, Germany. Tweet: @DaveOshry @Soembie So if I say that I met her by accident this week- would you be super jelly Dave? :p ] <end_of_turn>\\n<start_of_turn>model\\n   \n",
       "\n",
       "                                                                                                                                                                                                                                            prompt_text_clean_test  \\\n",
       "40  <bos><start_of_turn>user\\nIdentify if the folowing Tweet is part of a thread discussing a disaster (yes/ no):\\n[ @DaveOshry @Soembie So if I say that I met her by accident this week would you be super jelly Dave? p ] <end_of_turn>\\n<start_of_turn>model\\n   \n",
       "\n",
       "                                                                                                                                                                                                                                                                        prompt_text_location_clean_test  \n",
       "40  <bos><start_of_turn>user\\nIdentify if the folowing Tweet is part of a thread discussing a disaster (yes/ no):\\n[ Location: Frankfurt, Germany. Tweet: @DaveOshry @Soembie So if I say that I met her by accident this week would you be super jelly Dave? p ] <end_of_turn>\\n<start_of_turn>model\\n  "
      ]
     },
     "execution_count": 22,
     "metadata": {},
     "output_type": "execute_result"
    }
   ],
   "source": [
    "test_df.iloc[[40]]"
   ]
  },
  {
   "cell_type": "code",
   "execution_count": 23,
   "id": "8b2becd9",
   "metadata": {
    "execution": {
     "iopub.execute_input": "2024-03-12T19:37:50.534350Z",
     "iopub.status.busy": "2024-03-12T19:37:50.533452Z",
     "iopub.status.idle": "2024-03-12T20:02:10.386947Z",
     "shell.execute_reply": "2024-03-12T20:02:10.385860Z"
    },
    "papermill": {
     "duration": 1460.299478,
     "end_time": "2024-03-12T20:02:10.389035",
     "exception": false,
     "start_time": "2024-03-12T19:37:50.089557",
     "status": "completed"
    },
    "tags": []
   },
   "outputs": [
    {
     "name": "stderr",
     "output_type": "stream",
     "text": [
      "100%|██████████| 3263/3263 [24:19<00:00,  2.24it/s]\n"
     ]
    }
   ],
   "source": [
    "# Save submission\n",
    "y_pred = predict(test_df, 'prompt_text_test', model, tokenizer)\n",
    "submission_df['target'] = y_pred\n",
    "# If fail, default to yes (to maximise sub score)\n",
    "submission_df['target'] = submission_df['target'].apply(lambda x: 0 if x == 'no' else 1)\n",
    "submission_df.to_csv('submission1.csv', index=False)"
   ]
  },
  {
   "cell_type": "code",
   "execution_count": 24,
   "id": "33379118",
   "metadata": {
    "execution": {
     "iopub.execute_input": "2024-03-12T20:02:11.784679Z",
     "iopub.status.busy": "2024-03-12T20:02:11.783762Z",
     "iopub.status.idle": "2024-03-12T20:02:37.355884Z",
     "shell.execute_reply": "2024-03-12T20:02:37.354762Z"
    },
    "papermill": {
     "duration": 26.317175,
     "end_time": "2024-03-12T20:02:37.358495",
     "exception": false,
     "start_time": "2024-03-12T20:02:11.041320",
     "status": "completed"
    },
    "tags": []
   },
   "outputs": [],
   "source": [
    "# Save model\n",
    "torch.save(model.state_dict(), '/kaggle/working/gemma_7b_it_disaster_tweets.pth')"
   ]
  }
 ],
 "metadata": {
  "kaggle": {
   "accelerator": "gpu",
   "dataSources": [
    {
     "datasetId": 4586600,
     "sourceId": 7826937,
     "sourceType": "datasetVersion"
    },
    {
     "modelInstanceId": 8332,
     "sourceId": 11261,
     "sourceType": "modelInstanceVersion"
    }
   ],
   "dockerImageVersionId": 30665,
   "isGpuEnabled": true,
   "isInternetEnabled": true,
   "language": "python",
   "sourceType": "notebook"
  },
  "kernelspec": {
   "display_name": "Python 3",
   "language": "python",
   "name": "python3"
  },
  "language_info": {
   "codemirror_mode": {
    "name": "ipython",
    "version": 3
   },
   "file_extension": ".py",
   "mimetype": "text/x-python",
   "name": "python",
   "nbconvert_exporter": "python",
   "pygments_lexer": "ipython3",
   "version": "3.10.13"
  },
  "papermill": {
   "default_parameters": {},
   "duration": 10272.175967,
   "end_time": "2024-03-12T20:02:42.218873",
   "environment_variables": {},
   "exception": null,
   "input_path": "__notebook__.ipynb",
   "output_path": "__notebook__.ipynb",
   "parameters": {},
   "start_time": "2024-03-12T17:11:30.042906",
   "version": "2.5.0"
  },
  "widgets": {
   "application/vnd.jupyter.widget-state+json": {
    "state": {
     "002dc668e7304d8c9db06eb558d05793": {
      "model_module": "@jupyter-widgets/controls",
      "model_module_version": "1.5.0",
      "model_name": "HTMLModel",
      "state": {
       "_dom_classes": [],
       "_model_module": "@jupyter-widgets/controls",
       "_model_module_version": "1.5.0",
       "_model_name": "HTMLModel",
       "_view_count": null,
       "_view_module": "@jupyter-widgets/controls",
       "_view_module_version": "1.5.0",
       "_view_name": "HTMLView",
       "description": "",
       "description_tooltip": null,
       "layout": "IPY_MODEL_40baf05fd85048bf8b52a05cadd3594b",
       "placeholder": "​",
       "style": "IPY_MODEL_00b20931e86043fcb75cf36a3b453c9d",
       "value": " 200/200 [00:00&lt;00:00, 3364.24 examples/s]"
      }
     },
     "00b20931e86043fcb75cf36a3b453c9d": {
      "model_module": "@jupyter-widgets/controls",
      "model_module_version": "1.5.0",
      "model_name": "DescriptionStyleModel",
      "state": {
       "_model_module": "@jupyter-widgets/controls",
       "_model_module_version": "1.5.0",
       "_model_name": "DescriptionStyleModel",
       "_view_count": null,
       "_view_module": "@jupyter-widgets/base",
       "_view_module_version": "1.2.0",
       "_view_name": "StyleView",
       "description_width": ""
      }
     },
     "0d0dc24289fd426c85747e4c0ab1bb4a": {
      "model_module": "@jupyter-widgets/controls",
      "model_module_version": "1.5.0",
      "model_name": "DescriptionStyleModel",
      "state": {
       "_model_module": "@jupyter-widgets/controls",
       "_model_module_version": "1.5.0",
       "_model_name": "DescriptionStyleModel",
       "_view_count": null,
       "_view_module": "@jupyter-widgets/base",
       "_view_module_version": "1.2.0",
       "_view_name": "StyleView",
       "description_width": ""
      }
     },
     "179eefa7accc48caadcf7c4533ef3034": {
      "model_module": "@jupyter-widgets/controls",
      "model_module_version": "1.5.0",
      "model_name": "HBoxModel",
      "state": {
       "_dom_classes": [],
       "_model_module": "@jupyter-widgets/controls",
       "_model_module_version": "1.5.0",
       "_model_name": "HBoxModel",
       "_view_count": null,
       "_view_module": "@jupyter-widgets/controls",
       "_view_module_version": "1.5.0",
       "_view_name": "HBoxView",
       "box_style": "",
       "children": [
        "IPY_MODEL_7b20ed7ce10c4b1d8f52c15975c27567",
        "IPY_MODEL_4560aced3e2c4cb7be0e1d28dd31e0b6",
        "IPY_MODEL_30c972e18f8a48af9ae75e36ff41d64a"
       ],
       "layout": "IPY_MODEL_95fdcd811d634f62bc7caf074cc24009"
      }
     },
     "1f1815a8422f46239124cd1f92bd3b48": {
      "model_module": "@jupyter-widgets/base",
      "model_module_version": "1.2.0",
      "model_name": "LayoutModel",
      "state": {
       "_model_module": "@jupyter-widgets/base",
       "_model_module_version": "1.2.0",
       "_model_name": "LayoutModel",
       "_view_count": null,
       "_view_module": "@jupyter-widgets/base",
       "_view_module_version": "1.2.0",
       "_view_name": "LayoutView",
       "align_content": null,
       "align_items": null,
       "align_self": null,
       "border": null,
       "bottom": null,
       "display": null,
       "flex": null,
       "flex_flow": null,
       "grid_area": null,
       "grid_auto_columns": null,
       "grid_auto_flow": null,
       "grid_auto_rows": null,
       "grid_column": null,
       "grid_gap": null,
       "grid_row": null,
       "grid_template_areas": null,
       "grid_template_columns": null,
       "grid_template_rows": null,
       "height": null,
       "justify_content": null,
       "justify_items": null,
       "left": null,
       "margin": null,
       "max_height": null,
       "max_width": null,
       "min_height": null,
       "min_width": null,
       "object_fit": null,
       "object_position": null,
       "order": null,
       "overflow": null,
       "overflow_x": null,
       "overflow_y": null,
       "padding": null,
       "right": null,
       "top": null,
       "visibility": null,
       "width": null
      }
     },
     "25c4f9cb3a5e4b058b60d38b6bfac0a7": {
      "model_module": "@jupyter-widgets/controls",
      "model_module_version": "1.5.0",
      "model_name": "DescriptionStyleModel",
      "state": {
       "_model_module": "@jupyter-widgets/controls",
       "_model_module_version": "1.5.0",
       "_model_name": "DescriptionStyleModel",
       "_view_count": null,
       "_view_module": "@jupyter-widgets/base",
       "_view_module_version": "1.2.0",
       "_view_name": "StyleView",
       "description_width": ""
      }
     },
     "26aa6b54690e4b10bf650616d122c44c": {
      "model_module": "@jupyter-widgets/base",
      "model_module_version": "1.2.0",
      "model_name": "LayoutModel",
      "state": {
       "_model_module": "@jupyter-widgets/base",
       "_model_module_version": "1.2.0",
       "_model_name": "LayoutModel",
       "_view_count": null,
       "_view_module": "@jupyter-widgets/base",
       "_view_module_version": "1.2.0",
       "_view_name": "LayoutView",
       "align_content": null,
       "align_items": null,
       "align_self": null,
       "border": null,
       "bottom": null,
       "display": null,
       "flex": null,
       "flex_flow": null,
       "grid_area": null,
       "grid_auto_columns": null,
       "grid_auto_flow": null,
       "grid_auto_rows": null,
       "grid_column": null,
       "grid_gap": null,
       "grid_row": null,
       "grid_template_areas": null,
       "grid_template_columns": null,
       "grid_template_rows": null,
       "height": null,
       "justify_content": null,
       "justify_items": null,
       "left": null,
       "margin": null,
       "max_height": null,
       "max_width": null,
       "min_height": null,
       "min_width": null,
       "object_fit": null,
       "object_position": null,
       "order": null,
       "overflow": null,
       "overflow_x": null,
       "overflow_y": null,
       "padding": null,
       "right": null,
       "top": null,
       "visibility": null,
       "width": null
      }
     },
     "30c972e18f8a48af9ae75e36ff41d64a": {
      "model_module": "@jupyter-widgets/controls",
      "model_module_version": "1.5.0",
      "model_name": "HTMLModel",
      "state": {
       "_dom_classes": [],
       "_model_module": "@jupyter-widgets/controls",
       "_model_module_version": "1.5.0",
       "_model_name": "HTMLModel",
       "_view_count": null,
       "_view_module": "@jupyter-widgets/controls",
       "_view_module_version": "1.5.0",
       "_view_name": "HTMLView",
       "description": "",
       "description_tooltip": null,
       "layout": "IPY_MODEL_81977dd992374be7b121dfa3c8c2409e",
       "placeholder": "​",
       "style": "IPY_MODEL_0d0dc24289fd426c85747e4c0ab1bb4a",
       "value": " 4/4 [02:05&lt;00:00, 28.24s/it]"
      }
     },
     "40baf05fd85048bf8b52a05cadd3594b": {
      "model_module": "@jupyter-widgets/base",
      "model_module_version": "1.2.0",
      "model_name": "LayoutModel",
      "state": {
       "_model_module": "@jupyter-widgets/base",
       "_model_module_version": "1.2.0",
       "_model_name": "LayoutModel",
       "_view_count": null,
       "_view_module": "@jupyter-widgets/base",
       "_view_module_version": "1.2.0",
       "_view_name": "LayoutView",
       "align_content": null,
       "align_items": null,
       "align_self": null,
       "border": null,
       "bottom": null,
       "display": null,
       "flex": null,
       "flex_flow": null,
       "grid_area": null,
       "grid_auto_columns": null,
       "grid_auto_flow": null,
       "grid_auto_rows": null,
       "grid_column": null,
       "grid_gap": null,
       "grid_row": null,
       "grid_template_areas": null,
       "grid_template_columns": null,
       "grid_template_rows": null,
       "height": null,
       "justify_content": null,
       "justify_items": null,
       "left": null,
       "margin": null,
       "max_height": null,
       "max_width": null,
       "min_height": null,
       "min_width": null,
       "object_fit": null,
       "object_position": null,
       "order": null,
       "overflow": null,
       "overflow_x": null,
       "overflow_y": null,
       "padding": null,
       "right": null,
       "top": null,
       "visibility": null,
       "width": null
      }
     },
     "42b6e2e52fa64c7782f671a8e814b33c": {
      "model_module": "@jupyter-widgets/controls",
      "model_module_version": "1.5.0",
      "model_name": "DescriptionStyleModel",
      "state": {
       "_model_module": "@jupyter-widgets/controls",
       "_model_module_version": "1.5.0",
       "_model_name": "DescriptionStyleModel",
       "_view_count": null,
       "_view_module": "@jupyter-widgets/base",
       "_view_module_version": "1.2.0",
       "_view_name": "StyleView",
       "description_width": ""
      }
     },
     "4560aced3e2c4cb7be0e1d28dd31e0b6": {
      "model_module": "@jupyter-widgets/controls",
      "model_module_version": "1.5.0",
      "model_name": "FloatProgressModel",
      "state": {
       "_dom_classes": [],
       "_model_module": "@jupyter-widgets/controls",
       "_model_module_version": "1.5.0",
       "_model_name": "FloatProgressModel",
       "_view_count": null,
       "_view_module": "@jupyter-widgets/controls",
       "_view_module_version": "1.5.0",
       "_view_name": "ProgressView",
       "bar_style": "success",
       "description": "",
       "description_tooltip": null,
       "layout": "IPY_MODEL_1f1815a8422f46239124cd1f92bd3b48",
       "max": 4.0,
       "min": 0.0,
       "orientation": "horizontal",
       "style": "IPY_MODEL_c5298f94f99d4bd9b1776aa33b322ccb",
       "value": 4.0
      }
     },
     "47f510903d1349618e41d94c4f12a286": {
      "model_module": "@jupyter-widgets/controls",
      "model_module_version": "1.5.0",
      "model_name": "HTMLModel",
      "state": {
       "_dom_classes": [],
       "_model_module": "@jupyter-widgets/controls",
       "_model_module_version": "1.5.0",
       "_model_name": "HTMLModel",
       "_view_count": null,
       "_view_module": "@jupyter-widgets/controls",
       "_view_module_version": "1.5.0",
       "_view_name": "HTMLView",
       "description": "",
       "description_tooltip": null,
       "layout": "IPY_MODEL_b787b1caa0c0472ea0c44c1fc1db3ebf",
       "placeholder": "​",
       "style": "IPY_MODEL_42b6e2e52fa64c7782f671a8e814b33c",
       "value": "Map: 100%"
      }
     },
     "4bfcec9b4d4244ac888d3f9433b0b891": {
      "model_module": "@jupyter-widgets/controls",
      "model_module_version": "1.5.0",
      "model_name": "ProgressStyleModel",
      "state": {
       "_model_module": "@jupyter-widgets/controls",
       "_model_module_version": "1.5.0",
       "_model_name": "ProgressStyleModel",
       "_view_count": null,
       "_view_module": "@jupyter-widgets/base",
       "_view_module_version": "1.2.0",
       "_view_name": "StyleView",
       "bar_color": null,
       "description_width": ""
      }
     },
     "58ebb7796a474cbfa7adb13baf6891ab": {
      "model_module": "@jupyter-widgets/controls",
      "model_module_version": "1.5.0",
      "model_name": "HTMLModel",
      "state": {
       "_dom_classes": [],
       "_model_module": "@jupyter-widgets/controls",
       "_model_module_version": "1.5.0",
       "_model_name": "HTMLModel",
       "_view_count": null,
       "_view_module": "@jupyter-widgets/controls",
       "_view_module_version": "1.5.0",
       "_view_name": "HTMLView",
       "description": "",
       "description_tooltip": null,
       "layout": "IPY_MODEL_26aa6b54690e4b10bf650616d122c44c",
       "placeholder": "​",
       "style": "IPY_MODEL_25c4f9cb3a5e4b058b60d38b6bfac0a7",
       "value": " 1000/1000 [00:00&lt;00:00, 4912.98 examples/s]"
      }
     },
     "5abc4092a4424c96bfa99195a9a8eab5": {
      "model_module": "@jupyter-widgets/controls",
      "model_module_version": "1.5.0",
      "model_name": "ProgressStyleModel",
      "state": {
       "_model_module": "@jupyter-widgets/controls",
       "_model_module_version": "1.5.0",
       "_model_name": "ProgressStyleModel",
       "_view_count": null,
       "_view_module": "@jupyter-widgets/base",
       "_view_module_version": "1.2.0",
       "_view_name": "StyleView",
       "bar_color": null,
       "description_width": ""
      }
     },
     "5e7ed7e186ae47888fa6c58b23f617f3": {
      "model_module": "@jupyter-widgets/base",
      "model_module_version": "1.2.0",
      "model_name": "LayoutModel",
      "state": {
       "_model_module": "@jupyter-widgets/base",
       "_model_module_version": "1.2.0",
       "_model_name": "LayoutModel",
       "_view_count": null,
       "_view_module": "@jupyter-widgets/base",
       "_view_module_version": "1.2.0",
       "_view_name": "LayoutView",
       "align_content": null,
       "align_items": null,
       "align_self": null,
       "border": null,
       "bottom": null,
       "display": null,
       "flex": null,
       "flex_flow": null,
       "grid_area": null,
       "grid_auto_columns": null,
       "grid_auto_flow": null,
       "grid_auto_rows": null,
       "grid_column": null,
       "grid_gap": null,
       "grid_row": null,
       "grid_template_areas": null,
       "grid_template_columns": null,
       "grid_template_rows": null,
       "height": null,
       "justify_content": null,
       "justify_items": null,
       "left": null,
       "margin": null,
       "max_height": null,
       "max_width": null,
       "min_height": null,
       "min_width": null,
       "object_fit": null,
       "object_position": null,
       "order": null,
       "overflow": null,
       "overflow_x": null,
       "overflow_y": null,
       "padding": null,
       "right": null,
       "top": null,
       "visibility": null,
       "width": null
      }
     },
     "783d035a24344c77aaecab48242c3a31": {
      "model_module": "@jupyter-widgets/controls",
      "model_module_version": "1.5.0",
      "model_name": "DescriptionStyleModel",
      "state": {
       "_model_module": "@jupyter-widgets/controls",
       "_model_module_version": "1.5.0",
       "_model_name": "DescriptionStyleModel",
       "_view_count": null,
       "_view_module": "@jupyter-widgets/base",
       "_view_module_version": "1.2.0",
       "_view_name": "StyleView",
       "description_width": ""
      }
     },
     "7b20ed7ce10c4b1d8f52c15975c27567": {
      "model_module": "@jupyter-widgets/controls",
      "model_module_version": "1.5.0",
      "model_name": "HTMLModel",
      "state": {
       "_dom_classes": [],
       "_model_module": "@jupyter-widgets/controls",
       "_model_module_version": "1.5.0",
       "_model_name": "HTMLModel",
       "_view_count": null,
       "_view_module": "@jupyter-widgets/controls",
       "_view_module_version": "1.5.0",
       "_view_name": "HTMLView",
       "description": "",
       "description_tooltip": null,
       "layout": "IPY_MODEL_5e7ed7e186ae47888fa6c58b23f617f3",
       "placeholder": "​",
       "style": "IPY_MODEL_96d0dd913ae94251978fc3a8ed5d80f4",
       "value": "Loading checkpoint shards: 100%"
      }
     },
     "7d5c4bfae8b94255b1b2a794646c6333": {
      "model_module": "@jupyter-widgets/controls",
      "model_module_version": "1.5.0",
      "model_name": "HBoxModel",
      "state": {
       "_dom_classes": [],
       "_model_module": "@jupyter-widgets/controls",
       "_model_module_version": "1.5.0",
       "_model_name": "HBoxModel",
       "_view_count": null,
       "_view_module": "@jupyter-widgets/controls",
       "_view_module_version": "1.5.0",
       "_view_name": "HBoxView",
       "box_style": "",
       "children": [
        "IPY_MODEL_81caf7a651d349629eb4fc90a533ded0",
        "IPY_MODEL_d3ec0a2390f24a59be854563ee4ffb23",
        "IPY_MODEL_58ebb7796a474cbfa7adb13baf6891ab"
       ],
       "layout": "IPY_MODEL_d60171aa03244411b499be92069a7e80"
      }
     },
     "803c750ebe074bfeb40faab71bc7b2ef": {
      "model_module": "@jupyter-widgets/controls",
      "model_module_version": "1.5.0",
      "model_name": "FloatProgressModel",
      "state": {
       "_dom_classes": [],
       "_model_module": "@jupyter-widgets/controls",
       "_model_module_version": "1.5.0",
       "_model_name": "FloatProgressModel",
       "_view_count": null,
       "_view_module": "@jupyter-widgets/controls",
       "_view_module_version": "1.5.0",
       "_view_name": "ProgressView",
       "bar_style": "success",
       "description": "",
       "description_tooltip": null,
       "layout": "IPY_MODEL_a99c2f71dc1248c4b7ef35e0e8669567",
       "max": 200.0,
       "min": 0.0,
       "orientation": "horizontal",
       "style": "IPY_MODEL_4bfcec9b4d4244ac888d3f9433b0b891",
       "value": 200.0
      }
     },
     "81977dd992374be7b121dfa3c8c2409e": {
      "model_module": "@jupyter-widgets/base",
      "model_module_version": "1.2.0",
      "model_name": "LayoutModel",
      "state": {
       "_model_module": "@jupyter-widgets/base",
       "_model_module_version": "1.2.0",
       "_model_name": "LayoutModel",
       "_view_count": null,
       "_view_module": "@jupyter-widgets/base",
       "_view_module_version": "1.2.0",
       "_view_name": "LayoutView",
       "align_content": null,
       "align_items": null,
       "align_self": null,
       "border": null,
       "bottom": null,
       "display": null,
       "flex": null,
       "flex_flow": null,
       "grid_area": null,
       "grid_auto_columns": null,
       "grid_auto_flow": null,
       "grid_auto_rows": null,
       "grid_column": null,
       "grid_gap": null,
       "grid_row": null,
       "grid_template_areas": null,
       "grid_template_columns": null,
       "grid_template_rows": null,
       "height": null,
       "justify_content": null,
       "justify_items": null,
       "left": null,
       "margin": null,
       "max_height": null,
       "max_width": null,
       "min_height": null,
       "min_width": null,
       "object_fit": null,
       "object_position": null,
       "order": null,
       "overflow": null,
       "overflow_x": null,
       "overflow_y": null,
       "padding": null,
       "right": null,
       "top": null,
       "visibility": null,
       "width": null
      }
     },
     "81caf7a651d349629eb4fc90a533ded0": {
      "model_module": "@jupyter-widgets/controls",
      "model_module_version": "1.5.0",
      "model_name": "HTMLModel",
      "state": {
       "_dom_classes": [],
       "_model_module": "@jupyter-widgets/controls",
       "_model_module_version": "1.5.0",
       "_model_name": "HTMLModel",
       "_view_count": null,
       "_view_module": "@jupyter-widgets/controls",
       "_view_module_version": "1.5.0",
       "_view_name": "HTMLView",
       "description": "",
       "description_tooltip": null,
       "layout": "IPY_MODEL_ba5c59a7c9aa45599a20710633dace74",
       "placeholder": "​",
       "style": "IPY_MODEL_783d035a24344c77aaecab48242c3a31",
       "value": "Map: 100%"
      }
     },
     "8605bcadfa304a1486eed156eab2d2c3": {
      "model_module": "@jupyter-widgets/base",
      "model_module_version": "1.2.0",
      "model_name": "LayoutModel",
      "state": {
       "_model_module": "@jupyter-widgets/base",
       "_model_module_version": "1.2.0",
       "_model_name": "LayoutModel",
       "_view_count": null,
       "_view_module": "@jupyter-widgets/base",
       "_view_module_version": "1.2.0",
       "_view_name": "LayoutView",
       "align_content": null,
       "align_items": null,
       "align_self": null,
       "border": null,
       "bottom": null,
       "display": null,
       "flex": null,
       "flex_flow": null,
       "grid_area": null,
       "grid_auto_columns": null,
       "grid_auto_flow": null,
       "grid_auto_rows": null,
       "grid_column": null,
       "grid_gap": null,
       "grid_row": null,
       "grid_template_areas": null,
       "grid_template_columns": null,
       "grid_template_rows": null,
       "height": null,
       "justify_content": null,
       "justify_items": null,
       "left": null,
       "margin": null,
       "max_height": null,
       "max_width": null,
       "min_height": null,
       "min_width": null,
       "object_fit": null,
       "object_position": null,
       "order": null,
       "overflow": null,
       "overflow_x": null,
       "overflow_y": null,
       "padding": null,
       "right": null,
       "top": null,
       "visibility": null,
       "width": null
      }
     },
     "95fdcd811d634f62bc7caf074cc24009": {
      "model_module": "@jupyter-widgets/base",
      "model_module_version": "1.2.0",
      "model_name": "LayoutModel",
      "state": {
       "_model_module": "@jupyter-widgets/base",
       "_model_module_version": "1.2.0",
       "_model_name": "LayoutModel",
       "_view_count": null,
       "_view_module": "@jupyter-widgets/base",
       "_view_module_version": "1.2.0",
       "_view_name": "LayoutView",
       "align_content": null,
       "align_items": null,
       "align_self": null,
       "border": null,
       "bottom": null,
       "display": null,
       "flex": null,
       "flex_flow": null,
       "grid_area": null,
       "grid_auto_columns": null,
       "grid_auto_flow": null,
       "grid_auto_rows": null,
       "grid_column": null,
       "grid_gap": null,
       "grid_row": null,
       "grid_template_areas": null,
       "grid_template_columns": null,
       "grid_template_rows": null,
       "height": null,
       "justify_content": null,
       "justify_items": null,
       "left": null,
       "margin": null,
       "max_height": null,
       "max_width": null,
       "min_height": null,
       "min_width": null,
       "object_fit": null,
       "object_position": null,
       "order": null,
       "overflow": null,
       "overflow_x": null,
       "overflow_y": null,
       "padding": null,
       "right": null,
       "top": null,
       "visibility": null,
       "width": null
      }
     },
     "96d0dd913ae94251978fc3a8ed5d80f4": {
      "model_module": "@jupyter-widgets/controls",
      "model_module_version": "1.5.0",
      "model_name": "DescriptionStyleModel",
      "state": {
       "_model_module": "@jupyter-widgets/controls",
       "_model_module_version": "1.5.0",
       "_model_name": "DescriptionStyleModel",
       "_view_count": null,
       "_view_module": "@jupyter-widgets/base",
       "_view_module_version": "1.2.0",
       "_view_name": "StyleView",
       "description_width": ""
      }
     },
     "a99c2f71dc1248c4b7ef35e0e8669567": {
      "model_module": "@jupyter-widgets/base",
      "model_module_version": "1.2.0",
      "model_name": "LayoutModel",
      "state": {
       "_model_module": "@jupyter-widgets/base",
       "_model_module_version": "1.2.0",
       "_model_name": "LayoutModel",
       "_view_count": null,
       "_view_module": "@jupyter-widgets/base",
       "_view_module_version": "1.2.0",
       "_view_name": "LayoutView",
       "align_content": null,
       "align_items": null,
       "align_self": null,
       "border": null,
       "bottom": null,
       "display": null,
       "flex": null,
       "flex_flow": null,
       "grid_area": null,
       "grid_auto_columns": null,
       "grid_auto_flow": null,
       "grid_auto_rows": null,
       "grid_column": null,
       "grid_gap": null,
       "grid_row": null,
       "grid_template_areas": null,
       "grid_template_columns": null,
       "grid_template_rows": null,
       "height": null,
       "justify_content": null,
       "justify_items": null,
       "left": null,
       "margin": null,
       "max_height": null,
       "max_width": null,
       "min_height": null,
       "min_width": null,
       "object_fit": null,
       "object_position": null,
       "order": null,
       "overflow": null,
       "overflow_x": null,
       "overflow_y": null,
       "padding": null,
       "right": null,
       "top": null,
       "visibility": null,
       "width": null
      }
     },
     "b787b1caa0c0472ea0c44c1fc1db3ebf": {
      "model_module": "@jupyter-widgets/base",
      "model_module_version": "1.2.0",
      "model_name": "LayoutModel",
      "state": {
       "_model_module": "@jupyter-widgets/base",
       "_model_module_version": "1.2.0",
       "_model_name": "LayoutModel",
       "_view_count": null,
       "_view_module": "@jupyter-widgets/base",
       "_view_module_version": "1.2.0",
       "_view_name": "LayoutView",
       "align_content": null,
       "align_items": null,
       "align_self": null,
       "border": null,
       "bottom": null,
       "display": null,
       "flex": null,
       "flex_flow": null,
       "grid_area": null,
       "grid_auto_columns": null,
       "grid_auto_flow": null,
       "grid_auto_rows": null,
       "grid_column": null,
       "grid_gap": null,
       "grid_row": null,
       "grid_template_areas": null,
       "grid_template_columns": null,
       "grid_template_rows": null,
       "height": null,
       "justify_content": null,
       "justify_items": null,
       "left": null,
       "margin": null,
       "max_height": null,
       "max_width": null,
       "min_height": null,
       "min_width": null,
       "object_fit": null,
       "object_position": null,
       "order": null,
       "overflow": null,
       "overflow_x": null,
       "overflow_y": null,
       "padding": null,
       "right": null,
       "top": null,
       "visibility": null,
       "width": null
      }
     },
     "ba5c59a7c9aa45599a20710633dace74": {
      "model_module": "@jupyter-widgets/base",
      "model_module_version": "1.2.0",
      "model_name": "LayoutModel",
      "state": {
       "_model_module": "@jupyter-widgets/base",
       "_model_module_version": "1.2.0",
       "_model_name": "LayoutModel",
       "_view_count": null,
       "_view_module": "@jupyter-widgets/base",
       "_view_module_version": "1.2.0",
       "_view_name": "LayoutView",
       "align_content": null,
       "align_items": null,
       "align_self": null,
       "border": null,
       "bottom": null,
       "display": null,
       "flex": null,
       "flex_flow": null,
       "grid_area": null,
       "grid_auto_columns": null,
       "grid_auto_flow": null,
       "grid_auto_rows": null,
       "grid_column": null,
       "grid_gap": null,
       "grid_row": null,
       "grid_template_areas": null,
       "grid_template_columns": null,
       "grid_template_rows": null,
       "height": null,
       "justify_content": null,
       "justify_items": null,
       "left": null,
       "margin": null,
       "max_height": null,
       "max_width": null,
       "min_height": null,
       "min_width": null,
       "object_fit": null,
       "object_position": null,
       "order": null,
       "overflow": null,
       "overflow_x": null,
       "overflow_y": null,
       "padding": null,
       "right": null,
       "top": null,
       "visibility": null,
       "width": null
      }
     },
     "c5298f94f99d4bd9b1776aa33b322ccb": {
      "model_module": "@jupyter-widgets/controls",
      "model_module_version": "1.5.0",
      "model_name": "ProgressStyleModel",
      "state": {
       "_model_module": "@jupyter-widgets/controls",
       "_model_module_version": "1.5.0",
       "_model_name": "ProgressStyleModel",
       "_view_count": null,
       "_view_module": "@jupyter-widgets/base",
       "_view_module_version": "1.2.0",
       "_view_name": "StyleView",
       "bar_color": null,
       "description_width": ""
      }
     },
     "c8b92681ab3f458896fa8bd826b99d5d": {
      "model_module": "@jupyter-widgets/base",
      "model_module_version": "1.2.0",
      "model_name": "LayoutModel",
      "state": {
       "_model_module": "@jupyter-widgets/base",
       "_model_module_version": "1.2.0",
       "_model_name": "LayoutModel",
       "_view_count": null,
       "_view_module": "@jupyter-widgets/base",
       "_view_module_version": "1.2.0",
       "_view_name": "LayoutView",
       "align_content": null,
       "align_items": null,
       "align_self": null,
       "border": null,
       "bottom": null,
       "display": null,
       "flex": null,
       "flex_flow": null,
       "grid_area": null,
       "grid_auto_columns": null,
       "grid_auto_flow": null,
       "grid_auto_rows": null,
       "grid_column": null,
       "grid_gap": null,
       "grid_row": null,
       "grid_template_areas": null,
       "grid_template_columns": null,
       "grid_template_rows": null,
       "height": null,
       "justify_content": null,
       "justify_items": null,
       "left": null,
       "margin": null,
       "max_height": null,
       "max_width": null,
       "min_height": null,
       "min_width": null,
       "object_fit": null,
       "object_position": null,
       "order": null,
       "overflow": null,
       "overflow_x": null,
       "overflow_y": null,
       "padding": null,
       "right": null,
       "top": null,
       "visibility": null,
       "width": null
      }
     },
     "d072650e21b24059a339ecb5c64143b6": {
      "model_module": "@jupyter-widgets/controls",
      "model_module_version": "1.5.0",
      "model_name": "HBoxModel",
      "state": {
       "_dom_classes": [],
       "_model_module": "@jupyter-widgets/controls",
       "_model_module_version": "1.5.0",
       "_model_name": "HBoxModel",
       "_view_count": null,
       "_view_module": "@jupyter-widgets/controls",
       "_view_module_version": "1.5.0",
       "_view_name": "HBoxView",
       "box_style": "",
       "children": [
        "IPY_MODEL_47f510903d1349618e41d94c4f12a286",
        "IPY_MODEL_803c750ebe074bfeb40faab71bc7b2ef",
        "IPY_MODEL_002dc668e7304d8c9db06eb558d05793"
       ],
       "layout": "IPY_MODEL_c8b92681ab3f458896fa8bd826b99d5d"
      }
     },
     "d3ec0a2390f24a59be854563ee4ffb23": {
      "model_module": "@jupyter-widgets/controls",
      "model_module_version": "1.5.0",
      "model_name": "FloatProgressModel",
      "state": {
       "_dom_classes": [],
       "_model_module": "@jupyter-widgets/controls",
       "_model_module_version": "1.5.0",
       "_model_name": "FloatProgressModel",
       "_view_count": null,
       "_view_module": "@jupyter-widgets/controls",
       "_view_module_version": "1.5.0",
       "_view_name": "ProgressView",
       "bar_style": "success",
       "description": "",
       "description_tooltip": null,
       "layout": "IPY_MODEL_8605bcadfa304a1486eed156eab2d2c3",
       "max": 1000.0,
       "min": 0.0,
       "orientation": "horizontal",
       "style": "IPY_MODEL_5abc4092a4424c96bfa99195a9a8eab5",
       "value": 1000.0
      }
     },
     "d60171aa03244411b499be92069a7e80": {
      "model_module": "@jupyter-widgets/base",
      "model_module_version": "1.2.0",
      "model_name": "LayoutModel",
      "state": {
       "_model_module": "@jupyter-widgets/base",
       "_model_module_version": "1.2.0",
       "_model_name": "LayoutModel",
       "_view_count": null,
       "_view_module": "@jupyter-widgets/base",
       "_view_module_version": "1.2.0",
       "_view_name": "LayoutView",
       "align_content": null,
       "align_items": null,
       "align_self": null,
       "border": null,
       "bottom": null,
       "display": null,
       "flex": null,
       "flex_flow": null,
       "grid_area": null,
       "grid_auto_columns": null,
       "grid_auto_flow": null,
       "grid_auto_rows": null,
       "grid_column": null,
       "grid_gap": null,
       "grid_row": null,
       "grid_template_areas": null,
       "grid_template_columns": null,
       "grid_template_rows": null,
       "height": null,
       "justify_content": null,
       "justify_items": null,
       "left": null,
       "margin": null,
       "max_height": null,
       "max_width": null,
       "min_height": null,
       "min_width": null,
       "object_fit": null,
       "object_position": null,
       "order": null,
       "overflow": null,
       "overflow_x": null,
       "overflow_y": null,
       "padding": null,
       "right": null,
       "top": null,
       "visibility": null,
       "width": null
      }
     }
    },
    "version_major": 2,
    "version_minor": 0
   }
  }
 },
 "nbformat": 4,
 "nbformat_minor": 5
}
