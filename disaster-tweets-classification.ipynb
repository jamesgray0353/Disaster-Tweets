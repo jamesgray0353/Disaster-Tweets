{
 "cells": [
  {
   "cell_type": "markdown",
   "id": "3b4c8f7b",
   "metadata": {
    "papermill": {
     "duration": 0.008305,
     "end_time": "2024-03-12T09:39:56.084269",
     "exception": false,
     "start_time": "2024-03-12T09:39:56.075964",
     "status": "completed"
    },
    "tags": []
   },
   "source": [
    "# Evaluating gemma-7b-it for text classification\n",
    "## Task: Identify if a tweet is about a \"disaster\""
   ]
  },
  {
   "cell_type": "markdown",
   "id": "387edf64",
   "metadata": {
    "papermill": {
     "duration": 0.007703,
     "end_time": "2024-03-12T09:39:56.099838",
     "exception": false,
     "start_time": "2024-03-12T09:39:56.092135",
     "status": "completed"
    },
    "tags": []
   },
   "source": [
    "### Setup - Using kaggle GPU P100"
   ]
  },
  {
   "cell_type": "code",
   "execution_count": 1,
   "id": "516a1cb9",
   "metadata": {
    "execution": {
     "iopub.execute_input": "2024-03-12T09:39:56.122429Z",
     "iopub.status.busy": "2024-03-12T09:39:56.122112Z",
     "iopub.status.idle": "2024-03-12T09:40:10.104875Z",
     "shell.execute_reply": "2024-03-12T09:40:10.103695Z"
    },
    "papermill": {
     "duration": 13.999826,
     "end_time": "2024-03-12T09:40:10.107381",
     "exception": false,
     "start_time": "2024-03-12T09:39:56.107555",
     "status": "completed"
    },
    "tags": []
   },
   "outputs": [],
   "source": [
    "!pip install -q -U torch --index-url https://download.pytorch.org/whl/cu117"
   ]
  },
  {
   "cell_type": "code",
   "execution_count": 2,
   "id": "d36433ed",
   "metadata": {
    "execution": {
     "iopub.execute_input": "2024-03-12T09:40:10.125133Z",
     "iopub.status.busy": "2024-03-12T09:40:10.124840Z",
     "iopub.status.idle": "2024-03-12T09:41:27.907051Z",
     "shell.execute_reply": "2024-03-12T09:41:27.905947Z"
    },
    "papermill": {
     "duration": 77.79345,
     "end_time": "2024-03-12T09:41:27.909332",
     "exception": false,
     "start_time": "2024-03-12T09:40:10.115882",
     "status": "completed"
    },
    "tags": []
   },
   "outputs": [
    {
     "name": "stdout",
     "output_type": "stream",
     "text": [
      "\u001b[31mERROR: pip's dependency resolver does not currently take into account all the packages that are installed. This behaviour is the source of the following dependency conflicts.\r\n",
      "cudf 23.8.0 requires cubinlinker, which is not installed.\r\n",
      "cudf 23.8.0 requires cupy-cuda11x>=12.0.0, which is not installed.\r\n",
      "cudf 23.8.0 requires ptxcompiler, which is not installed.\r\n",
      "cuml 23.8.0 requires cupy-cuda11x>=12.0.0, which is not installed.\r\n",
      "dask-cudf 23.8.0 requires cupy-cuda11x>=12.0.0, which is not installed.\r\n",
      "apache-beam 2.46.0 requires dill<0.3.2,>=0.3.1.1, but you have dill 0.3.8 which is incompatible.\r\n",
      "apache-beam 2.46.0 requires numpy<1.25.0,>=1.14.3, but you have numpy 1.26.4 which is incompatible.\r\n",
      "apache-beam 2.46.0 requires pyarrow<10.0.0,>=3.0.0, but you have pyarrow 15.0.1 which is incompatible.\r\n",
      "beatrix-jupyterlab 2023.128.151533 requires jupyterlab~=3.6.0, but you have jupyterlab 4.1.2 which is incompatible.\r\n",
      "cudf 23.8.0 requires cuda-python<12.0a0,>=11.7.1, but you have cuda-python 12.3.0 which is incompatible.\r\n",
      "cudf 23.8.0 requires pandas<1.6.0dev0,>=1.3, but you have pandas 2.1.4 which is incompatible.\r\n",
      "cudf 23.8.0 requires protobuf<5,>=4.21, but you have protobuf 3.20.3 which is incompatible.\r\n",
      "cudf 23.8.0 requires pyarrow==11.*, but you have pyarrow 15.0.1 which is incompatible.\r\n",
      "cuml 23.8.0 requires dask==2023.7.1, but you have dask 2024.2.0 which is incompatible.\r\n",
      "dask-cudf 23.8.0 requires dask==2023.7.1, but you have dask 2024.2.0 which is incompatible.\r\n",
      "dask-cudf 23.8.0 requires pandas<1.6.0dev0,>=1.3, but you have pandas 2.1.4 which is incompatible.\u001b[0m\u001b[31m\r\n",
      "\u001b[0m"
     ]
    }
   ],
   "source": [
    "!pip install -q -U transformers==\"4.38.2\"\n",
    "!pip install -q accelerate\n",
    "!pip install -q -i https://pypi.org/simple/ bitsandbytes\n",
    "!pip install -q -U datasets"
   ]
  },
  {
   "cell_type": "code",
   "execution_count": 3,
   "id": "9dd2fe21",
   "metadata": {
    "execution": {
     "iopub.execute_input": "2024-03-12T09:41:27.927078Z",
     "iopub.status.busy": "2024-03-12T09:41:27.926787Z",
     "iopub.status.idle": "2024-03-12T09:42:23.174072Z",
     "shell.execute_reply": "2024-03-12T09:42:23.172731Z"
    },
    "papermill": {
     "duration": 55.258938,
     "end_time": "2024-03-12T09:42:23.176613",
     "exception": false,
     "start_time": "2024-03-12T09:41:27.917675",
     "status": "completed"
    },
    "tags": []
   },
   "outputs": [],
   "source": [
    "!pip install -q -U git+https://github.com/huggingface/trl\n",
    "!pip install -q -U git+https://github.com/huggingface/peft"
   ]
  },
  {
   "cell_type": "code",
   "execution_count": 4,
   "id": "85e6e6aa",
   "metadata": {
    "execution": {
     "iopub.execute_input": "2024-03-12T09:42:23.195767Z",
     "iopub.status.busy": "2024-03-12T09:42:23.195017Z",
     "iopub.status.idle": "2024-03-12T09:42:23.199874Z",
     "shell.execute_reply": "2024-03-12T09:42:23.198967Z"
    },
    "papermill": {
     "duration": 0.015791,
     "end_time": "2024-03-12T09:42:23.201672",
     "exception": false,
     "start_time": "2024-03-12T09:42:23.185881",
     "status": "completed"
    },
    "tags": []
   },
   "outputs": [],
   "source": [
    "import os\n",
    "os.environ[\"CUDA_VISIBLE_DEVICES\"] = \"0\"\n",
    "os.environ[\"TOKENIZERS_PARALLELISM\"] = \"false\""
   ]
  },
  {
   "cell_type": "code",
   "execution_count": 5,
   "id": "2fd603e6",
   "metadata": {
    "execution": {
     "iopub.execute_input": "2024-03-12T09:42:23.219753Z",
     "iopub.status.busy": "2024-03-12T09:42:23.218985Z",
     "iopub.status.idle": "2024-03-12T09:42:23.223170Z",
     "shell.execute_reply": "2024-03-12T09:42:23.222339Z"
    },
    "papermill": {
     "duration": 0.015194,
     "end_time": "2024-03-12T09:42:23.225141",
     "exception": false,
     "start_time": "2024-03-12T09:42:23.209947",
     "status": "completed"
    },
    "tags": []
   },
   "outputs": [],
   "source": [
    "import warnings\n",
    "warnings.filterwarnings(\"ignore\")"
   ]
  },
  {
   "cell_type": "code",
   "execution_count": 6,
   "id": "f3cd4523",
   "metadata": {
    "execution": {
     "iopub.execute_input": "2024-03-12T09:42:23.242971Z",
     "iopub.status.busy": "2024-03-12T09:42:23.242180Z",
     "iopub.status.idle": "2024-03-12T09:42:43.948834Z",
     "shell.execute_reply": "2024-03-12T09:42:43.948045Z"
    },
    "papermill": {
     "duration": 20.717858,
     "end_time": "2024-03-12T09:42:43.951195",
     "exception": false,
     "start_time": "2024-03-12T09:42:23.233337",
     "status": "completed"
    },
    "tags": []
   },
   "outputs": [
    {
     "name": "stderr",
     "output_type": "stream",
     "text": [
      "2024-03-12 09:42:32.231855: E external/local_xla/xla/stream_executor/cuda/cuda_dnn.cc:9261] Unable to register cuDNN factory: Attempting to register factory for plugin cuDNN when one has already been registered\n",
      "2024-03-12 09:42:32.231962: E external/local_xla/xla/stream_executor/cuda/cuda_fft.cc:607] Unable to register cuFFT factory: Attempting to register factory for plugin cuFFT when one has already been registered\n",
      "2024-03-12 09:42:32.377981: E external/local_xla/xla/stream_executor/cuda/cuda_blas.cc:1515] Unable to register cuBLAS factory: Attempting to register factory for plugin cuBLAS when one has already been registered\n"
     ]
    }
   ],
   "source": [
    "import numpy as np\n",
    "import pandas as pd\n",
    "pd.set_option('display.max_colwidth', None)\n",
    "\n",
    "import os\n",
    "from tqdm import tqdm\n",
    "\n",
    "import torch\n",
    "import torch.nn as nn\n",
    "\n",
    "import transformers\n",
    "from transformers import (AutoModelForCausalLM, \n",
    "                          AutoTokenizer, \n",
    "                          BitsAndBytesConfig, \n",
    "                          TrainingArguments, \n",
    "                          pipeline, \n",
    "                          logging)\n",
    "from datasets import Dataset\n",
    "from peft import LoraConfig, PeftConfig\n",
    "import bitsandbytes as bnb\n",
    "from trl import SFTTrainer\n",
    "\n",
    "from sklearn.metrics import (accuracy_score, \n",
    "                             classification_report, \n",
    "                             confusion_matrix)\n",
    "from sklearn.model_selection import train_test_split"
   ]
  },
  {
   "cell_type": "code",
   "execution_count": 7,
   "id": "bcec8851",
   "metadata": {
    "execution": {
     "iopub.execute_input": "2024-03-12T09:42:43.968782Z",
     "iopub.status.busy": "2024-03-12T09:42:43.968448Z",
     "iopub.status.idle": "2024-03-12T09:42:44.492044Z",
     "shell.execute_reply": "2024-03-12T09:42:44.491220Z"
    },
    "papermill": {
     "duration": 0.535042,
     "end_time": "2024-03-12T09:42:44.494614",
     "exception": false,
     "start_time": "2024-03-12T09:42:43.959572",
     "status": "completed"
    },
    "tags": []
   },
   "outputs": [],
   "source": [
    "# Read data\n",
    "submission_path = '/kaggle/input/tweets/disaster_submission.csv'\n",
    "train_path = '/kaggle/input/tweets/disaster_train.csv'\n",
    "test_path = '/kaggle/input/tweets/disaster_test.csv'\n",
    "\n",
    "submission_df = pd.read_csv(submission_path)\n",
    "train_df = pd.read_csv(train_path)\n",
    "test_df = pd.read_csv(test_path)"
   ]
  },
  {
   "cell_type": "code",
   "execution_count": 8,
   "id": "5bf993f7",
   "metadata": {
    "execution": {
     "iopub.execute_input": "2024-03-12T09:42:44.512408Z",
     "iopub.status.busy": "2024-03-12T09:42:44.512113Z",
     "iopub.status.idle": "2024-03-12T09:42:44.518989Z",
     "shell.execute_reply": "2024-03-12T09:42:44.518222Z"
    },
    "papermill": {
     "duration": 0.017833,
     "end_time": "2024-03-12T09:42:44.520943",
     "exception": false,
     "start_time": "2024-03-12T09:42:44.503110",
     "status": "completed"
    },
    "tags": []
   },
   "outputs": [
    {
     "data": {
      "text/plain": [
       "['id',\n",
       " 'keyword',\n",
       " 'location',\n",
       " 'text',\n",
       " 'target',\n",
       " 'text_clean',\n",
       " 'location_clean',\n",
       " 'text_location',\n",
       " 'text_location_clean',\n",
       " 'class',\n",
       " 'prompt_text',\n",
       " 'prompt_text_test',\n",
       " 'prompt_text_location',\n",
       " 'prompt_text_location_test',\n",
       " 'prompt_text_clean',\n",
       " 'prompt_text_clean_test',\n",
       " 'prompt_text_location_clean',\n",
       " 'prompt_text_location_clean_test']"
      ]
     },
     "execution_count": 8,
     "metadata": {},
     "output_type": "execute_result"
    }
   ],
   "source": [
    "# Display column names\n",
    "train_df.columns.tolist()"
   ]
  },
  {
   "cell_type": "markdown",
   "id": "a8aaff42",
   "metadata": {
    "papermill": {
     "duration": 0.007747,
     "end_time": "2024-03-12T09:42:44.536766",
     "exception": false,
     "start_time": "2024-03-12T09:42:44.529019",
     "status": "completed"
    },
    "tags": []
   },
   "source": [
    "* If ***_text*** in name of prompt column - text is included.\n",
    "* If ***_test*** in name of prompt column - there is no answer included.\n",
    "* If ***_location*** in name of prompt column - location is included.\n",
    "* If ***_clean*** in name of prompt column - prompt has been cleaned (see EDA)."
   ]
  },
  {
   "cell_type": "code",
   "execution_count": 9,
   "id": "50a75c3d",
   "metadata": {
    "execution": {
     "iopub.execute_input": "2024-03-12T09:42:44.553889Z",
     "iopub.status.busy": "2024-03-12T09:42:44.553362Z",
     "iopub.status.idle": "2024-03-12T09:42:44.662673Z",
     "shell.execute_reply": "2024-03-12T09:42:44.661865Z"
    },
    "papermill": {
     "duration": 0.120295,
     "end_time": "2024-03-12T09:42:44.664950",
     "exception": false,
     "start_time": "2024-03-12T09:42:44.544655",
     "status": "completed"
    },
    "tags": []
   },
   "outputs": [],
   "source": [
    "# Split train_df into train, eval, test\n",
    "# Keep test_df as held out for submission\n",
    "\n",
    "# Sample equally from yes and no for train test\n",
    "X_train = list()\n",
    "X_test = list()\n",
    "for target in ['yes', 'no']:\n",
    "    train, test  = train_test_split(train_df[train_df['class']==target], \n",
    "                                    train_size=500,\n",
    "                                    test_size=500, \n",
    "                                    random_state=1)\n",
    "    X_train.append(train)\n",
    "    X_test.append(test)\n",
    "\n",
    "X_train = pd.concat(X_train).sample(frac=1, random_state=10) # Shuffle\n",
    "X_test = pd.concat(X_test)\n",
    "\n",
    "# Balanced eval set\n",
    "eval_mask = ~train_df.index.isin(X_train.index) & ~train_df.index.isin(X_test.index)\n",
    "X_eval = train_df[eval_mask].groupby('class').apply(\n",
    "    lambda x: x.sample(n=100, random_state=1, replace=True)).reset_index(drop=True)\n",
    "\n",
    "# Reset index for training data\n",
    "X_train = X_train.reset_index(drop=True)\n",
    "\n",
    "y_true = X_test['class']\n",
    "\n",
    "train_data = Dataset.from_pandas(X_train)\n",
    "eval_data = Dataset.from_pandas(X_eval)"
   ]
  },
  {
   "cell_type": "code",
   "execution_count": 10,
   "id": "84cfd872",
   "metadata": {
    "execution": {
     "iopub.execute_input": "2024-03-12T09:42:44.683802Z",
     "iopub.status.busy": "2024-03-12T09:42:44.683175Z",
     "iopub.status.idle": "2024-03-12T09:42:44.687812Z",
     "shell.execute_reply": "2024-03-12T09:42:44.686944Z"
    },
    "papermill": {
     "duration": 0.016709,
     "end_time": "2024-03-12T09:42:44.690431",
     "exception": false,
     "start_time": "2024-03-12T09:42:44.673722",
     "status": "completed"
    },
    "tags": []
   },
   "outputs": [
    {
     "name": "stdout",
     "output_type": "stream",
     "text": [
      "(1000, 18) (200, 18) (1000, 18) (3263, 11)\n"
     ]
    }
   ],
   "source": [
    "# Check sizes\n",
    "print(X_train.shape, X_eval.shape, X_test.shape, test_df.shape)"
   ]
  },
  {
   "cell_type": "markdown",
   "id": "e639f5a7",
   "metadata": {
    "papermill": {
     "duration": 0.007873,
     "end_time": "2024-03-12T09:42:44.706937",
     "exception": false,
     "start_time": "2024-03-12T09:42:44.699064",
     "status": "completed"
    },
    "tags": []
   },
   "source": [
    "Train\n",
    "* prompt_text - prompt with just text\n",
    "* prompt_text_location - prompt with text and location\n",
    "* prompt_text_clean - prompt with cleaned text\n",
    "* prompt_text_location_clean - prompt with cleaned text and location\n",
    "\n",
    "\n",
    "Test - Same but without model answers\n",
    "* prompt_text_test\n",
    "* prompt_text_location_test\n",
    "* prompt_text_clean_test\n",
    "* prompt_text_location_clean_test"
   ]
  },
  {
   "cell_type": "code",
   "execution_count": 11,
   "id": "d969fff7",
   "metadata": {
    "execution": {
     "iopub.execute_input": "2024-03-12T09:42:44.724431Z",
     "iopub.status.busy": "2024-03-12T09:42:44.723947Z",
     "iopub.status.idle": "2024-03-12T09:44:46.283604Z",
     "shell.execute_reply": "2024-03-12T09:44:46.282753Z"
    },
    "papermill": {
     "duration": 121.570928,
     "end_time": "2024-03-12T09:44:46.285981",
     "exception": false,
     "start_time": "2024-03-12T09:42:44.715053",
     "status": "completed"
    },
    "tags": []
   },
   "outputs": [
    {
     "data": {
      "application/vnd.jupyter.widget-view+json": {
       "model_id": "0143df99202147de8387cdd8cd315d18",
       "version_major": 2,
       "version_minor": 0
      },
      "text/plain": [
       "Loading checkpoint shards:   0%|          | 0/4 [00:00<?, ?it/s]"
      ]
     },
     "metadata": {},
     "output_type": "display_data"
    }
   ],
   "source": [
    "# Load model + quantization\n",
    "model_name = \"/kaggle/input/gemma/transformers/7b-it/1\"\n",
    "\n",
    "compute_dtype = getattr(torch, \"float16\")\n",
    "\n",
    "bnb_config = BitsAndBytesConfig(\n",
    "    load_in_4bit=True,\n",
    "    bnb_4bit_use_double_quant=False,\n",
    "    bnb_4bit_quant_type=\"nf4\",\n",
    "    bnb_4bit_compute_dtype=compute_dtype,\n",
    ")\n",
    "\n",
    "model = AutoModelForCausalLM.from_pretrained(\n",
    "    model_name,\n",
    "    device_map=\"auto\",\n",
    "    quantization_config=bnb_config, \n",
    ")\n",
    "\n",
    "model.config.use_cache = False\n",
    "model.config.pretraining_tp = 1\n",
    "\n",
    "tokenizer = AutoTokenizer.from_pretrained(model_name)"
   ]
  },
  {
   "cell_type": "code",
   "execution_count": 12,
   "id": "3bda0ec2",
   "metadata": {
    "execution": {
     "iopub.execute_input": "2024-03-12T09:44:46.304254Z",
     "iopub.status.busy": "2024-03-12T09:44:46.303972Z",
     "iopub.status.idle": "2024-03-12T09:44:48.532956Z",
     "shell.execute_reply": "2024-03-12T09:44:48.532038Z"
    },
    "papermill": {
     "duration": 2.240409,
     "end_time": "2024-03-12T09:44:48.535068",
     "exception": false,
     "start_time": "2024-03-12T09:44:46.294659",
     "status": "completed"
    },
    "tags": []
   },
   "outputs": [
    {
     "name": "stdout",
     "output_type": "stream",
     "text": [
      "text     @Chibi877 --head. It hit the wall behind him with a loud bang. 'Language!' Drake shouted at him before getting up. 'I'm going out stay--\n",
      "class                                                                                                                                         yes\n",
      "Name: 4658, dtype: object\n",
      "\n",
      "Prediction: yes\n"
     ]
    }
   ],
   "source": [
    "# Test of 1\n",
    "print(X_test.iloc[2][['text', 'class']])\n",
    "prompt = X_test.iloc[2]['prompt_text_test']\n",
    "input_ids = tokenizer(prompt, return_tensors=\"pt\").to(\"cuda\")\n",
    "outputs = model.generate(**input_ids, max_new_tokens=1, temperature=0.0)\n",
    "result = tokenizer.decode(outputs[0])\n",
    "answer = result.split(\"model\\n\")[-1].lower()\n",
    "print('\\nPrediction: '+answer)"
   ]
  },
  {
   "cell_type": "code",
   "execution_count": 13,
   "id": "cb47d3a6",
   "metadata": {
    "execution": {
     "iopub.execute_input": "2024-03-12T09:44:48.553945Z",
     "iopub.status.busy": "2024-03-12T09:44:48.553208Z",
     "iopub.status.idle": "2024-03-12T09:44:48.560138Z",
     "shell.execute_reply": "2024-03-12T09:44:48.559301Z"
    },
    "papermill": {
     "duration": 0.01805,
     "end_time": "2024-03-12T09:44:48.561965",
     "exception": false,
     "start_time": "2024-03-12T09:44:48.543915",
     "status": "completed"
    },
    "tags": []
   },
   "outputs": [],
   "source": [
    "def predict(X_test, prompt_col, model, tokenizer):\n",
    "    y_pred = []\n",
    "    for i in tqdm(range(len(X_test))):\n",
    "        prompt = X_test.iloc[i][prompt_col]\n",
    "        input_ids = tokenizer(prompt, return_tensors=\"pt\").to(\"cuda\")\n",
    "        outputs = model.generate(**input_ids, max_new_tokens=1, temperature=0.0)\n",
    "        result = tokenizer.decode(outputs[0])\n",
    "        answer = result.split(\"model\\n\")[-1].lower()\n",
    "        if answer == 'no':\n",
    "            y_pred.append('no')\n",
    "        elif answer == 'yes':\n",
    "            y_pred.append('yes')\n",
    "        else:\n",
    "            y_pred.append('none')\n",
    "    return y_pred"
   ]
  },
  {
   "cell_type": "code",
   "execution_count": 14,
   "id": "11ba1be4",
   "metadata": {
    "execution": {
     "iopub.execute_input": "2024-03-12T09:44:48.580202Z",
     "iopub.status.busy": "2024-03-12T09:44:48.579935Z",
     "iopub.status.idle": "2024-03-12T09:44:48.588761Z",
     "shell.execute_reply": "2024-03-12T09:44:48.588064Z"
    },
    "papermill": {
     "duration": 0.020268,
     "end_time": "2024-03-12T09:44:48.590574",
     "exception": false,
     "start_time": "2024-03-12T09:44:48.570306",
     "status": "completed"
    },
    "tags": []
   },
   "outputs": [],
   "source": [
    "def evaluate(y_true, y_pred):\n",
    "    labels = ['yes', 'no']\n",
    "    mapping = {'yes': 1, 'no': 0, 'none':-1}\n",
    "    def map_func(x):\n",
    "        return mapping.get(x, 1)\n",
    "    \n",
    "    y_true = np.vectorize(map_func)(y_true)\n",
    "    y_pred = np.vectorize(map_func)(y_pred)\n",
    "    \n",
    "    # Calculate accuracy\n",
    "    accuracy = accuracy_score(y_true=y_true, y_pred=y_pred)\n",
    "    print(f'Accuracy: {accuracy:.3f}')\n",
    "    \n",
    "    # Generate accuracy report\n",
    "    unique_labels = set(y_true)  # Get unique labels\n",
    "    \n",
    "    for label in unique_labels:\n",
    "        label_indices = [i for i in range(len(y_true)) \n",
    "                         if y_true[i] == label]\n",
    "        label_y_true = [y_true[i] for i in label_indices]\n",
    "        label_y_pred = [y_pred[i] for i in label_indices]\n",
    "        accuracy = accuracy_score(label_y_true, label_y_pred)\n",
    "        print(f'Accuracy for label {label}: {accuracy:.3f}')\n",
    "        \n",
    "    # Generate classification report\n",
    "    class_report = classification_report(y_true=y_true, y_pred=y_pred)\n",
    "    print('\\nClassification Report:')\n",
    "    print(class_report)\n",
    "    \n",
    "    # Generate confusion matrix\n",
    "    conf_matrix = confusion_matrix(y_true=y_true, y_pred=y_pred, labels=[0, 1, 2])\n",
    "    print('\\nConfusion Matrix:')\n",
    "    print(conf_matrix)"
   ]
  },
  {
   "cell_type": "code",
   "execution_count": 15,
   "id": "281cd3a4",
   "metadata": {
    "execution": {
     "iopub.execute_input": "2024-03-12T09:44:48.608315Z",
     "iopub.status.busy": "2024-03-12T09:44:48.608058Z",
     "iopub.status.idle": "2024-03-12T09:51:35.616870Z",
     "shell.execute_reply": "2024-03-12T09:51:35.615736Z"
    },
    "papermill": {
     "duration": 407.020539,
     "end_time": "2024-03-12T09:51:35.619468",
     "exception": false,
     "start_time": "2024-03-12T09:44:48.598929",
     "status": "completed"
    },
    "tags": []
   },
   "outputs": [
    {
     "name": "stderr",
     "output_type": "stream",
     "text": [
      "100%|██████████| 1000/1000 [06:46<00:00,  2.46it/s]"
     ]
    },
    {
     "name": "stdout",
     "output_type": "stream",
     "text": [
      "Accuracy: 0.702\n",
      "Accuracy for label 0: 0.716\n",
      "Accuracy for label 1: 0.688\n",
      "\n",
      "Classification Report:\n",
      "              precision    recall  f1-score   support\n",
      "\n",
      "           0       0.70      0.72      0.71       500\n",
      "           1       0.71      0.69      0.70       500\n",
      "\n",
      "    accuracy                           0.70      1000\n",
      "   macro avg       0.70      0.70      0.70      1000\n",
      "weighted avg       0.70      0.70      0.70      1000\n",
      "\n",
      "\n",
      "Confusion Matrix:\n",
      "[[358 142   0]\n",
      " [156 344   0]\n",
      " [  0   0   0]]\n"
     ]
    },
    {
     "name": "stderr",
     "output_type": "stream",
     "text": [
      "\n"
     ]
    }
   ],
   "source": [
    "# Zero shot learning on prompt_text\n",
    "y_pred = predict(X_test, 'prompt_text_test', model, tokenizer)\n",
    "evaluate(y_true, y_pred)"
   ]
  },
  {
   "cell_type": "code",
   "execution_count": 16,
   "id": "cbac57da",
   "metadata": {
    "execution": {
     "iopub.execute_input": "2024-03-12T09:51:35.790359Z",
     "iopub.status.busy": "2024-03-12T09:51:35.790040Z",
     "iopub.status.idle": "2024-03-12T09:58:38.628538Z",
     "shell.execute_reply": "2024-03-12T09:58:38.627251Z"
    },
    "papermill": {
     "duration": 422.926571,
     "end_time": "2024-03-12T09:58:38.631387",
     "exception": false,
     "start_time": "2024-03-12T09:51:35.704816",
     "status": "completed"
    },
    "tags": []
   },
   "outputs": [
    {
     "name": "stderr",
     "output_type": "stream",
     "text": [
      "100%|██████████| 1000/1000 [07:02<00:00,  2.37it/s]"
     ]
    },
    {
     "name": "stdout",
     "output_type": "stream",
     "text": [
      "Accuracy: 0.693\n",
      "Accuracy for label 0: 0.806\n",
      "Accuracy for label 1: 0.580\n",
      "\n",
      "Classification Report:\n",
      "              precision    recall  f1-score   support\n",
      "\n",
      "           0       0.66      0.81      0.72       500\n",
      "           1       0.75      0.58      0.65       500\n",
      "\n",
      "    accuracy                           0.69      1000\n",
      "   macro avg       0.70      0.69      0.69      1000\n",
      "weighted avg       0.70      0.69      0.69      1000\n",
      "\n",
      "\n",
      "Confusion Matrix:\n",
      "[[403  97   0]\n",
      " [210 290   0]\n",
      " [  0   0   0]]\n"
     ]
    },
    {
     "name": "stderr",
     "output_type": "stream",
     "text": [
      "\n"
     ]
    }
   ],
   "source": [
    "# Zero shot learning on prompt_text_location\n",
    "y_pred = predict(X_test, 'prompt_text_location_test', model, tokenizer)\n",
    "evaluate(y_true, y_pred)"
   ]
  },
  {
   "cell_type": "code",
   "execution_count": 17,
   "id": "0865df03",
   "metadata": {
    "execution": {
     "iopub.execute_input": "2024-03-12T09:58:38.957818Z",
     "iopub.status.busy": "2024-03-12T09:58:38.957205Z",
     "iopub.status.idle": "2024-03-12T10:05:05.469853Z",
     "shell.execute_reply": "2024-03-12T10:05:05.468546Z"
    },
    "papermill": {
     "duration": 386.678314,
     "end_time": "2024-03-12T10:05:05.472596",
     "exception": false,
     "start_time": "2024-03-12T09:58:38.794282",
     "status": "completed"
    },
    "tags": []
   },
   "outputs": [
    {
     "name": "stderr",
     "output_type": "stream",
     "text": [
      "100%|██████████| 1000/1000 [06:26<00:00,  2.59it/s]"
     ]
    },
    {
     "name": "stdout",
     "output_type": "stream",
     "text": [
      "Accuracy: 0.702\n",
      "Accuracy for label 0: 0.732\n",
      "Accuracy for label 1: 0.672\n",
      "\n",
      "Classification Report:\n",
      "              precision    recall  f1-score   support\n",
      "\n",
      "           0       0.69      0.73      0.71       500\n",
      "           1       0.71      0.67      0.69       500\n",
      "\n",
      "    accuracy                           0.70      1000\n",
      "   macro avg       0.70      0.70      0.70      1000\n",
      "weighted avg       0.70      0.70      0.70      1000\n",
      "\n",
      "\n",
      "Confusion Matrix:\n",
      "[[366 134   0]\n",
      " [164 336   0]\n",
      " [  0   0   0]]\n"
     ]
    },
    {
     "name": "stderr",
     "output_type": "stream",
     "text": [
      "\n"
     ]
    }
   ],
   "source": [
    "# Zero shot learning on prompt_text_clean\n",
    "y_pred = predict(X_test, 'prompt_text_clean_test', model, tokenizer)\n",
    "evaluate(y_true, y_pred)"
   ]
  },
  {
   "cell_type": "code",
   "execution_count": 18,
   "id": "2f69049b",
   "metadata": {
    "execution": {
     "iopub.execute_input": "2024-03-12T10:05:05.958948Z",
     "iopub.status.busy": "2024-03-12T10:05:05.958604Z",
     "iopub.status.idle": "2024-03-12T10:11:52.032602Z",
     "shell.execute_reply": "2024-03-12T10:11:52.031274Z"
    },
    "papermill": {
     "duration": 406.314957,
     "end_time": "2024-03-12T10:11:52.035635",
     "exception": false,
     "start_time": "2024-03-12T10:05:05.720678",
     "status": "completed"
    },
    "tags": []
   },
   "outputs": [
    {
     "name": "stderr",
     "output_type": "stream",
     "text": [
      "100%|██████████| 1000/1000 [06:46<00:00,  2.46it/s]"
     ]
    },
    {
     "name": "stdout",
     "output_type": "stream",
     "text": [
      "Accuracy: 0.695\n",
      "Accuracy for label 0: 0.824\n",
      "Accuracy for label 1: 0.566\n",
      "\n",
      "Classification Report:\n",
      "              precision    recall  f1-score   support\n",
      "\n",
      "           0       0.66      0.82      0.73       500\n",
      "           1       0.76      0.57      0.65       500\n",
      "\n",
      "    accuracy                           0.69      1000\n",
      "   macro avg       0.71      0.69      0.69      1000\n",
      "weighted avg       0.71      0.69      0.69      1000\n",
      "\n",
      "\n",
      "Confusion Matrix:\n",
      "[[412  88   0]\n",
      " [217 283   0]\n",
      " [  0   0   0]]\n"
     ]
    },
    {
     "name": "stderr",
     "output_type": "stream",
     "text": [
      "\n"
     ]
    }
   ],
   "source": [
    "# Zero shot learning on prompt_text_location_clean\n",
    "y_pred = predict(X_test, 'prompt_text_location_clean_test', model, tokenizer)\n",
    "evaluate(y_true, y_pred)"
   ]
  },
  {
   "cell_type": "markdown",
   "id": "37f7131b",
   "metadata": {
    "papermill": {
     "duration": 0.313507,
     "end_time": "2024-03-12T10:11:52.664556",
     "exception": false,
     "start_time": "2024-03-12T10:11:52.351049",
     "status": "completed"
    },
    "tags": []
   },
   "source": [
    "* The best prompt for zero-shot learning is not necessarily the best prompt for fine-tuning;\n",
    "* However, for simplicity, we will continue with prompt_text."
   ]
  },
  {
   "cell_type": "markdown",
   "id": "e038db7f",
   "metadata": {
    "papermill": {
     "duration": 0.31282,
     "end_time": "2024-03-12T10:11:53.290186",
     "exception": false,
     "start_time": "2024-03-12T10:11:52.977366",
     "status": "completed"
    },
    "tags": []
   },
   "source": [
    "# Fine tuning"
   ]
  },
  {
   "cell_type": "code",
   "execution_count": 19,
   "id": "f8f625f9",
   "metadata": {
    "execution": {
     "iopub.execute_input": "2024-03-12T10:11:53.971533Z",
     "iopub.status.busy": "2024-03-12T10:11:53.971143Z",
     "iopub.status.idle": "2024-03-12T10:11:57.650301Z",
     "shell.execute_reply": "2024-03-12T10:11:57.649542Z"
    },
    "papermill": {
     "duration": 3.99777,
     "end_time": "2024-03-12T10:11:57.652189",
     "exception": false,
     "start_time": "2024-03-12T10:11:53.654419",
     "status": "completed"
    },
    "tags": []
   },
   "outputs": [
    {
     "data": {
      "application/vnd.jupyter.widget-view+json": {
       "model_id": "cc636dc283974979b1aefa5885b2b6bb",
       "version_major": 2,
       "version_minor": 0
      },
      "text/plain": [
       "Map:   0%|          | 0/1000 [00:00<?, ? examples/s]"
      ]
     },
     "metadata": {},
     "output_type": "display_data"
    },
    {
     "data": {
      "application/vnd.jupyter.widget-view+json": {
       "model_id": "2f50be2f994049cdbd7a82cb9c6a457b",
       "version_major": 2,
       "version_minor": 0
      },
      "text/plain": [
       "Map:   0%|          | 0/200 [00:00<?, ? examples/s]"
      ]
     },
     "metadata": {},
     "output_type": "display_data"
    }
   ],
   "source": [
    "# Fine tuning\n",
    "peft_config = LoraConfig(\n",
    "    lora_alpha=16,\n",
    "    lora_dropout=0.1,\n",
    "    r=64,\n",
    "    bias=\"none\",\n",
    "    task_type=\"CAUSAL_LM\",\n",
    "    target_modules=\"all-linear\",\n",
    ")\n",
    "\n",
    "training_arguments = TrainingArguments(\n",
    "    output_dir=\"logs\",\n",
    "    num_train_epochs= 4,\n",
    "    gradient_checkpointing=True,\n",
    "    per_device_train_batch_size=1,\n",
    "    gradient_accumulation_steps=8,\n",
    "    optim=\"paged_adamw_32bit\",\n",
    "    save_steps=0,\n",
    "    logging_steps=25,\n",
    "    learning_rate=1e-5, # 2e-4,\n",
    "    weight_decay=0.001,\n",
    "    fp16=True,\n",
    "    bf16=False,\n",
    "    max_grad_norm=0.3,\n",
    "    max_steps=-1,\n",
    "    warmup_ratio=0.03,\n",
    "    group_by_length=False,\n",
    "    evaluation_strategy='steps',\n",
    "    eval_steps = 112,\n",
    "    eval_accumulation_steps=1,\n",
    "    lr_scheduler_type=\"cosine\",\n",
    "    report_to=\"tensorboard\",\n",
    "    load_best_model_at_end=True\n",
    ")\n",
    "\n",
    "trainer = SFTTrainer(\n",
    "    model=model,\n",
    "    train_dataset=train_data,\n",
    "    eval_dataset=eval_data,\n",
    "    peft_config=peft_config,\n",
    "    dataset_text_field=\"prompt_text\",\n",
    "    tokenizer=tokenizer,\n",
    "    args=training_arguments,\n",
    "    packing=False,\n",
    "    max_seq_length=1024,\n",
    ")"
   ]
  },
  {
   "cell_type": "code",
   "execution_count": 20,
   "id": "7586e033",
   "metadata": {
    "execution": {
     "iopub.execute_input": "2024-03-12T10:11:58.283986Z",
     "iopub.status.busy": "2024-03-12T10:11:58.283146Z",
     "iopub.status.idle": "2024-03-12T11:58:25.978818Z",
     "shell.execute_reply": "2024-03-12T11:58:25.977956Z"
    },
    "papermill": {
     "duration": 6388.012881,
     "end_time": "2024-03-12T11:58:25.981014",
     "exception": false,
     "start_time": "2024-03-12T10:11:57.968133",
     "status": "completed"
    },
    "tags": []
   },
   "outputs": [
    {
     "data": {
      "text/html": [
       "\n",
       "    <div>\n",
       "      \n",
       "      <progress value='500' max='500' style='width:300px; height:20px; vertical-align: middle;'></progress>\n",
       "      [500/500 1:46:13, Epoch 4/4]\n",
       "    </div>\n",
       "    <table border=\"1\" class=\"dataframe\">\n",
       "  <thead>\n",
       " <tr style=\"text-align: left;\">\n",
       "      <th>Step</th>\n",
       "      <th>Training Loss</th>\n",
       "      <th>Validation Loss</th>\n",
       "    </tr>\n",
       "  </thead>\n",
       "  <tbody>\n",
       "    <tr>\n",
       "      <td>112</td>\n",
       "      <td>5.949400</td>\n",
       "      <td>4.773743</td>\n",
       "    </tr>\n",
       "    <tr>\n",
       "      <td>224</td>\n",
       "      <td>1.954300</td>\n",
       "      <td>2.579322</td>\n",
       "    </tr>\n",
       "    <tr>\n",
       "      <td>336</td>\n",
       "      <td>1.723400</td>\n",
       "      <td>2.509944</td>\n",
       "    </tr>\n",
       "    <tr>\n",
       "      <td>448</td>\n",
       "      <td>1.669900</td>\n",
       "      <td>2.465275</td>\n",
       "    </tr>\n",
       "  </tbody>\n",
       "</table><p>"
      ],
      "text/plain": [
       "<IPython.core.display.HTML object>"
      ]
     },
     "metadata": {},
     "output_type": "display_data"
    }
   ],
   "source": [
    "# Train model\n",
    "trainer.train()\n",
    "\n",
    "# Save trained model\n",
    "trainer.model.save_pretrained(\"trained-model\")"
   ]
  },
  {
   "cell_type": "code",
   "execution_count": 21,
   "id": "c9258f1c",
   "metadata": {
    "execution": {
     "iopub.execute_input": "2024-03-12T11:58:26.664959Z",
     "iopub.status.busy": "2024-03-12T11:58:26.663801Z",
     "iopub.status.idle": "2024-03-12T12:05:54.658106Z",
     "shell.execute_reply": "2024-03-12T12:05:54.657035Z"
    },
    "papermill": {
     "duration": 448.310873,
     "end_time": "2024-03-12T12:05:54.660676",
     "exception": false,
     "start_time": "2024-03-12T11:58:26.349803",
     "status": "completed"
    },
    "tags": []
   },
   "outputs": [
    {
     "name": "stderr",
     "output_type": "stream",
     "text": [
      "  0%|          | 0/1000 [00:00<?, ?it/s]`use_cache=True` is incompatible with gradient checkpointing. Setting `use_cache=False`.\n",
      "100%|██████████| 1000/1000 [07:27<00:00,  2.23it/s]"
     ]
    },
    {
     "name": "stdout",
     "output_type": "stream",
     "text": [
      "Accuracy: 0.778\n",
      "Accuracy for label 0: 0.800\n",
      "Accuracy for label 1: 0.756\n",
      "\n",
      "Classification Report:\n",
      "              precision    recall  f1-score   support\n",
      "\n",
      "           0       0.77      0.80      0.78       500\n",
      "           1       0.79      0.76      0.77       500\n",
      "\n",
      "    accuracy                           0.78      1000\n",
      "   macro avg       0.78      0.78      0.78      1000\n",
      "weighted avg       0.78      0.78      0.78      1000\n",
      "\n",
      "\n",
      "Confusion Matrix:\n",
      "[[400 100   0]\n",
      " [122 378   0]\n",
      " [  0   0   0]]\n"
     ]
    },
    {
     "name": "stderr",
     "output_type": "stream",
     "text": [
      "\n"
     ]
    }
   ],
   "source": [
    "# predict and evaluate\n",
    "y_pred = predict(X_test, 'prompt_text_test', model, tokenizer)\n",
    "evaluate(y_true, y_pred)"
   ]
  },
  {
   "cell_type": "code",
   "execution_count": 22,
   "id": "5433b441",
   "metadata": {
    "execution": {
     "iopub.execute_input": "2024-03-12T12:05:55.507139Z",
     "iopub.status.busy": "2024-03-12T12:05:55.506791Z",
     "iopub.status.idle": "2024-03-12T12:05:55.523556Z",
     "shell.execute_reply": "2024-03-12T12:05:55.522651Z"
    },
    "papermill": {
     "duration": 0.410663,
     "end_time": "2024-03-12T12:05:55.525425",
     "exception": false,
     "start_time": "2024-03-12T12:05:55.114762",
     "status": "completed"
    },
    "tags": []
   },
   "outputs": [
    {
     "data": {
      "text/html": [
       "<div>\n",
       "<style scoped>\n",
       "    .dataframe tbody tr th:only-of-type {\n",
       "        vertical-align: middle;\n",
       "    }\n",
       "\n",
       "    .dataframe tbody tr th {\n",
       "        vertical-align: top;\n",
       "    }\n",
       "\n",
       "    .dataframe thead th {\n",
       "        text-align: right;\n",
       "    }\n",
       "</style>\n",
       "<table border=\"1\" class=\"dataframe\">\n",
       "  <thead>\n",
       "    <tr style=\"text-align: right;\">\n",
       "      <th></th>\n",
       "      <th>id</th>\n",
       "      <th>keyword</th>\n",
       "      <th>location</th>\n",
       "      <th>text</th>\n",
       "      <th>text_clean</th>\n",
       "      <th>location_clean</th>\n",
       "      <th>text_location</th>\n",
       "      <th>text_location_clean</th>\n",
       "      <th>prompt_text_test</th>\n",
       "      <th>prompt_text_location_test</th>\n",
       "      <th>prompt_text_clean_test</th>\n",
       "    </tr>\n",
       "  </thead>\n",
       "  <tbody>\n",
       "    <tr>\n",
       "      <th>40</th>\n",
       "      <td>125</td>\n",
       "      <td>accident</td>\n",
       "      <td>Frankfurt, Germany</td>\n",
       "      <td>@DaveOshry @Soembie So if I say that I met her by accident this week- would you be super jelly Dave? :p</td>\n",
       "      <td>@DaveOshry @Soembie So if I say that I met her by accident this week would you be super jelly Dave? p</td>\n",
       "      <td>Frankfurt, Germany</td>\n",
       "      <td>Location: Frankfurt, Germany. Tweet: @DaveOshry @Soembie So if I say that I met her by accident this week- would you be super jelly Dave? :p</td>\n",
       "      <td>Location: Frankfurt, Germany. Tweet: @DaveOshry @Soembie So if I say that I met her by accident this week would you be super jelly Dave? p</td>\n",
       "      <td>NaN</td>\n",
       "      <td>NaN</td>\n",
       "      <td>NaN</td>\n",
       "    </tr>\n",
       "  </tbody>\n",
       "</table>\n",
       "</div>"
      ],
      "text/plain": [
       "     id   keyword            location  \\\n",
       "40  125  accident  Frankfurt, Germany   \n",
       "\n",
       "                                                                                                       text  \\\n",
       "40  @DaveOshry @Soembie So if I say that I met her by accident this week- would you be super jelly Dave? :p   \n",
       "\n",
       "                                                                                               text_clean  \\\n",
       "40  @DaveOshry @Soembie So if I say that I met her by accident this week would you be super jelly Dave? p   \n",
       "\n",
       "        location_clean  \\\n",
       "40  Frankfurt, Germany   \n",
       "\n",
       "                                                                                                                                   text_location  \\\n",
       "40  Location: Frankfurt, Germany. Tweet: @DaveOshry @Soembie So if I say that I met her by accident this week- would you be super jelly Dave? :p   \n",
       "\n",
       "                                                                                                                           text_location_clean  \\\n",
       "40  Location: Frankfurt, Germany. Tweet: @DaveOshry @Soembie So if I say that I met her by accident this week would you be super jelly Dave? p   \n",
       "\n",
       "   prompt_text_test prompt_text_location_test prompt_text_clean_test  \n",
       "40              NaN                       NaN                    NaN  "
      ]
     },
     "execution_count": 22,
     "metadata": {},
     "output_type": "execute_result"
    }
   ],
   "source": [
    "test_df.iloc[[40]]"
   ]
  },
  {
   "cell_type": "code",
   "execution_count": 23,
   "id": "0eccda57",
   "metadata": {
    "execution": {
     "iopub.execute_input": "2024-03-12T12:05:56.306088Z",
     "iopub.status.busy": "2024-03-12T12:05:56.305739Z",
     "iopub.status.idle": "2024-03-12T12:06:13.613721Z",
     "shell.execute_reply": "2024-03-12T12:06:13.612342Z"
    },
    "papermill": {
     "duration": 17.699559,
     "end_time": "2024-03-12T12:06:13.615363",
     "exception": true,
     "start_time": "2024-03-12T12:05:55.915804",
     "status": "failed"
    },
    "tags": []
   },
   "outputs": [
    {
     "name": "stderr",
     "output_type": "stream",
     "text": [
      "  1%|          | 40/3263 [00:15<21:27,  2.50it/s]\n"
     ]
    },
    {
     "ename": "ValueError",
     "evalue": "text input must be of type `str` (single example), `List[str]` (batch or single pretokenized example) or `List[List[str]]` (batch of pretokenized examples).",
     "output_type": "error",
     "traceback": [
      "\u001b[0;31m---------------------------------------------------------------------------\u001b[0m",
      "\u001b[0;31mValueError\u001b[0m                                Traceback (most recent call last)",
      "Cell \u001b[0;32mIn[23], line 2\u001b[0m\n\u001b[1;32m      1\u001b[0m \u001b[38;5;66;03m# Save submission\u001b[39;00m\n\u001b[0;32m----> 2\u001b[0m y_pred \u001b[38;5;241m=\u001b[39m \u001b[43mpredict\u001b[49m\u001b[43m(\u001b[49m\u001b[43mtest_df\u001b[49m\u001b[43m,\u001b[49m\u001b[43m \u001b[49m\u001b[38;5;124;43m'\u001b[39;49m\u001b[38;5;124;43mprompt_text_test\u001b[39;49m\u001b[38;5;124;43m'\u001b[39;49m\u001b[43m,\u001b[49m\u001b[43m \u001b[49m\u001b[43mmodel\u001b[49m\u001b[43m,\u001b[49m\u001b[43m \u001b[49m\u001b[43mtokenizer\u001b[49m\u001b[43m)\u001b[49m\n\u001b[1;32m      3\u001b[0m submission_df[\u001b[38;5;124m'\u001b[39m\u001b[38;5;124mtarget\u001b[39m\u001b[38;5;124m'\u001b[39m] \u001b[38;5;241m=\u001b[39m y_pred\n\u001b[1;32m      4\u001b[0m \u001b[38;5;66;03m# If fail, default to yes (to maximise sub score)\u001b[39;00m\n",
      "Cell \u001b[0;32mIn[13], line 5\u001b[0m, in \u001b[0;36mpredict\u001b[0;34m(X_test, prompt_col, model, tokenizer)\u001b[0m\n\u001b[1;32m      3\u001b[0m \u001b[38;5;28;01mfor\u001b[39;00m i \u001b[38;5;129;01min\u001b[39;00m tqdm(\u001b[38;5;28mrange\u001b[39m(\u001b[38;5;28mlen\u001b[39m(X_test))):\n\u001b[1;32m      4\u001b[0m     prompt \u001b[38;5;241m=\u001b[39m X_test\u001b[38;5;241m.\u001b[39miloc[i][prompt_col]\n\u001b[0;32m----> 5\u001b[0m     input_ids \u001b[38;5;241m=\u001b[39m \u001b[43mtokenizer\u001b[49m\u001b[43m(\u001b[49m\u001b[43mprompt\u001b[49m\u001b[43m,\u001b[49m\u001b[43m \u001b[49m\u001b[43mreturn_tensors\u001b[49m\u001b[38;5;241;43m=\u001b[39;49m\u001b[38;5;124;43m\"\u001b[39;49m\u001b[38;5;124;43mpt\u001b[39;49m\u001b[38;5;124;43m\"\u001b[39;49m\u001b[43m)\u001b[49m\u001b[38;5;241m.\u001b[39mto(\u001b[38;5;124m\"\u001b[39m\u001b[38;5;124mcuda\u001b[39m\u001b[38;5;124m\"\u001b[39m)\n\u001b[1;32m      6\u001b[0m     outputs \u001b[38;5;241m=\u001b[39m model\u001b[38;5;241m.\u001b[39mgenerate(\u001b[38;5;241m*\u001b[39m\u001b[38;5;241m*\u001b[39minput_ids, max_new_tokens\u001b[38;5;241m=\u001b[39m\u001b[38;5;241m1\u001b[39m, temperature\u001b[38;5;241m=\u001b[39m\u001b[38;5;241m0.0\u001b[39m)\n\u001b[1;32m      7\u001b[0m     result \u001b[38;5;241m=\u001b[39m tokenizer\u001b[38;5;241m.\u001b[39mdecode(outputs[\u001b[38;5;241m0\u001b[39m])\n",
      "File \u001b[0;32m/opt/conda/lib/python3.10/site-packages/transformers/tokenization_utils_base.py:2829\u001b[0m, in \u001b[0;36mPreTrainedTokenizerBase.__call__\u001b[0;34m(self, text, text_pair, text_target, text_pair_target, add_special_tokens, padding, truncation, max_length, stride, is_split_into_words, pad_to_multiple_of, return_tensors, return_token_type_ids, return_attention_mask, return_overflowing_tokens, return_special_tokens_mask, return_offsets_mapping, return_length, verbose, **kwargs)\u001b[0m\n\u001b[1;32m   2827\u001b[0m     \u001b[38;5;28;01mif\u001b[39;00m \u001b[38;5;129;01mnot\u001b[39;00m \u001b[38;5;28mself\u001b[39m\u001b[38;5;241m.\u001b[39m_in_target_context_manager:\n\u001b[1;32m   2828\u001b[0m         \u001b[38;5;28mself\u001b[39m\u001b[38;5;241m.\u001b[39m_switch_to_input_mode()\n\u001b[0;32m-> 2829\u001b[0m     encodings \u001b[38;5;241m=\u001b[39m \u001b[38;5;28;43mself\u001b[39;49m\u001b[38;5;241;43m.\u001b[39;49m\u001b[43m_call_one\u001b[49m\u001b[43m(\u001b[49m\u001b[43mtext\u001b[49m\u001b[38;5;241;43m=\u001b[39;49m\u001b[43mtext\u001b[49m\u001b[43m,\u001b[49m\u001b[43m \u001b[49m\u001b[43mtext_pair\u001b[49m\u001b[38;5;241;43m=\u001b[39;49m\u001b[43mtext_pair\u001b[49m\u001b[43m,\u001b[49m\u001b[43m \u001b[49m\u001b[38;5;241;43m*\u001b[39;49m\u001b[38;5;241;43m*\u001b[39;49m\u001b[43mall_kwargs\u001b[49m\u001b[43m)\u001b[49m\n\u001b[1;32m   2830\u001b[0m \u001b[38;5;28;01mif\u001b[39;00m text_target \u001b[38;5;129;01mis\u001b[39;00m \u001b[38;5;129;01mnot\u001b[39;00m \u001b[38;5;28;01mNone\u001b[39;00m:\n\u001b[1;32m   2831\u001b[0m     \u001b[38;5;28mself\u001b[39m\u001b[38;5;241m.\u001b[39m_switch_to_target_mode()\n",
      "File \u001b[0;32m/opt/conda/lib/python3.10/site-packages/transformers/tokenization_utils_base.py:2887\u001b[0m, in \u001b[0;36mPreTrainedTokenizerBase._call_one\u001b[0;34m(self, text, text_pair, add_special_tokens, padding, truncation, max_length, stride, is_split_into_words, pad_to_multiple_of, return_tensors, return_token_type_ids, return_attention_mask, return_overflowing_tokens, return_special_tokens_mask, return_offsets_mapping, return_length, verbose, **kwargs)\u001b[0m\n\u001b[1;32m   2884\u001b[0m         \u001b[38;5;28;01mreturn\u001b[39;00m \u001b[38;5;28;01mFalse\u001b[39;00m\n\u001b[1;32m   2886\u001b[0m \u001b[38;5;28;01mif\u001b[39;00m \u001b[38;5;129;01mnot\u001b[39;00m _is_valid_text_input(text):\n\u001b[0;32m-> 2887\u001b[0m     \u001b[38;5;28;01mraise\u001b[39;00m \u001b[38;5;167;01mValueError\u001b[39;00m(\n\u001b[1;32m   2888\u001b[0m         \u001b[38;5;124m\"\u001b[39m\u001b[38;5;124mtext input must be of type `str` (single example), `List[str]` (batch or single pretokenized example) \u001b[39m\u001b[38;5;124m\"\u001b[39m\n\u001b[1;32m   2889\u001b[0m         \u001b[38;5;124m\"\u001b[39m\u001b[38;5;124mor `List[List[str]]` (batch of pretokenized examples).\u001b[39m\u001b[38;5;124m\"\u001b[39m\n\u001b[1;32m   2890\u001b[0m     )\n\u001b[1;32m   2892\u001b[0m \u001b[38;5;28;01mif\u001b[39;00m text_pair \u001b[38;5;129;01mis\u001b[39;00m \u001b[38;5;129;01mnot\u001b[39;00m \u001b[38;5;28;01mNone\u001b[39;00m \u001b[38;5;129;01mand\u001b[39;00m \u001b[38;5;129;01mnot\u001b[39;00m _is_valid_text_input(text_pair):\n\u001b[1;32m   2893\u001b[0m     \u001b[38;5;28;01mraise\u001b[39;00m \u001b[38;5;167;01mValueError\u001b[39;00m(\n\u001b[1;32m   2894\u001b[0m         \u001b[38;5;124m\"\u001b[39m\u001b[38;5;124mtext input must be of type `str` (single example), `List[str]` (batch or single pretokenized example) \u001b[39m\u001b[38;5;124m\"\u001b[39m\n\u001b[1;32m   2895\u001b[0m         \u001b[38;5;124m\"\u001b[39m\u001b[38;5;124mor `List[List[str]]` (batch of pretokenized examples).\u001b[39m\u001b[38;5;124m\"\u001b[39m\n\u001b[1;32m   2896\u001b[0m     )\n",
      "\u001b[0;31mValueError\u001b[0m: text input must be of type `str` (single example), `List[str]` (batch or single pretokenized example) or `List[List[str]]` (batch of pretokenized examples)."
     ]
    }
   ],
   "source": [
    "# Save submission\n",
    "y_pred = predict(test_df, 'prompt_text_test', model, tokenizer)\n",
    "submission_df['target'] = y_pred\n",
    "# If fail, default to yes (to maximise sub score)\n",
    "submission_df['target'] = submission_df['target'].apply(lambda x: 0 if x == 'no' else 1)\n",
    "submission_df.to_csv('submission1.csv', index=False)"
   ]
  },
  {
   "cell_type": "code",
   "execution_count": null,
   "id": "30024f75",
   "metadata": {
    "execution": {
     "iopub.execute_input": "2024-03-11T23:30:49.032319Z",
     "iopub.status.busy": "2024-03-11T23:30:49.031668Z",
     "iopub.status.idle": "2024-03-11T23:31:14.460825Z",
     "shell.execute_reply": "2024-03-11T23:31:14.460065Z",
     "shell.execute_reply.started": "2024-03-11T23:30:49.032287Z"
    },
    "papermill": {
     "duration": null,
     "end_time": null,
     "exception": null,
     "start_time": null,
     "status": "pending"
    },
    "tags": []
   },
   "outputs": [],
   "source": [
    "# Save model\n",
    "torch.save(model.state_dict(), '/kaggle/working/gemma_7b_it_disaster_tweets.pth')"
   ]
  }
 ],
 "metadata": {
  "kaggle": {
   "accelerator": "gpu",
   "dataSources": [
    {
     "datasetId": 4583933,
     "sourceId": 7823252,
     "sourceType": "datasetVersion"
    },
    {
     "modelInstanceId": 8332,
     "sourceId": 11261,
     "sourceType": "modelInstanceVersion"
    }
   ],
   "dockerImageVersionId": 30665,
   "isGpuEnabled": true,
   "isInternetEnabled": true,
   "language": "python",
   "sourceType": "notebook"
  },
  "kernelspec": {
   "display_name": "Python 3",
   "language": "python",
   "name": "python3"
  },
  "language_info": {
   "codemirror_mode": {
    "name": "ipython",
    "version": 3
   },
   "file_extension": ".py",
   "mimetype": "text/x-python",
   "name": "python",
   "nbconvert_exporter": "python",
   "pygments_lexer": "ipython3",
   "version": "3.10.13"
  },
  "papermill": {
   "default_parameters": {},
   "duration": 8783.849723,
   "end_time": "2024-03-12T12:06:17.239674",
   "environment_variables": {},
   "exception": true,
   "input_path": "__notebook__.ipynb",
   "output_path": "__notebook__.ipynb",
   "parameters": {},
   "start_time": "2024-03-12T09:39:53.389951",
   "version": "2.5.0"
  },
  "widgets": {
   "application/vnd.jupyter.widget-state+json": {
    "state": {
     "0143df99202147de8387cdd8cd315d18": {
      "model_module": "@jupyter-widgets/controls",
      "model_module_version": "1.5.0",
      "model_name": "HBoxModel",
      "state": {
       "_dom_classes": [],
       "_model_module": "@jupyter-widgets/controls",
       "_model_module_version": "1.5.0",
       "_model_name": "HBoxModel",
       "_view_count": null,
       "_view_module": "@jupyter-widgets/controls",
       "_view_module_version": "1.5.0",
       "_view_name": "HBoxView",
       "box_style": "",
       "children": [
        "IPY_MODEL_6cebc500a82b4e1881ae7158d40d1f8f",
        "IPY_MODEL_62caf6a3a98b403eab8b96c70ddc3257",
        "IPY_MODEL_35d787004cae42c486c2da3335afe0cb"
       ],
       "layout": "IPY_MODEL_532e2b271e9e416ca52566b924ea18c1"
      }
     },
     "09985a1abf234257825e9baaf33882e6": {
      "model_module": "@jupyter-widgets/base",
      "model_module_version": "1.2.0",
      "model_name": "LayoutModel",
      "state": {
       "_model_module": "@jupyter-widgets/base",
       "_model_module_version": "1.2.0",
       "_model_name": "LayoutModel",
       "_view_count": null,
       "_view_module": "@jupyter-widgets/base",
       "_view_module_version": "1.2.0",
       "_view_name": "LayoutView",
       "align_content": null,
       "align_items": null,
       "align_self": null,
       "border": null,
       "bottom": null,
       "display": null,
       "flex": null,
       "flex_flow": null,
       "grid_area": null,
       "grid_auto_columns": null,
       "grid_auto_flow": null,
       "grid_auto_rows": null,
       "grid_column": null,
       "grid_gap": null,
       "grid_row": null,
       "grid_template_areas": null,
       "grid_template_columns": null,
       "grid_template_rows": null,
       "height": null,
       "justify_content": null,
       "justify_items": null,
       "left": null,
       "margin": null,
       "max_height": null,
       "max_width": null,
       "min_height": null,
       "min_width": null,
       "object_fit": null,
       "object_position": null,
       "order": null,
       "overflow": null,
       "overflow_x": null,
       "overflow_y": null,
       "padding": null,
       "right": null,
       "top": null,
       "visibility": null,
       "width": null
      }
     },
     "1246fbf31f3e448f80cb1ceabdafd1d0": {
      "model_module": "@jupyter-widgets/controls",
      "model_module_version": "1.5.0",
      "model_name": "ProgressStyleModel",
      "state": {
       "_model_module": "@jupyter-widgets/controls",
       "_model_module_version": "1.5.0",
       "_model_name": "ProgressStyleModel",
       "_view_count": null,
       "_view_module": "@jupyter-widgets/base",
       "_view_module_version": "1.2.0",
       "_view_name": "StyleView",
       "bar_color": null,
       "description_width": ""
      }
     },
     "186f2643a9244a7fa4ecb792f1578672": {
      "model_module": "@jupyter-widgets/controls",
      "model_module_version": "1.5.0",
      "model_name": "DescriptionStyleModel",
      "state": {
       "_model_module": "@jupyter-widgets/controls",
       "_model_module_version": "1.5.0",
       "_model_name": "DescriptionStyleModel",
       "_view_count": null,
       "_view_module": "@jupyter-widgets/base",
       "_view_module_version": "1.2.0",
       "_view_name": "StyleView",
       "description_width": ""
      }
     },
     "282c9cad248a4751bff9f994d474d957": {
      "model_module": "@jupyter-widgets/controls",
      "model_module_version": "1.5.0",
      "model_name": "ProgressStyleModel",
      "state": {
       "_model_module": "@jupyter-widgets/controls",
       "_model_module_version": "1.5.0",
       "_model_name": "ProgressStyleModel",
       "_view_count": null,
       "_view_module": "@jupyter-widgets/base",
       "_view_module_version": "1.2.0",
       "_view_name": "StyleView",
       "bar_color": null,
       "description_width": ""
      }
     },
     "2f50be2f994049cdbd7a82cb9c6a457b": {
      "model_module": "@jupyter-widgets/controls",
      "model_module_version": "1.5.0",
      "model_name": "HBoxModel",
      "state": {
       "_dom_classes": [],
       "_model_module": "@jupyter-widgets/controls",
       "_model_module_version": "1.5.0",
       "_model_name": "HBoxModel",
       "_view_count": null,
       "_view_module": "@jupyter-widgets/controls",
       "_view_module_version": "1.5.0",
       "_view_name": "HBoxView",
       "box_style": "",
       "children": [
        "IPY_MODEL_c4494babe9b44182bafde34b3487dcf2",
        "IPY_MODEL_87b92e6579344bfbbd479e8ef91e2317",
        "IPY_MODEL_b2b9da14d5ab4423a608cf82841db470"
       ],
       "layout": "IPY_MODEL_aeb669d401c746c79a63107f5beebc49"
      }
     },
     "2ffc1fbb97b345bfa246a76f33722e70": {
      "model_module": "@jupyter-widgets/base",
      "model_module_version": "1.2.0",
      "model_name": "LayoutModel",
      "state": {
       "_model_module": "@jupyter-widgets/base",
       "_model_module_version": "1.2.0",
       "_model_name": "LayoutModel",
       "_view_count": null,
       "_view_module": "@jupyter-widgets/base",
       "_view_module_version": "1.2.0",
       "_view_name": "LayoutView",
       "align_content": null,
       "align_items": null,
       "align_self": null,
       "border": null,
       "bottom": null,
       "display": null,
       "flex": null,
       "flex_flow": null,
       "grid_area": null,
       "grid_auto_columns": null,
       "grid_auto_flow": null,
       "grid_auto_rows": null,
       "grid_column": null,
       "grid_gap": null,
       "grid_row": null,
       "grid_template_areas": null,
       "grid_template_columns": null,
       "grid_template_rows": null,
       "height": null,
       "justify_content": null,
       "justify_items": null,
       "left": null,
       "margin": null,
       "max_height": null,
       "max_width": null,
       "min_height": null,
       "min_width": null,
       "object_fit": null,
       "object_position": null,
       "order": null,
       "overflow": null,
       "overflow_x": null,
       "overflow_y": null,
       "padding": null,
       "right": null,
       "top": null,
       "visibility": null,
       "width": null
      }
     },
     "346322011fd24866b2cb647c761fa6db": {
      "model_module": "@jupyter-widgets/controls",
      "model_module_version": "1.5.0",
      "model_name": "DescriptionStyleModel",
      "state": {
       "_model_module": "@jupyter-widgets/controls",
       "_model_module_version": "1.5.0",
       "_model_name": "DescriptionStyleModel",
       "_view_count": null,
       "_view_module": "@jupyter-widgets/base",
       "_view_module_version": "1.2.0",
       "_view_name": "StyleView",
       "description_width": ""
      }
     },
     "35d787004cae42c486c2da3335afe0cb": {
      "model_module": "@jupyter-widgets/controls",
      "model_module_version": "1.5.0",
      "model_name": "HTMLModel",
      "state": {
       "_dom_classes": [],
       "_model_module": "@jupyter-widgets/controls",
       "_model_module_version": "1.5.0",
       "_model_name": "HTMLModel",
       "_view_count": null,
       "_view_module": "@jupyter-widgets/controls",
       "_view_module_version": "1.5.0",
       "_view_name": "HTMLView",
       "description": "",
       "description_tooltip": null,
       "layout": "IPY_MODEL_62c88327a74d4a6298e0b95429f47987",
       "placeholder": "​",
       "style": "IPY_MODEL_959b6bb97de74171a36ced333393eee8",
       "value": " 4/4 [01:59&lt;00:00, 26.73s/it]"
      }
     },
     "3beed7aae8b5461b8032bdaadbcf9428": {
      "model_module": "@jupyter-widgets/controls",
      "model_module_version": "1.5.0",
      "model_name": "DescriptionStyleModel",
      "state": {
       "_model_module": "@jupyter-widgets/controls",
       "_model_module_version": "1.5.0",
       "_model_name": "DescriptionStyleModel",
       "_view_count": null,
       "_view_module": "@jupyter-widgets/base",
       "_view_module_version": "1.2.0",
       "_view_name": "StyleView",
       "description_width": ""
      }
     },
     "47a46a298d9d4279a93f9de9c139f377": {
      "model_module": "@jupyter-widgets/base",
      "model_module_version": "1.2.0",
      "model_name": "LayoutModel",
      "state": {
       "_model_module": "@jupyter-widgets/base",
       "_model_module_version": "1.2.0",
       "_model_name": "LayoutModel",
       "_view_count": null,
       "_view_module": "@jupyter-widgets/base",
       "_view_module_version": "1.2.0",
       "_view_name": "LayoutView",
       "align_content": null,
       "align_items": null,
       "align_self": null,
       "border": null,
       "bottom": null,
       "display": null,
       "flex": null,
       "flex_flow": null,
       "grid_area": null,
       "grid_auto_columns": null,
       "grid_auto_flow": null,
       "grid_auto_rows": null,
       "grid_column": null,
       "grid_gap": null,
       "grid_row": null,
       "grid_template_areas": null,
       "grid_template_columns": null,
       "grid_template_rows": null,
       "height": null,
       "justify_content": null,
       "justify_items": null,
       "left": null,
       "margin": null,
       "max_height": null,
       "max_width": null,
       "min_height": null,
       "min_width": null,
       "object_fit": null,
       "object_position": null,
       "order": null,
       "overflow": null,
       "overflow_x": null,
       "overflow_y": null,
       "padding": null,
       "right": null,
       "top": null,
       "visibility": null,
       "width": null
      }
     },
     "51a728a6a4d4421190eac2de20c8b416": {
      "model_module": "@jupyter-widgets/base",
      "model_module_version": "1.2.0",
      "model_name": "LayoutModel",
      "state": {
       "_model_module": "@jupyter-widgets/base",
       "_model_module_version": "1.2.0",
       "_model_name": "LayoutModel",
       "_view_count": null,
       "_view_module": "@jupyter-widgets/base",
       "_view_module_version": "1.2.0",
       "_view_name": "LayoutView",
       "align_content": null,
       "align_items": null,
       "align_self": null,
       "border": null,
       "bottom": null,
       "display": null,
       "flex": null,
       "flex_flow": null,
       "grid_area": null,
       "grid_auto_columns": null,
       "grid_auto_flow": null,
       "grid_auto_rows": null,
       "grid_column": null,
       "grid_gap": null,
       "grid_row": null,
       "grid_template_areas": null,
       "grid_template_columns": null,
       "grid_template_rows": null,
       "height": null,
       "justify_content": null,
       "justify_items": null,
       "left": null,
       "margin": null,
       "max_height": null,
       "max_width": null,
       "min_height": null,
       "min_width": null,
       "object_fit": null,
       "object_position": null,
       "order": null,
       "overflow": null,
       "overflow_x": null,
       "overflow_y": null,
       "padding": null,
       "right": null,
       "top": null,
       "visibility": null,
       "width": null
      }
     },
     "532e2b271e9e416ca52566b924ea18c1": {
      "model_module": "@jupyter-widgets/base",
      "model_module_version": "1.2.0",
      "model_name": "LayoutModel",
      "state": {
       "_model_module": "@jupyter-widgets/base",
       "_model_module_version": "1.2.0",
       "_model_name": "LayoutModel",
       "_view_count": null,
       "_view_module": "@jupyter-widgets/base",
       "_view_module_version": "1.2.0",
       "_view_name": "LayoutView",
       "align_content": null,
       "align_items": null,
       "align_self": null,
       "border": null,
       "bottom": null,
       "display": null,
       "flex": null,
       "flex_flow": null,
       "grid_area": null,
       "grid_auto_columns": null,
       "grid_auto_flow": null,
       "grid_auto_rows": null,
       "grid_column": null,
       "grid_gap": null,
       "grid_row": null,
       "grid_template_areas": null,
       "grid_template_columns": null,
       "grid_template_rows": null,
       "height": null,
       "justify_content": null,
       "justify_items": null,
       "left": null,
       "margin": null,
       "max_height": null,
       "max_width": null,
       "min_height": null,
       "min_width": null,
       "object_fit": null,
       "object_position": null,
       "order": null,
       "overflow": null,
       "overflow_x": null,
       "overflow_y": null,
       "padding": null,
       "right": null,
       "top": null,
       "visibility": null,
       "width": null
      }
     },
     "59efecfe859d4bb0aa18e14100353963": {
      "model_module": "@jupyter-widgets/base",
      "model_module_version": "1.2.0",
      "model_name": "LayoutModel",
      "state": {
       "_model_module": "@jupyter-widgets/base",
       "_model_module_version": "1.2.0",
       "_model_name": "LayoutModel",
       "_view_count": null,
       "_view_module": "@jupyter-widgets/base",
       "_view_module_version": "1.2.0",
       "_view_name": "LayoutView",
       "align_content": null,
       "align_items": null,
       "align_self": null,
       "border": null,
       "bottom": null,
       "display": null,
       "flex": null,
       "flex_flow": null,
       "grid_area": null,
       "grid_auto_columns": null,
       "grid_auto_flow": null,
       "grid_auto_rows": null,
       "grid_column": null,
       "grid_gap": null,
       "grid_row": null,
       "grid_template_areas": null,
       "grid_template_columns": null,
       "grid_template_rows": null,
       "height": null,
       "justify_content": null,
       "justify_items": null,
       "left": null,
       "margin": null,
       "max_height": null,
       "max_width": null,
       "min_height": null,
       "min_width": null,
       "object_fit": null,
       "object_position": null,
       "order": null,
       "overflow": null,
       "overflow_x": null,
       "overflow_y": null,
       "padding": null,
       "right": null,
       "top": null,
       "visibility": null,
       "width": null
      }
     },
     "5c676fff9e584fcca7844e4b1dcf4435": {
      "model_module": "@jupyter-widgets/base",
      "model_module_version": "1.2.0",
      "model_name": "LayoutModel",
      "state": {
       "_model_module": "@jupyter-widgets/base",
       "_model_module_version": "1.2.0",
       "_model_name": "LayoutModel",
       "_view_count": null,
       "_view_module": "@jupyter-widgets/base",
       "_view_module_version": "1.2.0",
       "_view_name": "LayoutView",
       "align_content": null,
       "align_items": null,
       "align_self": null,
       "border": null,
       "bottom": null,
       "display": null,
       "flex": null,
       "flex_flow": null,
       "grid_area": null,
       "grid_auto_columns": null,
       "grid_auto_flow": null,
       "grid_auto_rows": null,
       "grid_column": null,
       "grid_gap": null,
       "grid_row": null,
       "grid_template_areas": null,
       "grid_template_columns": null,
       "grid_template_rows": null,
       "height": null,
       "justify_content": null,
       "justify_items": null,
       "left": null,
       "margin": null,
       "max_height": null,
       "max_width": null,
       "min_height": null,
       "min_width": null,
       "object_fit": null,
       "object_position": null,
       "order": null,
       "overflow": null,
       "overflow_x": null,
       "overflow_y": null,
       "padding": null,
       "right": null,
       "top": null,
       "visibility": null,
       "width": null
      }
     },
     "62c88327a74d4a6298e0b95429f47987": {
      "model_module": "@jupyter-widgets/base",
      "model_module_version": "1.2.0",
      "model_name": "LayoutModel",
      "state": {
       "_model_module": "@jupyter-widgets/base",
       "_model_module_version": "1.2.0",
       "_model_name": "LayoutModel",
       "_view_count": null,
       "_view_module": "@jupyter-widgets/base",
       "_view_module_version": "1.2.0",
       "_view_name": "LayoutView",
       "align_content": null,
       "align_items": null,
       "align_self": null,
       "border": null,
       "bottom": null,
       "display": null,
       "flex": null,
       "flex_flow": null,
       "grid_area": null,
       "grid_auto_columns": null,
       "grid_auto_flow": null,
       "grid_auto_rows": null,
       "grid_column": null,
       "grid_gap": null,
       "grid_row": null,
       "grid_template_areas": null,
       "grid_template_columns": null,
       "grid_template_rows": null,
       "height": null,
       "justify_content": null,
       "justify_items": null,
       "left": null,
       "margin": null,
       "max_height": null,
       "max_width": null,
       "min_height": null,
       "min_width": null,
       "object_fit": null,
       "object_position": null,
       "order": null,
       "overflow": null,
       "overflow_x": null,
       "overflow_y": null,
       "padding": null,
       "right": null,
       "top": null,
       "visibility": null,
       "width": null
      }
     },
     "62caf6a3a98b403eab8b96c70ddc3257": {
      "model_module": "@jupyter-widgets/controls",
      "model_module_version": "1.5.0",
      "model_name": "FloatProgressModel",
      "state": {
       "_dom_classes": [],
       "_model_module": "@jupyter-widgets/controls",
       "_model_module_version": "1.5.0",
       "_model_name": "FloatProgressModel",
       "_view_count": null,
       "_view_module": "@jupyter-widgets/controls",
       "_view_module_version": "1.5.0",
       "_view_name": "ProgressView",
       "bar_style": "success",
       "description": "",
       "description_tooltip": null,
       "layout": "IPY_MODEL_47a46a298d9d4279a93f9de9c139f377",
       "max": 4.0,
       "min": 0.0,
       "orientation": "horizontal",
       "style": "IPY_MODEL_282c9cad248a4751bff9f994d474d957",
       "value": 4.0
      }
     },
     "6cebc500a82b4e1881ae7158d40d1f8f": {
      "model_module": "@jupyter-widgets/controls",
      "model_module_version": "1.5.0",
      "model_name": "HTMLModel",
      "state": {
       "_dom_classes": [],
       "_model_module": "@jupyter-widgets/controls",
       "_model_module_version": "1.5.0",
       "_model_name": "HTMLModel",
       "_view_count": null,
       "_view_module": "@jupyter-widgets/controls",
       "_view_module_version": "1.5.0",
       "_view_name": "HTMLView",
       "description": "",
       "description_tooltip": null,
       "layout": "IPY_MODEL_09985a1abf234257825e9baaf33882e6",
       "placeholder": "​",
       "style": "IPY_MODEL_186f2643a9244a7fa4ecb792f1578672",
       "value": "Loading checkpoint shards: 100%"
      }
     },
     "78199ae1d75d4c18a10f7d8491dd8fc2": {
      "model_module": "@jupyter-widgets/controls",
      "model_module_version": "1.5.0",
      "model_name": "HTMLModel",
      "state": {
       "_dom_classes": [],
       "_model_module": "@jupyter-widgets/controls",
       "_model_module_version": "1.5.0",
       "_model_name": "HTMLModel",
       "_view_count": null,
       "_view_module": "@jupyter-widgets/controls",
       "_view_module_version": "1.5.0",
       "_view_name": "HTMLView",
       "description": "",
       "description_tooltip": null,
       "layout": "IPY_MODEL_2ffc1fbb97b345bfa246a76f33722e70",
       "placeholder": "​",
       "style": "IPY_MODEL_3beed7aae8b5461b8032bdaadbcf9428",
       "value": "Map: 100%"
      }
     },
     "7b989227a8fe4299865c132420f09803": {
      "model_module": "@jupyter-widgets/base",
      "model_module_version": "1.2.0",
      "model_name": "LayoutModel",
      "state": {
       "_model_module": "@jupyter-widgets/base",
       "_model_module_version": "1.2.0",
       "_model_name": "LayoutModel",
       "_view_count": null,
       "_view_module": "@jupyter-widgets/base",
       "_view_module_version": "1.2.0",
       "_view_name": "LayoutView",
       "align_content": null,
       "align_items": null,
       "align_self": null,
       "border": null,
       "bottom": null,
       "display": null,
       "flex": null,
       "flex_flow": null,
       "grid_area": null,
       "grid_auto_columns": null,
       "grid_auto_flow": null,
       "grid_auto_rows": null,
       "grid_column": null,
       "grid_gap": null,
       "grid_row": null,
       "grid_template_areas": null,
       "grid_template_columns": null,
       "grid_template_rows": null,
       "height": null,
       "justify_content": null,
       "justify_items": null,
       "left": null,
       "margin": null,
       "max_height": null,
       "max_width": null,
       "min_height": null,
       "min_width": null,
       "object_fit": null,
       "object_position": null,
       "order": null,
       "overflow": null,
       "overflow_x": null,
       "overflow_y": null,
       "padding": null,
       "right": null,
       "top": null,
       "visibility": null,
       "width": null
      }
     },
     "87b92e6579344bfbbd479e8ef91e2317": {
      "model_module": "@jupyter-widgets/controls",
      "model_module_version": "1.5.0",
      "model_name": "FloatProgressModel",
      "state": {
       "_dom_classes": [],
       "_model_module": "@jupyter-widgets/controls",
       "_model_module_version": "1.5.0",
       "_model_name": "FloatProgressModel",
       "_view_count": null,
       "_view_module": "@jupyter-widgets/controls",
       "_view_module_version": "1.5.0",
       "_view_name": "ProgressView",
       "bar_style": "success",
       "description": "",
       "description_tooltip": null,
       "layout": "IPY_MODEL_e298bce6c9034b44ae0e8de3abd341cd",
       "max": 200.0,
       "min": 0.0,
       "orientation": "horizontal",
       "style": "IPY_MODEL_8f03e26da91e4ec390a80062913219d8",
       "value": 200.0
      }
     },
     "8f03e26da91e4ec390a80062913219d8": {
      "model_module": "@jupyter-widgets/controls",
      "model_module_version": "1.5.0",
      "model_name": "ProgressStyleModel",
      "state": {
       "_model_module": "@jupyter-widgets/controls",
       "_model_module_version": "1.5.0",
       "_model_name": "ProgressStyleModel",
       "_view_count": null,
       "_view_module": "@jupyter-widgets/base",
       "_view_module_version": "1.2.0",
       "_view_name": "StyleView",
       "bar_color": null,
       "description_width": ""
      }
     },
     "959b6bb97de74171a36ced333393eee8": {
      "model_module": "@jupyter-widgets/controls",
      "model_module_version": "1.5.0",
      "model_name": "DescriptionStyleModel",
      "state": {
       "_model_module": "@jupyter-widgets/controls",
       "_model_module_version": "1.5.0",
       "_model_name": "DescriptionStyleModel",
       "_view_count": null,
       "_view_module": "@jupyter-widgets/base",
       "_view_module_version": "1.2.0",
       "_view_name": "StyleView",
       "description_width": ""
      }
     },
     "aeb669d401c746c79a63107f5beebc49": {
      "model_module": "@jupyter-widgets/base",
      "model_module_version": "1.2.0",
      "model_name": "LayoutModel",
      "state": {
       "_model_module": "@jupyter-widgets/base",
       "_model_module_version": "1.2.0",
       "_model_name": "LayoutModel",
       "_view_count": null,
       "_view_module": "@jupyter-widgets/base",
       "_view_module_version": "1.2.0",
       "_view_name": "LayoutView",
       "align_content": null,
       "align_items": null,
       "align_self": null,
       "border": null,
       "bottom": null,
       "display": null,
       "flex": null,
       "flex_flow": null,
       "grid_area": null,
       "grid_auto_columns": null,
       "grid_auto_flow": null,
       "grid_auto_rows": null,
       "grid_column": null,
       "grid_gap": null,
       "grid_row": null,
       "grid_template_areas": null,
       "grid_template_columns": null,
       "grid_template_rows": null,
       "height": null,
       "justify_content": null,
       "justify_items": null,
       "left": null,
       "margin": null,
       "max_height": null,
       "max_width": null,
       "min_height": null,
       "min_width": null,
       "object_fit": null,
       "object_position": null,
       "order": null,
       "overflow": null,
       "overflow_x": null,
       "overflow_y": null,
       "padding": null,
       "right": null,
       "top": null,
       "visibility": null,
       "width": null
      }
     },
     "b2b9da14d5ab4423a608cf82841db470": {
      "model_module": "@jupyter-widgets/controls",
      "model_module_version": "1.5.0",
      "model_name": "HTMLModel",
      "state": {
       "_dom_classes": [],
       "_model_module": "@jupyter-widgets/controls",
       "_model_module_version": "1.5.0",
       "_model_name": "HTMLModel",
       "_view_count": null,
       "_view_module": "@jupyter-widgets/controls",
       "_view_module_version": "1.5.0",
       "_view_name": "HTMLView",
       "description": "",
       "description_tooltip": null,
       "layout": "IPY_MODEL_59efecfe859d4bb0aa18e14100353963",
       "placeholder": "​",
       "style": "IPY_MODEL_346322011fd24866b2cb647c761fa6db",
       "value": " 200/200 [00:00&lt;00:00, 3780.49 examples/s]"
      }
     },
     "bbc8c39b7fe940518ea855d646bf1ff5": {
      "model_module": "@jupyter-widgets/controls",
      "model_module_version": "1.5.0",
      "model_name": "DescriptionStyleModel",
      "state": {
       "_model_module": "@jupyter-widgets/controls",
       "_model_module_version": "1.5.0",
       "_model_name": "DescriptionStyleModel",
       "_view_count": null,
       "_view_module": "@jupyter-widgets/base",
       "_view_module_version": "1.2.0",
       "_view_name": "StyleView",
       "description_width": ""
      }
     },
     "c4494babe9b44182bafde34b3487dcf2": {
      "model_module": "@jupyter-widgets/controls",
      "model_module_version": "1.5.0",
      "model_name": "HTMLModel",
      "state": {
       "_dom_classes": [],
       "_model_module": "@jupyter-widgets/controls",
       "_model_module_version": "1.5.0",
       "_model_name": "HTMLModel",
       "_view_count": null,
       "_view_module": "@jupyter-widgets/controls",
       "_view_module_version": "1.5.0",
       "_view_name": "HTMLView",
       "description": "",
       "description_tooltip": null,
       "layout": "IPY_MODEL_51a728a6a4d4421190eac2de20c8b416",
       "placeholder": "​",
       "style": "IPY_MODEL_e0a82f3f640e4f9ca89e193d4c5b39e7",
       "value": "Map: 100%"
      }
     },
     "c6a6fc2a94c04282893052d8cc7fb30e": {
      "model_module": "@jupyter-widgets/base",
      "model_module_version": "1.2.0",
      "model_name": "LayoutModel",
      "state": {
       "_model_module": "@jupyter-widgets/base",
       "_model_module_version": "1.2.0",
       "_model_name": "LayoutModel",
       "_view_count": null,
       "_view_module": "@jupyter-widgets/base",
       "_view_module_version": "1.2.0",
       "_view_name": "LayoutView",
       "align_content": null,
       "align_items": null,
       "align_self": null,
       "border": null,
       "bottom": null,
       "display": null,
       "flex": null,
       "flex_flow": null,
       "grid_area": null,
       "grid_auto_columns": null,
       "grid_auto_flow": null,
       "grid_auto_rows": null,
       "grid_column": null,
       "grid_gap": null,
       "grid_row": null,
       "grid_template_areas": null,
       "grid_template_columns": null,
       "grid_template_rows": null,
       "height": null,
       "justify_content": null,
       "justify_items": null,
       "left": null,
       "margin": null,
       "max_height": null,
       "max_width": null,
       "min_height": null,
       "min_width": null,
       "object_fit": null,
       "object_position": null,
       "order": null,
       "overflow": null,
       "overflow_x": null,
       "overflow_y": null,
       "padding": null,
       "right": null,
       "top": null,
       "visibility": null,
       "width": null
      }
     },
     "cc636dc283974979b1aefa5885b2b6bb": {
      "model_module": "@jupyter-widgets/controls",
      "model_module_version": "1.5.0",
      "model_name": "HBoxModel",
      "state": {
       "_dom_classes": [],
       "_model_module": "@jupyter-widgets/controls",
       "_model_module_version": "1.5.0",
       "_model_name": "HBoxModel",
       "_view_count": null,
       "_view_module": "@jupyter-widgets/controls",
       "_view_module_version": "1.5.0",
       "_view_name": "HBoxView",
       "box_style": "",
       "children": [
        "IPY_MODEL_78199ae1d75d4c18a10f7d8491dd8fc2",
        "IPY_MODEL_e7075529af1f47579991f717d10e2d09",
        "IPY_MODEL_f9d8bc7275c74f06b804b2213057d93e"
       ],
       "layout": "IPY_MODEL_c6a6fc2a94c04282893052d8cc7fb30e"
      }
     },
     "e0a82f3f640e4f9ca89e193d4c5b39e7": {
      "model_module": "@jupyter-widgets/controls",
      "model_module_version": "1.5.0",
      "model_name": "DescriptionStyleModel",
      "state": {
       "_model_module": "@jupyter-widgets/controls",
       "_model_module_version": "1.5.0",
       "_model_name": "DescriptionStyleModel",
       "_view_count": null,
       "_view_module": "@jupyter-widgets/base",
       "_view_module_version": "1.2.0",
       "_view_name": "StyleView",
       "description_width": ""
      }
     },
     "e298bce6c9034b44ae0e8de3abd341cd": {
      "model_module": "@jupyter-widgets/base",
      "model_module_version": "1.2.0",
      "model_name": "LayoutModel",
      "state": {
       "_model_module": "@jupyter-widgets/base",
       "_model_module_version": "1.2.0",
       "_model_name": "LayoutModel",
       "_view_count": null,
       "_view_module": "@jupyter-widgets/base",
       "_view_module_version": "1.2.0",
       "_view_name": "LayoutView",
       "align_content": null,
       "align_items": null,
       "align_self": null,
       "border": null,
       "bottom": null,
       "display": null,
       "flex": null,
       "flex_flow": null,
       "grid_area": null,
       "grid_auto_columns": null,
       "grid_auto_flow": null,
       "grid_auto_rows": null,
       "grid_column": null,
       "grid_gap": null,
       "grid_row": null,
       "grid_template_areas": null,
       "grid_template_columns": null,
       "grid_template_rows": null,
       "height": null,
       "justify_content": null,
       "justify_items": null,
       "left": null,
       "margin": null,
       "max_height": null,
       "max_width": null,
       "min_height": null,
       "min_width": null,
       "object_fit": null,
       "object_position": null,
       "order": null,
       "overflow": null,
       "overflow_x": null,
       "overflow_y": null,
       "padding": null,
       "right": null,
       "top": null,
       "visibility": null,
       "width": null
      }
     },
     "e7075529af1f47579991f717d10e2d09": {
      "model_module": "@jupyter-widgets/controls",
      "model_module_version": "1.5.0",
      "model_name": "FloatProgressModel",
      "state": {
       "_dom_classes": [],
       "_model_module": "@jupyter-widgets/controls",
       "_model_module_version": "1.5.0",
       "_model_name": "FloatProgressModel",
       "_view_count": null,
       "_view_module": "@jupyter-widgets/controls",
       "_view_module_version": "1.5.0",
       "_view_name": "ProgressView",
       "bar_style": "success",
       "description": "",
       "description_tooltip": null,
       "layout": "IPY_MODEL_5c676fff9e584fcca7844e4b1dcf4435",
       "max": 1000.0,
       "min": 0.0,
       "orientation": "horizontal",
       "style": "IPY_MODEL_1246fbf31f3e448f80cb1ceabdafd1d0",
       "value": 1000.0
      }
     },
     "f9d8bc7275c74f06b804b2213057d93e": {
      "model_module": "@jupyter-widgets/controls",
      "model_module_version": "1.5.0",
      "model_name": "HTMLModel",
      "state": {
       "_dom_classes": [],
       "_model_module": "@jupyter-widgets/controls",
       "_model_module_version": "1.5.0",
       "_model_name": "HTMLModel",
       "_view_count": null,
       "_view_module": "@jupyter-widgets/controls",
       "_view_module_version": "1.5.0",
       "_view_name": "HTMLView",
       "description": "",
       "description_tooltip": null,
       "layout": "IPY_MODEL_7b989227a8fe4299865c132420f09803",
       "placeholder": "​",
       "style": "IPY_MODEL_bbc8c39b7fe940518ea855d646bf1ff5",
       "value": " 1000/1000 [00:00&lt;00:00, 5155.71 examples/s]"
      }
     }
    },
    "version_major": 2,
    "version_minor": 0
   }
  }
 },
 "nbformat": 4,
 "nbformat_minor": 5
}
